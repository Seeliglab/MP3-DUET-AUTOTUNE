{
 "cells": [
  {
   "cell_type": "code",
   "execution_count": 108,
   "metadata": {},
   "outputs": [],
   "source": [
    "from performance_figure_functions import *\n",
    "from predictor_comparisons import *\n",
    "from general_funcs import *\n"
   ]
  },
  {
   "cell_type": "code",
   "execution_count": 109,
   "metadata": {},
   "outputs": [],
   "source": [
    "\n",
    "def strip_clashing(x, chain):\n",
    "    if x != 'select clashing_res, ':\n",
    "        chains_list = re.findall(r'\\((.*?)\\)',x)\n",
    "        #print (chains_list)\n",
    "        for chain_curr in chains_list:\n",
    "            if chain == 'A' and 'A' in chain_curr:\n",
    "                return len(chain_curr.split(' ')[-1].split(\",\"))\n",
    "            elif chain == 'B' and 'B' in chain_curr:\n",
    "                return len(chain_curr.split(' ')[-1].split(\",\"))\n",
    "            else:\n",
    "                return -1\n",
    "    else:\n",
    "        return 0\n",
    "    \n",
    "\n",
    "def plot_regression(df, savename, w =4, h =2 ):#, c_scheme = 'copper'):\n",
    "    fig, ax = plt.subplots()#(2,1, sharex= True) #plot AUCROC, MCC, n_features\n",
    "    # the size of A4 paper\n",
    "    fig.set_size_inches(w,h)\n",
    "    \n",
    "    plt.xlabel('')\n",
    "    #plotting baseline AUCROC for imbalanced class +\n",
    "    s =sns.barplot(data = df,\n",
    "                x = 'dataset', \n",
    "                y = 'test_spearman', )\n",
    "    #s._legend.remove()\n",
    "    ax.set_ylim(0,1)\n",
    "    plt.legend([],[], frameon=False)\n",
    "    plt.xlabel('')\n",
    "    \n",
    "    plt.xticks(rotation=90)\n",
    "    plt.legend([],[], frameon=False)\n",
    "    plt.xlabel('')\n",
    "    \n",
    "    plt.savefig(savename, dpi = 300)\n",
    "    plt.show()\n",
    "\n",
    "def plot_classif(df, savename, w =4, h =2 ):#, c_scheme = 'copper'):\n",
    "    fig, ax = plt.subplots()\n",
    "\n",
    "    fig.set_size_inches(w,h)\n",
    "    \n",
    "    plt.xlabel('')\n",
    "    s =sns.barplot(data = df,\n",
    "                x = 'dataset', \n",
    "                y = 'avgpr_test', )\n",
    "    #s._legend.remove()\n",
    "    ax.set_ylim(0,1)\n",
    "    plt.legend([],[], frameon=False)\n",
    "    plt.xlabel('')\n",
    "    \n",
    "    plt.xticks(rotation=90)\n",
    "    plt.legend([],[], frameon=False)\n",
    "    plt.xlabel('')\n",
    "    \n",
    "    plt.savefig(savename, dpi = 300)\n",
    "    plt.show()\n",
    "    "
   ]
  },
  {
   "cell_type": "code",
   "execution_count": 110,
   "metadata": {},
   "outputs": [
    {
     "name": "stdout",
     "output_type": "stream",
     "text": [
      "train    430\n",
      "test      47\n",
      "Name: order_padj_sets, dtype: int64\n",
      "train    127\n",
      "test      14\n",
      "Name: order_padj_sets, dtype: int64\n",
      "train    430\n",
      "test      47\n",
      "Name: order_padj_sets, dtype: int64\n",
      "best l1:      dataset r2_cutoff  l2_penalty  train_r2_not_avgd  train_r2  \\\n",
      "17  malb_v3        af    2.511886           0.214887  0.268538   \n",
      "\n",
      "    train_spearman_not_avgd  train_spearman  test_r2_not_avgd   test_r2  \\\n",
      "17                 0.329884        0.364007          0.102084  0.123915   \n",
      "\n",
      "    test_spearman_not_avgd  test_spearman  n_non_zero  \n",
      "17                0.315006       0.344241           4   2.5118864315095824\n",
      "0.2615266064471938 0.08133139413168025 0.8423772609819121 0.5480488437073898\n",
      "0.28065203078786444 0.09139041094912792 0.875 0.6744331065759637\n"
     ]
    }
   ],
   "source": [
    "#usign the v3 model to predict ncips (regression)\n",
    "v2_inputs, cols_not_model = load_dataset_single('malb_v3', 'af', 'malb')\n",
    "v2_malbs, cols_not_model_malbs = load_dataset_single('v3', 'af', 'ncip')\n",
    "gather_columns = list(set(v2_inputs.columns).difference(set(cols_not_model)))\n",
    "other_cols = [x for x in gather_columns if x not in v2_malbs.columns ]\n",
    "in_series = [x for x in gather_columns if x in v2_malbs.columns]\n",
    " \n",
    "#v2 of malb predictions\n",
    "v2_preds = pd.read_csv('./af_prediction_values_rosetta_energy_terms/af3_with_resi_strs.csv')\n",
    "v2_preds.drop(columns = ['timed'], inplace = True)\n",
    "v2_preds.drop(columns = 'clashing_res', inplace=True)\n",
    "#remove columns which are always the same \n",
    "v2_preds['fraction_int_all'] = v2_preds.IA_nres_int/v2_preds.IA_nres_all.fillna(1)\n",
    "v2_preds['fraction_all'] = v2_preds.nres_int/v2_preds.nres_all.fillna(1)\n",
    "v2_preds['id1'] = v2_preds.id1.apply(lambda x: x.replace('__','_'))\n",
    "v2_preds['id2'] = v2_preds.id2.apply(lambda x: x.replace('__','_'))\n",
    "v2_preds['ppi'] = v2_preds.id1 + '_' + v2_preds.id2\n",
    "v2_preds.rename(columns = {'model_number':'model', 'plddt': 'mean_plddt'}, inplace = True)\n",
    "v2_preds['type'] = 'v2'\n",
    "v2_preds['msa_depth'] = 2\n",
    "v2_preds['new_ppi'] = v2_preds.apply(lambda row: row.ppi + '_' + str(row.model), axis  =1 )\n",
    "v2_preds['over_thresh'] = v2_preds.iptm > 0.75\n",
    "#drop duplicate new_ppi\n",
    "v2_preds = v2_preds.drop_duplicates('new_ppi', keep = 'first')\n",
    "v2_preds_other = v2_preds[['new_ppi', 'over_thresh'] + other_cols]\n",
    "all_columns_v2 = v2_malbs.merge(v2_preds_other, on = 'new_ppi', how = 'inner')\n",
    "\n",
    "get_trained_model_v3_t1, x_scaler, y_scaler, list_cols = padj_get_model_regression('malb_v3', 'af',  'malb', '07_23_malb_regression_default.csv', False, False)\n",
    "full_train = all_columns_v2[list_cols].to_numpy()\n",
    "x_train_scaled = x_scaler.transform(full_train)\n",
    "preds = get_trained_model_v3_t1.predict(x_train_scaled)\n",
    "preds = y_scaler.inverse_transform(preds)\n",
    "all_columns_v2['preds'] = preds\n",
    "avgs_test = all_columns_v2.groupby(['ppi']).mean()\n",
    "\n",
    "rows = []\n",
    "\n",
    "sr_test = spearmanr(avgs_test['lfc_all'], (avgs_test['preds']))[0]\n",
    "pr_test = pearsonr(avgs_test['lfc_all'], (avgs_test['preds']))[0]**2\n",
    "aucroc = roc_auc_score(avgs_test['binned'], avgs_test['preds'] )\n",
    "avg_pr = average_precision_score(avgs_test['binned'], avgs_test['preds'] )\n",
    "\n",
    "print (sr_test, pr_test,aucroc,avg_pr)\n",
    "rows = []\n",
    "rows.append({'dataset': 'pred_ncip_malb_v3_reg', 'rocauc_test':aucroc, 'avgpr_test': avg_pr,'test_spearman':sr_test, 'test_r2': pr_test  })\n",
    "\n",
    "sr_test = spearmanr(avgs_test['lfc_all'], (avgs_test['iptm']))[0]\n",
    "pr_test = pearsonr(avgs_test['lfc_all'], (avgs_test['iptm']))[0]**2\n",
    "aucroc = roc_auc_score(avgs_test['binned'], avgs_test['iptm'] )\n",
    "avg_pr = average_precision_score(avgs_test['binned'], avgs_test['iptm'] )\n",
    "print (sr_test, pr_test,aucroc,avg_pr)\n",
    "rows.append({'dataset': 'z_pred_ncip_iptm', 'rocauc_test':aucroc, 'avgpr_test': avg_pr,'test_spearman':sr_test, 'test_r2': pr_test  })\n",
    "\n",
    "rows_df = pd.DataFrame(rows)"
   ]
  },
  {
   "cell_type": "code",
   "execution_count": 112,
   "metadata": {},
   "outputs": [
    {
     "data": {
      "image/png": "[encoded data removed]",
      "text/plain": [
       "<Figure size 75x75 with 1 Axes>"
      ]
     },
     "metadata": {},
     "output_type": "display_data"
    },
    {
     "data": {
      "image/png": "[encoded data removed]",
      "text/plain": [
       "<Figure size 25x100 with 1 Axes>"
      ]
     },
     "metadata": {},
     "output_type": "display_data"
    }
   ],
   "source": [
    "plot_regression(rows_df, 'pred_ncip_malb_reg.svg', 0.75,0.75)\n",
    "plot_classif(rows_df, 'pred_ncip_malb_class.svg', 0.25,1)"
   ]
  },
  {
   "cell_type": "code",
   "execution_count": 104,
   "metadata": {},
   "outputs": [
    {
     "name": "stdout",
     "output_type": "stream",
     "text": [
      "train    430\n",
      "test      47\n",
      "Name: order_padj_sets, dtype: int64\n",
      "train    127\n",
      "test      14\n",
      "Name: order_padj_sets, dtype: int64\n",
      "train    430\n",
      "test      47\n",
      "Name: order_padj_sets, dtype: int64\n",
      "best l1:      dataset r2_cutoff   l2_penalty  rocauc_train_not_avgd  rocauc_train  \\\n",
      "17  malb_v3        af  1584.893192               0.880176      0.899319   \n",
      "\n",
      "    avgpr_train_not_avgd  avgpr_train  rocauc_test_not_avgd  rocauc_test  \\\n",
      "17              0.443172     0.551118              0.735152     0.755411   \n",
      "\n",
      "    avgpr_test_not_avgd  avgpr_test  n_non_zero  \n",
      "17             0.810945     0.81563           4   1584.8931924611177\n",
      "0.2589066312770238 0.09018146210708491 0.8604651162790697 0.4926931456343221\n",
      "0.28065203078786444 0.09139041094912792 0.875 0.6744331065759637\n"
     ]
    }
   ],
   "source": [
    "#usign the v2 t0 model \n",
    "v2_inputs, cols_not_model = load_dataset_single('malb_v3', 'af', 'malb')#load_dataset_single('v2', 'af')\n",
    "v2_malbs, cols_not_model_malbs = load_dataset_single('v3', 'af', 'ncip')\n",
    "gather_columns = list(set(v2_inputs.columns).difference(set(cols_not_model)))\n",
    "other_cols = [x for x in gather_columns if x not in v2_malbs.columns ]\n",
    "in_series = [x for x in gather_columns if x in v2_malbs.columns]\n",
    " \n",
    "#v2 of malb predictions\n",
    "v2_preds = pd.read_csv('./af_prediction_values_rosetta_energy_terms/af3_with_resi_strs.csv')\n",
    "#v2_preds = v2_preds[v2_preds['rosetta-protocol'] == 'rosetta-flex-bb'].copy().reset_index(drop = True)\n",
    "v2_preds.drop(columns = ['timed'], inplace = True)\n",
    "v2_preds.drop(columns = 'clashing_res', inplace=True)\n",
    "#remove columns which are always the same \n",
    "v2_preds['fraction_int_all'] = v2_preds.IA_nres_int/v2_preds.IA_nres_all.fillna(1)\n",
    "v2_preds['fraction_all'] = v2_preds.nres_int/v2_preds.nres_all.fillna(1)\n",
    "v2_preds['id1'] = v2_preds.id1.apply(lambda x: x.replace('__','_'))\n",
    "v2_preds['id2'] = v2_preds.id2.apply(lambda x: x.replace('__','_'))\n",
    "v2_preds['ppi'] = v2_preds.id1 + '_' + v2_preds.id2\n",
    "v2_preds.rename(columns = {'model_number':'model', 'plddt': 'mean_plddt'}, inplace = True)\n",
    "v2_preds['type'] = 'v2'\n",
    "v2_preds['msa_depth'] = 2\n",
    "v2_preds['new_ppi'] = v2_preds.apply(lambda row: row.ppi + '_' + str(row.model), axis  =1 )\n",
    "v2_preds['over_thresh'] = v2_preds.iptm > 0.75\n",
    "#drop duplicate new_ppi\n",
    "v2_preds = v2_preds.drop_duplicates('new_ppi', keep = 'first')\n",
    "v2_preds_other = v2_preds[['new_ppi', 'over_thresh'] + other_cols]\n",
    "all_columns_v2 = v2_malbs.merge(v2_preds_other, on = 'new_ppi', how = 'inner')\n",
    "\n",
    "\n",
    "get_trained_model_v3_t1, x_scaler, list_cols = padj_get_model_classif('malb_v3', 'af',  'malb', '07_23_malb_classification_default.csv', False, False)\n",
    "full_train = all_columns_v2[list_cols].to_numpy()\n",
    "x_train_scaled = x_scaler.transform(full_train)\n",
    "preds = get_trained_model_v3_t1.predict_proba(x_train_scaled)\n",
    "all_columns_v2['preds'] = preds[:,1]\n",
    "avgs_test = all_columns_v2.groupby(['ppi']).mean()\n",
    "\n",
    "sr_test = spearmanr(avgs_test['lfc_all'], (avgs_test['preds']))[0]\n",
    "pr_test = pearsonr(avgs_test['lfc_all'], (avgs_test['preds']))[0]**2\n",
    "aucroc = roc_auc_score(avgs_test['binned'], avgs_test['preds'] )\n",
    "avg_pr = average_precision_score(avgs_test['binned'], avgs_test['preds'] )\n",
    "\n",
    "print (sr_test, pr_test,aucroc,avg_pr)\n",
    "rows = []\n",
    "rows.append({'dataset': 'pred_ncip_malb_v3_reg', 'rocauc_test':aucroc, 'avgpr_test': avg_pr,'test_spearman':sr_test, 'test_r2': pr_test  })\n",
    "\n",
    "sr_test = spearmanr(avgs_test['lfc_all'], (avgs_test['iptm']))[0]\n",
    "pr_test = pearsonr(avgs_test['lfc_all'], (avgs_test['iptm']))[0]**2\n",
    "aucroc = roc_auc_score(avgs_test['binned'], avgs_test['iptm'] )\n",
    "avg_pr = average_precision_score(avgs_test['binned'], avgs_test['iptm'] )\n",
    "print (sr_test, pr_test,aucroc,avg_pr)\n",
    "\n",
    "rows.append({'dataset': 'z_pred_ncip_iptm', 'rocauc_test':aucroc, 'avgpr_test': avg_pr,'test_spearman':sr_test, 'test_r2': pr_test  })\n",
    "\n",
    "rows_df = pd.DataFrame(rows)\n",
    "#average and plot"
   ]
  },
  {
   "cell_type": "code",
   "execution_count": 105,
   "metadata": {},
   "outputs": [
    {
     "data": {
      "image/png": "[encoded data removed]",
      "text/plain": [
       "<Figure size 25x100 with 1 Axes>"
      ]
     },
     "metadata": {},
     "output_type": "display_data"
    },
    {
     "data": {
      "image/png": "[encoded data removed]",
      "text/plain": [
       "<Figure size 25x100 with 1 Axes>"
      ]
     },
     "metadata": {},
     "output_type": "display_data"
    }
   ],
   "source": [
    "plot_regression(rows_df, 'pred_ncip_malb.svg', 0.25,1)\n",
    "plot_classif(rows_df, 'pred_ncip_malb.svg', 0.25,1)"
   ]
  },
  {
   "cell_type": "code",
   "execution_count": 106,
   "metadata": {},
   "outputs": [
    {
     "name": "stdout",
     "output_type": "stream",
     "text": [
      "train    127\n",
      "test      14\n",
      "Name: order_padj_sets, dtype: int64\n",
      "train    430\n",
      "test      47\n",
      "Name: order_padj_sets, dtype: int64\n",
      "train    127\n",
      "test      14\n",
      "Name: order_padj_sets, dtype: int64\n",
      "best l1:     dataset r2_cutoff  l2_penalty  train_r2_not_avgd  train_r2  \\\n",
      "30      v3        af         0.1           0.046049  0.093209   \n",
      "\n",
      "    train_spearman_not_avgd  train_spearman  test_r2_not_avgd   test_r2  \\\n",
      "30                 0.117527        0.172701          0.109933  0.210109   \n",
      "\n",
      "    test_spearman_not_avgd  test_spearman  n_non_zero  \n",
      "30                0.417348       0.520879           4   0.1\n",
      "0.3513161639488036 0.17059073854079096 0.8536679536679537 0.4472080253670505\n",
      "0.4056009689644434 0.3137720985848536 0.8992979992979993 0.61665761025332\n"
     ]
    }
   ],
   "source": [
    "#predict malbs with ncip \n",
    "#usign the v3 model to predict ncips (regression)\n",
    "v2_inputs, cols_not_model = load_dataset_single('v3', 'af', 'ncip')\n",
    "v2_malbs, cols_not_model_malbs = load_dataset_single('malb_v3', 'af', 'malb')\n",
    "gather_columns = list(set(v2_inputs.columns).difference(set(cols_not_model)))\n",
    "other_cols = [x for x in gather_columns if x not in v2_malbs.columns ]\n",
    "in_series = [x for x in gather_columns if x in v2_malbs.columns]\n",
    " \n",
    "#v2 of malb predictions\n",
    "v2_preds = pd.read_csv('./af_prediction_values_rosetta_energy_terms/AF2_rosetta_merged-AF-v3.csv')\n",
    "v2_preds.drop(columns = ['timed'], inplace = True)\n",
    "v2_preds.drop(columns = 'clashing_res', inplace=True)\n",
    "#remove columns which are always the same \n",
    "v2_preds['fraction_int_all'] = v2_preds.IA_nres_int/v2_preds.IA_nres_all.fillna(1)\n",
    "v2_preds['fraction_all'] = v2_preds.nres_int/v2_preds.nres_all.fillna(1)\n",
    "v2_preds['id1'] = v2_preds.id1.apply(lambda x: x.replace('__','_'))\n",
    "v2_preds['id2'] = v2_preds.id2.apply(lambda x: x.replace('__','_'))\n",
    "v2_preds['ppi'] = v2_preds.id1 + '_' + v2_preds.id2\n",
    "v2_preds.rename(columns = {'model_number':'model', 'plddt': 'mean_plddt'}, inplace = True)\n",
    "v2_preds['type'] = 'v2'\n",
    "v2_preds['msa_depth'] = 2\n",
    "v2_preds['new_ppi'] = v2_preds.apply(lambda row: row.ppi + '_' + str(row.model), axis  =1 )\n",
    "v2_preds['over_thresh'] = v2_preds.iptm > 0.75\n",
    "#drop duplicate new_ppi\n",
    "v2_preds = v2_preds.drop_duplicates('new_ppi', keep = 'first')\n",
    "v2_preds_other = v2_preds[['new_ppi', 'over_thresh'] + other_cols]\n",
    "all_columns_v2 = v2_malbs.merge(v2_preds_other, on = 'new_ppi', how = 'inner')\n",
    "\n",
    "get_trained_model_v3_t1, x_scaler, y_scaler, list_cols = padj_get_model_regression('v3', 'af',  'ncip', '07_23_ncip_regression_default.csv', False, False)\n",
    "full_train = all_columns_v2[list_cols].to_numpy()\n",
    "x_train_scaled = x_scaler.transform(full_train)\n",
    "preds = get_trained_model_v3_t1.predict(x_train_scaled)\n",
    "preds = y_scaler.inverse_transform(preds)\n",
    "all_columns_v2['preds'] = preds\n",
    "avgs_test = all_columns_v2.groupby(['ppi']).mean()\n",
    "\n",
    "rows = []\n",
    "\n",
    "sr_test = spearmanr(avgs_test['lfc_all'], (avgs_test['preds']))[0]\n",
    "pr_test = pearsonr(avgs_test['lfc_all'], (avgs_test['preds']))[0]**2\n",
    "aucroc = roc_auc_score(avgs_test['binned'], avgs_test['preds'] )\n",
    "avg_pr = average_precision_score(avgs_test['binned'], avgs_test['preds'] )\n",
    "\n",
    "print (sr_test, pr_test,aucroc,avg_pr)\n",
    "rows = []\n",
    "rows.append({'dataset': 'v3_ncip_reg', 'rocauc_test':aucroc, 'avgpr_test': avg_pr,'test_spearman':sr_test, 'test_r2': pr_test  })\n",
    "\n",
    "sr_test = spearmanr(avgs_test['lfc_all'], (avgs_test['iptm']))[0]\n",
    "pr_test = pearsonr(avgs_test['lfc_all'], (avgs_test['iptm']))[0]**2\n",
    "aucroc = roc_auc_score(avgs_test['binned'], avgs_test['iptm'] )\n",
    "avg_pr = average_precision_score(avgs_test['binned'], avgs_test['iptm'] )\n",
    "print (sr_test, pr_test,aucroc,avg_pr)\n",
    "rows.append({'dataset': 'v3_z_ncip_iptm', 'rocauc_test':aucroc, 'avgpr_test': avg_pr,'test_spearman':sr_test, 'test_r2': pr_test  })\n",
    "\n",
    "#rows_df = pd.DataFrame(rows)\n",
    "\n",
    "#plot_regression(rows_df, 'pred_malb_ncip.svg', 0.25,1)\n",
    "#plot_classif(rows_df, 'pred_ncip_malb.svg', 0.25,1)"
   ]
  },
  {
   "cell_type": "code",
   "execution_count": 107,
   "metadata": {},
   "outputs": [
    {
     "name": "stdout",
     "output_type": "stream",
     "text": [
      "train    127\n",
      "test      14\n",
      "Name: order_padj_sets, dtype: int64\n",
      "train    430\n",
      "test      47\n",
      "Name: order_padj_sets, dtype: int64\n",
      "train    127\n",
      "test      14\n",
      "Name: order_padj_sets, dtype: int64\n",
      "best l1:     dataset r2_cutoff  l2_penalty  train_r2_not_avgd  train_r2  \\\n",
      "23      v2        af    0.063096           0.050917  0.078368   \n",
      "\n",
      "    train_spearman_not_avgd  train_spearman  test_r2_not_avgd   test_r2  \\\n",
      "23                 0.083782        0.118872          0.451936  0.622535   \n",
      "\n",
      "    test_spearman_not_avgd  test_spearman  n_non_zero  \n",
      "23                 0.66167       0.648352           3   0.0630957344480193\n",
      "0.3619860512295231 0.1358509162706162 0.84991224991225 0.44712398072315845\n",
      "0.4223940810535448 0.2455433125717843 0.8776412776412776 0.5363317094746091\n"
     ]
    },
    {
     "data": {
      "image/png": "[encoded data removed]",
      "text/plain": [
       "<Figure size 75x75 with 1 Axes>"
      ]
     },
     "metadata": {},
     "output_type": "display_data"
    },
    {
     "data": {
      "image/png": "[encoded data removed]",
      "text/plain": [
       "<Figure size 25x100 with 1 Axes>"
      ]
     },
     "metadata": {},
     "output_type": "display_data"
    }
   ],
   "source": [
    "#predict malbs with ncip \n",
    "#usign the v3 model to predict ncips (regression)\n",
    "v2_inputs, cols_not_model = load_dataset_single('v2', 'af', 'ncip')\n",
    "v2_malbs, cols_not_model_malbs = load_dataset_single('malb_v2', 'af', 'malb')\n",
    "gather_columns = list(set(v2_inputs.columns).difference(set(cols_not_model)))\n",
    "other_cols = [x for x in gather_columns if x not in v2_malbs.columns ]\n",
    "in_series = [x for x in gather_columns if x in v2_malbs.columns]\n",
    " \n",
    "#v2 of malb predictions\n",
    "v2_preds = pd.read_csv('./af_prediction_values_rosetta_energy_terms/AF2_rosetta_merged-v2.csv')\n",
    "v2_preds.drop(columns = ['timed'], inplace = True)\n",
    "v2_preds.drop(columns = 'clashing_res', inplace=True)\n",
    "#remove columns which are always the same \n",
    "v2_preds['fraction_int_all'] = v2_preds.IA_nres_int/v2_preds.IA_nres_all.fillna(1)\n",
    "v2_preds['fraction_all'] = v2_preds.nres_int/v2_preds.nres_all.fillna(1)\n",
    "v2_preds['id1'] = v2_preds.id1.apply(lambda x: x.replace('__','_'))\n",
    "v2_preds['id2'] = v2_preds.id2.apply(lambda x: x.replace('__','_'))\n",
    "v2_preds['ppi'] = v2_preds.id1 + '_' + v2_preds.id2\n",
    "v2_preds.rename(columns = {'model_number':'model', 'plddt': 'mean_plddt'}, inplace = True)\n",
    "v2_preds['type'] = 'v2'\n",
    "v2_preds['msa_depth'] = 2\n",
    "v2_preds['new_ppi'] = v2_preds.apply(lambda row: row.ppi + '_' + str(row.model), axis  =1 )\n",
    "v2_preds['over_thresh'] = v2_preds.iptm > 0.75\n",
    "#drop duplicate new_ppi\n",
    "v2_preds = v2_preds.drop_duplicates('new_ppi', keep = 'first')\n",
    "v2_preds_other = v2_preds[['new_ppi', 'over_thresh'] + other_cols]\n",
    "all_columns_v2 = v2_malbs.merge(v2_preds_other, on = 'new_ppi', how = 'inner')\n",
    "\n",
    "get_trained_model_v3_t1, x_scaler, y_scaler, list_cols = padj_get_model_regression('v2', 'af',  'ncip', '07_23_ncip_regression_default.csv', False, False)\n",
    "full_train = all_columns_v2[list_cols].to_numpy()\n",
    "x_train_scaled = x_scaler.transform(full_train)\n",
    "preds = get_trained_model_v3_t1.predict(x_train_scaled)\n",
    "preds = y_scaler.inverse_transform(preds)\n",
    "all_columns_v2['preds'] = preds\n",
    "avgs_test = all_columns_v2.groupby(['ppi']).mean()\n",
    "\n",
    "#rows = []\n",
    "\n",
    "sr_test = spearmanr(avgs_test['lfc_all'], (avgs_test['preds']))[0]\n",
    "pr_test = pearsonr(avgs_test['lfc_all'], (avgs_test['preds']))[0]**2\n",
    "aucroc = roc_auc_score(avgs_test['binned'], avgs_test['preds'] )\n",
    "avg_pr = average_precision_score(avgs_test['binned'], avgs_test['preds'] )\n",
    "\n",
    "print (sr_test, pr_test,aucroc,avg_pr)\n",
    "#rows = []\n",
    "rows.append({'dataset': 'v2_ncip_reg', 'rocauc_test':aucroc, 'avgpr_test': avg_pr,'test_spearman':sr_test, 'test_r2': pr_test  })\n",
    "\n",
    "sr_test = spearmanr(avgs_test['lfc_all'], (avgs_test['iptm']))[0]\n",
    "pr_test = pearsonr(avgs_test['lfc_all'], (avgs_test['iptm']))[0]**2\n",
    "aucroc = roc_auc_score(avgs_test['binned'], avgs_test['iptm'] )\n",
    "avg_pr = average_precision_score(avgs_test['binned'], avgs_test['iptm'] )\n",
    "print (sr_test, pr_test,aucroc,avg_pr)\n",
    "rows.append({'dataset': 'v2_z_ncip_iptm', 'rocauc_test':aucroc, 'avgpr_test': avg_pr,'test_spearman':sr_test, 'test_r2': pr_test  })\n",
    "\n",
    "rows_df = pd.DataFrame(rows)\n",
    "rows_df = rows_df.sort_values('dataset')\n",
    "plot_regression(rows_df, 'pred_malb_ncip.svg', 0.75,0.75)\n",
    "plot_classif(rows_df, 'pred_ncip_malb.svg', 0.25,1)"
   ]
  },
  {
   "cell_type": "code",
   "execution_count": 73,
   "metadata": {},
   "outputs": [
    {
     "name": "stdout",
     "output_type": "stream",
     "text": [
      "train    127\n",
      "test      14\n",
      "Name: order_padj_sets, dtype: int64\n",
      "train    430\n",
      "test      47\n",
      "Name: order_padj_sets, dtype: int64\n",
      "train    430\n",
      "test      47\n",
      "Name: order_padj_sets, dtype: int64\n",
      "best l1:      dataset r2_cutoff   l2_penalty  rocauc_train_not_avgd  rocauc_train  \\\n",
      "17  malb_v3        af  1584.893192               0.880176      0.899319   \n",
      "\n",
      "    avgpr_train_not_avgd  avgpr_train  rocauc_test_not_avgd  rocauc_test  \\\n",
      "17              0.443172     0.551118              0.735152     0.755411   \n",
      "\n",
      "    avgpr_test_not_avgd  avgpr_test  n_non_zero  \n",
      "17             0.810945     0.81563           4   1584.8931924611177\n",
      "0.3756836120411691 0.2904156704461205 0.8996840996840997 0.6114296646181403\n",
      "0.4056009689644434 0.3137720985848536 0.8992979992979993 0.61665761025332\n"
     ]
    },
    {
     "data": {
      "image/png": "[encoded data removed]",
      "text/plain": [
       "<Figure size 25x100 with 1 Axes>"
      ]
     },
     "metadata": {},
     "output_type": "display_data"
    },
    {
     "data": {
      "image/png": "[encoded data removed]",
      "text/plain": [
       "<Figure size 25x100 with 1 Axes>"
      ]
     },
     "metadata": {},
     "output_type": "display_data"
    }
   ],
   "source": [
    "#usign the v2 t0 model \n",
    "\n",
    "v2_inputs, cols_not_model = load_dataset_single('v3', 'af', 'ncip')\n",
    "v2_malbs, cols_not_model_malbs = load_dataset_single('malb_v3', 'af', 'malb')\n",
    "gather_columns = list(set(v2_inputs.columns).difference(set(cols_not_model)))\n",
    "other_cols = [x for x in gather_columns if x not in v2_malbs.columns ]\n",
    "in_series = [x for x in gather_columns if x in v2_malbs.columns]\n",
    " \n",
    "#v2 of malb predictions\n",
    "v2_preds = pd.read_csv('./af_prediction_values_rosetta_energy_terms/AF2_rosetta_merged-AF-v3.csv')\n",
    "v2_preds.drop(columns = ['timed'], inplace = True)\n",
    "v2_preds.drop(columns = 'clashing_res', inplace=True)\n",
    "#remove columns which are always the same \n",
    "v2_preds['fraction_int_all'] = v2_preds.IA_nres_int/v2_preds.IA_nres_all.fillna(1)\n",
    "v2_preds['fraction_all'] = v2_preds.nres_int/v2_preds.nres_all.fillna(1)\n",
    "v2_preds['id1'] = v2_preds.id1.apply(lambda x: x.replace('__','_'))\n",
    "v2_preds['id2'] = v2_preds.id2.apply(lambda x: x.replace('__','_'))\n",
    "v2_preds['ppi'] = v2_preds.id1 + '_' + v2_preds.id2\n",
    "v2_preds.rename(columns = {'model_number':'model', 'plddt': 'mean_plddt'}, inplace = True)\n",
    "v2_preds['type'] = 'v2'\n",
    "v2_preds['msa_depth'] = 2\n",
    "v2_preds['new_ppi'] = v2_preds.apply(lambda row: row.ppi + '_' + str(row.model), axis  =1 )\n",
    "v2_preds['over_thresh'] = v2_preds.iptm > 0.75\n",
    "#drop duplicate new_ppi\n",
    "v2_preds = v2_preds.drop_duplicates('new_ppi', keep = 'first')\n",
    "v2_preds_other = v2_preds[['new_ppi', 'over_thresh'] + other_cols]\n",
    "all_columns_v2 = v2_malbs.merge(v2_preds_other, on = 'new_ppi', how = 'inner')\n",
    "\n",
    "\n",
    "get_trained_model_v3_t1, x_scaler, list_cols = padj_get_model_classif('malb_v3', 'af',  'malb', '07_23_malb_classification_default.csv', False, False)\n",
    "full_train = all_columns_v2[list_cols].to_numpy()\n",
    "x_train_scaled = x_scaler.transform(full_train)\n",
    "preds = get_trained_model_v3_t1.predict_proba(x_train_scaled)\n",
    "all_columns_v2['preds'] = preds[:,1]\n",
    "avgs_test = all_columns_v2.groupby(['ppi']).mean()\n",
    "\n",
    "sr_test = spearmanr(avgs_test['lfc_all'], (avgs_test['preds']))[0]\n",
    "pr_test = pearsonr(avgs_test['lfc_all'], (avgs_test['preds']))[0]**2\n",
    "aucroc = roc_auc_score(avgs_test['binned'], avgs_test['preds'] )\n",
    "avg_pr = average_precision_score(avgs_test['binned'], avgs_test['preds'] )\n",
    "\n",
    "print (sr_test, pr_test,aucroc,avg_pr)\n",
    "rows = []\n",
    "rows.append({'dataset': 'pred_ncip_malb_v3_reg', 'rocauc_test':aucroc, 'avgpr_test': avg_pr,'test_spearman':sr_test, 'test_r2': pr_test  })\n",
    "\n",
    "sr_test = spearmanr(avgs_test['lfc_all'], (avgs_test['iptm']))[0]\n",
    "pr_test = pearsonr(avgs_test['lfc_all'], (avgs_test['iptm']))[0]**2\n",
    "aucroc = roc_auc_score(avgs_test['binned'], avgs_test['iptm'] )\n",
    "avg_pr = average_precision_score(avgs_test['binned'], avgs_test['iptm'] )\n",
    "print (sr_test, pr_test,aucroc,avg_pr)\n",
    "\n",
    "rows.append({'dataset': 'z_pred_ncip_iptm', 'rocauc_test':aucroc, 'avgpr_test': avg_pr,'test_spearman':sr_test, 'test_r2': pr_test  })\n",
    "\n",
    "rows_df = pd.DataFrame(rows)\n",
    "#average and plot\n",
    "plot_regression(rows_df, 'pred_ncip_malb.svg', 0.25,1)\n",
    "plot_classif(rows_df, 'pred_ncip_malb.svg', 0.25,1)"
   ]
  },
  {
   "cell_type": "code",
   "execution_count": 66,
   "metadata": {},
   "outputs": [
    {
     "name": "stdout",
     "output_type": "stream",
     "text": [
      "train    127\n",
      "test      14\n",
      "Name: order_padj_sets, dtype: int64\n",
      "train    430\n",
      "test      47\n",
      "Name: order_padj_sets, dtype: int64\n",
      "train    430\n",
      "test      47\n",
      "Name: order_padj_sets, dtype: int64\n",
      "best l1:     dataset r2_cutoff    l2_penalty  rocauc_train_not_avgd  rocauc_train  \\\n",
      "8  malb_v2        af  63095.734448               0.853075      0.881783   \n",
      "\n",
      "   avgpr_train_not_avgd  avgpr_train  rocauc_test_not_avgd  rocauc_test  \\\n",
      "8              0.299783     0.443517              0.696364     0.720779   \n",
      "\n",
      "   avgpr_test_not_avgd  avgpr_test  n_non_zero  \n",
      "8             0.804524    0.815582           4   63095.73444801943\n",
      "0.40010435373328296 0.22709889699430197 0.8764829764829765 0.5287730841620432\n",
      "0.4223940810535448 0.2455433125717843 0.8776412776412776 0.5363317094746091\n"
     ]
    },
    {
     "data": {
      "image/png": "[encoded data removed]",
      "text/plain": [
       "<Figure size 25x100 with 1 Axes>"
      ]
     },
     "metadata": {},
     "output_type": "display_data"
    },
    {
     "data": {
      "image/png": "[encoded data removed]",
      "text/plain": [
       "<Figure size 25x100 with 1 Axes>"
      ]
     },
     "metadata": {},
     "output_type": "display_data"
    }
   ],
   "source": [
    "#usign the v2 t0 model \n",
    "\n",
    "v2_inputs, cols_not_model = load_dataset_single('v2', 'af', 'ncip')\n",
    "v2_malbs, cols_not_model_malbs = load_dataset_single('malb_v2', 'af', 'malb')\n",
    "gather_columns = list(set(v2_inputs.columns).difference(set(cols_not_model)))\n",
    "other_cols = [x for x in gather_columns if x not in v2_malbs.columns ]\n",
    "in_series = [x for x in gather_columns if x in v2_malbs.columns]\n",
    " \n",
    "#v2 of malb predictions\n",
    "v2_preds = pd.read_csv('./af_prediction_values_rosetta_energy_terms/AF2_rosetta_merged-v2.csv')\n",
    "v2_preds.drop(columns = ['timed'], inplace = True)\n",
    "v2_preds.drop(columns = 'clashing_res', inplace=True)\n",
    "#remove columns which are always the same \n",
    "v2_preds['fraction_int_all'] = v2_preds.IA_nres_int/v2_preds.IA_nres_all.fillna(1)\n",
    "v2_preds['fraction_all'] = v2_preds.nres_int/v2_preds.nres_all.fillna(1)\n",
    "v2_preds['id1'] = v2_preds.id1.apply(lambda x: x.replace('__','_'))\n",
    "v2_preds['id2'] = v2_preds.id2.apply(lambda x: x.replace('__','_'))\n",
    "v2_preds['ppi'] = v2_preds.id1 + '_' + v2_preds.id2\n",
    "v2_preds.rename(columns = {'model_number':'model', 'plddt': 'mean_plddt'}, inplace = True)\n",
    "v2_preds['type'] = 'v2'\n",
    "v2_preds['msa_depth'] = 2\n",
    "v2_preds['new_ppi'] = v2_preds.apply(lambda row: row.ppi + '_' + str(row.model), axis  =1 )\n",
    "v2_preds['over_thresh'] = v2_preds.iptm > 0.75\n",
    "#drop duplicate new_ppi\n",
    "v2_preds = v2_preds.drop_duplicates('new_ppi', keep = 'first')\n",
    "v2_preds_other = v2_preds[['new_ppi', 'over_thresh'] + other_cols]\n",
    "all_columns_v2 = v2_malbs.merge(v2_preds_other, on = 'new_ppi', how = 'inner')\n",
    "\n",
    "\n",
    "get_trained_model_v3_t1, x_scaler, list_cols = padj_get_model_classif('malb_v2', 'af',  'malb', '07_23_malb_classification_default.csv', False, False)\n",
    "full_train = all_columns_v2[list_cols].to_numpy()\n",
    "x_train_scaled = x_scaler.transform(full_train)\n",
    "preds = get_trained_model_v3_t1.predict_proba(x_train_scaled)\n",
    "all_columns_v2['preds'] = preds[:,1]\n",
    "avgs_test = all_columns_v2.groupby(['ppi']).mean()\n",
    "\n",
    "sr_test = spearmanr(avgs_test['lfc_all'], (avgs_test['preds']))[0]\n",
    "pr_test = pearsonr(avgs_test['lfc_all'], (avgs_test['preds']))[0]**2\n",
    "aucroc = roc_auc_score(avgs_test['binned'], avgs_test['preds'] )\n",
    "avg_pr = average_precision_score(avgs_test['binned'], avgs_test['preds'] )\n",
    "\n",
    "print (sr_test, pr_test,aucroc,avg_pr)\n",
    "rows.append({'dataset': 'pred_ncip_malb_v3_reg', 'rocauc_test':aucroc, 'avgpr_test': avg_pr,'test_spearman':sr_test, 'test_r2': pr_test  })\n",
    "\n",
    "sr_test = spearmanr(avgs_test['lfc_all'], (avgs_test['iptm']))[0]\n",
    "pr_test = pearsonr(avgs_test['lfc_all'], (avgs_test['iptm']))[0]**2\n",
    "aucroc = roc_auc_score(avgs_test['binned'], avgs_test['iptm'] )\n",
    "avg_pr = average_precision_score(avgs_test['binned'], avgs_test['iptm'] )\n",
    "print (sr_test, pr_test,aucroc,avg_pr)\n",
    "\n",
    "rows.append({'dataset': 'v2_pred_ncip_iptm', 'rocauc_test':aucroc, 'avgpr_test': avg_pr,'test_spearman':sr_test, 'test_r2': pr_test  })\n",
    "\n",
    "rows_df = pd.DataFrame(rows)\n",
    "#average and plot\n",
    "plot_regression(rows_df, 'pred_ncip_malb.svg', 0.25,1)\n",
    "plot_classif(rows_df, 'pred_ncip_malb.svg', 0.25,1)"
   ]
  },
  {
   "cell_type": "code",
   "execution_count": null,
   "metadata": {},
   "outputs": [],
   "source": []
  }
 ],
 "metadata": {
  "kernelspec": {
   "display_name": "MP3Seq",
   "language": "python",
   "name": "python3"
  },
  "language_info": {
   "codemirror_mode": {
    "name": "ipython",
    "version": 3
   },
   "file_extension": ".py",
   "mimetype": "text/x-python",
   "name": "python",
   "nbconvert_exporter": "python",
   "pygments_lexer": "ipython3",
   "version": "3.11.3"
  },
  "orig_nbformat": 4
 },
 "nbformat": 4,
 "nbformat_minor": 2
}
