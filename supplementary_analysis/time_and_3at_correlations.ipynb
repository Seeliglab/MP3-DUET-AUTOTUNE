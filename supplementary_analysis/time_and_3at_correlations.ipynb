{
 "cells": [
  {
   "cell_type": "code",
   "execution_count": 2,
   "id": "5ee28c8b-6179-4fba-92c0-2382b67d1282",
   "metadata": {},
   "outputs": [],
   "source": [
    "#look at conditions\n",
    "import pandas as pd\n",
    "import numpy as np\n",
    "import seaborn as sns\n",
    "import matplotlib.pyplot as plt\n",
    "from scipy import stats\n",
    "from mpl_toolkits.axes_grid1 import make_axes_locatable\n",
    "from itertools import combinations\n",
    "import matplotlib as mpl\n",
    "new_rc_params = {'text.usetex': False,\n",
    "\"svg.fonttype\": 'none',\n",
    "                 \n",
    "}\n",
    "mpl.rcParams.update(new_rc_params)"
   ]
  },
  {
   "cell_type": "code",
   "execution_count": 3,
   "id": "9e1d8fc4-3cf1-4cab-943a-d1f486c7e38b",
   "metadata": {},
   "outputs": [],
   "source": [
    "def calculate_enrichment(trp_col_with_na, his_col_with_na, trp_count=0, his_count=0):\n",
    "    if trp_count == 0 and his_count == 0:\n",
    "        trp_count = trp_col_with_na.fillna(0).values.sum()\n",
    "        his_count = his_col_with_na.fillna(0).values.sum()\n",
    "        norm_coefficient = trp_count / his_count\n",
    "        return norm_coefficient * his_col_with_na.fillna(his_col_with_na.min()) / trp_col_with_na.fillna(trp_col_with_na.min())\n",
    "    else:\n",
    "        norm_coefficient = trp_count / his_count\n",
    "        return norm_coefficient * his_col_with_na.fillna(his_col_with_na.min()) / trp_col_with_na.fillna(trp_col_with_na.min())\n",
    "\n",
    "def split_by_orientation(df, proteins, col_extract, keep_homodimers=True):\n",
    "    # for a col, reorder to 2 rows for each PPI\n",
    "\n",
    "    # all combos of 2\n",
    "    combos = list(combinations(proteins, 2))\n",
    "    if keep_homodimers:\n",
    "        combos = combos + [(x, x) for x in proteins]\n",
    "    # df of all combos of 2\n",
    "    ppis = pd.DataFrame({'DBD_fast': [c[0] for c in combos], 'AD_fast': [c[1] for c in combos]})\n",
    "\n",
    "    ppis['or_1_ppi'] = 'DBD:' + ppis['DBD_fast'] + ':AD:' + ppis['AD_fast']\n",
    "    ppis['or_2_ppi'] = 'DBD:' + ppis['AD_fast'] + ':AD:' + ppis['DBD_fast']\n",
    "\n",
    "    ppis = ppis.merge(df, left_on='or_1_ppi', right_on='PPI')\n",
    "    ppis = ppis.merge(df, left_on='or_2_ppi', right_on='PPI', suffixes=('_DBDAD', '_ADDBD'))\n",
    "    ppis['PPI'] = ppis.apply(lambda row: make_ppi(row['DBD_fast'], row['AD_fast']), axis=1)\n",
    "    return ppis[['PPI', col_extract + '_DBDAD', col_extract + '_ADDBD']]\n",
    "\n",
    "\n",
    "def make_single_col_from_df(df, binders_list):\n",
    "    final_counts = []\n",
    "    final_binder_pairs = []\n",
    "    for b in binders_list:\n",
    "        for b2 in binders_list:\n",
    "            if b2 in df:\n",
    "                val_row = df[df.Binder1 == b][b2].to_list()\n",
    "                if len(val_row) > 0:\n",
    "                    final_counts.append(val_row[0])\n",
    "                    final_binder_pairs.append(\"DBD:\" + b + ':AD:' + b2)\n",
    "    return pd.DataFrame({'PPI': final_binder_pairs, 'count': final_counts})\n",
    "\n",
    "def make_ppi(one, two):\n",
    "    \"\"\"\n",
    "    Makes a PPI name by sorting protein names and joining\n",
    "    :param one: One input protein name (str)\n",
    "    :param two: Other input protein name (str)\n",
    "    :return: Final PPI name (str), formatted as P1:P2 where P1 is before P2 when sorted\n",
    "    \"\"\"\n",
    "    ppi = [one, two]\n",
    "    ppi.sort()\n",
    "    return ':'.join(ppi)"
   ]
  },
  {
   "cell_type": "code",
   "execution_count": 4,
   "id": "616cb47d",
   "metadata": {},
   "outputs": [],
   "source": [
    "#opening the different trp time tables \n",
    "jerala_proteins = ['Jerala_P1', 'Jerala_P2', 'Jerala_P3', 'Jerala_P4',\n",
    " 'Jerala_P5','Jerala_P6','Jerala_P7','Jerala_P8','Jerala_P9',\n",
    " 'Jerala_P10','Jerala_P11','Jerala_P12']\n",
    "\n",
    "hour_24 = make_single_col_from_df(pd.read_csv('../data/final_mp3seq_method/l61/L61_TRP_24h_table.csv'), jerala_proteins)                  \n",
    "hour_44 = make_single_col_from_df(pd.read_csv('../data/final_mp3seq_method/l61/L61_TRP_44h_table.csv'), jerala_proteins)    \n",
    "hour_60 = make_single_col_from_df(pd.read_csv('../data/final_mp3seq_method/l61/L61_TRP_60h_table.csv'), jerala_proteins)    \n",
    "\n",
    "#rename cols\n",
    "hour_24.rename(columns = {'count': 'trp24'}, inplace = True)\n",
    "hour_44.rename(columns = {'count': 'trp44'}, inplace = True)\n",
    "hour_60.rename(columns = {'count': 'trp60'}, inplace = True)\n",
    "#merge\n",
    "trp_diff_times = hour_24.merge(hour_44, how = 'outer', on = 'PPI')\n",
    "trp_diff_times = trp_diff_times.merge(hour_60, how = 'outer', on = 'PPI')"
   ]
  },
  {
   "cell_type": "code",
   "execution_count": 5,
   "id": "72c950be-8382-45f6-92e0-41a65808606c",
   "metadata": {},
   "outputs": [],
   "source": [
    "target_orientations = []\n",
    "target_ppis = []\n",
    "for i in range(1,13,2):\n",
    "    target_orientations.append('DBD:Jerala_P' + str(i) + ':AD:Jerala_P' + str(i+1))\n",
    "    target_orientations.append('DBD:Jerala_P' + str(i+1) + ':AD:Jerala_P' + str(i))\n",
    "    ppi_label = ['Jerala_P' + str(i) , 'Jerala_P' + str(i+1) ]\n",
    "    ppi_label.sort()\n",
    "    target_ppis.append(':'.join(ppi_label))\n",
    "\n",
    "trp_diff_times['on_target'] = trp_diff_times.PPI.apply(lambda x: x in target_orientations)\n",
    "\n"
   ]
  },
  {
   "cell_type": "code",
   "execution_count": 6,
   "id": "8657ddaa-7286-415b-9869-b2c542adedfe",
   "metadata": {},
   "outputs": [],
   "source": [
    "#adjust by read count fractions \n",
    "\n",
    "trp_diff_times['trp_l61_size_norm_24'] = trp_diff_times['trp24']/trp_diff_times['trp24'].sum()\n",
    "trp_diff_times['trp_l61_size_norm_44'] = trp_diff_times['trp44']/trp_diff_times['trp44'].sum()\n",
    "trp_diff_times['trp_l61_size_norm_60'] = trp_diff_times['trp60']/trp_diff_times['trp60'].sum()"
   ]
  },
  {
   "cell_type": "code",
   "execution_count": 19,
   "id": "a40a2534",
   "metadata": {},
   "outputs": [
    {
     "data": {
      "text/html": [
       "<div>\n",
       "<style scoped>\n",
       "    .dataframe tbody tr th:only-of-type {\n",
       "        vertical-align: middle;\n",
       "    }\n",
       "\n",
       "    .dataframe tbody tr th {\n",
       "        vertical-align: top;\n",
       "    }\n",
       "\n",
       "    .dataframe thead th {\n",
       "        text-align: right;\n",
       "    }\n",
       "</style>\n",
       "<table border=\"1\" class=\"dataframe\">\n",
       "  <thead>\n",
       "    <tr style=\"text-align: right;\">\n",
       "      <th></th>\n",
       "      <th>trp44</th>\n",
       "      <th>trp60</th>\n",
       "    </tr>\n",
       "  </thead>\n",
       "  <tbody>\n",
       "    <tr>\n",
       "      <th>0</th>\n",
       "      <td>14</td>\n",
       "      <td>20</td>\n",
       "    </tr>\n",
       "    <tr>\n",
       "      <th>1</th>\n",
       "      <td>1356</td>\n",
       "      <td>1237</td>\n",
       "    </tr>\n",
       "    <tr>\n",
       "      <th>2</th>\n",
       "      <td>3068</td>\n",
       "      <td>3430</td>\n",
       "    </tr>\n",
       "    <tr>\n",
       "      <th>3</th>\n",
       "      <td>1644</td>\n",
       "      <td>1846</td>\n",
       "    </tr>\n",
       "    <tr>\n",
       "      <th>4</th>\n",
       "      <td>2895</td>\n",
       "      <td>3245</td>\n",
       "    </tr>\n",
       "    <tr>\n",
       "      <th>...</th>\n",
       "      <td>...</td>\n",
       "      <td>...</td>\n",
       "    </tr>\n",
       "    <tr>\n",
       "      <th>139</th>\n",
       "      <td>3097</td>\n",
       "      <td>3073</td>\n",
       "    </tr>\n",
       "    <tr>\n",
       "      <th>140</th>\n",
       "      <td>2249</td>\n",
       "      <td>2325</td>\n",
       "    </tr>\n",
       "    <tr>\n",
       "      <th>141</th>\n",
       "      <td>3112</td>\n",
       "      <td>3280</td>\n",
       "    </tr>\n",
       "    <tr>\n",
       "      <th>142</th>\n",
       "      <td>1503</td>\n",
       "      <td>1364</td>\n",
       "    </tr>\n",
       "    <tr>\n",
       "      <th>143</th>\n",
       "      <td>3174</td>\n",
       "      <td>3975</td>\n",
       "    </tr>\n",
       "  </tbody>\n",
       "</table>\n",
       "<p>144 rows × 2 columns</p>\n",
       "</div>"
      ],
      "text/plain": [
       "     trp44  trp60\n",
       "0       14     20\n",
       "1     1356   1237\n",
       "2     3068   3430\n",
       "3     1644   1846\n",
       "4     2895   3245\n",
       "..     ...    ...\n",
       "139   3097   3073\n",
       "140   2249   2325\n",
       "141   3112   3280\n",
       "142   1503   1364\n",
       "143   3174   3975\n",
       "\n",
       "[144 rows x 2 columns]"
      ]
     },
     "execution_count": 19,
     "metadata": {},
     "output_type": "execute_result"
    }
   ],
   "source": [
    "trp_diff_times[['trp44', 'trp60']].dropna()"
   ]
  },
  {
   "cell_type": "code",
   "execution_count": 11,
   "id": "63c3e839-f54a-4e21-8f63-47b8f9cb97e0",
   "metadata": {},
   "outputs": [
    {
     "name": "stdout",
     "output_type": "stream",
     "text": [
      "[Text(0.0, 0, '0.000'), Text(0.002, 0, '0.002'), Text(0.004, 0, '0.004'), Text(0.006, 0, '0.006'), Text(0.008, 0, '0.008'), Text(0.01, 0, '0.010'), Text(0.012, 0, '0.012'), Text(0.014, 0, '0.014'), Text(0.016, 0, '0.016'), Text(0.018000000000000002, 0, '0.018')]\n",
      "[Text(0, 0.0, '0.0000'), Text(0, 0.0025, '0.0025'), Text(0, 0.005, '0.0050'), Text(0, 0.0075, '0.0075'), Text(0, 0.01, '0.0100'), Text(0, 0.0125, '0.0125'), Text(0, 0.015, '0.0150'), Text(0, 0.0175, '0.0175'), Text(0, 0.02, '0.0200'), Text(0, 0.0225, '0.0225')]\n"
     ]
    },
    {
     "data": {
      "image/png": "[encoded data removed]",
      "text/plain": [
       "<Figure size 175x175 with 1 Axes>"
      ]
     },
     "metadata": {},
     "output_type": "display_data"
    },
    {
     "name": "stdout",
     "output_type": "stream",
     "text": [
      "trp_l61_size_norm_44\n",
      "0.9010933230947544\n",
      "0.9436444381945563\n",
      "------------------------\n",
      "[Text(0.0, 0, '0.000'), Text(0.002, 0, '0.002'), Text(0.004, 0, '0.004'), Text(0.006, 0, '0.006'), Text(0.008, 0, '0.008'), Text(0.01, 0, '0.010'), Text(0.012, 0, '0.012'), Text(0.014, 0, '0.014'), Text(0.016, 0, '0.016'), Text(0.018000000000000002, 0, '0.018')]\n",
      "[Text(0, 0.0, '0.0000'), Text(0, 0.0025, '0.0025'), Text(0, 0.005, '0.0050'), Text(0, 0.0075, '0.0075'), Text(0, 0.01, '0.0100'), Text(0, 0.0125, '0.0125'), Text(0, 0.015, '0.0150'), Text(0, 0.0175, '0.0175'), Text(0, 0.02, '0.0200'), Text(0, 0.0225, '0.0225')]\n"
     ]
    },
    {
     "data": {
      "image/png": "[encoded data removed]",
      "text/plain": [
       "<Figure size 175x175 with 1 Axes>"
      ]
     },
     "metadata": {},
     "output_type": "display_data"
    },
    {
     "name": "stdout",
     "output_type": "stream",
     "text": [
      "trp_l61_size_norm_60\n",
      "0.8362521318927886\n",
      "0.9044232085180236\n",
      "------------------------\n"
     ]
    }
   ],
   "source": [
    "#ashr vs others \n",
    "\n",
    "on_targets = \"#ffcc00ff\"\n",
    "off_targets = \"#782167ff\"\n",
    "\n",
    "on_target_df = trp_diff_times[trp_diff_times.on_target == True]\n",
    "off_target_df = trp_diff_times[trp_diff_times.on_target == False]\n",
    "\n",
    "for other in ['trp_l61_size_norm_44', 'trp_l61_size_norm_60']:#', 'log2_enrich_l62', 'log2_enrich_l67', 'avg_log_no_adj_counts']:\n",
    "\n",
    "    fig, ax = plt.subplots()\n",
    "    sns.scatterplot(data = off_target_df, x = 'trp_l61_size_norm_24', y = other, color = off_targets, alpha = 0.5,s = 10)\n",
    "    sns.scatterplot(data = on_target_df, x = 'trp_l61_size_norm_24', y = other, color = on_targets, alpha = 0.5,s = 10)\n",
    "    #sns.scatterplot(on_target_df['trp_l61_size_norm_24'], on_target_df[other],color = on_targets,s = 10, alpha = 0.75)#, alpha = 0.75))#, alpha = 0.75)\n",
    "    plt.tight_layout()\n",
    "    ax.set_xlim(left = 0)\n",
    "    ax.set_ylim(bottom = 0)\n",
    "    locsx, labels = plt.xticks()\n",
    "    print (labels)\n",
    "    plt.xticks([0,0.01,0.02], [])\n",
    "    locsy, labels = plt.yticks()\n",
    "    print (labels)\n",
    "    plt.yticks([0,0.01,0.02], [])\n",
    "    plt.xlabel(\"\")\n",
    "    plt.ylabel(\"\")\n",
    "    #resize \n",
    "    fig.set_size_inches(1.75, 1.75)\n",
    "    ax.plot([0,ax.get_xlim()[1]],[0,ax.get_xlim()[1]], ls=\"--\", c=\".3\", linewidth = 1)\n",
    "    #ax.plot([1/144,1/144],[0,ax.get_ylim()[1]], ls=\"--\", c=\"red\", linewidth = 1)\n",
    "    #ax.plot([0,ax.get_ylim()[1]], [1/144,1/144], ls=\"--\", c=\"red\", linewidth = 1)\n",
    "    plt.savefig( other + 'vs_24h_norm.png', dpi = 300)\n",
    "    \n",
    "    plt.show()\n",
    "\n",
    "    print (other)\n",
    "    print (stats.pearsonr(trp_diff_times['trp_l61_size_norm_24'],\n",
    "                             trp_diff_times[other])[0]**2)\n",
    "    print (stats.spearmanr(trp_diff_times['trp_l61_size_norm_24'],\n",
    "                             trp_diff_times[other])[0])\n",
    "    print ('------------------------')\n",
    "\n",
    "\n",
    "\n"
   ]
  },
  {
   "cell_type": "code",
   "execution_count": 10,
   "id": "e81d19ac-5afd-4b53-adab-252e461fb392",
   "metadata": {},
   "outputs": [
    {
     "name": "stderr",
     "output_type": "stream",
     "text": [
      "/home/lafleur1/anaconda3/envs/dimsum/lib/python3.10/site-packages/seaborn/_decorators.py:36: FutureWarning: Pass the following variables as keyword args: x, y. From version 0.12, the only valid positional argument will be `data`, and passing other arguments without an explicit keyword will result in an error or misinterpretation.\n",
      "  warnings.warn(\n",
      "/home/lafleur1/anaconda3/envs/dimsum/lib/python3.10/site-packages/seaborn/_decorators.py:36: FutureWarning: Pass the following variables as keyword args: x, y. From version 0.12, the only valid positional argument will be `data`, and passing other arguments without an explicit keyword will result in an error or misinterpretation.\n",
      "  warnings.warn(\n"
     ]
    },
    {
     "name": "stdout",
     "output_type": "stream",
     "text": [
      "[Text(-0.0025, 0, '−0.0025'), Text(0.0, 0, '0.0000'), Text(0.0025, 0, '0.0025'), Text(0.004999999999999999, 0, '0.0050'), Text(0.0075, 0, '0.0075'), Text(0.01, 0, '0.0100'), Text(0.012499999999999999, 0, '0.0125'), Text(0.015000000000000001, 0, '0.0150'), Text(0.0175, 0, '0.0175'), Text(0.02, 0, '0.0200')]\n",
      "[Text(0, -0.005, '−0.005'), Text(0, 0.0, '0.000'), Text(0, 0.005, '0.005'), Text(0, 0.009999999999999998, '0.010'), Text(0, 0.015, '0.015'), Text(0, 0.02, '0.020'), Text(0, 0.024999999999999998, '0.025'), Text(0, 0, ''), Text(0, 0, ''), Text(0, 0, '')]\n"
     ]
    },
    {
     "data": {
      "image/png": "[encoded data removed]",
      "text/plain": [
       "<Figure size 126x126 with 1 Axes>"
      ]
     },
     "metadata": {
      "needs_background": "light"
     },
     "output_type": "display_data"
    },
    {
     "name": "stdout",
     "output_type": "stream",
     "text": [
      "trp_l61_size_norm_60\n",
      "0.9653382944337693\n",
      "0.9788088719242677\n",
      "------------------------\n"
     ]
    }
   ],
   "source": [
    "#ashr vs others \n",
    "\n",
    "on_targets = \"#ffcc00ff\"\n",
    "off_targets = \"#782167ff\"\n",
    "\n",
    "on_target_df = trp_diff_times[trp_diff_times.on_target == True]\n",
    "off_target_df = trp_diff_times[trp_diff_times.on_target == False]\n",
    "\n",
    "for other in [ 'trp_l61_size_norm_60']:#', 'log2_enrich_l62', 'log2_enrich_l67', 'avg_log_no_adj_counts']:\n",
    "\n",
    "    fig, ax = plt.subplots()\n",
    "    sns.scatterplot(off_target_df['trp_l61_size_norm_44'], off_target_df[other],color = off_targets, alpha = 0.5,s = 10)\n",
    "    sns.scatterplot(on_target_df['trp_l61_size_norm_44'], on_target_df[other],color = on_targets,s = 10, alpha = 0.75)#, alpha = 0.75))#, alpha = 0.75)#, alpha = 0.75)\n",
    "    #plt.xlim(left=0)\n",
    "    plt.tight_layout()\n",
    "    ax.set_xlim(left = 0)\n",
    "    ax.set_ylim(bottom = 0)\n",
    "    locsx, labels = plt.xticks()\n",
    "    print (labels)\n",
    "    plt.xticks([0,0.01,0.02], [])\n",
    "    locsy, labels = plt.yticks()\n",
    "    print (labels)\n",
    "    plt.yticks([0,0.01,0.02], [])\n",
    "    plt.xlabel(\"\")\n",
    "    plt.ylabel(\"\")\n",
    "    #resize \n",
    "    ax.plot([0,ax.get_xlim()[1]],[0,ax.get_xlim()[1]], ls=\"--\", c=\".3\", linewidth = 1)\n",
    "    #ax.plot([1/144,1/144],[0,ax.get_ylim()[1]], ls=\"--\", c=\"red\", linewidth = 1)\n",
    "    #ax.plot([0,ax.get_ylim()[1]], [1/144,1/144], ls=\"--\", c=\"red\", linewidth = 1)\n",
    "    fig.set_size_inches(1.75, 1.75)\n",
    "    plt.savefig('./figures/' + other + 'vs_44h_norm.png', dpi = 300)\n",
    "    \n",
    "    plt.show()\n",
    "\n",
    "    print (other)\n",
    "    print (stats.pearsonr(trp_diff_times['trp_l61_size_norm_44'],\n",
    "                             trp_diff_times[other])[0]**2)\n",
    "    print (stats.spearmanr(trp_diff_times['trp_l61_size_norm_44'],\n",
    "                             trp_diff_times[other])[0])\n",
    "    print ('------------------------')\n",
    "\n",
    "\n",
    "\n"
   ]
  },
  {
   "cell_type": "code",
   "execution_count": 20,
   "id": "ebc1cdfe-a52d-42d3-90da-3e6b18ea3e81",
   "metadata": {},
   "outputs": [
    {
     "ename": "FileNotFoundError",
     "evalue": "[Errno 2] No such file or directory: './merged_files/l61_comp_3at.csv'",
     "output_type": "error",
     "traceback": [
      "\u001b[1;31m---------------------------------------------------------------------------\u001b[0m",
      "\u001b[1;31mFileNotFoundError\u001b[0m                         Traceback (most recent call last)",
      "Cell \u001b[1;32mIn[20], line 1\u001b[0m\n\u001b[1;32m----> 1\u001b[0m trp_diff_times \u001b[38;5;241m=\u001b[39m \u001b[43mpd\u001b[49m\u001b[38;5;241;43m.\u001b[39;49m\u001b[43mread_csv\u001b[49m\u001b[43m(\u001b[49m\u001b[38;5;124;43m\"\u001b[39;49m\u001b[38;5;124;43m./merged_files/l61_comp_3at.csv\u001b[39;49m\u001b[38;5;124;43m\"\u001b[39;49m\u001b[43m)\u001b[49m\n\u001b[0;32m      2\u001b[0m trp_diff_times \u001b[38;5;241m=\u001b[39m trp_diff_times\u001b[38;5;241m.\u001b[39mrename(columns \u001b[38;5;241m=\u001b[39m {\u001b[38;5;124m'\u001b[39m\u001b[38;5;124mUnnamed: 0\u001b[39m\u001b[38;5;124m'\u001b[39m: \u001b[38;5;124m'\u001b[39m\u001b[38;5;124mPPI\u001b[39m\u001b[38;5;124m'\u001b[39m})\n\u001b[0;32m      4\u001b[0m target_orientations \u001b[38;5;241m=\u001b[39m []\n",
      "File \u001b[1;32mc:\\Users\\alyss\\.conda\\envs\\MP3Seq\\Lib\\site-packages\\pandas\\util\\_decorators.py:211\u001b[0m, in \u001b[0;36mdeprecate_kwarg.<locals>._deprecate_kwarg.<locals>.wrapper\u001b[1;34m(*args, **kwargs)\u001b[0m\n\u001b[0;32m    209\u001b[0m     \u001b[38;5;28;01melse\u001b[39;00m:\n\u001b[0;32m    210\u001b[0m         kwargs[new_arg_name] \u001b[38;5;241m=\u001b[39m new_arg_value\n\u001b[1;32m--> 211\u001b[0m \u001b[38;5;28;01mreturn\u001b[39;00m \u001b[43mfunc\u001b[49m\u001b[43m(\u001b[49m\u001b[38;5;241;43m*\u001b[39;49m\u001b[43margs\u001b[49m\u001b[43m,\u001b[49m\u001b[43m \u001b[49m\u001b[38;5;241;43m*\u001b[39;49m\u001b[38;5;241;43m*\u001b[39;49m\u001b[43mkwargs\u001b[49m\u001b[43m)\u001b[49m\n",
      "File \u001b[1;32mc:\\Users\\alyss\\.conda\\envs\\MP3Seq\\Lib\\site-packages\\pandas\\util\\_decorators.py:331\u001b[0m, in \u001b[0;36mdeprecate_nonkeyword_arguments.<locals>.decorate.<locals>.wrapper\u001b[1;34m(*args, **kwargs)\u001b[0m\n\u001b[0;32m    325\u001b[0m \u001b[38;5;28;01mif\u001b[39;00m \u001b[38;5;28mlen\u001b[39m(args) \u001b[38;5;241m>\u001b[39m num_allow_args:\n\u001b[0;32m    326\u001b[0m     warnings\u001b[38;5;241m.\u001b[39mwarn(\n\u001b[0;32m    327\u001b[0m         msg\u001b[38;5;241m.\u001b[39mformat(arguments\u001b[38;5;241m=\u001b[39m_format_argument_list(allow_args)),\n\u001b[0;32m    328\u001b[0m         \u001b[38;5;167;01mFutureWarning\u001b[39;00m,\n\u001b[0;32m    329\u001b[0m         stacklevel\u001b[38;5;241m=\u001b[39mfind_stack_level(),\n\u001b[0;32m    330\u001b[0m     )\n\u001b[1;32m--> 331\u001b[0m \u001b[38;5;28;01mreturn\u001b[39;00m \u001b[43mfunc\u001b[49m\u001b[43m(\u001b[49m\u001b[38;5;241;43m*\u001b[39;49m\u001b[43margs\u001b[49m\u001b[43m,\u001b[49m\u001b[43m \u001b[49m\u001b[38;5;241;43m*\u001b[39;49m\u001b[38;5;241;43m*\u001b[39;49m\u001b[43mkwargs\u001b[49m\u001b[43m)\u001b[49m\n",
      "File \u001b[1;32mc:\\Users\\alyss\\.conda\\envs\\MP3Seq\\Lib\\site-packages\\pandas\\io\\parsers\\readers.py:950\u001b[0m, in \u001b[0;36mread_csv\u001b[1;34m(filepath_or_buffer, sep, delimiter, header, names, index_col, usecols, squeeze, prefix, mangle_dupe_cols, dtype, engine, converters, true_values, false_values, skipinitialspace, skiprows, skipfooter, nrows, na_values, keep_default_na, na_filter, verbose, skip_blank_lines, parse_dates, infer_datetime_format, keep_date_col, date_parser, dayfirst, cache_dates, iterator, chunksize, compression, thousands, decimal, lineterminator, quotechar, quoting, doublequote, escapechar, comment, encoding, encoding_errors, dialect, error_bad_lines, warn_bad_lines, on_bad_lines, delim_whitespace, low_memory, memory_map, float_precision, storage_options)\u001b[0m\n\u001b[0;32m    935\u001b[0m kwds_defaults \u001b[38;5;241m=\u001b[39m _refine_defaults_read(\n\u001b[0;32m    936\u001b[0m     dialect,\n\u001b[0;32m    937\u001b[0m     delimiter,\n\u001b[1;32m   (...)\u001b[0m\n\u001b[0;32m    946\u001b[0m     defaults\u001b[38;5;241m=\u001b[39m{\u001b[38;5;124m\"\u001b[39m\u001b[38;5;124mdelimiter\u001b[39m\u001b[38;5;124m\"\u001b[39m: \u001b[38;5;124m\"\u001b[39m\u001b[38;5;124m,\u001b[39m\u001b[38;5;124m\"\u001b[39m},\n\u001b[0;32m    947\u001b[0m )\n\u001b[0;32m    948\u001b[0m kwds\u001b[38;5;241m.\u001b[39mupdate(kwds_defaults)\n\u001b[1;32m--> 950\u001b[0m \u001b[38;5;28;01mreturn\u001b[39;00m \u001b[43m_read\u001b[49m\u001b[43m(\u001b[49m\u001b[43mfilepath_or_buffer\u001b[49m\u001b[43m,\u001b[49m\u001b[43m \u001b[49m\u001b[43mkwds\u001b[49m\u001b[43m)\u001b[49m\n",
      "File \u001b[1;32mc:\\Users\\alyss\\.conda\\envs\\MP3Seq\\Lib\\site-packages\\pandas\\io\\parsers\\readers.py:605\u001b[0m, in \u001b[0;36m_read\u001b[1;34m(filepath_or_buffer, kwds)\u001b[0m\n\u001b[0;32m    602\u001b[0m _validate_names(kwds\u001b[38;5;241m.\u001b[39mget(\u001b[38;5;124m\"\u001b[39m\u001b[38;5;124mnames\u001b[39m\u001b[38;5;124m\"\u001b[39m, \u001b[38;5;28;01mNone\u001b[39;00m))\n\u001b[0;32m    604\u001b[0m \u001b[38;5;66;03m# Create the parser.\u001b[39;00m\n\u001b[1;32m--> 605\u001b[0m parser \u001b[38;5;241m=\u001b[39m \u001b[43mTextFileReader\u001b[49m\u001b[43m(\u001b[49m\u001b[43mfilepath_or_buffer\u001b[49m\u001b[43m,\u001b[49m\u001b[43m \u001b[49m\u001b[38;5;241;43m*\u001b[39;49m\u001b[38;5;241;43m*\u001b[39;49m\u001b[43mkwds\u001b[49m\u001b[43m)\u001b[49m\n\u001b[0;32m    607\u001b[0m \u001b[38;5;28;01mif\u001b[39;00m chunksize \u001b[38;5;129;01mor\u001b[39;00m iterator:\n\u001b[0;32m    608\u001b[0m     \u001b[38;5;28;01mreturn\u001b[39;00m parser\n",
      "File \u001b[1;32mc:\\Users\\alyss\\.conda\\envs\\MP3Seq\\Lib\\site-packages\\pandas\\io\\parsers\\readers.py:1442\u001b[0m, in \u001b[0;36mTextFileReader.__init__\u001b[1;34m(self, f, engine, **kwds)\u001b[0m\n\u001b[0;32m   1439\u001b[0m     \u001b[38;5;28mself\u001b[39m\u001b[38;5;241m.\u001b[39moptions[\u001b[38;5;124m\"\u001b[39m\u001b[38;5;124mhas_index_names\u001b[39m\u001b[38;5;124m\"\u001b[39m] \u001b[38;5;241m=\u001b[39m kwds[\u001b[38;5;124m\"\u001b[39m\u001b[38;5;124mhas_index_names\u001b[39m\u001b[38;5;124m\"\u001b[39m]\n\u001b[0;32m   1441\u001b[0m \u001b[38;5;28mself\u001b[39m\u001b[38;5;241m.\u001b[39mhandles: IOHandles \u001b[38;5;241m|\u001b[39m \u001b[38;5;28;01mNone\u001b[39;00m \u001b[38;5;241m=\u001b[39m \u001b[38;5;28;01mNone\u001b[39;00m\n\u001b[1;32m-> 1442\u001b[0m \u001b[38;5;28mself\u001b[39m\u001b[38;5;241m.\u001b[39m_engine \u001b[38;5;241m=\u001b[39m \u001b[38;5;28;43mself\u001b[39;49m\u001b[38;5;241;43m.\u001b[39;49m\u001b[43m_make_engine\u001b[49m\u001b[43m(\u001b[49m\u001b[43mf\u001b[49m\u001b[43m,\u001b[49m\u001b[43m \u001b[49m\u001b[38;5;28;43mself\u001b[39;49m\u001b[38;5;241;43m.\u001b[39;49m\u001b[43mengine\u001b[49m\u001b[43m)\u001b[49m\n",
      "File \u001b[1;32mc:\\Users\\alyss\\.conda\\envs\\MP3Seq\\Lib\\site-packages\\pandas\\io\\parsers\\readers.py:1735\u001b[0m, in \u001b[0;36mTextFileReader._make_engine\u001b[1;34m(self, f, engine)\u001b[0m\n\u001b[0;32m   1733\u001b[0m     \u001b[38;5;28;01mif\u001b[39;00m \u001b[38;5;124m\"\u001b[39m\u001b[38;5;124mb\u001b[39m\u001b[38;5;124m\"\u001b[39m \u001b[38;5;129;01mnot\u001b[39;00m \u001b[38;5;129;01min\u001b[39;00m mode:\n\u001b[0;32m   1734\u001b[0m         mode \u001b[38;5;241m+\u001b[39m\u001b[38;5;241m=\u001b[39m \u001b[38;5;124m\"\u001b[39m\u001b[38;5;124mb\u001b[39m\u001b[38;5;124m\"\u001b[39m\n\u001b[1;32m-> 1735\u001b[0m \u001b[38;5;28mself\u001b[39m\u001b[38;5;241m.\u001b[39mhandles \u001b[38;5;241m=\u001b[39m \u001b[43mget_handle\u001b[49m\u001b[43m(\u001b[49m\n\u001b[0;32m   1736\u001b[0m \u001b[43m    \u001b[49m\u001b[43mf\u001b[49m\u001b[43m,\u001b[49m\n\u001b[0;32m   1737\u001b[0m \u001b[43m    \u001b[49m\u001b[43mmode\u001b[49m\u001b[43m,\u001b[49m\n\u001b[0;32m   1738\u001b[0m \u001b[43m    \u001b[49m\u001b[43mencoding\u001b[49m\u001b[38;5;241;43m=\u001b[39;49m\u001b[38;5;28;43mself\u001b[39;49m\u001b[38;5;241;43m.\u001b[39;49m\u001b[43moptions\u001b[49m\u001b[38;5;241;43m.\u001b[39;49m\u001b[43mget\u001b[49m\u001b[43m(\u001b[49m\u001b[38;5;124;43m\"\u001b[39;49m\u001b[38;5;124;43mencoding\u001b[39;49m\u001b[38;5;124;43m\"\u001b[39;49m\u001b[43m,\u001b[49m\u001b[43m \u001b[49m\u001b[38;5;28;43;01mNone\u001b[39;49;00m\u001b[43m)\u001b[49m\u001b[43m,\u001b[49m\n\u001b[0;32m   1739\u001b[0m \u001b[43m    \u001b[49m\u001b[43mcompression\u001b[49m\u001b[38;5;241;43m=\u001b[39;49m\u001b[38;5;28;43mself\u001b[39;49m\u001b[38;5;241;43m.\u001b[39;49m\u001b[43moptions\u001b[49m\u001b[38;5;241;43m.\u001b[39;49m\u001b[43mget\u001b[49m\u001b[43m(\u001b[49m\u001b[38;5;124;43m\"\u001b[39;49m\u001b[38;5;124;43mcompression\u001b[39;49m\u001b[38;5;124;43m\"\u001b[39;49m\u001b[43m,\u001b[49m\u001b[43m \u001b[49m\u001b[38;5;28;43;01mNone\u001b[39;49;00m\u001b[43m)\u001b[49m\u001b[43m,\u001b[49m\n\u001b[0;32m   1740\u001b[0m \u001b[43m    \u001b[49m\u001b[43mmemory_map\u001b[49m\u001b[38;5;241;43m=\u001b[39;49m\u001b[38;5;28;43mself\u001b[39;49m\u001b[38;5;241;43m.\u001b[39;49m\u001b[43moptions\u001b[49m\u001b[38;5;241;43m.\u001b[39;49m\u001b[43mget\u001b[49m\u001b[43m(\u001b[49m\u001b[38;5;124;43m\"\u001b[39;49m\u001b[38;5;124;43mmemory_map\u001b[39;49m\u001b[38;5;124;43m\"\u001b[39;49m\u001b[43m,\u001b[49m\u001b[43m \u001b[49m\u001b[38;5;28;43;01mFalse\u001b[39;49;00m\u001b[43m)\u001b[49m\u001b[43m,\u001b[49m\n\u001b[0;32m   1741\u001b[0m \u001b[43m    \u001b[49m\u001b[43mis_text\u001b[49m\u001b[38;5;241;43m=\u001b[39;49m\u001b[43mis_text\u001b[49m\u001b[43m,\u001b[49m\n\u001b[0;32m   1742\u001b[0m \u001b[43m    \u001b[49m\u001b[43merrors\u001b[49m\u001b[38;5;241;43m=\u001b[39;49m\u001b[38;5;28;43mself\u001b[39;49m\u001b[38;5;241;43m.\u001b[39;49m\u001b[43moptions\u001b[49m\u001b[38;5;241;43m.\u001b[39;49m\u001b[43mget\u001b[49m\u001b[43m(\u001b[49m\u001b[38;5;124;43m\"\u001b[39;49m\u001b[38;5;124;43mencoding_errors\u001b[39;49m\u001b[38;5;124;43m\"\u001b[39;49m\u001b[43m,\u001b[49m\u001b[43m \u001b[49m\u001b[38;5;124;43m\"\u001b[39;49m\u001b[38;5;124;43mstrict\u001b[39;49m\u001b[38;5;124;43m\"\u001b[39;49m\u001b[43m)\u001b[49m\u001b[43m,\u001b[49m\n\u001b[0;32m   1743\u001b[0m \u001b[43m    \u001b[49m\u001b[43mstorage_options\u001b[49m\u001b[38;5;241;43m=\u001b[39;49m\u001b[38;5;28;43mself\u001b[39;49m\u001b[38;5;241;43m.\u001b[39;49m\u001b[43moptions\u001b[49m\u001b[38;5;241;43m.\u001b[39;49m\u001b[43mget\u001b[49m\u001b[43m(\u001b[49m\u001b[38;5;124;43m\"\u001b[39;49m\u001b[38;5;124;43mstorage_options\u001b[39;49m\u001b[38;5;124;43m\"\u001b[39;49m\u001b[43m,\u001b[49m\u001b[43m \u001b[49m\u001b[38;5;28;43;01mNone\u001b[39;49;00m\u001b[43m)\u001b[49m\u001b[43m,\u001b[49m\n\u001b[0;32m   1744\u001b[0m \u001b[43m\u001b[49m\u001b[43m)\u001b[49m\n\u001b[0;32m   1745\u001b[0m \u001b[38;5;28;01massert\u001b[39;00m \u001b[38;5;28mself\u001b[39m\u001b[38;5;241m.\u001b[39mhandles \u001b[38;5;129;01mis\u001b[39;00m \u001b[38;5;129;01mnot\u001b[39;00m \u001b[38;5;28;01mNone\u001b[39;00m\n\u001b[0;32m   1746\u001b[0m f \u001b[38;5;241m=\u001b[39m \u001b[38;5;28mself\u001b[39m\u001b[38;5;241m.\u001b[39mhandles\u001b[38;5;241m.\u001b[39mhandle\n",
      "File \u001b[1;32mc:\\Users\\alyss\\.conda\\envs\\MP3Seq\\Lib\\site-packages\\pandas\\io\\common.py:856\u001b[0m, in \u001b[0;36mget_handle\u001b[1;34m(path_or_buf, mode, encoding, compression, memory_map, is_text, errors, storage_options)\u001b[0m\n\u001b[0;32m    851\u001b[0m \u001b[38;5;28;01melif\u001b[39;00m \u001b[38;5;28misinstance\u001b[39m(handle, \u001b[38;5;28mstr\u001b[39m):\n\u001b[0;32m    852\u001b[0m     \u001b[38;5;66;03m# Check whether the filename is to be opened in binary mode.\u001b[39;00m\n\u001b[0;32m    853\u001b[0m     \u001b[38;5;66;03m# Binary mode does not support 'encoding' and 'newline'.\u001b[39;00m\n\u001b[0;32m    854\u001b[0m     \u001b[38;5;28;01mif\u001b[39;00m ioargs\u001b[38;5;241m.\u001b[39mencoding \u001b[38;5;129;01mand\u001b[39;00m \u001b[38;5;124m\"\u001b[39m\u001b[38;5;124mb\u001b[39m\u001b[38;5;124m\"\u001b[39m \u001b[38;5;129;01mnot\u001b[39;00m \u001b[38;5;129;01min\u001b[39;00m ioargs\u001b[38;5;241m.\u001b[39mmode:\n\u001b[0;32m    855\u001b[0m         \u001b[38;5;66;03m# Encoding\u001b[39;00m\n\u001b[1;32m--> 856\u001b[0m         handle \u001b[38;5;241m=\u001b[39m \u001b[38;5;28;43mopen\u001b[39;49m\u001b[43m(\u001b[49m\n\u001b[0;32m    857\u001b[0m \u001b[43m            \u001b[49m\u001b[43mhandle\u001b[49m\u001b[43m,\u001b[49m\n\u001b[0;32m    858\u001b[0m \u001b[43m            \u001b[49m\u001b[43mioargs\u001b[49m\u001b[38;5;241;43m.\u001b[39;49m\u001b[43mmode\u001b[49m\u001b[43m,\u001b[49m\n\u001b[0;32m    859\u001b[0m \u001b[43m            \u001b[49m\u001b[43mencoding\u001b[49m\u001b[38;5;241;43m=\u001b[39;49m\u001b[43mioargs\u001b[49m\u001b[38;5;241;43m.\u001b[39;49m\u001b[43mencoding\u001b[49m\u001b[43m,\u001b[49m\n\u001b[0;32m    860\u001b[0m \u001b[43m            \u001b[49m\u001b[43merrors\u001b[49m\u001b[38;5;241;43m=\u001b[39;49m\u001b[43merrors\u001b[49m\u001b[43m,\u001b[49m\n\u001b[0;32m    861\u001b[0m \u001b[43m            \u001b[49m\u001b[43mnewline\u001b[49m\u001b[38;5;241;43m=\u001b[39;49m\u001b[38;5;124;43m\"\u001b[39;49m\u001b[38;5;124;43m\"\u001b[39;49m\u001b[43m,\u001b[49m\n\u001b[0;32m    862\u001b[0m \u001b[43m        \u001b[49m\u001b[43m)\u001b[49m\n\u001b[0;32m    863\u001b[0m     \u001b[38;5;28;01melse\u001b[39;00m:\n\u001b[0;32m    864\u001b[0m         \u001b[38;5;66;03m# Binary mode\u001b[39;00m\n\u001b[0;32m    865\u001b[0m         handle \u001b[38;5;241m=\u001b[39m \u001b[38;5;28mopen\u001b[39m(handle, ioargs\u001b[38;5;241m.\u001b[39mmode)\n",
      "\u001b[1;31mFileNotFoundError\u001b[0m: [Errno 2] No such file or directory: './merged_files/l61_comp_3at.csv'"
     ]
    }
   ],
   "source": [
    "\n",
    "trp_diff_times = pd.read_csv(\"./merged_files/l61_comp_3at.csv\")\n",
    "trp_diff_times = trp_diff_times.rename(columns = {'Unnamed: 0': 'PPI'})\n",
    "\n",
    "target_orientations = []\n",
    "target_ppis = []\n",
    "for i in range(1,13,2):\n",
    "    #print (i, i + 1)\n",
    "    target_orientations.append('DBD:Jerala_P' + str(i) + ':AD:Jerala_P' + str(i+1))\n",
    "    target_orientations.append('DBD:Jerala_P' + str(i+1) + ':AD:Jerala_P' + str(i))\n",
    "    ppi_label = ['Jerala_P' + str(i) , 'Jerala_P' + str(i+1) ]\n",
    "    ppi_label.sort()\n",
    "    target_ppis.append(':'.join(ppi_label))\n",
    "\n",
    "    \n",
    "## compare with real values now\n",
    "true_vals = pd.read_csv('local_copy/bft/twist/l61/NICP_invivo-data.csv')\n",
    "#DBD:Jerala_P1:AD:Jerala_P1\n",
    "#true_vals['on_target'] = true_vals.apply(lambda row: abs(row['Peptide1'] - row['Peptide2'])  == 1, axis =1 ) \n",
    "true_vals['str_1'] = true_vals['Peptide1'].apply(lambda x: 'Jerala_P' + str(x))\n",
    "true_vals['str_2'] = true_vals['Peptide2'].apply(lambda x: 'Jerala_P' + str(x))\n",
    "true_vals['PPI'] = 'DBD:' + true_vals['str_2'] + ':AD:' + true_vals['str_1'] #[df.PPI == 'DBD:' + dbd + ':AD:' + ad]\n",
    "true_vals['on_target'] = true_vals.PPI.apply(lambda x: x in target_orientations)\n",
    "print (true_vals.on_target.value_counts())\n",
    "true_vals['log_fa'] = np.log(true_vals['Fold activation'])\n",
    "trp_diff_times = trp_diff_times.merge(true_vals, on = 'PPI')\n",
    "#trp_diff_times[['PPI'] + ashr_cols + list(true_vals.columns)].sort_values(by = 'Fold activation')\n",
    "from scipy import stats\n",
    "print (trp_diff_times.his2mm.min())\n",
    "print (trp_diff_times.his10mm.min())\n",
    "#print (trp_diff_times.trp60.min())\n",
    "\n",
    "print (trp_diff_times[trp_diff_times.his2mm == 0].shape)\n",
    "print (trp_diff_times[trp_diff_times.his10mm == 0].shape)\n",
    "#print (trp_diff_times.trp60.min())\n",
    "print (trp_diff_times[trp_diff_times.his2mm == 0])\n",
    "\n",
    "trp_diff_times = trp_diff_times[(trp_diff_times.his2mm != 0) & (trp_diff_times.his2mm != 0)]\n",
    "\n",
    "#adjust by read count fractions \n",
    "\n",
    "trp_diff_times['his_l61_size_norm_2mm'] = trp_diff_times['his2mm']/trp_diff_times['his2mm'].sum()\n",
    "trp_diff_times['his_l61_size_norm_10mm'] = trp_diff_times['his10mm']/trp_diff_times['his10mm'].sum()\n",
    "trp_diff_times['diff_2_10'] = (trp_diff_times['his_l61_size_norm_10mm'] -trp_diff_times['his_l61_size_norm_2mm'])/trp_diff_times['his_l61_size_norm_2mm']"
   ]
  },
  {
   "cell_type": "code",
   "execution_count": 12,
   "id": "7c9e6aaa-e9e8-4fcd-ab88-837b42c2c64d",
   "metadata": {},
   "outputs": [
    {
     "name": "stdout",
     "output_type": "stream",
     "text": [
      "[Text(-5.0, 0, '−5'), Text(0.0, 0, '0'), Text(5.0, 0, '5'), Text(10.0, 0, '10')]\n",
      "[Text(0, 0.0, '0.0'), Text(0, 0.5, '0.5'), Text(0, 1.0, '1.0')]\n"
     ]
    },
    {
     "data": {
      "image/png": "[encoded data removed]",
      "text/plain": [
       "<Figure size 196.25x90 with 1 Axes>"
      ]
     },
     "metadata": {
      "needs_background": "light"
     },
     "output_type": "display_data"
    },
    {
     "name": "stdout",
     "output_type": "stream",
     "text": [
      "[Text(-0.002, 0, '−0.002'), Text(0.0, 0, '0.000'), Text(0.002, 0, '0.002'), Text(0.004, 0, '0.004'), Text(0.006, 0, '0.006'), Text(0.008, 0, '0.008'), Text(0.01, 0, '0.010'), Text(0.012, 0, '0.012'), Text(0.014, 0, '0.014'), Text(0.016, 0, '0.016')]\n",
      "[Text(0, -0.005, '−0.005'), Text(0, 0.0, '0.000'), Text(0, 0.005, '0.005'), Text(0, 0.009999999999999998, '0.010'), Text(0, 0.015, '0.015'), Text(0, 0.02, '0.020'), Text(0, 0.024999999999999998, '0.025'), Text(0, 0.030000000000000002, '0.030'), Text(0, 0.035, '0.035'), Text(0, 0.04, '0.040')]\n"
     ]
    },
    {
     "name": "stderr",
     "output_type": "stream",
     "text": [
      "/home/lafleur1/anaconda3/envs/dimsum/lib/python3.10/site-packages/seaborn/_decorators.py:36: FutureWarning: Pass the following variables as keyword args: x, y. From version 0.12, the only valid positional argument will be `data`, and passing other arguments without an explicit keyword will result in an error or misinterpretation.\n",
      "  warnings.warn(\n"
     ]
    },
    {
     "data": {
      "image/png": "[encoded data removed]",
      "text/plain": [
       "<Figure size 108x108 with 1 Axes>"
      ]
     },
     "metadata": {
      "needs_background": "light"
     },
     "output_type": "display_data"
    },
    {
     "name": "stderr",
     "output_type": "stream",
     "text": [
      "/home/lafleur1/anaconda3/envs/dimsum/lib/python3.10/site-packages/seaborn/_decorators.py:36: FutureWarning: Pass the following variables as keyword args: x, y. From version 0.12, the only valid positional argument will be `data`, and passing other arguments without an explicit keyword will result in an error or misinterpretation.\n",
      "  warnings.warn(\n",
      "/home/lafleur1/anaconda3/envs/dimsum/lib/python3.10/site-packages/seaborn/_decorators.py:36: FutureWarning: Pass the following variables as keyword args: x, y. From version 0.12, the only valid positional argument will be `data`, and passing other arguments without an explicit keyword will result in an error or misinterpretation.\n",
      "  warnings.warn(\n"
     ]
    },
    {
     "name": "stdout",
     "output_type": "stream",
     "text": [
      "[Text(-0.025, 0, '−0.025'), Text(0.0, 0, '0.000'), Text(0.025, 0, '0.025'), Text(0.05000000000000001, 0, '0.050'), Text(0.07500000000000001, 0, '0.075'), Text(0.1, 0, '0.100'), Text(0.12500000000000003, 0, '0.125'), Text(0.15000000000000002, 0, '0.150'), Text(0.17500000000000002, 0, '0.175'), Text(0, 0, '')]\n",
      "[Text(0, -0.05, '−0.05'), Text(0, 0.0, '0.00'), Text(0, 0.05, '0.05'), Text(0, 0.10000000000000002, '0.10'), Text(0, 0.15000000000000002, '0.15'), Text(0, 0.2, '0.20')]\n"
     ]
    },
    {
     "data": {
      "image/png": "[encoded data removed]",
      "text/plain": [
       "<Figure size 108x108 with 1 Axes>"
      ]
     },
     "metadata": {
      "needs_background": "light"
     },
     "output_type": "display_data"
    },
    {
     "name": "stdout",
     "output_type": "stream",
     "text": [
      "his_l61_size_norm_10mm\n",
      "0.6516118465469496\n",
      "0.8998779036835802\n",
      "------------------------\n"
     ]
    }
   ],
   "source": [
    "sns.displot( data = trp_diff_times, x = 'diff_2_10', hue=\"on_target\", kind=\"kde\",height=1.25 , aspect = 1.5)\n",
    "#ax.plot(ax.get_xlim(), ax.get_ylim(), ls=\"--\", c=\".3\")\n",
    "plt.tight_layout()\n",
    "ax.set_xlim(left = 0)\n",
    "ax.set_ylim(bottom = 0)\n",
    "locsx, labels = plt.xticks()\n",
    "print (labels)\n",
    "#plt.xticks([0,0.01,0.02], [])\n",
    "locsy, labels = plt.yticks()\n",
    "print (labels)\n",
    "#plt.yticks([0,0.01,0.02], [])\n",
    "plt.xlabel(\"\")\n",
    "plt.ylabel(\"\")\n",
    "#resize \n",
    "plt.savefig('./figures/' 'fraction_change_2mm.svg', dpi = 300)\n",
    "\n",
    "plt.show()\n",
    "    \n",
    "\n",
    "on_targets = \"#ffcc00ff\"\n",
    "off_targets = \"#a02c2c\"\n",
    "\n",
    "on_target_df = trp_diff_times[trp_diff_times.on_target == True]\n",
    "off_target_df = trp_diff_times[trp_diff_times.on_target == False]\n",
    "\n",
    "for other in ['his_l61_size_norm_10mm']:#, 'trp_l61_size_norm_60']:#', 'log2_enrich_l62', 'log2_enrich_l67', 'avg_log_no_adj_counts']:\n",
    "\n",
    "    fig, ax = plt.subplots()\n",
    "    sns.scatterplot(off_target_df['his_l61_size_norm_2mm'], off_target_df[other],color = off_targets, alpha = 0.5,s = 20)\n",
    "    #sns.scatterplot(on_target_df[other], on_target_df['his_l61_size_norm_2mm'],color = on_targets,s = 10, alpha = 0.75)#, alpha = 0.75))#, alpha = 0.75)\n",
    "    #plt.xlim(left=0)\n",
    "    #ax.plot([0,ax.get_xlim()[1]],[0,ax.get_xlim()[1]], ls=\"--\", c=\".3\")\n",
    "    plt.tight_layout()\n",
    "    ax.set_xlim(left = 0)\n",
    "    ax.set_ylim(bottom = 0)\n",
    "    locsx, labels = plt.xticks()\n",
    "    print (labels)\n",
    "    #plt.xticks([0,0.01,0.02], [])\n",
    "    locsy, labels = plt.yticks()\n",
    "    print (labels)\n",
    "    #plt.yticks([0,0.01,0.02], [])\n",
    "    plt.xlabel(\"\")\n",
    "    plt.ylabel(\"\")\n",
    "    ax.plot([0,ax.get_xlim()[1]],[0,ax.get_xlim()[1]], ls=\"--\", c=\".3\", linewidth = 1)\n",
    "    #ax.plot([1/144,1/144],[0,ax.get_ylim()[1]], ls=\"--\", c=\"red\", linewidth = 1)\n",
    "    #ax.plot([0,ax.get_ylim()[1]], [1/144,1/144], ls=\"--\", c=\"red\", linewidth = 1)\n",
    "    #resize \n",
    "    fig.set_size_inches(1.5, 1.5)\n",
    "    plt.savefig('./figures/' + other + 'vs_2mm_norm_off.svg', dpi = 300)\n",
    "    \n",
    "    plt.show()\n",
    "    \n",
    "    \n",
    "    fig, ax = plt.subplots()\n",
    "    sns.scatterplot(off_target_df['his_l61_size_norm_2mm'], off_target_df[other],color = off_targets, alpha = 0.5,s = 20)\n",
    "\n",
    "    #sns.scatterplot(off_target_df['his_l61_size_norm_2mm'], off_target_df[other],color = off_targets, alpha = 0.5,s = 10)\n",
    "    sns.scatterplot(on_target_df['his_l61_size_norm_2mm'], on_target_df[other],color = on_targets,s =20, alpha = 0.75)#, alpha = 0.75))#, alpha = 0.75)\n",
    "    #plt.xlim(left=0)\n",
    "    \n",
    "    #ax.plot([0,, ax.get_ylim(), ls=\"--\", c=\".3\")\n",
    "    plt.tight_layout()\n",
    "    ax.set_xlim(left = 0)\n",
    "    ax.set_ylim(bottom = 0)\n",
    "    locsx, labels = plt.xticks()\n",
    "    print (labels)\n",
    "    #plt.xticks([0,0.01,0.02], [])\n",
    "    locsy, labels = plt.yticks()\n",
    "    print (labels)\n",
    "    #plt.yticks([0,0.01,0.02], [])\n",
    "    plt.xlabel(\"\")\n",
    "    plt.ylabel(\"\")\n",
    "    ax.plot([0,ax.get_xlim()[1]],[0,ax.get_xlim()[1]], ls=\"--\", c=\".3\", linewidth = 1)\n",
    "    #ax.plot([1/144,1/144],[0,ax.get_ylim()[1]], ls=\"--\", c=\"red\", linewidth = 1)\n",
    "    #ax.plot([0,ax.get_ylim()[1]], [1/144,1/144], ls=\"--\", c=\"red\", linewidth = 1)\n",
    "    #resize \n",
    "    fig.set_size_inches(1.5, 1.5)\n",
    "    plt.savefig('./figures/' + other + 'vs_2mm_norm_on.svg', dpi = 300)\n",
    "    \n",
    "    plt.show()\n",
    "\n",
    "    print (other)\n",
    "    print (stats.pearsonr(trp_diff_times['his_l61_size_norm_2mm'],\n",
    "                             trp_diff_times[other])[0]**2)\n",
    "    print (stats.spearmanr(trp_diff_times['his_l61_size_norm_2mm'],\n",
    "                             trp_diff_times[other])[0])\n",
    "    print ('------------------------')\n",
    "\n",
    "\n",
    "\n"
   ]
  },
  {
   "cell_type": "code",
   "execution_count": 13,
   "id": "268a1bf9-dc64-4bab-b54f-1935e95568d9",
   "metadata": {},
   "outputs": [
    {
     "name": "stdout",
     "output_type": "stream",
     "text": [
      "False    132\n",
      "True      12\n",
      "Name: on_target, dtype: int64\n",
      "2\n",
      "2\n",
      "(0, 10)\n",
      "(0, 10)\n",
      "Empty DataFrame\n",
      "Columns: [PPI, his2mm, his10mm, Peptide1, Peptide2, Fold activation, str_1, str_2, on_target, log_fa]\n",
      "Index: []\n"
     ]
    }
   ],
   "source": [
    "\n",
    "trp_diff_times = pd.read_csv(\"./merged_files/l62_comp_3at.csv\")\n",
    "trp_diff_times = trp_diff_times.rename(columns = {'Unnamed: 0': 'PPI'})\n",
    "\n",
    "target_orientations = []\n",
    "target_ppis = []\n",
    "for i in range(1,13,2):\n",
    "    #print (i, i + 1)\n",
    "    target_orientations.append('DBD:Jerala_P' + str(i) + ':AD:Jerala_P' + str(i+1))\n",
    "    target_orientations.append('DBD:Jerala_P' + str(i+1) + ':AD:Jerala_P' + str(i))\n",
    "    ppi_label = ['Jerala_P' + str(i) , 'Jerala_P' + str(i+1) ]\n",
    "    ppi_label.sort()\n",
    "    target_ppis.append(':'.join(ppi_label))\n",
    "\n",
    "    \n",
    "## compare with real values now\n",
    "true_vals = pd.read_csv('local_copy/bft/twist/l61/NICP_invivo-data.csv')\n",
    "#DBD:Jerala_P1:AD:Jerala_P1\n",
    "#true_vals['on_target'] = true_vals.apply(lambda row: abs(row['Peptide1'] - row['Peptide2'])  == 1, axis =1 ) \n",
    "true_vals['str_1'] = true_vals['Peptide1'].apply(lambda x: 'Jerala_P' + str(x))\n",
    "true_vals['str_2'] = true_vals['Peptide2'].apply(lambda x: 'Jerala_P' + str(x))\n",
    "true_vals['PPI'] = 'DBD:' + true_vals['str_2'] + ':AD:' + true_vals['str_1'] #[df.PPI == 'DBD:' + dbd + ':AD:' + ad]\n",
    "true_vals['on_target'] = true_vals.PPI.apply(lambda x: x in target_orientations)\n",
    "print (true_vals.on_target.value_counts())\n",
    "true_vals['log_fa'] = np.log(true_vals['Fold activation'])\n",
    "trp_diff_times = trp_diff_times.merge(true_vals, on = 'PPI')\n",
    "#trp_diff_times[['PPI'] + ashr_cols + list(true_vals.columns)].sort_values(by = 'Fold activation')\n",
    "from scipy import stats\n",
    "print (trp_diff_times.his2mm.min())\n",
    "print (trp_diff_times.his10mm.min())\n",
    "#print (trp_diff_times.trp60.min())\n",
    "\n",
    "print (trp_diff_times[trp_diff_times.his2mm == 0].shape)\n",
    "print (trp_diff_times[trp_diff_times.his10mm == 0].shape)\n",
    "#print (trp_diff_times.trp60.min())\n",
    "print (trp_diff_times[trp_diff_times.his2mm == 0])\n",
    "\n",
    "trp_diff_times = trp_diff_times[(trp_diff_times.his2mm != 0) & (trp_diff_times.his2mm != 0)]\n",
    "\n",
    "#adjust by read count fractions \n",
    "\n",
    "trp_diff_times['his_l61_size_norm_2mm'] = trp_diff_times['his2mm']/trp_diff_times['his2mm'].sum()\n",
    "trp_diff_times['his_l61_size_norm_10mm'] = trp_diff_times['his10mm']/trp_diff_times['his10mm'].sum()\n",
    "trp_diff_times['diff_2_10'] = (trp_diff_times['his_l61_size_norm_10mm'] -trp_diff_times['his_l61_size_norm_2mm'])/trp_diff_times['his_l61_size_norm_2mm']"
   ]
  },
  {
   "cell_type": "code",
   "execution_count": 14,
   "id": "28c2e11c-689f-471e-8e50-77f9a3c9adb1",
   "metadata": {},
   "outputs": [
    {
     "name": "stdout",
     "output_type": "stream",
     "text": [
      "[Text(-2.5, 0, '−2.5'), Text(0.0, 0, '0.0'), Text(2.5, 0, '2.5'), Text(5.0, 0, '5.0'), Text(0, 0, ''), Text(0, 0, '')]\n",
      "[Text(0, 0.0, '0'), Text(0, 1.0, '1'), Text(0, 2.0, '2')]\n"
     ]
    },
    {
     "data": {
      "image/png": "[encoded data removed]",
      "text/plain": [
       "<Figure size 196.25x90 with 1 Axes>"
      ]
     },
     "metadata": {
      "needs_background": "light"
     },
     "output_type": "display_data"
    },
    {
     "name": "stdout",
     "output_type": "stream",
     "text": [
      "[Text(-0.005, 0, '−0.005'), Text(0.0, 0, '0.000'), Text(0.005, 0, '0.005'), Text(0.009999999999999998, 0, '0.010'), Text(0.015, 0, '0.015'), Text(0.02, 0, '0.020'), Text(0.024999999999999998, 0, '0.025'), Text(0.030000000000000002, 0, '0.030'), Text(0.035, 0, '0.035')]\n",
      "[Text(0, -0.02, '−0.02'), Text(0, 0.0, '0.00'), Text(0, 0.02, '0.02'), Text(0, 0.039999999999999994, '0.04'), Text(0, 0.06, '0.06'), Text(0, 0.08, '0.08'), Text(0, 0.09999999999999999, '0.10'), Text(0, 0.12000000000000001, '0.12'), Text(0, 0.14, '0.14'), Text(0, 0.16, '0.16')]\n"
     ]
    },
    {
     "name": "stderr",
     "output_type": "stream",
     "text": [
      "/home/lafleur1/anaconda3/envs/dimsum/lib/python3.10/site-packages/seaborn/_decorators.py:36: FutureWarning: Pass the following variables as keyword args: x, y. From version 0.12, the only valid positional argument will be `data`, and passing other arguments without an explicit keyword will result in an error or misinterpretation.\n",
      "  warnings.warn(\n"
     ]
    },
    {
     "data": {
      "image/png": "[encoded data removed]",
      "text/plain": [
       "<Figure size 108x108 with 1 Axes>"
      ]
     },
     "metadata": {
      "needs_background": "light"
     },
     "output_type": "display_data"
    },
    {
     "name": "stderr",
     "output_type": "stream",
     "text": [
      "/home/lafleur1/anaconda3/envs/dimsum/lib/python3.10/site-packages/seaborn/_decorators.py:36: FutureWarning: Pass the following variables as keyword args: x, y. From version 0.12, the only valid positional argument will be `data`, and passing other arguments without an explicit keyword will result in an error or misinterpretation.\n",
      "  warnings.warn(\n",
      "/home/lafleur1/anaconda3/envs/dimsum/lib/python3.10/site-packages/seaborn/_decorators.py:36: FutureWarning: Pass the following variables as keyword args: x, y. From version 0.12, the only valid positional argument will be `data`, and passing other arguments without an explicit keyword will result in an error or misinterpretation.\n",
      "  warnings.warn(\n"
     ]
    },
    {
     "name": "stdout",
     "output_type": "stream",
     "text": [
      "[Text(-0.025, 0, '−0.025'), Text(0.0, 0, '0.000'), Text(0.025, 0, '0.025'), Text(0.05000000000000001, 0, '0.050'), Text(0.07500000000000001, 0, '0.075'), Text(0.1, 0, '0.100'), Text(0.12500000000000003, 0, '0.125'), Text(0.15000000000000002, 0, '0.150'), Text(0.17500000000000002, 0, '0.175'), Text(0.2, 0, '0.200')]\n",
      "[Text(0, -0.05, '−0.05'), Text(0, 0.0, '0.00'), Text(0, 0.05, '0.05'), Text(0, 0.10000000000000002, '0.10'), Text(0, 0.15000000000000002, '0.15'), Text(0, 0.2, '0.20'), Text(0, 0.25000000000000006, '0.25')]\n"
     ]
    },
    {
     "data": {
      "image/png": "[encoded data removed]",
      "text/plain": [
       "<Figure size 108x108 with 1 Axes>"
      ]
     },
     "metadata": {
      "needs_background": "light"
     },
     "output_type": "display_data"
    },
    {
     "name": "stdout",
     "output_type": "stream",
     "text": [
      "his_l61_size_norm_10mm\n",
      "0.6868000550015106\n",
      "0.911847577068479\n",
      "------------------------\n"
     ]
    }
   ],
   "source": [
    "sns.displot( data = trp_diff_times, x = 'diff_2_10', hue=\"on_target\", kind=\"kde\",height=1.25 , aspect = 1.5)\n",
    "#ax.plot(ax.get_xlim(), ax.get_ylim(), ls=\"--\", c=\".3\")\n",
    "plt.tight_layout()\n",
    "ax.set_xlim(left = 0)\n",
    "ax.set_ylim(bottom = 0)\n",
    "locsx, labels = plt.xticks()\n",
    "print (labels)\n",
    "#plt.xticks([0,0.01,0.02], [])\n",
    "locsy, labels = plt.yticks()\n",
    "print (labels)\n",
    "#plt.yticks([0,0.01,0.02], [])\n",
    "plt.xlabel(\"\")\n",
    "plt.ylabel(\"\")\n",
    "#resize \n",
    "plt.savefig('./figures/' 'fraction_change_2mm_l62.svg', dpi = 300)\n",
    "\n",
    "plt.show()\n",
    "    \n",
    "\n",
    "on_targets = \"#ffcc00ff\"\n",
    "off_targets = \"#a02c2c\"\n",
    "\n",
    "on_target_df = trp_diff_times[trp_diff_times.on_target == True]\n",
    "off_target_df = trp_diff_times[trp_diff_times.on_target == False]\n",
    "\n",
    "for other in ['his_l61_size_norm_10mm']:#, 'trp_l61_size_norm_60']:#', 'log2_enrich_l62', 'log2_enrich_l67', 'avg_log_no_adj_counts']:\n",
    "\n",
    "    fig, ax = plt.subplots()\n",
    "    sns.scatterplot(off_target_df['his_l61_size_norm_2mm'], off_target_df[other],color = off_targets, alpha = 0.5,s = 20)\n",
    "    #sns.scatterplot(on_target_df[other], on_target_df['his_l61_size_norm_2mm'],color = on_targets,s = 10, alpha = 0.75)#, alpha = 0.75))#, alpha = 0.75)\n",
    "    #plt.xlim(left=0)\n",
    "    #ax.plot([0,ax.get_xlim()[1]],[0,ax.get_xlim()[1]], ls=\"--\", c=\".3\")\n",
    "    plt.tight_layout()\n",
    "    ax.set_xlim(left = 0)\n",
    "    ax.set_ylim(bottom = 0)\n",
    "    locsx, labels = plt.xticks()\n",
    "    print (labels)\n",
    "    #plt.xticks([0,0.01,0.02], [])\n",
    "    locsy, labels = plt.yticks()\n",
    "    print (labels)\n",
    "    #plt.yticks([0,0.01,0.02], [])\n",
    "    plt.xlabel(\"\")\n",
    "    plt.ylabel(\"\")\n",
    "    ax.plot([0,ax.get_xlim()[1]],[0,ax.get_xlim()[1]], ls=\"--\", c=\".3\")\n",
    "    #resize \n",
    "    fig.set_size_inches(1.5, 1.5)\n",
    "    plt.savefig('./figures/' + other + 'vs_2mm_norm_off_l62.svg', dpi = 300)\n",
    "    \n",
    "    plt.show()\n",
    "    \n",
    "    \n",
    "    fig, ax = plt.subplots()\n",
    "    sns.scatterplot(off_target_df['his_l61_size_norm_2mm'], off_target_df[other],color = off_targets, alpha = 0.5,s = 20)\n",
    "    #sns.scatterplot(off_target_df['his_l61_size_norm_2mm'], off_target_df[other],color = off_targets, alpha = 0.5,s = 10)\n",
    "    sns.scatterplot(on_target_df['his_l61_size_norm_2mm'], on_target_df[other],color = on_targets,s =20, alpha = 0.75)#, alpha = 0.75))#, alpha = 0.75)\n",
    "    #plt.xlim(left=0)\n",
    "    \n",
    "    #ax.plot([0,, ax.get_ylim(), ls=\"--\", c=\".3\")\n",
    "    plt.tight_layout()\n",
    "    ax.set_xlim(left = 0)\n",
    "    ax.set_ylim(bottom = 0)\n",
    "    locsx, labels = plt.xticks()\n",
    "    print (labels)\n",
    "    #plt.xticks([0,0.01,0.02], [])\n",
    "    locsy, labels = plt.yticks()\n",
    "    print (labels)\n",
    "    #plt.yticks([0,0.01,0.02], [])\n",
    "    plt.xlabel(\"\")\n",
    "    plt.ylabel(\"\")\n",
    "    ax.plot([0,ax.get_xlim()[1]],[0,ax.get_xlim()[1]], ls=\"--\", c=\".3\", linewidth = 1)\n",
    "    #ax.plot([1/144,1/144],[0,ax.get_ylim()[1]], ls=\"--\", c=\"red\", linewidth = 1)\n",
    "    #ax.plot([0,ax.get_ylim()[1]], [1/144,1/144], ls=\"--\", c=\"red\", linewidth = 1)\n",
    "    #resize \n",
    "    fig.set_size_inches(1.5, 1.5)\n",
    "    plt.savefig('./figures/' + other + 'vs_2mm_norm_on_l62.svg', dpi = 300)\n",
    "    \n",
    "    plt.show()\n",
    "\n",
    "    print (other)\n",
    "    print (stats.pearsonr(trp_diff_times['his_l61_size_norm_2mm'],\n",
    "                             trp_diff_times[other])[0]**2)\n",
    "    print (stats.spearmanr(trp_diff_times['his_l61_size_norm_2mm'],\n",
    "                             trp_diff_times[other])[0])\n",
    "    print ('------------------------')\n",
    "\n",
    "\n",
    "\n"
   ]
  },
  {
   "cell_type": "code",
   "execution_count": 112,
   "id": "73b93c18-43b4-4f39-b3e7-14ad27830734",
   "metadata": {},
   "outputs": [
    {
     "name": "stdout",
     "output_type": "stream",
     "text": [
      "False    132\n",
      "True      12\n",
      "Name: on_target, dtype: int64\n"
     ]
    },
    {
     "data": {
      "text/plain": [
       "<Figure size 432x288 with 0 Axes>"
      ]
     },
     "metadata": {},
     "output_type": "display_data"
    },
    {
     "data": {
      "image/png": "[encoded data removed]",
      "text/plain": [
       "<Figure size 216x216 with 2 Axes>"
      ]
     },
     "metadata": {
      "needs_background": "light"
     },
     "output_type": "display_data"
    },
    {
     "data": {
      "image/png": "[encoded data removed]",
      "text/plain": [
       "<Figure size 216x216 with 2 Axes>"
      ]
     },
     "metadata": {
      "needs_background": "light"
     },
     "output_type": "display_data"
    }
   ],
   "source": [
    "#differences in lfc for 2mM and 10mM\n",
    "\n",
    "\n",
    "\n",
    "library = \"l61_l62_10mM\"\n",
    "homo_out_name = \"./merged_files/\" + library + \"_psuedorep_w_homo_comps.csv\"\n",
    "hetero_out_name = \"./merged_files/\" + library + \"_psuedorep_wo_homo_comps.csv\"\n",
    "\n",
    "drive_location = \"./local_copy/bft/twist/l61/\"\n",
    "his_counts = pd.read_csv(drive_location + 'L61_10mM_3AT_HIS_table.csv')\n",
    "his_counts = his_counts.rename(columns= {'Binder1':'Binder'})\n",
    "binders = his_counts.Binder.to_list() #S7B is missing from the table\n",
    "vals_counts = ['PPI', 'count_DBDAD_trp1', 'count_ADDBD_trp1','count_DBDAD_his1', 'count_ADDBD_his1']\n",
    "\n",
    "flat_df = pd.read_csv('./merged_files/l61_l62_10mM_all_flat.csv')\n",
    "\n",
    "vals_counts = ['trp1_l61', 'trp1_l62', 'his1_l61', 'his1_l62']\n",
    "for vc in vals_counts:\n",
    "    flat_df.loc[flat_df[vc]  == 0, vc] = None\n",
    "\n",
    "flat_df['lin_enrich_l61'] = calc_lin_enrichment(flat_df['trp1_l61'], flat_df['his1_l61'])\n",
    "flat_df['log_enrich_l61'] = calc_log_enrichment(flat_df['lin_enrich_l61'])#, deseq2_results['his1'])\n",
    "flat_df['log2_enrich_l61'] = calc_log2_enrichment(flat_df['lin_enrich_l61'])#, deseq2_results['his1'])\n",
    "\n",
    "flat_df['lin_enrich_l62'] = calc_lin_enrichment(flat_df['trp1_l62'], flat_df['his1_l62'])\n",
    "flat_df['log_enrich_l62'] = calc_log_enrichment(flat_df['lin_enrich_l62'])#, deseq2_results['his1'])\n",
    "flat_df['log2_enrich_l62'] = calc_log2_enrichment(flat_df['lin_enrich_l62'])#, deseq2_results['his1'])\n",
    "\n",
    "flat_df['trp_l61_size_norm'] = flat_df['trp1_l61'].fillna(flat_df['trp1_l61'].min())/flat_df['trp1_l61'].fillna(flat_df['trp1_l61'].min()).sum()\n",
    "flat_df['his_l61_size_norm'] = flat_df['his1_l61'].fillna(flat_df['his1_l61'].min())/flat_df['his1_l61'].fillna(flat_df['his1_l61'].min()).sum()\n",
    "\n",
    "flat_df['trp_l62_size_norm'] = flat_df['trp1_l62'].fillna(flat_df['trp1_l62'].min())/flat_df['trp1_l62'].fillna(flat_df['trp1_l62'].min()).sum()\n",
    "flat_df['his_l62_size_norm'] = flat_df['his1_l62'].fillna(flat_df['his1_l62'].min())/flat_df['his1_l62'].fillna(flat_df['his1_l62'].min()).sum()\n",
    "\n",
    "flat_df['detected_trps'] = flat_df['trp1_l61'].isna().astype(int) + flat_df['trp1_l62'].isna().astype(int) \n",
    "flat_df['detected_hiss'] = flat_df['his1_l61'].isna().astype(int) + flat_df['his1_l62'].isna().astype(int)\n",
    "\n",
    "flat_df['sum_trp'] = (1/2) * (flat_df['trp_l61_size_norm'] + flat_df['trp_l62_size_norm'])\n",
    "flat_df['sum_his'] = (1/2) * (flat_df['his_l61_size_norm'] + flat_df['his_l62_size_norm'])\n",
    "\n",
    "flat_df['avg_lin_adj_counts'] = flat_df['sum_his']/flat_df['sum_trp']\n",
    "flat_df['avg_log_adj_counts'] = calc_log_enrichment(flat_df['avg_lin_adj_counts'])\n",
    "flat_df['avg_log2_adj_counts'] = calc_log2_enrichment(flat_df['avg_lin_adj_counts'])\n",
    "\n",
    "flat_df['avg_lin_no_adj_counts'] = 0.5 * (flat_df['lin_enrich_l61'] + flat_df['lin_enrich_l62'])\n",
    "flat_df['avg_log_no_adj_counts'] = calc_log_enrichment(flat_df['avg_lin_no_adj_counts'])\n",
    "flat_df['avg_log2_no_adj_counts'] = calc_log2_enrichment(flat_df['avg_lin_no_adj_counts'])\n",
    "\n",
    "#min/max scaled readcounts for trp \n",
    "flat_df['trp_l61_size_norm_min_max'] = (flat_df['trp_l61_size_norm'] - flat_df['trp_l61_size_norm'].min()) / (flat_df['trp_l61_size_norm'].max() - flat_df['trp_l61_size_norm'].min())\n",
    "flat_df['trp_l62_size_norm_min_max'] = (flat_df['trp_l62_size_norm'] - flat_df['trp_l62_size_norm'].min()) / (flat_df['trp_l62_size_norm'].max() - flat_df['trp_l62_size_norm'].min())\n",
    "flat_df['trp_normed_combo'] = 0.5 * ( flat_df['trp_l61_size_norm'] + flat_df['trp_l62_size_norm_min_max'])\n",
    "\n",
    "#heatmap of deseq2 values \n",
    "#single val correlations \n",
    "\n",
    "#examining flat interaction first\n",
    "deseq2_results = pd.read_csv('./merged_files/l61_l62_10mM_flat_comps.csv')\n",
    "deseq2_results = deseq2_results.rename(columns = {'Unnamed: 0': 'PPI'})\n",
    "deseq2_results['sig_p'] = deseq2_results['ashr_padj_HIS_TRP'].isna()\n",
    "\n",
    "\n",
    "deseq2_results['ashr_log2FoldChange_HIS_TRP2'] = deseq2_results['ashr_log2FoldChange_HIS_TRP']\n",
    "deseq2_results.loc[deseq2_results['sig_p']  == True, 'ashr_log2FoldChange_HIS_TRP2'] = None\n",
    "\n",
    "combo = flat_df.merge(deseq2_results[['PPI', 'ashr_log2FoldChange_HIS_TRP', 'ashr_padj_HIS_TRP', 'ashr_lfcSE_HIS_TRP']], on = 'PPI')\n",
    "\n",
    "#jerala analysis section \n",
    "#loading true values here....checking Jerala correlations first \n",
    "target_orientations = []\n",
    "target_ppis = []\n",
    "for i in range(1,13,2):\n",
    "    #print (i, i + 1)\n",
    "    target_orientations.append('DBD:Jerala_P' + str(i) + ':AD:Jerala_P' + str(i+1))\n",
    "    target_orientations.append('DBD:Jerala_P' + str(i+1) + ':AD:Jerala_P' + str(i))\n",
    "    ppi_label = ['Jerala_P' + str(i) , 'Jerala_P' + str(i+1) ]\n",
    "    ppi_label.sort()\n",
    "    target_ppis.append(':'.join(ppi_label))\n",
    "\n",
    "    \n",
    "## compare with real values now\n",
    "true_vals = pd.read_csv('local_copy/bft/twist/l61/NICP_invivo-data.csv')\n",
    "#DBD:Jerala_P1:AD:Jerala_P1\n",
    "#true_vals['on_target'] = true_vals.apply(lambda row: abs(row['Peptide1'] - row['Peptide2'])  == 1, axis =1 ) \n",
    "true_vals['str_1'] = true_vals['Peptide1'].apply(lambda x: 'Jerala_P' + str(x))\n",
    "true_vals['str_2'] = true_vals['Peptide2'].apply(lambda x: 'Jerala_P' + str(x))\n",
    "true_vals['PPI'] = 'DBD:' + true_vals['str_2'] + ':AD:' + true_vals['str_1'] #[df.PPI == 'DBD:' + dbd + ':AD:' + ad]\n",
    "true_vals['on_target'] = true_vals.PPI.apply(lambda x: x in target_orientations)\n",
    "print (true_vals.on_target.value_counts())\n",
    "true_vals['log_fa'] = np.log(true_vals['Fold activation'])\n",
    "trp_diff_times_10mM = combo.merge(true_vals, on = 'PPI')\n",
    "#trp_diff_times[['PPI'] + ashr_cols + list(true_vals.columns)].sort_values(by = 'Fold activation')\n",
    "from scipy import stats\n",
    "\n"
   ]
  },
  {
   "cell_type": "code",
   "execution_count": 113,
   "id": "85ab91d0-fbf1-41cb-9dac-8a9dbff3b9ed",
   "metadata": {},
   "outputs": [
    {
     "name": "stdout",
     "output_type": "stream",
     "text": [
      "False    132\n",
      "True      12\n",
      "Name: on_target, dtype: int64\n"
     ]
    },
    {
     "data": {
      "text/plain": [
       "<Figure size 432x288 with 0 Axes>"
      ]
     },
     "metadata": {},
     "output_type": "display_data"
    },
    {
     "data": {
      "image/png": "[encoded data removed]",
      "text/plain": [
       "<Figure size 216x216 with 2 Axes>"
      ]
     },
     "metadata": {
      "needs_background": "light"
     },
     "output_type": "display_data"
    },
    {
     "data": {
      "image/png": "[encoded data removed]",
      "text/plain": [
       "<Figure size 216x216 with 2 Axes>"
      ]
     },
     "metadata": {
      "needs_background": "light"
     },
     "output_type": "display_data"
    }
   ],
   "source": [
    "#differences in lfc for 2mM and 10mM\n",
    "\n",
    "\n",
    "\n",
    "library = \"l61_l62_2mM\"\n",
    "homo_out_name = \"./merged_files/\" + library + \"_psuedorep_w_homo_comps.csv\"\n",
    "hetero_out_name = \"./merged_files/\" + library + \"_psuedorep_wo_homo_comps.csv\"\n",
    "\n",
    "drive_location = \"./local_copy/bft/twist/l61/\"\n",
    "his_counts = pd.read_csv(drive_location + 'L61_10mM_3AT_HIS_table.csv')\n",
    "his_counts = his_counts.rename(columns= {'Binder1':'Binder'})\n",
    "binders = his_counts.Binder.to_list() #S7B is missing from the table\n",
    "vals_counts = ['PPI', 'count_DBDAD_trp1', 'count_ADDBD_trp1','count_DBDAD_his1', 'count_ADDBD_his1']\n",
    "\n",
    "flat_df = pd.read_csv('./merged_files/l61_l62_2mM_all_flat.csv')\n",
    "\n",
    "vals_counts = ['trp1_l61', 'trp1_l62', 'his1_l61', 'his1_l62']\n",
    "for vc in vals_counts:\n",
    "    flat_df.loc[flat_df[vc]  == 0, vc] = None\n",
    "\n",
    "flat_df['lin_enrich_l61'] = calc_lin_enrichment(flat_df['trp1_l61'], flat_df['his1_l61'])\n",
    "flat_df['log_enrich_l61'] = calc_log_enrichment(flat_df['lin_enrich_l61'])#, deseq2_results['his1'])\n",
    "flat_df['log2_enrich_l61'] = calc_log2_enrichment(flat_df['lin_enrich_l61'])#, deseq2_results['his1'])\n",
    "\n",
    "flat_df['lin_enrich_l62'] = calc_lin_enrichment(flat_df['trp1_l62'], flat_df['his1_l62'])\n",
    "flat_df['log_enrich_l62'] = calc_log_enrichment(flat_df['lin_enrich_l62'])#, deseq2_results['his1'])\n",
    "flat_df['log2_enrich_l62'] = calc_log2_enrichment(flat_df['lin_enrich_l62'])#, deseq2_results['his1'])\n",
    "\n",
    "flat_df['trp_l61_size_norm'] = flat_df['trp1_l61'].fillna(flat_df['trp1_l61'].min())/flat_df['trp1_l61'].fillna(flat_df['trp1_l61'].min()).sum()\n",
    "flat_df['his_l61_size_norm'] = flat_df['his1_l61'].fillna(flat_df['his1_l61'].min())/flat_df['his1_l61'].fillna(flat_df['his1_l61'].min()).sum()\n",
    "\n",
    "flat_df['trp_l62_size_norm'] = flat_df['trp1_l62'].fillna(flat_df['trp1_l62'].min())/flat_df['trp1_l62'].fillna(flat_df['trp1_l62'].min()).sum()\n",
    "flat_df['his_l62_size_norm'] = flat_df['his1_l62'].fillna(flat_df['his1_l62'].min())/flat_df['his1_l62'].fillna(flat_df['his1_l62'].min()).sum()\n",
    "\n",
    "flat_df['detected_trps'] = flat_df['trp1_l61'].isna().astype(int) + flat_df['trp1_l62'].isna().astype(int) \n",
    "flat_df['detected_hiss'] = flat_df['his1_l61'].isna().astype(int) + flat_df['his1_l62'].isna().astype(int)\n",
    "\n",
    "flat_df['sum_trp'] = (1/2) * (flat_df['trp_l61_size_norm'] + flat_df['trp_l62_size_norm'])\n",
    "flat_df['sum_his'] = (1/2) * (flat_df['his_l61_size_norm'] + flat_df['his_l62_size_norm'])\n",
    "\n",
    "flat_df['avg_lin_adj_counts'] = flat_df['sum_his']/flat_df['sum_trp']\n",
    "flat_df['avg_log_adj_counts'] = calc_log_enrichment(flat_df['avg_lin_adj_counts'])\n",
    "flat_df['avg_log2_adj_counts'] = calc_log2_enrichment(flat_df['avg_lin_adj_counts'])\n",
    "\n",
    "flat_df['avg_lin_no_adj_counts'] = 0.5 * (flat_df['lin_enrich_l61'] + flat_df['lin_enrich_l62'])\n",
    "flat_df['avg_log_no_adj_counts'] = calc_log_enrichment(flat_df['avg_lin_no_adj_counts'])\n",
    "flat_df['avg_log2_no_adj_counts'] = calc_log2_enrichment(flat_df['avg_lin_no_adj_counts'])\n",
    "\n",
    "#min/max scaled readcounts for trp \n",
    "flat_df['trp_l61_size_norm_min_max'] = (flat_df['trp_l61_size_norm'] - flat_df['trp_l61_size_norm'].min()) / (flat_df['trp_l61_size_norm'].max() - flat_df['trp_l61_size_norm'].min())\n",
    "flat_df['trp_l62_size_norm_min_max'] = (flat_df['trp_l62_size_norm'] - flat_df['trp_l62_size_norm'].min()) / (flat_df['trp_l62_size_norm'].max() - flat_df['trp_l62_size_norm'].min())\n",
    "flat_df['trp_normed_combo'] = 0.5 * ( flat_df['trp_l61_size_norm'] + flat_df['trp_l62_size_norm_min_max'])\n",
    "\n",
    "#heatmap of deseq2 values \n",
    "#single val correlations \n",
    "\n",
    "#examining flat interaction first\n",
    "deseq2_results = pd.read_csv('./merged_files/l61_l62_2mM_flat_comps.csv')\n",
    "deseq2_results = deseq2_results.rename(columns = {'Unnamed: 0': 'PPI'})\n",
    "deseq2_results['sig_p'] = deseq2_results['ashr_padj_HIS_TRP'].isna()\n",
    "\n",
    "\n",
    "deseq2_results['ashr_log2FoldChange_HIS_TRP2'] = deseq2_results['ashr_log2FoldChange_HIS_TRP']\n",
    "deseq2_results.loc[deseq2_results['sig_p']  == True, 'ashr_log2FoldChange_HIS_TRP2'] = None\n",
    "\n",
    "combo = flat_df.merge(deseq2_results[['PPI', 'ashr_log2FoldChange_HIS_TRP', 'ashr_padj_HIS_TRP', 'ashr_lfcSE_HIS_TRP']], on = 'PPI')\n",
    "\n",
    "#jerala analysis section \n",
    "#loading true values here....checking Jerala correlations first \n",
    "target_orientations = []\n",
    "target_ppis = []\n",
    "for i in range(1,13,2):\n",
    "    #print (i, i + 1)\n",
    "    target_orientations.append('DBD:Jerala_P' + str(i) + ':AD:Jerala_P' + str(i+1))\n",
    "    target_orientations.append('DBD:Jerala_P' + str(i+1) + ':AD:Jerala_P' + str(i))\n",
    "    ppi_label = ['Jerala_P' + str(i) , 'Jerala_P' + str(i+1) ]\n",
    "    ppi_label.sort()\n",
    "    target_ppis.append(':'.join(ppi_label))\n",
    "\n",
    "    \n",
    "## compare with real values now\n",
    "true_vals = pd.read_csv('local_copy/bft/twist/l61/NICP_invivo-data.csv')\n",
    "#DBD:Jerala_P1:AD:Jerala_P1\n",
    "#true_vals['on_target'] = true_vals.apply(lambda row: abs(row['Peptide1'] - row['Peptide2'])  == 1, axis =1 ) \n",
    "true_vals['str_1'] = true_vals['Peptide1'].apply(lambda x: 'Jerala_P' + str(x))\n",
    "true_vals['str_2'] = true_vals['Peptide2'].apply(lambda x: 'Jerala_P' + str(x))\n",
    "true_vals['PPI'] = 'DBD:' + true_vals['str_2'] + ':AD:' + true_vals['str_1'] #[df.PPI == 'DBD:' + dbd + ':AD:' + ad]\n",
    "true_vals['on_target'] = true_vals.PPI.apply(lambda x: x in target_orientations)\n",
    "print (true_vals.on_target.value_counts())\n",
    "true_vals['log_fa'] = np.log(true_vals['Fold activation'])\n",
    "trp_diff_times_2mM = combo.merge(true_vals, on = 'PPI')\n",
    "#trp_diff_times[['PPI'] + ashr_cols + list(true_vals.columns)].sort_values(by = 'Fold activation')\n",
    "from scipy import stats\n",
    "\n"
   ]
  },
  {
   "cell_type": "code",
   "execution_count": 79,
   "id": "58b43bd1-4e7b-4d61-a7a1-e668743484ea",
   "metadata": {},
   "outputs": [
    {
     "data": {
      "text/html": [
       "<div>\n",
       "<style scoped>\n",
       "    .dataframe tbody tr th:only-of-type {\n",
       "        vertical-align: middle;\n",
       "    }\n",
       "\n",
       "    .dataframe tbody tr th {\n",
       "        vertical-align: top;\n",
       "    }\n",
       "\n",
       "    .dataframe thead th {\n",
       "        text-align: right;\n",
       "    }\n",
       "</style>\n",
       "<table border=\"1\" class=\"dataframe\">\n",
       "  <thead>\n",
       "    <tr style=\"text-align: right;\">\n",
       "      <th></th>\n",
       "      <th>PPI</th>\n",
       "      <th>trp1_l61</th>\n",
       "      <th>trp1_l62</th>\n",
       "      <th>his1_l61</th>\n",
       "      <th>his1_l62</th>\n",
       "      <th>lin_enrich_l61</th>\n",
       "      <th>log_enrich_l61</th>\n",
       "      <th>log2_enrich_l61</th>\n",
       "      <th>lin_enrich_l62</th>\n",
       "      <th>log_enrich_l62</th>\n",
       "      <th>...</th>\n",
       "      <th>ashr_log2FoldChange_HIS_TRP</th>\n",
       "      <th>ashr_padj_HIS_TRP</th>\n",
       "      <th>ashr_lfcSE_HIS_TRP</th>\n",
       "      <th>Peptide1</th>\n",
       "      <th>Peptide2</th>\n",
       "      <th>Fold activation</th>\n",
       "      <th>str_1</th>\n",
       "      <th>str_2</th>\n",
       "      <th>on_target</th>\n",
       "      <th>log_fa</th>\n",
       "    </tr>\n",
       "  </thead>\n",
       "  <tbody>\n",
       "    <tr>\n",
       "      <th>0</th>\n",
       "      <td>DBD:Jerala_P1:AD:Jerala_P1</td>\n",
       "      <td>14.0</td>\n",
       "      <td>5.0</td>\n",
       "      <td>9.0</td>\n",
       "      <td>13.0</td>\n",
       "      <td>0.518766</td>\n",
       "      <td>-0.656302</td>\n",
       "      <td>-0.946844</td>\n",
       "      <td>2.316751</td>\n",
       "      <td>0.840166</td>\n",
       "      <td>...</td>\n",
       "      <td>3.659673</td>\n",
       "      <td>1.468723e-04</td>\n",
       "      <td>0.871761</td>\n",
       "      <td>1</td>\n",
       "      <td>1</td>\n",
       "      <td>0.303852</td>\n",
       "      <td>Jerala_P1</td>\n",
       "      <td>Jerala_P1</td>\n",
       "      <td>False</td>\n",
       "      <td>-1.191216</td>\n",
       "    </tr>\n",
       "    <tr>\n",
       "      <th>1</th>\n",
       "      <td>DBD:Jerala_P1:AD:Jerala_P2</td>\n",
       "      <td>1356.0</td>\n",
       "      <td>1523.0</td>\n",
       "      <td>62934.0</td>\n",
       "      <td>53793.0</td>\n",
       "      <td>37.452665</td>\n",
       "      <td>3.623078</td>\n",
       "      <td>5.226996</td>\n",
       "      <td>31.472543</td>\n",
       "      <td>3.449116</td>\n",
       "      <td>...</td>\n",
       "      <td>8.736405</td>\n",
       "      <td>5.053170e-60</td>\n",
       "      <td>0.529786</td>\n",
       "      <td>2</td>\n",
       "      <td>1</td>\n",
       "      <td>957.606968</td>\n",
       "      <td>Jerala_P2</td>\n",
       "      <td>Jerala_P1</td>\n",
       "      <td>True</td>\n",
       "      <td>6.864437</td>\n",
       "    </tr>\n",
       "    <tr>\n",
       "      <th>2</th>\n",
       "      <td>DBD:Jerala_P1:AD:Jerala_P3</td>\n",
       "      <td>3068.0</td>\n",
       "      <td>4103.0</td>\n",
       "      <td>215.0</td>\n",
       "      <td>210.0</td>\n",
       "      <td>0.056551</td>\n",
       "      <td>-2.872613</td>\n",
       "      <td>-4.144304</td>\n",
       "      <td>0.045606</td>\n",
       "      <td>-3.087712</td>\n",
       "      <td>...</td>\n",
       "      <td>-0.029963</td>\n",
       "      <td>7.868250e-01</td>\n",
       "      <td>0.182203</td>\n",
       "      <td>3</td>\n",
       "      <td>1</td>\n",
       "      <td>0.364857</td>\n",
       "      <td>Jerala_P3</td>\n",
       "      <td>Jerala_P1</td>\n",
       "      <td>False</td>\n",
       "      <td>-1.008249</td>\n",
       "    </tr>\n",
       "    <tr>\n",
       "      <th>3</th>\n",
       "      <td>DBD:Jerala_P1:AD:Jerala_P4</td>\n",
       "      <td>1644.0</td>\n",
       "      <td>2693.0</td>\n",
       "      <td>129.0</td>\n",
       "      <td>167.0</td>\n",
       "      <td>0.063321</td>\n",
       "      <td>-2.759545</td>\n",
       "      <td>-3.981181</td>\n",
       "      <td>0.055257</td>\n",
       "      <td>-2.895763</td>\n",
       "      <td>...</td>\n",
       "      <td>-0.014812</td>\n",
       "      <td>7.894001e-01</td>\n",
       "      <td>0.159187</td>\n",
       "      <td>4</td>\n",
       "      <td>1</td>\n",
       "      <td>0.421157</td>\n",
       "      <td>Jerala_P4</td>\n",
       "      <td>Jerala_P1</td>\n",
       "      <td>False</td>\n",
       "      <td>-0.864748</td>\n",
       "    </tr>\n",
       "    <tr>\n",
       "      <th>4</th>\n",
       "      <td>DBD:Jerala_P1:AD:Jerala_P5</td>\n",
       "      <td>2895.0</td>\n",
       "      <td>5479.0</td>\n",
       "      <td>251.0</td>\n",
       "      <td>289.0</td>\n",
       "      <td>0.069965</td>\n",
       "      <td>-2.659757</td>\n",
       "      <td>-3.837218</td>\n",
       "      <td>0.047001</td>\n",
       "      <td>-3.057597</td>\n",
       "      <td>...</td>\n",
       "      <td>-0.020756</td>\n",
       "      <td>7.894001e-01</td>\n",
       "      <td>0.176914</td>\n",
       "      <td>5</td>\n",
       "      <td>1</td>\n",
       "      <td>0.347053</td>\n",
       "      <td>Jerala_P5</td>\n",
       "      <td>Jerala_P1</td>\n",
       "      <td>False</td>\n",
       "      <td>-1.058278</td>\n",
       "    </tr>\n",
       "    <tr>\n",
       "      <th>...</th>\n",
       "      <td>...</td>\n",
       "      <td>...</td>\n",
       "      <td>...</td>\n",
       "      <td>...</td>\n",
       "      <td>...</td>\n",
       "      <td>...</td>\n",
       "      <td>...</td>\n",
       "      <td>...</td>\n",
       "      <td>...</td>\n",
       "      <td>...</td>\n",
       "      <td>...</td>\n",
       "      <td>...</td>\n",
       "      <td>...</td>\n",
       "      <td>...</td>\n",
       "      <td>...</td>\n",
       "      <td>...</td>\n",
       "      <td>...</td>\n",
       "      <td>...</td>\n",
       "      <td>...</td>\n",
       "      <td>...</td>\n",
       "      <td>...</td>\n",
       "    </tr>\n",
       "    <tr>\n",
       "      <th>139</th>\n",
       "      <td>DBD:Jerala_P12:AD:Jerala_P8</td>\n",
       "      <td>3097.0</td>\n",
       "      <td>2890.0</td>\n",
       "      <td>217.0</td>\n",
       "      <td>194.0</td>\n",
       "      <td>0.056543</td>\n",
       "      <td>-2.872761</td>\n",
       "      <td>-4.144519</td>\n",
       "      <td>0.059815</td>\n",
       "      <td>-2.816499</td>\n",
       "      <td>...</td>\n",
       "      <td>-0.014068</td>\n",
       "      <td>7.894001e-01</td>\n",
       "      <td>0.123704</td>\n",
       "      <td>8</td>\n",
       "      <td>12</td>\n",
       "      <td>0.088908</td>\n",
       "      <td>Jerala_P8</td>\n",
       "      <td>Jerala_P12</td>\n",
       "      <td>False</td>\n",
       "      <td>-2.420152</td>\n",
       "    </tr>\n",
       "    <tr>\n",
       "      <th>140</th>\n",
       "      <td>DBD:Jerala_P12:AD:Jerala_P9</td>\n",
       "      <td>2249.0</td>\n",
       "      <td>1442.0</td>\n",
       "      <td>144.0</td>\n",
       "      <td>241.0</td>\n",
       "      <td>0.051669</td>\n",
       "      <td>-2.962897</td>\n",
       "      <td>-4.274557</td>\n",
       "      <td>0.148922</td>\n",
       "      <td>-1.904335</td>\n",
       "      <td>...</td>\n",
       "      <td>0.015280</td>\n",
       "      <td>7.894001e-01</td>\n",
       "      <td>0.163738</td>\n",
       "      <td>9</td>\n",
       "      <td>12</td>\n",
       "      <td>0.083500</td>\n",
       "      <td>Jerala_P9</td>\n",
       "      <td>Jerala_P12</td>\n",
       "      <td>False</td>\n",
       "      <td>-2.482909</td>\n",
       "    </tr>\n",
       "    <tr>\n",
       "      <th>141</th>\n",
       "      <td>DBD:Jerala_P12:AD:Jerala_P10</td>\n",
       "      <td>3112.0</td>\n",
       "      <td>3535.0</td>\n",
       "      <td>496.0</td>\n",
       "      <td>5395.0</td>\n",
       "      <td>0.128617</td>\n",
       "      <td>-2.050914</td>\n",
       "      <td>-2.958844</td>\n",
       "      <td>1.359903</td>\n",
       "      <td>0.307414</td>\n",
       "      <td>...</td>\n",
       "      <td>2.733677</td>\n",
       "      <td>1.836872e-02</td>\n",
       "      <td>1.647019</td>\n",
       "      <td>10</td>\n",
       "      <td>12</td>\n",
       "      <td>0.140812</td>\n",
       "      <td>Jerala_P10</td>\n",
       "      <td>Jerala_P12</td>\n",
       "      <td>False</td>\n",
       "      <td>-1.960331</td>\n",
       "    </tr>\n",
       "    <tr>\n",
       "      <th>142</th>\n",
       "      <td>DBD:Jerala_P12:AD:Jerala_P11</td>\n",
       "      <td>1503.0</td>\n",
       "      <td>822.0</td>\n",
       "      <td>35130.0</td>\n",
       "      <td>15002.0</td>\n",
       "      <td>18.861501</td>\n",
       "      <td>2.937123</td>\n",
       "      <td>4.237373</td>\n",
       "      <td>16.262350</td>\n",
       "      <td>2.788853</td>\n",
       "      <td>...</td>\n",
       "      <td>7.740452</td>\n",
       "      <td>1.769396e-33</td>\n",
       "      <td>0.634342</td>\n",
       "      <td>11</td>\n",
       "      <td>12</td>\n",
       "      <td>353.898167</td>\n",
       "      <td>Jerala_P11</td>\n",
       "      <td>Jerala_P12</td>\n",
       "      <td>True</td>\n",
       "      <td>5.869009</td>\n",
       "    </tr>\n",
       "    <tr>\n",
       "      <th>143</th>\n",
       "      <td>DBD:Jerala_P12:AD:Jerala_P12</td>\n",
       "      <td>3174.0</td>\n",
       "      <td>1433.0</td>\n",
       "      <td>353.0</td>\n",
       "      <td>86.0</td>\n",
       "      <td>0.089748</td>\n",
       "      <td>-2.410749</td>\n",
       "      <td>-3.477976</td>\n",
       "      <td>0.053476</td>\n",
       "      <td>-2.928524</td>\n",
       "      <td>...</td>\n",
       "      <td>0.000433</td>\n",
       "      <td>9.903960e-01</td>\n",
       "      <td>0.170760</td>\n",
       "      <td>12</td>\n",
       "      <td>12</td>\n",
       "      <td>0.270888</td>\n",
       "      <td>Jerala_P12</td>\n",
       "      <td>Jerala_P12</td>\n",
       "      <td>False</td>\n",
       "      <td>-1.306050</td>\n",
       "    </tr>\n",
       "  </tbody>\n",
       "</table>\n",
       "<p>144 rows × 38 columns</p>\n",
       "</div>"
      ],
      "text/plain": [
       "                              PPI  trp1_l61  trp1_l62  his1_l61  his1_l62  \\\n",
       "0      DBD:Jerala_P1:AD:Jerala_P1      14.0       5.0       9.0      13.0   \n",
       "1      DBD:Jerala_P1:AD:Jerala_P2    1356.0    1523.0   62934.0   53793.0   \n",
       "2      DBD:Jerala_P1:AD:Jerala_P3    3068.0    4103.0     215.0     210.0   \n",
       "3      DBD:Jerala_P1:AD:Jerala_P4    1644.0    2693.0     129.0     167.0   \n",
       "4      DBD:Jerala_P1:AD:Jerala_P5    2895.0    5479.0     251.0     289.0   \n",
       "..                            ...       ...       ...       ...       ...   \n",
       "139   DBD:Jerala_P12:AD:Jerala_P8    3097.0    2890.0     217.0     194.0   \n",
       "140   DBD:Jerala_P12:AD:Jerala_P9    2249.0    1442.0     144.0     241.0   \n",
       "141  DBD:Jerala_P12:AD:Jerala_P10    3112.0    3535.0     496.0    5395.0   \n",
       "142  DBD:Jerala_P12:AD:Jerala_P11    1503.0     822.0   35130.0   15002.0   \n",
       "143  DBD:Jerala_P12:AD:Jerala_P12    3174.0    1433.0     353.0      86.0   \n",
       "\n",
       "     lin_enrich_l61  log_enrich_l61  log2_enrich_l61  lin_enrich_l62  \\\n",
       "0          0.518766       -0.656302        -0.946844        2.316751   \n",
       "1         37.452665        3.623078         5.226996       31.472543   \n",
       "2          0.056551       -2.872613        -4.144304        0.045606   \n",
       "3          0.063321       -2.759545        -3.981181        0.055257   \n",
       "4          0.069965       -2.659757        -3.837218        0.047001   \n",
       "..              ...             ...              ...             ...   \n",
       "139        0.056543       -2.872761        -4.144519        0.059815   \n",
       "140        0.051669       -2.962897        -4.274557        0.148922   \n",
       "141        0.128617       -2.050914        -2.958844        1.359903   \n",
       "142       18.861501        2.937123         4.237373       16.262350   \n",
       "143        0.089748       -2.410749        -3.477976        0.053476   \n",
       "\n",
       "     log_enrich_l62  ...  ashr_log2FoldChange_HIS_TRP  ashr_padj_HIS_TRP  \\\n",
       "0          0.840166  ...                     3.659673       1.468723e-04   \n",
       "1          3.449116  ...                     8.736405       5.053170e-60   \n",
       "2         -3.087712  ...                    -0.029963       7.868250e-01   \n",
       "3         -2.895763  ...                    -0.014812       7.894001e-01   \n",
       "4         -3.057597  ...                    -0.020756       7.894001e-01   \n",
       "..              ...  ...                          ...                ...   \n",
       "139       -2.816499  ...                    -0.014068       7.894001e-01   \n",
       "140       -1.904335  ...                     0.015280       7.894001e-01   \n",
       "141        0.307414  ...                     2.733677       1.836872e-02   \n",
       "142        2.788853  ...                     7.740452       1.769396e-33   \n",
       "143       -2.928524  ...                     0.000433       9.903960e-01   \n",
       "\n",
       "     ashr_lfcSE_HIS_TRP  Peptide1  Peptide2  Fold activation       str_1  \\\n",
       "0              0.871761         1         1         0.303852   Jerala_P1   \n",
       "1              0.529786         2         1       957.606968   Jerala_P2   \n",
       "2              0.182203         3         1         0.364857   Jerala_P3   \n",
       "3              0.159187         4         1         0.421157   Jerala_P4   \n",
       "4              0.176914         5         1         0.347053   Jerala_P5   \n",
       "..                  ...       ...       ...              ...         ...   \n",
       "139            0.123704         8        12         0.088908   Jerala_P8   \n",
       "140            0.163738         9        12         0.083500   Jerala_P9   \n",
       "141            1.647019        10        12         0.140812  Jerala_P10   \n",
       "142            0.634342        11        12       353.898167  Jerala_P11   \n",
       "143            0.170760        12        12         0.270888  Jerala_P12   \n",
       "\n",
       "          str_2  on_target    log_fa  \n",
       "0     Jerala_P1      False -1.191216  \n",
       "1     Jerala_P1       True  6.864437  \n",
       "2     Jerala_P1      False -1.008249  \n",
       "3     Jerala_P1      False -0.864748  \n",
       "4     Jerala_P1      False -1.058278  \n",
       "..          ...        ...       ...  \n",
       "139  Jerala_P12      False -2.420152  \n",
       "140  Jerala_P12      False -2.482909  \n",
       "141  Jerala_P12      False -1.960331  \n",
       "142  Jerala_P12       True  5.869009  \n",
       "143  Jerala_P12      False -1.306050  \n",
       "\n",
       "[144 rows x 38 columns]"
      ]
     },
     "execution_count": 79,
     "metadata": {},
     "output_type": "execute_result"
    }
   ],
   "source": [
    "trp_diff_times_2mM"
   ]
  },
  {
   "cell_type": "code",
   "execution_count": 80,
   "id": "65b7df4d-afcd-435b-b2b8-2ee1c37281b3",
   "metadata": {},
   "outputs": [
    {
     "data": {
      "text/html": [
       "<div>\n",
       "<style scoped>\n",
       "    .dataframe tbody tr th:only-of-type {\n",
       "        vertical-align: middle;\n",
       "    }\n",
       "\n",
       "    .dataframe tbody tr th {\n",
       "        vertical-align: top;\n",
       "    }\n",
       "\n",
       "    .dataframe thead th {\n",
       "        text-align: right;\n",
       "    }\n",
       "</style>\n",
       "<table border=\"1\" class=\"dataframe\">\n",
       "  <thead>\n",
       "    <tr style=\"text-align: right;\">\n",
       "      <th></th>\n",
       "      <th>PPI</th>\n",
       "      <th>trp1_l61</th>\n",
       "      <th>trp1_l62</th>\n",
       "      <th>his1_l61</th>\n",
       "      <th>his1_l62</th>\n",
       "      <th>lin_enrich_l61</th>\n",
       "      <th>log_enrich_l61</th>\n",
       "      <th>log2_enrich_l61</th>\n",
       "      <th>lin_enrich_l62</th>\n",
       "      <th>log_enrich_l62</th>\n",
       "      <th>...</th>\n",
       "      <th>ashr_log2FoldChange_HIS_TRP</th>\n",
       "      <th>ashr_padj_HIS_TRP</th>\n",
       "      <th>ashr_lfcSE_HIS_TRP</th>\n",
       "      <th>Peptide1</th>\n",
       "      <th>Peptide2</th>\n",
       "      <th>Fold activation</th>\n",
       "      <th>str_1</th>\n",
       "      <th>str_2</th>\n",
       "      <th>on_target</th>\n",
       "      <th>log_fa</th>\n",
       "    </tr>\n",
       "  </thead>\n",
       "  <tbody>\n",
       "    <tr>\n",
       "      <th>0</th>\n",
       "      <td>DBD:Jerala_P1:AD:Jerala_P1</td>\n",
       "      <td>14.0</td>\n",
       "      <td>5.0</td>\n",
       "      <td>36.0</td>\n",
       "      <td>26.0</td>\n",
       "      <td>2.302240</td>\n",
       "      <td>0.833882</td>\n",
       "      <td>1.203038</td>\n",
       "      <td>4.324825</td>\n",
       "      <td>1.464372</td>\n",
       "      <td>...</td>\n",
       "      <td>6.105679</td>\n",
       "      <td>1.100164e-23</td>\n",
       "      <td>0.593946</td>\n",
       "      <td>1</td>\n",
       "      <td>1</td>\n",
       "      <td>0.303852</td>\n",
       "      <td>Jerala_P1</td>\n",
       "      <td>Jerala_P1</td>\n",
       "      <td>False</td>\n",
       "      <td>-1.191216</td>\n",
       "    </tr>\n",
       "    <tr>\n",
       "      <th>1</th>\n",
       "      <td>DBD:Jerala_P1:AD:Jerala_P2</td>\n",
       "      <td>1356.0</td>\n",
       "      <td>1523.0</td>\n",
       "      <td>102351.0</td>\n",
       "      <td>61887.0</td>\n",
       "      <td>67.578485</td>\n",
       "      <td>4.213290</td>\n",
       "      <td>6.078492</td>\n",
       "      <td>33.795957</td>\n",
       "      <td>3.520341</td>\n",
       "      <td>...</td>\n",
       "      <td>10.229515</td>\n",
       "      <td>2.574693e-182</td>\n",
       "      <td>0.353906</td>\n",
       "      <td>2</td>\n",
       "      <td>1</td>\n",
       "      <td>957.606968</td>\n",
       "      <td>Jerala_P2</td>\n",
       "      <td>Jerala_P1</td>\n",
       "      <td>True</td>\n",
       "      <td>6.864437</td>\n",
       "    </tr>\n",
       "    <tr>\n",
       "      <th>2</th>\n",
       "      <td>DBD:Jerala_P1:AD:Jerala_P3</td>\n",
       "      <td>3068.0</td>\n",
       "      <td>4103.0</td>\n",
       "      <td>120.0</td>\n",
       "      <td>137.0</td>\n",
       "      <td>0.035019</td>\n",
       "      <td>-3.351869</td>\n",
       "      <td>-4.835724</td>\n",
       "      <td>0.027771</td>\n",
       "      <td>-3.583780</td>\n",
       "      <td>...</td>\n",
       "      <td>-0.076252</td>\n",
       "      <td>6.791595e-01</td>\n",
       "      <td>0.219207</td>\n",
       "      <td>3</td>\n",
       "      <td>1</td>\n",
       "      <td>0.364857</td>\n",
       "      <td>Jerala_P3</td>\n",
       "      <td>Jerala_P1</td>\n",
       "      <td>False</td>\n",
       "      <td>-1.008249</td>\n",
       "    </tr>\n",
       "    <tr>\n",
       "      <th>3</th>\n",
       "      <td>DBD:Jerala_P1:AD:Jerala_P4</td>\n",
       "      <td>1644.0</td>\n",
       "      <td>2693.0</td>\n",
       "      <td>81.0</td>\n",
       "      <td>72.0</td>\n",
       "      <td>0.044112</td>\n",
       "      <td>-3.121018</td>\n",
       "      <td>-4.502677</td>\n",
       "      <td>0.022236</td>\n",
       "      <td>-3.806032</td>\n",
       "      <td>...</td>\n",
       "      <td>-0.097858</td>\n",
       "      <td>6.100913e-01</td>\n",
       "      <td>0.218979</td>\n",
       "      <td>4</td>\n",
       "      <td>1</td>\n",
       "      <td>0.421157</td>\n",
       "      <td>Jerala_P4</td>\n",
       "      <td>Jerala_P1</td>\n",
       "      <td>False</td>\n",
       "      <td>-0.864748</td>\n",
       "    </tr>\n",
       "    <tr>\n",
       "      <th>4</th>\n",
       "      <td>DBD:Jerala_P1:AD:Jerala_P5</td>\n",
       "      <td>2895.0</td>\n",
       "      <td>5479.0</td>\n",
       "      <td>122.0</td>\n",
       "      <td>164.0</td>\n",
       "      <td>0.037730</td>\n",
       "      <td>-3.277299</td>\n",
       "      <td>-4.728142</td>\n",
       "      <td>0.024895</td>\n",
       "      <td>-3.693098</td>\n",
       "      <td>...</td>\n",
       "      <td>-0.061846</td>\n",
       "      <td>7.070202e-01</td>\n",
       "      <td>0.243823</td>\n",
       "      <td>5</td>\n",
       "      <td>1</td>\n",
       "      <td>0.347053</td>\n",
       "      <td>Jerala_P5</td>\n",
       "      <td>Jerala_P1</td>\n",
       "      <td>False</td>\n",
       "      <td>-1.058278</td>\n",
       "    </tr>\n",
       "    <tr>\n",
       "      <th>...</th>\n",
       "      <td>...</td>\n",
       "      <td>...</td>\n",
       "      <td>...</td>\n",
       "      <td>...</td>\n",
       "      <td>...</td>\n",
       "      <td>...</td>\n",
       "      <td>...</td>\n",
       "      <td>...</td>\n",
       "      <td>...</td>\n",
       "      <td>...</td>\n",
       "      <td>...</td>\n",
       "      <td>...</td>\n",
       "      <td>...</td>\n",
       "      <td>...</td>\n",
       "      <td>...</td>\n",
       "      <td>...</td>\n",
       "      <td>...</td>\n",
       "      <td>...</td>\n",
       "      <td>...</td>\n",
       "      <td>...</td>\n",
       "      <td>...</td>\n",
       "    </tr>\n",
       "    <tr>\n",
       "      <th>139</th>\n",
       "      <td>DBD:Jerala_P12:AD:Jerala_P8</td>\n",
       "      <td>3097.0</td>\n",
       "      <td>2890.0</td>\n",
       "      <td>97.0</td>\n",
       "      <td>110.0</td>\n",
       "      <td>0.028042</td>\n",
       "      <td>-3.574057</td>\n",
       "      <td>-5.156275</td>\n",
       "      <td>0.031656</td>\n",
       "      <td>-3.452818</td>\n",
       "      <td>...</td>\n",
       "      <td>-0.109935</td>\n",
       "      <td>5.627963e-01</td>\n",
       "      <td>0.208881</td>\n",
       "      <td>8</td>\n",
       "      <td>12</td>\n",
       "      <td>0.088908</td>\n",
       "      <td>Jerala_P8</td>\n",
       "      <td>Jerala_P12</td>\n",
       "      <td>False</td>\n",
       "      <td>-2.420152</td>\n",
       "    </tr>\n",
       "    <tr>\n",
       "      <th>140</th>\n",
       "      <td>DBD:Jerala_P12:AD:Jerala_P9</td>\n",
       "      <td>2249.0</td>\n",
       "      <td>1442.0</td>\n",
       "      <td>63.0</td>\n",
       "      <td>57.0</td>\n",
       "      <td>0.025080</td>\n",
       "      <td>-3.685685</td>\n",
       "      <td>-5.317320</td>\n",
       "      <td>0.032876</td>\n",
       "      <td>-3.415022</td>\n",
       "      <td>...</td>\n",
       "      <td>-0.142197</td>\n",
       "      <td>4.282853e-01</td>\n",
       "      <td>0.217956</td>\n",
       "      <td>9</td>\n",
       "      <td>12</td>\n",
       "      <td>0.083500</td>\n",
       "      <td>Jerala_P9</td>\n",
       "      <td>Jerala_P12</td>\n",
       "      <td>False</td>\n",
       "      <td>-2.482909</td>\n",
       "    </tr>\n",
       "    <tr>\n",
       "      <th>141</th>\n",
       "      <td>DBD:Jerala_P12:AD:Jerala_P10</td>\n",
       "      <td>3112.0</td>\n",
       "      <td>3535.0</td>\n",
       "      <td>209.0</td>\n",
       "      <td>1860.0</td>\n",
       "      <td>0.060129</td>\n",
       "      <td>-2.811266</td>\n",
       "      <td>-4.055799</td>\n",
       "      <td>0.437612</td>\n",
       "      <td>-0.826424</td>\n",
       "      <td>...</td>\n",
       "      <td>1.156627</td>\n",
       "      <td>1.212834e-01</td>\n",
       "      <td>1.591138</td>\n",
       "      <td>10</td>\n",
       "      <td>12</td>\n",
       "      <td>0.140812</td>\n",
       "      <td>Jerala_P10</td>\n",
       "      <td>Jerala_P12</td>\n",
       "      <td>False</td>\n",
       "      <td>-1.960331</td>\n",
       "    </tr>\n",
       "    <tr>\n",
       "      <th>142</th>\n",
       "      <td>DBD:Jerala_P12:AD:Jerala_P11</td>\n",
       "      <td>1503.0</td>\n",
       "      <td>822.0</td>\n",
       "      <td>6321.0</td>\n",
       "      <td>2571.0</td>\n",
       "      <td>3.765328</td>\n",
       "      <td>1.325835</td>\n",
       "      <td>1.912776</td>\n",
       "      <td>2.601330</td>\n",
       "      <td>0.956023</td>\n",
       "      <td>...</td>\n",
       "      <td>6.183904</td>\n",
       "      <td>1.049033e-12</td>\n",
       "      <td>0.832973</td>\n",
       "      <td>11</td>\n",
       "      <td>12</td>\n",
       "      <td>353.898167</td>\n",
       "      <td>Jerala_P11</td>\n",
       "      <td>Jerala_P12</td>\n",
       "      <td>True</td>\n",
       "      <td>5.869009</td>\n",
       "    </tr>\n",
       "    <tr>\n",
       "      <th>143</th>\n",
       "      <td>DBD:Jerala_P12:AD:Jerala_P12</td>\n",
       "      <td>3174.0</td>\n",
       "      <td>1433.0</td>\n",
       "      <td>178.0</td>\n",
       "      <td>38.0</td>\n",
       "      <td>0.050210</td>\n",
       "      <td>-2.991544</td>\n",
       "      <td>-4.315885</td>\n",
       "      <td>0.022055</td>\n",
       "      <td>-3.814226</td>\n",
       "      <td>...</td>\n",
       "      <td>-0.013546</td>\n",
       "      <td>9.579396e-01</td>\n",
       "      <td>0.243276</td>\n",
       "      <td>12</td>\n",
       "      <td>12</td>\n",
       "      <td>0.270888</td>\n",
       "      <td>Jerala_P12</td>\n",
       "      <td>Jerala_P12</td>\n",
       "      <td>False</td>\n",
       "      <td>-1.306050</td>\n",
       "    </tr>\n",
       "  </tbody>\n",
       "</table>\n",
       "<p>144 rows × 38 columns</p>\n",
       "</div>"
      ],
      "text/plain": [
       "                              PPI  trp1_l61  trp1_l62  his1_l61  his1_l62  \\\n",
       "0      DBD:Jerala_P1:AD:Jerala_P1      14.0       5.0      36.0      26.0   \n",
       "1      DBD:Jerala_P1:AD:Jerala_P2    1356.0    1523.0  102351.0   61887.0   \n",
       "2      DBD:Jerala_P1:AD:Jerala_P3    3068.0    4103.0     120.0     137.0   \n",
       "3      DBD:Jerala_P1:AD:Jerala_P4    1644.0    2693.0      81.0      72.0   \n",
       "4      DBD:Jerala_P1:AD:Jerala_P5    2895.0    5479.0     122.0     164.0   \n",
       "..                            ...       ...       ...       ...       ...   \n",
       "139   DBD:Jerala_P12:AD:Jerala_P8    3097.0    2890.0      97.0     110.0   \n",
       "140   DBD:Jerala_P12:AD:Jerala_P9    2249.0    1442.0      63.0      57.0   \n",
       "141  DBD:Jerala_P12:AD:Jerala_P10    3112.0    3535.0     209.0    1860.0   \n",
       "142  DBD:Jerala_P12:AD:Jerala_P11    1503.0     822.0    6321.0    2571.0   \n",
       "143  DBD:Jerala_P12:AD:Jerala_P12    3174.0    1433.0     178.0      38.0   \n",
       "\n",
       "     lin_enrich_l61  log_enrich_l61  log2_enrich_l61  lin_enrich_l62  \\\n",
       "0          2.302240        0.833882         1.203038        4.324825   \n",
       "1         67.578485        4.213290         6.078492       33.795957   \n",
       "2          0.035019       -3.351869        -4.835724        0.027771   \n",
       "3          0.044112       -3.121018        -4.502677        0.022236   \n",
       "4          0.037730       -3.277299        -4.728142        0.024895   \n",
       "..              ...             ...              ...             ...   \n",
       "139        0.028042       -3.574057        -5.156275        0.031656   \n",
       "140        0.025080       -3.685685        -5.317320        0.032876   \n",
       "141        0.060129       -2.811266        -4.055799        0.437612   \n",
       "142        3.765328        1.325835         1.912776        2.601330   \n",
       "143        0.050210       -2.991544        -4.315885        0.022055   \n",
       "\n",
       "     log_enrich_l62  ...  ashr_log2FoldChange_HIS_TRP  ashr_padj_HIS_TRP  \\\n",
       "0          1.464372  ...                     6.105679       1.100164e-23   \n",
       "1          3.520341  ...                    10.229515      2.574693e-182   \n",
       "2         -3.583780  ...                    -0.076252       6.791595e-01   \n",
       "3         -3.806032  ...                    -0.097858       6.100913e-01   \n",
       "4         -3.693098  ...                    -0.061846       7.070202e-01   \n",
       "..              ...  ...                          ...                ...   \n",
       "139       -3.452818  ...                    -0.109935       5.627963e-01   \n",
       "140       -3.415022  ...                    -0.142197       4.282853e-01   \n",
       "141       -0.826424  ...                     1.156627       1.212834e-01   \n",
       "142        0.956023  ...                     6.183904       1.049033e-12   \n",
       "143       -3.814226  ...                    -0.013546       9.579396e-01   \n",
       "\n",
       "     ashr_lfcSE_HIS_TRP  Peptide1  Peptide2  Fold activation       str_1  \\\n",
       "0              0.593946         1         1         0.303852   Jerala_P1   \n",
       "1              0.353906         2         1       957.606968   Jerala_P2   \n",
       "2              0.219207         3         1         0.364857   Jerala_P3   \n",
       "3              0.218979         4         1         0.421157   Jerala_P4   \n",
       "4              0.243823         5         1         0.347053   Jerala_P5   \n",
       "..                  ...       ...       ...              ...         ...   \n",
       "139            0.208881         8        12         0.088908   Jerala_P8   \n",
       "140            0.217956         9        12         0.083500   Jerala_P9   \n",
       "141            1.591138        10        12         0.140812  Jerala_P10   \n",
       "142            0.832973        11        12       353.898167  Jerala_P11   \n",
       "143            0.243276        12        12         0.270888  Jerala_P12   \n",
       "\n",
       "          str_2  on_target    log_fa  \n",
       "0     Jerala_P1      False -1.191216  \n",
       "1     Jerala_P1       True  6.864437  \n",
       "2     Jerala_P1      False -1.008249  \n",
       "3     Jerala_P1      False -0.864748  \n",
       "4     Jerala_P1      False -1.058278  \n",
       "..          ...        ...       ...  \n",
       "139  Jerala_P12      False -2.420152  \n",
       "140  Jerala_P12      False -2.482909  \n",
       "141  Jerala_P12      False -1.960331  \n",
       "142  Jerala_P12       True  5.869009  \n",
       "143  Jerala_P12      False -1.306050  \n",
       "\n",
       "[144 rows x 38 columns]"
      ]
     },
     "execution_count": 80,
     "metadata": {},
     "output_type": "execute_result"
    }
   ],
   "source": [
    "trp_diff_times_10mM"
   ]
  },
  {
   "cell_type": "code",
   "execution_count": 81,
   "id": "6b1eec54-5576-47b2-860f-fe43959ce13a",
   "metadata": {},
   "outputs": [],
   "source": [
    "cols_keep = ['lin_enrich_l61', 'log_enrich_l61', 'log2_enrich_l61',\n",
    "       'lin_enrich_l62',  'log_enrich_l62',  'log2_enrich_l62', 'avg_lin_no_adj_counts',\n",
    "       'avg_log_no_adj_counts', 'avg_log2_no_adj_counts', 'trp_normed_combo',  'ashr_log2FoldChange_HIS_TRP', 'ashr_padj_HIS_TRP',\n",
    "       'ashr_lfcSE_HIS_TRP']\n",
    "mtf_2mM = trp_diff_times_2mM[['PPI'] + cols_keep]\n",
    "new_names ={}\n",
    "for c in cols_keep:\n",
    "    new_names[c] = c+ '_2mM'\n",
    "mtf_2mM = mtf_2mM.rename(columns = new_names)\n",
    "cols_keep = ['lin_enrich_l61', 'log_enrich_l61', 'log2_enrich_l61',\n",
    "       'lin_enrich_l62',  'log_enrich_l62',  'log2_enrich_l62', 'avg_lin_no_adj_counts',\n",
    "       'avg_log_no_adj_counts', 'avg_log2_no_adj_counts', 'trp_normed_combo',  'ashr_log2FoldChange_HIS_TRP', 'ashr_padj_HIS_TRP',\n",
    "       'ashr_lfcSE_HIS_TRP']\n",
    "mtf_10mM = trp_diff_times_10mM[['PPI'] + cols_keep + ['Fold activation', 'on_target', 'log_fa']]\n",
    "new_names ={}\n",
    "for c in cols_keep:\n",
    "    new_names[c] = c+ '_10mM'\n",
    "mtf_10mM = mtf_10mM.rename(columns = new_names)\n",
    "\n",
    "compare = mtf_10mM.merge(mtf_2mM, how = 'left', on = 'PPI')"
   ]
  },
  {
   "cell_type": "code",
   "execution_count": 82,
   "id": "c1b03c46-edb2-47dd-a85e-9b3f18b12d5c",
   "metadata": {},
   "outputs": [
    {
     "data": {
      "text/html": [
       "<div>\n",
       "<style scoped>\n",
       "    .dataframe tbody tr th:only-of-type {\n",
       "        vertical-align: middle;\n",
       "    }\n",
       "\n",
       "    .dataframe tbody tr th {\n",
       "        vertical-align: top;\n",
       "    }\n",
       "\n",
       "    .dataframe thead th {\n",
       "        text-align: right;\n",
       "    }\n",
       "</style>\n",
       "<table border=\"1\" class=\"dataframe\">\n",
       "  <thead>\n",
       "    <tr style=\"text-align: right;\">\n",
       "      <th></th>\n",
       "      <th>PPI</th>\n",
       "      <th>lin_enrich_l61_10mM</th>\n",
       "      <th>log_enrich_l61_10mM</th>\n",
       "      <th>log2_enrich_l61_10mM</th>\n",
       "      <th>lin_enrich_l62_10mM</th>\n",
       "      <th>log_enrich_l62_10mM</th>\n",
       "      <th>log2_enrich_l62_10mM</th>\n",
       "      <th>avg_lin_no_adj_counts_10mM</th>\n",
       "      <th>avg_log_no_adj_counts_10mM</th>\n",
       "      <th>avg_log2_no_adj_counts_10mM</th>\n",
       "      <th>...</th>\n",
       "      <th>lin_enrich_l62_2mM</th>\n",
       "      <th>log_enrich_l62_2mM</th>\n",
       "      <th>log2_enrich_l62_2mM</th>\n",
       "      <th>avg_lin_no_adj_counts_2mM</th>\n",
       "      <th>avg_log_no_adj_counts_2mM</th>\n",
       "      <th>avg_log2_no_adj_counts_2mM</th>\n",
       "      <th>trp_normed_combo_2mM</th>\n",
       "      <th>ashr_log2FoldChange_HIS_TRP_2mM</th>\n",
       "      <th>ashr_padj_HIS_TRP_2mM</th>\n",
       "      <th>ashr_lfcSE_HIS_TRP_2mM</th>\n",
       "    </tr>\n",
       "  </thead>\n",
       "  <tbody>\n",
       "    <tr>\n",
       "      <th>0</th>\n",
       "      <td>DBD:Jerala_P1:AD:Jerala_P1</td>\n",
       "      <td>2.302240</td>\n",
       "      <td>0.833882</td>\n",
       "      <td>1.203038</td>\n",
       "      <td>4.324825</td>\n",
       "      <td>1.464372</td>\n",
       "      <td>2.112642</td>\n",
       "      <td>3.313532</td>\n",
       "      <td>1.198015</td>\n",
       "      <td>1.728370</td>\n",
       "      <td>...</td>\n",
       "      <td>2.316751</td>\n",
       "      <td>0.840166</td>\n",
       "      <td>1.212103</td>\n",
       "      <td>1.417758</td>\n",
       "      <td>0.349077</td>\n",
       "      <td>0.503612</td>\n",
       "      <td>0.000064</td>\n",
       "      <td>3.659673</td>\n",
       "      <td>1.468723e-04</td>\n",
       "      <td>0.871761</td>\n",
       "    </tr>\n",
       "    <tr>\n",
       "      <th>1</th>\n",
       "      <td>DBD:Jerala_P1:AD:Jerala_P2</td>\n",
       "      <td>67.578485</td>\n",
       "      <td>4.213290</td>\n",
       "      <td>6.078492</td>\n",
       "      <td>33.795957</td>\n",
       "      <td>3.520341</td>\n",
       "      <td>5.078779</td>\n",
       "      <td>50.687221</td>\n",
       "      <td>3.925674</td>\n",
       "      <td>5.663550</td>\n",
       "      <td>...</td>\n",
       "      <td>31.472543</td>\n",
       "      <td>3.449116</td>\n",
       "      <td>4.976022</td>\n",
       "      <td>34.462604</td>\n",
       "      <td>3.539875</td>\n",
       "      <td>5.106960</td>\n",
       "      <td>0.070787</td>\n",
       "      <td>8.736405</td>\n",
       "      <td>5.053170e-60</td>\n",
       "      <td>0.529786</td>\n",
       "    </tr>\n",
       "    <tr>\n",
       "      <th>2</th>\n",
       "      <td>DBD:Jerala_P1:AD:Jerala_P3</td>\n",
       "      <td>0.035019</td>\n",
       "      <td>-3.351869</td>\n",
       "      <td>-4.835724</td>\n",
       "      <td>0.027771</td>\n",
       "      <td>-3.583780</td>\n",
       "      <td>-5.170301</td>\n",
       "      <td>0.031395</td>\n",
       "      <td>-3.461116</td>\n",
       "      <td>-4.993335</td>\n",
       "      <td>...</td>\n",
       "      <td>0.045606</td>\n",
       "      <td>-3.087712</td>\n",
       "      <td>-4.454627</td>\n",
       "      <td>0.051079</td>\n",
       "      <td>-2.974390</td>\n",
       "      <td>-4.291138</td>\n",
       "      <td>0.190251</td>\n",
       "      <td>-0.029963</td>\n",
       "      <td>7.868250e-01</td>\n",
       "      <td>0.182203</td>\n",
       "    </tr>\n",
       "    <tr>\n",
       "      <th>3</th>\n",
       "      <td>DBD:Jerala_P1:AD:Jerala_P4</td>\n",
       "      <td>0.044112</td>\n",
       "      <td>-3.121018</td>\n",
       "      <td>-4.502677</td>\n",
       "      <td>0.022236</td>\n",
       "      <td>-3.806032</td>\n",
       "      <td>-5.490943</td>\n",
       "      <td>0.033174</td>\n",
       "      <td>-3.405981</td>\n",
       "      <td>-4.913792</td>\n",
       "      <td>...</td>\n",
       "      <td>0.055257</td>\n",
       "      <td>-2.895763</td>\n",
       "      <td>-4.177703</td>\n",
       "      <td>0.059289</td>\n",
       "      <td>-2.825336</td>\n",
       "      <td>-4.076099</td>\n",
       "      <td>0.124329</td>\n",
       "      <td>-0.014812</td>\n",
       "      <td>7.894001e-01</td>\n",
       "      <td>0.159187</td>\n",
       "    </tr>\n",
       "    <tr>\n",
       "      <th>4</th>\n",
       "      <td>DBD:Jerala_P1:AD:Jerala_P5</td>\n",
       "      <td>0.037730</td>\n",
       "      <td>-3.277299</td>\n",
       "      <td>-4.728142</td>\n",
       "      <td>0.024895</td>\n",
       "      <td>-3.693098</td>\n",
       "      <td>-5.328015</td>\n",
       "      <td>0.031312</td>\n",
       "      <td>-3.463741</td>\n",
       "      <td>-4.997122</td>\n",
       "      <td>...</td>\n",
       "      <td>0.047001</td>\n",
       "      <td>-3.057597</td>\n",
       "      <td>-4.411180</td>\n",
       "      <td>0.058483</td>\n",
       "      <td>-2.839021</td>\n",
       "      <td>-4.095842</td>\n",
       "      <td>0.252555</td>\n",
       "      <td>-0.020756</td>\n",
       "      <td>7.894001e-01</td>\n",
       "      <td>0.176914</td>\n",
       "    </tr>\n",
       "    <tr>\n",
       "      <th>...</th>\n",
       "      <td>...</td>\n",
       "      <td>...</td>\n",
       "      <td>...</td>\n",
       "      <td>...</td>\n",
       "      <td>...</td>\n",
       "      <td>...</td>\n",
       "      <td>...</td>\n",
       "      <td>...</td>\n",
       "      <td>...</td>\n",
       "      <td>...</td>\n",
       "      <td>...</td>\n",
       "      <td>...</td>\n",
       "      <td>...</td>\n",
       "      <td>...</td>\n",
       "      <td>...</td>\n",
       "      <td>...</td>\n",
       "      <td>...</td>\n",
       "      <td>...</td>\n",
       "      <td>...</td>\n",
       "      <td>...</td>\n",
       "      <td>...</td>\n",
       "    </tr>\n",
       "    <tr>\n",
       "      <th>139</th>\n",
       "      <td>DBD:Jerala_P12:AD:Jerala_P8</td>\n",
       "      <td>0.028042</td>\n",
       "      <td>-3.574057</td>\n",
       "      <td>-5.156275</td>\n",
       "      <td>0.031656</td>\n",
       "      <td>-3.452818</td>\n",
       "      <td>-4.981364</td>\n",
       "      <td>0.029849</td>\n",
       "      <td>-3.511602</td>\n",
       "      <td>-5.066170</td>\n",
       "      <td>...</td>\n",
       "      <td>0.059815</td>\n",
       "      <td>-2.816499</td>\n",
       "      <td>-4.063350</td>\n",
       "      <td>0.058179</td>\n",
       "      <td>-2.844235</td>\n",
       "      <td>-4.103363</td>\n",
       "      <td>0.135167</td>\n",
       "      <td>-0.014068</td>\n",
       "      <td>7.894001e-01</td>\n",
       "      <td>0.123704</td>\n",
       "    </tr>\n",
       "    <tr>\n",
       "      <th>140</th>\n",
       "      <td>DBD:Jerala_P12:AD:Jerala_P9</td>\n",
       "      <td>0.025080</td>\n",
       "      <td>-3.685685</td>\n",
       "      <td>-5.317320</td>\n",
       "      <td>0.032876</td>\n",
       "      <td>-3.415022</td>\n",
       "      <td>-4.926835</td>\n",
       "      <td>0.028978</td>\n",
       "      <td>-3.541224</td>\n",
       "      <td>-5.108907</td>\n",
       "      <td>...</td>\n",
       "      <td>0.148922</td>\n",
       "      <td>-1.904335</td>\n",
       "      <td>-2.747375</td>\n",
       "      <td>0.100295</td>\n",
       "      <td>-2.299636</td>\n",
       "      <td>-3.317674</td>\n",
       "      <td>0.068266</td>\n",
       "      <td>0.015280</td>\n",
       "      <td>7.894001e-01</td>\n",
       "      <td>0.163738</td>\n",
       "    </tr>\n",
       "    <tr>\n",
       "      <th>141</th>\n",
       "      <td>DBD:Jerala_P12:AD:Jerala_P10</td>\n",
       "      <td>0.060129</td>\n",
       "      <td>-2.811266</td>\n",
       "      <td>-4.055799</td>\n",
       "      <td>0.437612</td>\n",
       "      <td>-0.826424</td>\n",
       "      <td>-1.192277</td>\n",
       "      <td>0.248870</td>\n",
       "      <td>-1.390824</td>\n",
       "      <td>-2.006535</td>\n",
       "      <td>...</td>\n",
       "      <td>1.359903</td>\n",
       "      <td>0.307414</td>\n",
       "      <td>0.443504</td>\n",
       "      <td>0.744260</td>\n",
       "      <td>-0.295365</td>\n",
       "      <td>-0.426121</td>\n",
       "      <td>0.164497</td>\n",
       "      <td>2.733677</td>\n",
       "      <td>1.836872e-02</td>\n",
       "      <td>1.647019</td>\n",
       "    </tr>\n",
       "    <tr>\n",
       "      <th>142</th>\n",
       "      <td>DBD:Jerala_P12:AD:Jerala_P11</td>\n",
       "      <td>3.765328</td>\n",
       "      <td>1.325835</td>\n",
       "      <td>1.912776</td>\n",
       "      <td>2.601330</td>\n",
       "      <td>0.956023</td>\n",
       "      <td>1.379250</td>\n",
       "      <td>3.183329</td>\n",
       "      <td>1.157928</td>\n",
       "      <td>1.670536</td>\n",
       "      <td>...</td>\n",
       "      <td>16.262350</td>\n",
       "      <td>2.788853</td>\n",
       "      <td>4.023464</td>\n",
       "      <td>17.561926</td>\n",
       "      <td>2.865733</td>\n",
       "      <td>4.134379</td>\n",
       "      <td>0.039123</td>\n",
       "      <td>7.740452</td>\n",
       "      <td>1.769396e-33</td>\n",
       "      <td>0.634342</td>\n",
       "    </tr>\n",
       "    <tr>\n",
       "      <th>143</th>\n",
       "      <td>DBD:Jerala_P12:AD:Jerala_P12</td>\n",
       "      <td>0.050210</td>\n",
       "      <td>-2.991544</td>\n",
       "      <td>-4.315885</td>\n",
       "      <td>0.022055</td>\n",
       "      <td>-3.814226</td>\n",
       "      <td>-5.502765</td>\n",
       "      <td>0.036132</td>\n",
       "      <td>-3.320567</td>\n",
       "      <td>-4.790566</td>\n",
       "      <td>...</td>\n",
       "      <td>0.053476</td>\n",
       "      <td>-2.928524</td>\n",
       "      <td>-4.224967</td>\n",
       "      <td>0.071612</td>\n",
       "      <td>-2.636493</td>\n",
       "      <td>-3.803656</td>\n",
       "      <td>0.069058</td>\n",
       "      <td>0.000433</td>\n",
       "      <td>9.903960e-01</td>\n",
       "      <td>0.170760</td>\n",
       "    </tr>\n",
       "  </tbody>\n",
       "</table>\n",
       "<p>144 rows × 30 columns</p>\n",
       "</div>"
      ],
      "text/plain": [
       "                              PPI  lin_enrich_l61_10mM  log_enrich_l61_10mM  \\\n",
       "0      DBD:Jerala_P1:AD:Jerala_P1             2.302240             0.833882   \n",
       "1      DBD:Jerala_P1:AD:Jerala_P2            67.578485             4.213290   \n",
       "2      DBD:Jerala_P1:AD:Jerala_P3             0.035019            -3.351869   \n",
       "3      DBD:Jerala_P1:AD:Jerala_P4             0.044112            -3.121018   \n",
       "4      DBD:Jerala_P1:AD:Jerala_P5             0.037730            -3.277299   \n",
       "..                            ...                  ...                  ...   \n",
       "139   DBD:Jerala_P12:AD:Jerala_P8             0.028042            -3.574057   \n",
       "140   DBD:Jerala_P12:AD:Jerala_P9             0.025080            -3.685685   \n",
       "141  DBD:Jerala_P12:AD:Jerala_P10             0.060129            -2.811266   \n",
       "142  DBD:Jerala_P12:AD:Jerala_P11             3.765328             1.325835   \n",
       "143  DBD:Jerala_P12:AD:Jerala_P12             0.050210            -2.991544   \n",
       "\n",
       "     log2_enrich_l61_10mM  lin_enrich_l62_10mM  log_enrich_l62_10mM  \\\n",
       "0                1.203038             4.324825             1.464372   \n",
       "1                6.078492            33.795957             3.520341   \n",
       "2               -4.835724             0.027771            -3.583780   \n",
       "3               -4.502677             0.022236            -3.806032   \n",
       "4               -4.728142             0.024895            -3.693098   \n",
       "..                    ...                  ...                  ...   \n",
       "139             -5.156275             0.031656            -3.452818   \n",
       "140             -5.317320             0.032876            -3.415022   \n",
       "141             -4.055799             0.437612            -0.826424   \n",
       "142              1.912776             2.601330             0.956023   \n",
       "143             -4.315885             0.022055            -3.814226   \n",
       "\n",
       "     log2_enrich_l62_10mM  avg_lin_no_adj_counts_10mM  \\\n",
       "0                2.112642                    3.313532   \n",
       "1                5.078779                   50.687221   \n",
       "2               -5.170301                    0.031395   \n",
       "3               -5.490943                    0.033174   \n",
       "4               -5.328015                    0.031312   \n",
       "..                    ...                         ...   \n",
       "139             -4.981364                    0.029849   \n",
       "140             -4.926835                    0.028978   \n",
       "141             -1.192277                    0.248870   \n",
       "142              1.379250                    3.183329   \n",
       "143             -5.502765                    0.036132   \n",
       "\n",
       "     avg_log_no_adj_counts_10mM  avg_log2_no_adj_counts_10mM  ...  \\\n",
       "0                      1.198015                     1.728370  ...   \n",
       "1                      3.925674                     5.663550  ...   \n",
       "2                     -3.461116                    -4.993335  ...   \n",
       "3                     -3.405981                    -4.913792  ...   \n",
       "4                     -3.463741                    -4.997122  ...   \n",
       "..                          ...                          ...  ...   \n",
       "139                   -3.511602                    -5.066170  ...   \n",
       "140                   -3.541224                    -5.108907  ...   \n",
       "141                   -1.390824                    -2.006535  ...   \n",
       "142                    1.157928                     1.670536  ...   \n",
       "143                   -3.320567                    -4.790566  ...   \n",
       "\n",
       "     lin_enrich_l62_2mM  log_enrich_l62_2mM  log2_enrich_l62_2mM  \\\n",
       "0              2.316751            0.840166             1.212103   \n",
       "1             31.472543            3.449116             4.976022   \n",
       "2              0.045606           -3.087712            -4.454627   \n",
       "3              0.055257           -2.895763            -4.177703   \n",
       "4              0.047001           -3.057597            -4.411180   \n",
       "..                  ...                 ...                  ...   \n",
       "139            0.059815           -2.816499            -4.063350   \n",
       "140            0.148922           -1.904335            -2.747375   \n",
       "141            1.359903            0.307414             0.443504   \n",
       "142           16.262350            2.788853             4.023464   \n",
       "143            0.053476           -2.928524            -4.224967   \n",
       "\n",
       "     avg_lin_no_adj_counts_2mM  avg_log_no_adj_counts_2mM  \\\n",
       "0                     1.417758                   0.349077   \n",
       "1                    34.462604                   3.539875   \n",
       "2                     0.051079                  -2.974390   \n",
       "3                     0.059289                  -2.825336   \n",
       "4                     0.058483                  -2.839021   \n",
       "..                         ...                        ...   \n",
       "139                   0.058179                  -2.844235   \n",
       "140                   0.100295                  -2.299636   \n",
       "141                   0.744260                  -0.295365   \n",
       "142                  17.561926                   2.865733   \n",
       "143                   0.071612                  -2.636493   \n",
       "\n",
       "     avg_log2_no_adj_counts_2mM  trp_normed_combo_2mM  \\\n",
       "0                      0.503612              0.000064   \n",
       "1                      5.106960              0.070787   \n",
       "2                     -4.291138              0.190251   \n",
       "3                     -4.076099              0.124329   \n",
       "4                     -4.095842              0.252555   \n",
       "..                          ...                   ...   \n",
       "139                   -4.103363              0.135167   \n",
       "140                   -3.317674              0.068266   \n",
       "141                   -0.426121              0.164497   \n",
       "142                    4.134379              0.039123   \n",
       "143                   -3.803656              0.069058   \n",
       "\n",
       "     ashr_log2FoldChange_HIS_TRP_2mM  ashr_padj_HIS_TRP_2mM  \\\n",
       "0                           3.659673           1.468723e-04   \n",
       "1                           8.736405           5.053170e-60   \n",
       "2                          -0.029963           7.868250e-01   \n",
       "3                          -0.014812           7.894001e-01   \n",
       "4                          -0.020756           7.894001e-01   \n",
       "..                               ...                    ...   \n",
       "139                        -0.014068           7.894001e-01   \n",
       "140                         0.015280           7.894001e-01   \n",
       "141                         2.733677           1.836872e-02   \n",
       "142                         7.740452           1.769396e-33   \n",
       "143                         0.000433           9.903960e-01   \n",
       "\n",
       "     ashr_lfcSE_HIS_TRP_2mM  \n",
       "0                  0.871761  \n",
       "1                  0.529786  \n",
       "2                  0.182203  \n",
       "3                  0.159187  \n",
       "4                  0.176914  \n",
       "..                      ...  \n",
       "139                0.123704  \n",
       "140                0.163738  \n",
       "141                1.647019  \n",
       "142                0.634342  \n",
       "143                0.170760  \n",
       "\n",
       "[144 rows x 30 columns]"
      ]
     },
     "execution_count": 82,
     "metadata": {},
     "output_type": "execute_result"
    }
   ],
   "source": [
    "compare"
   ]
  },
  {
   "cell_type": "code",
   "execution_count": 83,
   "id": "b3668ddd-e2aa-4302-8ab9-9bfe9c1ded45",
   "metadata": {},
   "outputs": [
    {
     "data": {
      "image/png": "[encoded data removed]",
      "text/plain": [
       "<Figure size 432x288 with 1 Axes>"
      ]
     },
     "metadata": {
      "needs_background": "light"
     },
     "output_type": "display_data"
    },
    {
     "data": {
      "image/png": "[encoded data removed]",
      "text/plain": [
       "<Figure size 432x288 with 1 Axes>"
      ]
     },
     "metadata": {
      "needs_background": "light"
     },
     "output_type": "display_data"
    },
    {
     "data": {
      "image/png": "[encoded data removed]",
      "text/plain": [
       "<Figure size 432x288 with 1 Axes>"
      ]
     },
     "metadata": {
      "needs_background": "light"
     },
     "output_type": "display_data"
    },
    {
     "data": {
      "image/png": "[encoded data removed]",
      "text/plain": [
       "<Figure size 432x288 with 1 Axes>"
      ]
     },
     "metadata": {
      "needs_background": "light"
     },
     "output_type": "display_data"
    },
    {
     "data": {
      "image/png": "[encoded data removed]",
      "text/plain": [
       "<Figure size 432x288 with 1 Axes>"
      ]
     },
     "metadata": {
      "needs_background": "light"
     },
     "output_type": "display_data"
    },
    {
     "data": {
      "image/png": "[encoded data removed]",
      "text/plain": [
       "<Figure size 432x288 with 1 Axes>"
      ]
     },
     "metadata": {
      "needs_background": "light"
     },
     "output_type": "display_data"
    },
    {
     "data": {
      "image/png": "[encoded data removed]",
      "text/plain": [
       "<Figure size 432x288 with 1 Axes>"
      ]
     },
     "metadata": {
      "needs_background": "light"
     },
     "output_type": "display_data"
    },
    {
     "data": {
      "image/png": "[encoded data removed]",
      "text/plain": [
       "<Figure size 432x288 with 1 Axes>"
      ]
     },
     "metadata": {
      "needs_background": "light"
     },
     "output_type": "display_data"
    },
    {
     "data": {
      "image/png": "[encoded data removed]",
      "text/plain": [
       "<Figure size 432x288 with 1 Axes>"
      ]
     },
     "metadata": {
      "needs_background": "light"
     },
     "output_type": "display_data"
    },
    {
     "data": {
      "image/png": "[encoded data removed]",
      "text/plain": [
       "<Figure size 432x288 with 1 Axes>"
      ]
     },
     "metadata": {
      "needs_background": "light"
     },
     "output_type": "display_data"
    },
    {
     "data": {
      "image/png": "[encoded data removed]",
      "text/plain": [
       "<Figure size 432x288 with 1 Axes>"
      ]
     },
     "metadata": {
      "needs_background": "light"
     },
     "output_type": "display_data"
    },
    {
     "data": {
      "image/png": "[encoded data removed]",
      "text/plain": [
       "<Figure size 432x288 with 1 Axes>"
      ]
     },
     "metadata": {
      "needs_background": "light"
     },
     "output_type": "display_data"
    },
    {
     "data": {
      "image/png": "[encoded data removed]",
      "text/plain": [
       "<Figure size 432x288 with 1 Axes>"
      ]
     },
     "metadata": {
      "needs_background": "light"
     },
     "output_type": "display_data"
    }
   ],
   "source": [
    "for c in ['lin_enrich_l61', 'log_enrich_l61', 'log2_enrich_l61',\n",
    "       'lin_enrich_l62',  'log_enrich_l62',  'log2_enrich_l62', 'avg_lin_no_adj_counts',\n",
    "       'avg_log_no_adj_counts', 'avg_log2_no_adj_counts', 'trp_normed_combo',  'ashr_log2FoldChange_HIS_TRP', 'ashr_padj_HIS_TRP',\n",
    "       'ashr_lfcSE_HIS_TRP']:\n",
    "    fig = plt.figure()\n",
    "    sns.scatterplot(data = compare, x = c +'_2mM', y = c + '_10mM', hue = 'on_target')\n",
    "    plt.show()"
   ]
  },
  {
   "cell_type": "code",
   "execution_count": 135,
   "id": "42bede30-d11d-49cf-9308-baeb02e5f2f4",
   "metadata": {},
   "outputs": [
    {
     "data": {
      "image/png": "[encoded data removed]",
      "text/plain": [
       "<Figure size 153x90 with 1 Axes>"
      ]
     },
     "metadata": {
      "needs_background": "light"
     },
     "output_type": "display_data"
    },
    {
     "data": {
      "image/png": "[encoded data removed]",
      "text/plain": [
       "<Figure size 153x90 with 1 Axes>"
      ]
     },
     "metadata": {
      "needs_background": "light"
     },
     "output_type": "display_data"
    },
    {
     "name": "stdout",
     "output_type": "stream",
     "text": [
      "[0.4393131246668022, 0.5009441859212096, 0.48770205391149773, 0.4750710563685339, 0.5942733520114216, 0.6591031247449797, 0.5963799880957703, 0.3989901351669316, 0.4055989981754412, 0.43598266024435217, 0.40891849292532384, 0.00019955208722749308, 0.006506417032800739, 0.007638702012895451, 0.007137437055274814, 0.024737066075148598, 0.03554439265104744, 0.05994626218373559, 0.10166741210034361, 0.061296880504947075]\n",
      "[0.2477935857246202, 0.25312246553122464, 0.23866279069767446, 0.23438228014579288, 0.22330939793261265, 0.20121562014728436, 0.1734187536400699, 0.11496225120109813, 0.09607056936647954, 0.07105647517039922, 0.05296160524792592, -0.04562937062937063, -0.12965640284228985, -0.13312217194570136, -0.11929930534581698, 0.02265122265122265, -0.08522167487684727, -0.033314511575381144, 0.028571428571428564, -0.6428571428571429]\n"
     ]
    }
   ],
   "source": [
    "#do r2 with decreasing percentile of avg trp library normalized values \n",
    "#trp_normed_combo\n",
    "\n",
    "ashr_pearson = []\n",
    "ashr_spearman = []\n",
    "\n",
    "l61_pearson = []\n",
    "l61_spearman = []\n",
    "\n",
    "l62_pearson = []\n",
    "l62_spearman = []\n",
    "\n",
    "l67_pearson = []\n",
    "l67_spearman = []\n",
    "\n",
    "log_avg_lin_pearson = []\n",
    "log_avg_lin_spearman = []\n",
    "\n",
    "log_avg_lin_adj_pearson = []\n",
    "log_avg_lin_adj_spearman = []\n",
    "\n",
    "percentiles = []\n",
    "#with higher and lower \n",
    "for p in list(range(0,100,5)):\n",
    "    #linear activation \n",
    "    \n",
    "    percentile_cutoff = np.percentile(compare.trp_normed_combo_10mM.to_list(),p)\n",
    "    percentiles.append(100-p)\n",
    "    temp = compare[compare.trp_normed_combo_10mM >= percentile_cutoff]\n",
    "    #print (p, temp.shape, temp.on_target.value_counts())\n",
    "    ashr_pearson.append(stats.pearsonr(temp['ashr_log2FoldChange_HIS_TRP_10mM'],\n",
    "                         np.log(temp['Fold activation']))[0]**2)\n",
    "\n",
    "    ashr_spearman.append(stats.spearmanr(temp['ashr_log2FoldChange_HIS_TRP_10mM'],\n",
    "                         np.log(temp['Fold activation']))[0])\n",
    "    \n",
    "    l61_pearson.append(stats.pearsonr(temp['log2_enrich_l61_10mM'],\n",
    "                         np.log(temp['Fold activation']))[0]**2)\n",
    "\n",
    "    l61_spearman.append(stats.spearmanr(temp['log2_enrich_l61_10mM'],\n",
    "                         np.log(temp['Fold activation']))[0])\n",
    "    \n",
    "    l62_pearson.append(stats.pearsonr(temp['log2_enrich_l62_10mM'],\n",
    "                         np.log(temp['Fold activation']))[0]**2)\n",
    "\n",
    "    l62_spearman.append(stats.spearmanr(temp['log2_enrich_l62_10mM'],\n",
    "                         np.log(temp['Fold activation']))[0])\n",
    "    \n",
    "    \n",
    "    log_avg_lin_pearson.append(stats.pearsonr(temp['avg_log2_no_adj_counts_10mM'],\n",
    "                         np.log(temp['Fold activation']))[0]**2)\n",
    "\n",
    "    log_avg_lin_spearman.append(stats.spearmanr(temp['avg_log2_no_adj_counts_10mM'],\n",
    "                         np.log(temp['Fold activation']))[0])\n",
    "    \n",
    "    \n",
    "    plt.show()\n",
    "\n",
    "    \n",
    "color_ashr = '#a02c2c'\n",
    "color_avg = '#806600'\n",
    "color_l67 = '#d4aa00'\n",
    "color_l62 = '#ffe680'\n",
    "color_l61 = '#c4c8b7'\n",
    "markersize = 3\n",
    "figure = plt.figure()    \n",
    "plt.plot(percentiles, ashr_pearson,  marker = 'o', color = color_ashr, label = 'ashr pearson r^2', markersize = markersize)\n",
    "plt.plot(percentiles, l61_pearson,  marker = 'o', color = color_l61, label = 'l61 pearson r^2', markersize = markersize)\n",
    "plt.plot(percentiles, l62_pearson,  marker = 'o', color = color_l62,  label = 'l62 pearson r^2', markersize = markersize)\n",
    "#plt.plot(percentiles, l67_pearson,  marker = 'o', color = color_l67, label = 'l67 pearson r^2', markersize = markersize)\n",
    "plt.plot(percentiles, log_avg_lin_pearson,  marker = 'o', color = color_avg, label = 'log avg no adj lin pearson r^2', markersize = markersize)\n",
    "#plt.ylim([0,0.9])\n",
    "#plt.yticks([0,0.1,0.2,0.3,0.4,0.5,0.6,0.7,0.8,0.9],[])\n",
    "#plt.xticks([100,90,80,70,60,50],[100,])\n",
    "plt.xlim([100,50])\n",
    "figure.set_size_inches(2.125,1.25)\n",
    "plt.tight_layout()\n",
    "figure.set_size_inches(2.125,1.25)\n",
    "plt.savefig('./figures/pearson_trp_dec_10.svg', dpi = 300)\n",
    "plt.show()\n",
    "\n",
    "figure = plt.figure()\n",
    "plt.plot(percentiles, ashr_spearman,  marker = 'o', color = color_ashr, label = 'ashr pearson r^2', markersize = markersize)\n",
    "plt.plot(percentiles, l61_spearman,  marker = 'o', color = color_l61, label = 'l61 pearson r^2', markersize = markersize)\n",
    "plt.plot(percentiles, l62_spearman,  marker = 'o', color = color_l62,  label = 'l62 pearson r^2', markersize = markersize)\n",
    "#plt.plot(percentiles, l67_spearman,  marker = 'o', color = color_l67, label = 'l67 pearson r^2', markersize = markersize)\n",
    "plt.plot(percentiles, log_avg_lin_spearman,  marker = 'o', color = color_avg, label = 'log avg no adj lin pearson r^2', markersize = markersize)\n",
    "plt.ylim([-0.25,0.5])\n",
    "#plt.yticks([-0.1,0,0.1,0.2,0.3,0.4],[])\n",
    "#plt.xticks([100,90,80,70,60,50],[])\n",
    "plt.xlim([100,50])\n",
    "figure.set_size_inches(2.125,1.25)\n",
    "plt.tight_layout()\n",
    "figure.set_size_inches(2.125,1.25)\n",
    "plt.savefig('./figures/spearman_trp_dec_10mm.svg', dpi = 300)\n",
    "plt.show()\n",
    "\n",
    "print (ashr_pearson)\n",
    "print (ashr_spearman)"
   ]
  },
  {
   "cell_type": "code",
   "execution_count": 133,
   "id": "0072b082-70f4-4441-95d1-2598e13e9a70",
   "metadata": {},
   "outputs": [
    {
     "data": {
      "image/png": "[encoded data removed]",
      "text/plain": [
       "<Figure size 153x90 with 1 Axes>"
      ]
     },
     "metadata": {
      "needs_background": "light"
     },
     "output_type": "display_data"
    },
    {
     "data": {
      "image/png": "[encoded data removed]",
      "text/plain": [
       "<Figure size 153x90 with 1 Axes>"
      ]
     },
     "metadata": {
      "needs_background": "light"
     },
     "output_type": "display_data"
    },
    {
     "name": "stdout",
     "output_type": "stream",
     "text": [
      "[0.6508961294193807, 0.7048689818846399, 0.6982727248123887, 0.6979510719412624, 0.7402175518349494, 0.7594656534039548, 0.7245769996538357, 0.5924952049731318, 0.6035158345971343, 0.6057319049830246, 0.6133190601552653, 0.002774029843202517, 0.012910859280879292, 0.016274675405016953, 0.0015164459593571184, 0.04591205230684247, 0.0718457376431977, 0.04349467366718891, 0.3129471110808696, 0.1271996806704819]\n",
      "[0.29360983843742466, 0.2971470826773532, 0.2762913685152058, 0.27521222915792365, 0.2568847155369684, 0.24868768279554523, 0.25393127548048916, 0.19548804870042671, 0.1690174064814378, 0.14118792599805258, 0.1265676249276481, 0.020236013986013986, -0.0545387431172906, -0.07619909502262442, -0.051646028390214434, 0.1716859716859717, 0.09802955665024629, -0.02766798418972332, 0.11785714285714284, -0.7857142857142858]\n"
     ]
    }
   ],
   "source": [
    "#do r2 with decreasing percentile of avg trp library normalized values \n",
    "#trp_normed_combo\n",
    "\n",
    "ashr_pearson = []\n",
    "ashr_spearman = []\n",
    "\n",
    "l61_pearson = []\n",
    "l61_spearman = []\n",
    "\n",
    "l62_pearson = []\n",
    "l62_spearman = []\n",
    "\n",
    "l67_pearson = []\n",
    "l67_spearman = []\n",
    "\n",
    "log_avg_lin_pearson = []\n",
    "log_avg_lin_spearman = []\n",
    "\n",
    "log_avg_lin_adj_pearson = []\n",
    "log_avg_lin_adj_spearman = []\n",
    "\n",
    "percentiles = []\n",
    "#with higher and lower \n",
    "for p in list(range(0,100,5)):\n",
    "    #linear activation \n",
    "    \n",
    "    percentile_cutoff = np.percentile(compare.trp_normed_combo_10mM.to_list(),p)\n",
    "    percentiles.append(100-p)\n",
    "    temp = compare[compare.trp_normed_combo_10mM >= percentile_cutoff]\n",
    "    #print (p, temp.shape, temp.on_target.value_counts())\n",
    "    ashr_pearson.append(stats.pearsonr(temp['ashr_log2FoldChange_HIS_TRP_2mM'],\n",
    "                         np.log(temp['Fold activation']))[0]**2)\n",
    "\n",
    "    ashr_spearman.append(stats.spearmanr(temp['ashr_log2FoldChange_HIS_TRP_2mM'],\n",
    "                         np.log(temp['Fold activation']))[0])\n",
    "    \n",
    "    l61_pearson.append(stats.pearsonr(temp['log2_enrich_l61_2mM'],\n",
    "                         np.log(temp['Fold activation']))[0]**2)\n",
    "\n",
    "    l61_spearman.append(stats.spearmanr(temp['log2_enrich_l61_2mM'],\n",
    "                         np.log(temp['Fold activation']))[0])\n",
    "    \n",
    "    l62_pearson.append(stats.pearsonr(temp['log2_enrich_l62_2mM'],\n",
    "                         np.log(temp['Fold activation']))[0]**2)\n",
    "\n",
    "    l62_spearman.append(stats.spearmanr(temp['log2_enrich_l62_2mM'],\n",
    "                         np.log(temp['Fold activation']))[0])\n",
    "    \n",
    "    \n",
    "    log_avg_lin_pearson.append(stats.pearsonr(temp['avg_log2_no_adj_counts_2mM'],\n",
    "                         np.log(temp['Fold activation']))[0]**2)\n",
    "\n",
    "    log_avg_lin_spearman.append(stats.spearmanr(temp['avg_log2_no_adj_counts_2mM'],\n",
    "                         np.log(temp['Fold activation']))[0])\n",
    "    \n",
    "    \n",
    "    plt.show()\n",
    "\n",
    "    \n",
    "color_ashr = '#a02c2c'\n",
    "color_avg = '#806600'\n",
    "color_l67 = '#d4aa00'\n",
    "color_l62 = '#ffe680'\n",
    "color_l61 = '#c4c8b7'\n",
    "markersize = 3\n",
    "figure = plt.figure()    \n",
    "plt.plot(percentiles, ashr_pearson,  marker = 'o', color = color_ashr, label = 'ashr pearson r^2', markersize = markersize)\n",
    "plt.plot(percentiles, l61_pearson,  marker = 'o', color = color_l61, label = 'l61 pearson r^2', markersize = markersize)\n",
    "plt.plot(percentiles, l62_pearson,  marker = 'o', color = color_l62,  label = 'l62 pearson r^2', markersize = markersize)\n",
    "#plt.plot(percentiles, l67_pearson,  marker = 'o', color = color_l67, label = 'l67 pearson r^2', markersize = markersize)\n",
    "plt.plot(percentiles, log_avg_lin_pearson,  marker = 'o', color = color_avg, label = 'log avg no adj lin pearson r^2', markersize = markersize)\n",
    "#plt.ylim([0,0.9])\n",
    "#plt.yticks([0,0.1,0.2,0.3,0.4,0.5,0.6,0.7,0.8,0.9],[])\n",
    "#plt.xticks([100,90,80,70,60,50],[100,])\n",
    "plt.xlim([100,50])\n",
    "\n",
    "figure.set_size_inches(2.125,1.25)\n",
    "plt.tight_layout()\n",
    "figure.set_size_inches(2.125,1.25)\n",
    "plt.savefig('./figures/pearson_trp_dec_2.svg', dpi = 300)\n",
    "plt.show()\n",
    "\n",
    "figure = plt.figure()\n",
    "plt.plot(percentiles, ashr_spearman,  marker = 'o', color = color_ashr, label = 'ashr pearson r^2', markersize = markersize)\n",
    "plt.plot(percentiles, l61_spearman,  marker = 'o', color = color_l61, label = 'l61 pearson r^2', markersize = markersize)\n",
    "plt.plot(percentiles, l62_spearman,  marker = 'o', color = color_l62,  label = 'l62 pearson r^2', markersize = markersize)\n",
    "#plt.plot(percentiles, l67_spearman,  marker = 'o', color = color_l67, label = 'l67 pearson r^2', markersize = markersize)\n",
    "plt.plot(percentiles, log_avg_lin_spearman,  marker = 'o', color = color_avg, label = 'log avg no adj lin pearson r^2', markersize = markersize)\n",
    "plt.ylim([-0.25,0.5])\n",
    "#plt.yticks([-0.1,0,0.1,0.2,0.3,0.4],[])\n",
    "#plt.xticks([100,90,80,70,60,50],[])\n",
    "plt.xlim([100,50])\n",
    "\n",
    "figure.set_size_inches(2.125,1.25)\n",
    "plt.tight_layout()\n",
    "figure.set_size_inches(2.125,1.25)\n",
    "plt.savefig('./figures/spearman_trp_dec_2mm.svg', dpi = 300)\n",
    "plt.show()\n",
    "\n",
    "print (ashr_pearson)\n",
    "print (ashr_spearman)"
   ]
  },
  {
   "cell_type": "code",
   "execution_count": 130,
   "id": "af301c27-d92c-4ffc-879b-a7ec2df536c1",
   "metadata": {},
   "outputs": [
    {
     "name": "stdout",
     "output_type": "stream",
     "text": [
      "100\n",
      "95\n",
      "90\n",
      "85\n",
      "80\n",
      "75\n",
      "70\n",
      "65\n",
      "60\n",
      "55\n",
      "50\n",
      "45\n",
      "40\n",
      "35\n",
      "30\n",
      "25\n",
      "20\n",
      "15\n",
      "10\n",
      "5\n"
     ]
    },
    {
     "data": {
      "image/png": "[encoded data removed]",
      "text/plain": [
       "<Figure size 153x90 with 1 Axes>"
      ]
     },
     "metadata": {
      "needs_background": "light"
     },
     "output_type": "display_data"
    },
    {
     "data": {
      "image/png": "[encoded data removed]",
      "text/plain": [
       "<Figure size 153x90 with 1 Axes>"
      ]
     },
     "metadata": {
      "needs_background": "light"
     },
     "output_type": "display_data"
    },
    {
     "name": "stdout",
     "output_type": "stream",
     "text": [
      "[0.4393131246668022, 0.5649952148481723, 0.5765115727416766, 0.5932789235129119, 0.6000126683937177, 0.5998166509950461, 0.42226315894332545, 0.0848937095687249, 0.12452896344901522, 0.006489324569267411, 0.00995916938371863, 0.008176271638569692, 0.022272971294786635, 0.00999229795182297, 0.006458203548574303, 0.010669392306357819, 0.0070417511293770964, 0.015608782898147825, 0.0932858727571749, 0.47620880276117067]\n",
      "[0.2477935857246202, 0.2742712656838891, 0.28973613595706627, 0.22978907610509514, 0.24501696520160973, 0.19342269475168383, 0.11252184041933606, 0.12734624451672583, 0.12458134817680079, 0.0813047711781889, 0.09881664415718054, 0.0645979020979021, 0.1318096527115568, 0.08226244343891402, 0.040018121413470255, 0.10244530244530246, 0.08226600985221673, -0.1202710333145116, -0.39999999999999997, -0.6666666666666669]\n"
     ]
    }
   ],
   "source": [
    "#do r2 with decreasing percentile of avg trp library normalized values \n",
    "#trp_normed_combo\n",
    "\n",
    "ashr_pearson = []\n",
    "ashr_spearman = []\n",
    "\n",
    "l61_pearson = []\n",
    "l61_spearman = []\n",
    "\n",
    "l62_pearson = []\n",
    "l62_spearman = []\n",
    "\n",
    "l67_pearson = []\n",
    "l67_spearman = []\n",
    "\n",
    "log_avg_lin_pearson = []\n",
    "log_avg_lin_spearman = []\n",
    "\n",
    "log_avg_lin_adj_pearson = []\n",
    "log_avg_lin_adj_spearman = []\n",
    "\n",
    "percentiles = []\n",
    "#with higher and lower \n",
    "for p in list(range(100,0,-5)):\n",
    "    #linear activation \n",
    "    print (p)\n",
    "    percentile_cutoff = np.percentile(compare.ashr_lfcSE_HIS_TRP_10mM.to_list(),p)\n",
    "    percentiles.append(percentile_cutoff)\n",
    "    temp = compare[compare.ashr_lfcSE_HIS_TRP_10mM <= percentile_cutoff]\n",
    "    #print (temp.shape, p, percentile_cutoff, temp.on_target.value_counts())\n",
    "    ashr_pearson.append(stats.pearsonr(temp['ashr_log2FoldChange_HIS_TRP_10mM'],\n",
    "                         np.log(temp['Fold activation']))[0]**2)\n",
    "\n",
    "    ashr_spearman.append(stats.spearmanr(temp['ashr_log2FoldChange_HIS_TRP_10mM'],\n",
    "                         np.log(temp['Fold activation']))[0])\n",
    "    \n",
    "    l61_pearson.append(stats.pearsonr(temp['log2_enrich_l61_10mM'],\n",
    "                         np.log(temp['Fold activation']))[0]**2)\n",
    "\n",
    "    l61_spearman.append(stats.spearmanr(temp['log2_enrich_l61_10mM'],\n",
    "                         np.log(temp['Fold activation']))[0])\n",
    "    \n",
    "    l62_pearson.append(stats.pearsonr(temp['log2_enrich_l62_10mM'],\n",
    "                         np.log(temp['Fold activation']))[0]**2)\n",
    "\n",
    "    l62_spearman.append(stats.spearmanr(temp['log2_enrich_l62_10mM'],\n",
    "                         np.log(temp['Fold activation']))[0])\n",
    "    \n",
    "    \n",
    "    log_avg_lin_pearson.append(stats.pearsonr(temp['avg_log2_no_adj_counts_10mM'],\n",
    "                         np.log(temp['Fold activation']))[0]**2)\n",
    "\n",
    "    log_avg_lin_spearman.append(stats.spearmanr(temp['avg_log2_no_adj_counts_10mM'],\n",
    "                         np.log(temp['Fold activation']))[0])\n",
    "    \n",
    "color_ashr = '#a02c2c'\n",
    "color_avg = '#806600'\n",
    "color_l67 = '#d4aa00'\n",
    "color_l62 = '#ffe680'\n",
    "color_l61 = '#c4c8b7'\n",
    "markersize = 3\n",
    "figure = plt.figure()    \n",
    "plt.plot(percentiles, ashr_pearson,  marker = 'o', color = color_ashr, label = 'ashr pearson r^2', markersize = markersize)\n",
    "plt.plot(percentiles, l61_pearson,  marker = 'o', color = color_l61, label = 'l61 pearson r^2', markersize = markersize)\n",
    "plt.plot(percentiles, l62_pearson,  marker = 'o', color = color_l62,  label = 'l62 pearson r^2', markersize = markersize)\n",
    "#plt.plot(percentiles, l67_pearson,  marker = 'o', color = color_l67, label = 'l67 pearson r^2', markersize = markersize)\n",
    "plt.plot(percentiles, log_avg_lin_pearson,  marker = 'o', color = color_avg, label = 'log avg no adj lin pearson r^2', markersize = markersize)\n",
    "plt.ylim([0,1.0])\n",
    "#plt.yticks([0,0.2,0.4,0.6,0.8,1.0],[])\n",
    "#plt.xticks([50,60,70,80,90,100])#,90,80,70,60,50],[])\n",
    "#plt.xlim([50,100])\n",
    "plt.xlim([0.25,2.25])\n",
    "#plt.xticks([0.25,0.5,0.75,1,1.25,1.5,1.75,2,2.25],[])#,90,80,70,60,50],[])\n",
    "figure.set_size_inches(2.125,1.25)\n",
    "plt.tight_layout()\n",
    "figure.set_size_inches(2.125,1.25)\n",
    "plt.savefig('./figures/pearson_lfsce_10.svg', dpi = 300)\n",
    "plt.show()\n",
    "\n",
    "figure = plt.figure()\n",
    "plt.plot(percentiles, ashr_spearman,  marker = 'o', color = color_ashr, label = 'ashr pearson r^2', markersize = markersize)\n",
    "plt.plot(percentiles, l61_spearman,  marker = 'o', color = color_l61, label = 'l61 pearson r^2', markersize = markersize)\n",
    "plt.plot(percentiles, l62_spearman,  marker = 'o', color = color_l62,  label = 'l62 pearson r^2', markersize = markersize)\n",
    "#plt.plot(percentiles, l67_spearman,  marker = 'o', color = color_l67, label = 'l67 pearson r^2', markersize = markersize)\n",
    "plt.plot(percentiles, log_avg_lin_spearman,  marker = 'o', color = color_avg, label = 'log avg no adj lin pearson r^2', markersize = markersize)\n",
    "plt.ylim([0,0.5])\n",
    "#plt.yticks([-0.1,0,0.1,0.2,0.3,0.4],[])\n",
    "#plt.xticks([100,90,80,70,60,50],[])\n",
    "plt.xlim([0.25,2.25])\n",
    "#plt.xticks([0.25,0.5,0.75,1,1.25,1.5,1.75,2,2.25],[])\n",
    "figure.set_size_inches(2.125,1.25)\n",
    "plt.tight_layout()\n",
    "figure.set_size_inches(2.125,1.25)\n",
    "plt.savefig('./figures/spearman_lfsce_10.svg', dpi = 300)\n",
    "plt.show()\n",
    "\n",
    "\n",
    "print (ashr_pearson)\n",
    "print (ashr_spearman)"
   ]
  },
  {
   "cell_type": "code",
   "execution_count": 131,
   "id": "2118e8db-811a-4056-8539-a75f6d9683aa",
   "metadata": {},
   "outputs": [
    {
     "name": "stdout",
     "output_type": "stream",
     "text": [
      "100\n",
      "95\n",
      "90\n",
      "85\n",
      "80\n",
      "75\n",
      "70\n",
      "65\n",
      "60\n",
      "55\n",
      "50\n",
      "45\n",
      "40\n",
      "35\n",
      "30\n",
      "25\n",
      "20\n",
      "15\n",
      "10\n",
      "5\n"
     ]
    },
    {
     "data": {
      "image/png": "[encoded data removed]",
      "text/plain": [
       "<Figure size 153x90 with 1 Axes>"
      ]
     },
     "metadata": {
      "needs_background": "light"
     },
     "output_type": "display_data"
    },
    {
     "data": {
      "image/png": "[encoded data removed]",
      "text/plain": [
       "<Figure size 153x90 with 1 Axes>"
      ]
     },
     "metadata": {
      "needs_background": "light"
     },
     "output_type": "display_data"
    },
    {
     "name": "stdout",
     "output_type": "stream",
     "text": [
      "[0.6508961294193807, 0.7239052254732105, 0.7402604100408274, 0.7140345568829686, 0.7316735765470304, 0.7277738850163729, 0.5770373321365767, 0.3033729955031097, 0.39200074496974363, 0.00038913490308761605, 0.0054539119451206255, 0.00715279891560621, 0.008938221859875818, 0.02371571652300605, 0.029561389621790304, 0.023452477655088642, 0.04502843636340234, 0.029001969987405164, 0.024883004224752692, 0.11306031640860753]\n",
      "[0.29360983843742466, 0.317918992414484, 0.3224675760286226, 0.2628403184180873, 0.27472579499723826, 0.2287290291234388, 0.14942341292952824, 0.10609948971979348, 0.04706825793669513, -0.0009250243427458617, -0.026239629558170947, -0.008435314685314685, 0.016764588267864287, 0.11755656108597284, 0.09121111446692841, 0.09498069498069499, 0.04236453201970442, -0.0220214568040655, -0.11071428571428568, -0.1666666666666667]\n"
     ]
    }
   ],
   "source": [
    "#do r2 with decreasing percentile of avg trp library normalized values \n",
    "#trp_normed_combo\n",
    "\n",
    "ashr_pearson = []\n",
    "ashr_spearman = []\n",
    "\n",
    "l61_pearson = []\n",
    "l61_spearman = []\n",
    "\n",
    "l62_pearson = []\n",
    "l62_spearman = []\n",
    "\n",
    "l67_pearson = []\n",
    "l67_spearman = []\n",
    "\n",
    "log_avg_lin_pearson = []\n",
    "log_avg_lin_spearman = []\n",
    "\n",
    "log_avg_lin_adj_pearson = []\n",
    "log_avg_lin_adj_spearman = []\n",
    "\n",
    "percentiles = []\n",
    "#with higher and lower \n",
    "for p in list(range(100,0,-5)):\n",
    "    #linear activation \n",
    "    print (p)\n",
    "    percentile_cutoff = np.percentile(compare.ashr_lfcSE_HIS_TRP_10mM.to_list(),p)\n",
    "    percentiles.append(percentile_cutoff)\n",
    "    temp = compare[compare.ashr_lfcSE_HIS_TRP_10mM <= percentile_cutoff]\n",
    "    #print (temp.shape, p, percentile_cutoff, temp.on_target.value_counts())\n",
    "    ashr_pearson.append(stats.pearsonr(temp['ashr_log2FoldChange_HIS_TRP_2mM'],\n",
    "                         np.log(temp['Fold activation']))[0]**2)\n",
    "\n",
    "    ashr_spearman.append(stats.spearmanr(temp['ashr_log2FoldChange_HIS_TRP_2mM'],\n",
    "                         np.log(temp['Fold activation']))[0])\n",
    "    \n",
    "    l61_pearson.append(stats.pearsonr(temp['log2_enrich_l61_2mM'],\n",
    "                         np.log(temp['Fold activation']))[0]**2)\n",
    "\n",
    "    l61_spearman.append(stats.spearmanr(temp['log2_enrich_l61_2mM'],\n",
    "                         np.log(temp['Fold activation']))[0])\n",
    "    \n",
    "    l62_pearson.append(stats.pearsonr(temp['log2_enrich_l62_2mM'],\n",
    "                         np.log(temp['Fold activation']))[0]**2)\n",
    "\n",
    "    l62_spearman.append(stats.spearmanr(temp['log2_enrich_l62_2mM'],\n",
    "                         np.log(temp['Fold activation']))[0])\n",
    "    \n",
    "    \n",
    "    log_avg_lin_pearson.append(stats.pearsonr(temp['avg_log2_no_adj_counts_2mM'],\n",
    "                         np.log(temp['Fold activation']))[0]**2)\n",
    "\n",
    "    log_avg_lin_spearman.append(stats.spearmanr(temp['avg_log2_no_adj_counts_2mM'],\n",
    "                         np.log(temp['Fold activation']))[0])\n",
    "    \n",
    "color_ashr = '#a02c2c'\n",
    "color_avg = '#806600'\n",
    "color_l67 = '#d4aa00'\n",
    "color_l62 = '#ffe680'\n",
    "color_l61 = '#c4c8b7'\n",
    "markersize = 3\n",
    "figure = plt.figure()    \n",
    "plt.plot(percentiles, ashr_pearson,  marker = 'o', color = color_ashr, label = 'ashr pearson r^2', markersize = markersize)\n",
    "plt.plot(percentiles, l61_pearson,  marker = 'o', color = color_l61, label = 'l61 pearson r^2', markersize = markersize)\n",
    "plt.plot(percentiles, l62_pearson,  marker = 'o', color = color_l62,  label = 'l62 pearson r^2', markersize = markersize)\n",
    "#plt.plot(percentiles, l67_pearson,  marker = 'o', color = color_l67, label = 'l67 pearson r^2', markersize = markersize)\n",
    "plt.plot(percentiles, log_avg_lin_pearson,  marker = 'o', color = color_avg, label = 'log avg no adj lin pearson r^2', markersize = markersize)\n",
    "plt.ylim([0,1.0])\n",
    "#plt.yticks([0,0.2,0.4,0.6,0.8,1.0],[])\n",
    "#plt.xticks([50,60,70,80,90,100])#,90,80,70,60,50],[])\n",
    "#plt.xlim([50,100])\n",
    "plt.xlim([0.25,2.25])\n",
    "#plt.xticks([0.25,0.5,0.75,1,1.25,1.5,1.75,2,2.25],[])#,90,80,70,60,50],[])\n",
    "figure.set_size_inches(2.125,1.25)\n",
    "plt.tight_layout()\n",
    "figure.set_size_inches(2.125,1.25)\n",
    "plt.savefig('./figures/pearson_lfsce_2.svg', dpi = 300)\n",
    "plt.show()\n",
    "\n",
    "figure = plt.figure()\n",
    "plt.plot(percentiles, ashr_spearman,  marker = 'o', color = color_ashr, label = 'ashr pearson r^2', markersize = markersize)\n",
    "plt.plot(percentiles, l61_spearman,  marker = 'o', color = color_l61, label = 'l61 pearson r^2', markersize = markersize)\n",
    "plt.plot(percentiles, l62_spearman,  marker = 'o', color = color_l62,  label = 'l62 pearson r^2', markersize = markersize)\n",
    "#plt.plot(percentiles, l67_spearman,  marker = 'o', color = color_l67, label = 'l67 pearson r^2', markersize = markersize)\n",
    "plt.plot(percentiles, log_avg_lin_spearman,  marker = 'o', color = color_avg, label = 'log avg no adj lin pearson r^2', markersize = markersize)\n",
    "plt.ylim([0,0.5])\n",
    "#plt.yticks([-0.1,0,0.1,0.2,0.3,0.4],[])\n",
    "#plt.xticks([100,90,80,70,60,50],[])\n",
    "plt.xlim([0.25,2.25])\n",
    "#plt.xticks([0.25,0.5,0.75,1,1.25,1.5,1.75,2,2.25],[])\n",
    "figure.set_size_inches(2.125,1.25)\n",
    "plt.tight_layout()\n",
    "figure.set_size_inches(2.125,1.25)\n",
    "plt.savefig('./figures/spearman_lfsce_2.svg', dpi = 300)\n",
    "plt.show()\n",
    "\n",
    "\n",
    "print (ashr_pearson)\n",
    "print (ashr_spearman)"
   ]
  },
  {
   "cell_type": "code",
   "execution_count": 138,
   "id": "32e54b8e-b923-4a05-aa69-177f0a8efc18",
   "metadata": {},
   "outputs": [
    {
     "data": {
      "image/png": "[encoded data removed]",
      "text/plain": [
       "<Figure size 180x180 with 1 Axes>"
      ]
     },
     "metadata": {
      "needs_background": "light"
     },
     "output_type": "display_data"
    }
   ],
   "source": [
    "#on target vs off target \n",
    "on_targets = \"#ffcc00ff\"\n",
    "off_targets = \"#782167ff\"\n",
    "f, ax = plt.subplots(figsize=(2.5, 2.5))\n",
    "plt.errorbar(x = compare[compare.on_target == False]['log_fa'],\n",
    "             y = compare[compare.on_target == False]['ashr_log2FoldChange_HIS_TRP_10mM'], \n",
    "             yerr= compare[compare.on_target == False]['ashr_lfcSE_HIS_TRP_10mM'], \n",
    "             fmt=\"o\", elinewidth = 2, alpha = 0.75, color = off_targets, capsize = 3, markersize = 5, ecolor = 'gray')\n",
    "plt.errorbar(x = compare[compare.on_target == True]['log_fa'],\n",
    "             y = compare[compare.on_target == True]['ashr_log2FoldChange_HIS_TRP_10mM'], \n",
    "             yerr= compare[compare.on_target == True]['ashr_lfcSE_HIS_TRP_10mM'], \n",
    "             fmt=\"o\", elinewidth = 2, alpha = 0.75, color = on_targets, capsize = 3, markersize = 5, ecolor = 'gray')#plt.xlabel('Log2 fold change')\n",
    "#plt.ylabel('Log fold activation')\n",
    "plt.tight_layout()\n",
    "plt.savefig('./figures/' + 'ashr_v_log_fa_10.svg', dpi = 300)\n",
    "plt.show()"
   ]
  },
  {
   "cell_type": "code",
   "execution_count": 166,
   "id": "fda50287-7bac-4b3e-8ab9-43ba13ad6ca1",
   "metadata": {},
   "outputs": [
    {
     "data": {
      "image/png": "[encoded data removed]",
      "text/plain": [
       "<Figure size 216x216 with 1 Axes>"
      ]
     },
     "metadata": {
      "needs_background": "light"
     },
     "output_type": "display_data"
    }
   ],
   "source": [
    "#on target vs off target \n",
    "on_targets = \"#ffcc00ff\"\n",
    "off_targets = \"#782167ff\"\n",
    "f, ax = plt.subplots(figsize=(3, 3))\n",
    "plt.errorbar(x = compare[compare.on_target == False]['ashr_log2FoldChange_HIS_TRP_2mM'],\n",
    "             y = compare[compare.on_target == False]['ashr_log2FoldChange_HIS_TRP_10mM'], \n",
    "             yerr= compare[compare.on_target == False]['ashr_lfcSE_HIS_TRP_10mM'], \n",
    "             xerr= compare[compare.on_target == False]['ashr_lfcSE_HIS_TRP_2mM'], \n",
    "             fmt=\"o\", elinewidth = 1, alpha = 0.75, color = off_targets, capsize = 3, markersize = 4, ecolor = 'gray')\n",
    "plt.errorbar(x = compare[compare.on_target == True]['ashr_log2FoldChange_HIS_TRP_2mM'],\n",
    "             y = compare[compare.on_target == True]['ashr_log2FoldChange_HIS_TRP_10mM'], \n",
    "             yerr= compare[compare.on_target == True]['ashr_lfcSE_HIS_TRP_10mM'], \n",
    "             xerr= compare[compare.on_target == True]['ashr_lfcSE_HIS_TRP_2mM'], \n",
    "             fmt=\"o\", elinewidth = 1, alpha = 0.75, color = on_targets, capsize = 3, markersize = 4, ecolor = 'gray')#plt.xlabel('Log2 fold change')\n",
    "#plt.ylabel('Log fold activation')\n",
    "plt.plot([0,12.5],[0,12.5], linestyle = '--', color = 'red', lw = 1)\n",
    "#plt.xlim([0,12.25], [0,12.25])\n",
    "plt.xlim([-1,10.25])#, [0,12.25])\n",
    "plt.ylim([-1,12])\n",
    "plt.tight_layout()\n",
    "plt.savefig('./figures/' + 'ashr_v_log_fa_10_2.svg', dpi = 300)\n",
    "plt.savefig('./figures/' + 'ashr_v_log_fa_10_2.png', dpi = 300)\n",
    "plt.show()"
   ]
  },
  {
   "cell_type": "code",
   "execution_count": 221,
   "id": "112f744d-e07c-4904-b907-885b3c07e19d",
   "metadata": {},
   "outputs": [
    {
     "data": {
      "image/png": "[encoded data removed]",
      "text/plain": [
       "<Figure size 216x216 with 1 Axes>"
      ]
     },
     "metadata": {
      "needs_background": "light"
     },
     "output_type": "display_data"
    }
   ],
   "source": [
    "#on target vs off target \n",
    "on_targets = \"#ffcc00ff\"\n",
    "off_targets = \"#782167ff\"\n",
    "f, ax = plt.subplots(figsize=(3, 3))\n",
    "plt.errorbar(x = compare[compare.on_target == False]['ashr_log2FoldChange_HIS_TRP_2mM'],\n",
    "             y = compare[compare.on_target == False]['ashr_log2FoldChange_HIS_TRP_10mM'], \n",
    "             #yerr= compare[compare.on_target == False]['ashr_lfcSE_HIS_TRP_10mM'], \n",
    "             #xerr= compare[compare.on_target == False]['ashr_lfcSE_HIS_TRP_2mM'], \n",
    "             fmt=\"o\", elinewidth = 1, alpha = 0.75, color = off_targets, capsize = 3, markersize = 4, ecolor = 'gray')\n",
    "plt.errorbar(x = compare[compare.on_target == True]['ashr_log2FoldChange_HIS_TRP_2mM'],\n",
    "             y = compare[compare.on_target == True]['ashr_log2FoldChange_HIS_TRP_10mM'], \n",
    "             #yerr= compare[compare.on_target == True]['ashr_lfcSE_HIS_TRP_10mM'], \n",
    "             #xerr= compare[compare.on_target == True]['ashr_lfcSE_HIS_TRP_2mM'], \n",
    "             fmt=\"o\", elinewidth = 1, alpha = 0.75, color = on_targets, capsize = 3, markersize = 4, ecolor = 'gray')#plt.xlabel('Log2 fold change')\n",
    "#plt.ylabel('Log fold activation')\n",
    "plt.plot([0,12.5],[0,12.5], linestyle = '--', color = 'red', lw = 1)\n",
    "#plt.xlim([0,12.25], [0,12.25])\n",
    "plt.xlim([-0.5,1])#, [0,12.25])\n",
    "plt.ylim([-0.5,1])\n",
    "plt.tight_layout()\n",
    "#plt.savefig('./figures/' + 'ashr_v_log_fa_10_2.svg', dpi = 300)\n",
    "#plt.savefig('./figures/' + 'ashr_v_log_fa_10_2.png', dpi = 300)\n",
    "plt.show()"
   ]
  },
  {
   "cell_type": "code",
   "execution_count": 177,
   "id": "60583fcc-ce03-4d37-9790-d07d06925047",
   "metadata": {},
   "outputs": [
    {
     "data": {
      "image/png": "[encoded data removed]",
      "text/plain": [
       "<Figure size 216x216 with 1 Axes>"
      ]
     },
     "metadata": {
      "needs_background": "light"
     },
     "output_type": "display_data"
    }
   ],
   "source": [
    "#on target vs off target \n",
    "on_targets = \"#ffcc00ff\"\n",
    "off_targets = \"#782167ff\"\n",
    "f, ax = plt.subplots(figsize=(3, 3))\n",
    "plt.errorbar(x = compare[compare.on_target == False]['avg_log2_no_adj_counts_2mM'],\n",
    "             y = compare[compare.on_target == False]['avg_log2_no_adj_counts_10mM'], \n",
    "             #yerr= compare[compare.on_target == False]['ashr_lfcSE_HIS_TRP_10mM'], \n",
    "             #xerr= compare[compare.on_target == False]['ashr_lfcSE_HIS_TRP_2mM'], \n",
    "             fmt=\"o\", elinewidth = 1, alpha = 0.75, color = off_targets, capsize = 3, markersize = 4, ecolor = 'gray')\n",
    "plt.errorbar(x = compare[compare.on_target == True]['avg_log2_no_adj_counts_2mM'],\n",
    "             y = compare[compare.on_target == True]['avg_log2_no_adj_counts_10mM'], \n",
    "             #yerr= compare[compare.on_target == True]['ashr_lfcSE_HIS_TRP_10mM'], \n",
    "             #xerr= compare[compare.on_target == True]['ashr_lfcSE_HIS_TRP_2mM'], \n",
    "             fmt=\"o\", elinewidth = 1, alpha = 0.75, color = on_targets, capsize = 3, markersize = 4, ecolor = 'gray')#plt.xlabel('Log2 fold change')\n",
    "#plt.ylabel('Log fold activation')\n",
    "plt.plot([-7,7],[-7,7], linestyle = '--', color = 'red', lw = 1)\n",
    "plt.xlim([-5.25,6.2])\n",
    "#plt.xlim([-1,10.25])#, [0,12.25])\n",
    "plt.ylim([-6.25,6.5])\n",
    "plt.tight_layout()\n",
    "plt.savefig('./figures/' + 'ashr_v_log_fa_10_2_avg.svg', dpi = 300)\n",
    "plt.savefig('./figures/' + 'ashr_v_log_fa_10_2_avg.png', dpi = 300)\n",
    "plt.show()"
   ]
  },
  {
   "cell_type": "code",
   "execution_count": 139,
   "id": "5c4559cf-2601-4aa1-a411-9f93061a7708",
   "metadata": {},
   "outputs": [
    {
     "data": {
      "image/png": "[encoded data removed]",
      "text/plain": [
       "<Figure size 180x180 with 1 Axes>"
      ]
     },
     "metadata": {
      "needs_background": "light"
     },
     "output_type": "display_data"
    }
   ],
   "source": [
    "#on target vs off target \n",
    "on_targets = \"#ffcc00ff\"\n",
    "off_targets = \"#782167ff\"\n",
    "f, ax = plt.subplots(figsize=(2.5, 2.5))\n",
    "plt.errorbar(x = compare[compare.on_target == False]['log_fa'],\n",
    "             y = compare[compare.on_target == False]['ashr_log2FoldChange_HIS_TRP_2mM'], \n",
    "             yerr= compare[compare.on_target == False]['ashr_lfcSE_HIS_TRP_2mM'], \n",
    "             fmt=\"o\", elinewidth = 2, alpha = 0.75, color = off_targets, capsize = 3, markersize = 5, ecolor = 'gray')\n",
    "plt.errorbar(x = compare[compare.on_target == True]['log_fa'],\n",
    "             y = compare[compare.on_target == True]['ashr_log2FoldChange_HIS_TRP_2mM'], \n",
    "             yerr= compare[compare.on_target == True]['ashr_lfcSE_HIS_TRP_2mM'], \n",
    "             fmt=\"o\", elinewidth = 2, alpha = 0.75, color = on_targets, capsize = 3, markersize = 5, ecolor = 'gray')#plt.xlabel('Log2 fold change')\n",
    "#plt.ylabel('Log fold activation')\n",
    "plt.tight_layout()\n",
    "plt.savefig('./figures/' + 'ashr_v_log_fa_2.svg', dpi = 300)\n",
    "plt.show()"
   ]
  },
  {
   "cell_type": "code",
   "execution_count": 88,
   "id": "40a2a078-0da3-47b2-8280-5424a753b9ed",
   "metadata": {},
   "outputs": [],
   "source": [
    "compare['ashr_log2FoldChange_HIS_TRP_10mM_mm']= (compare['ashr_log2FoldChange_HIS_TRP_10mM'] - compare['ashr_log2FoldChange_HIS_TRP_10mM'].min())/(compare['ashr_log2FoldChange_HIS_TRP_10mM'].max() - compare['ashr_log2FoldChange_HIS_TRP_10mM'].min())\n",
    "compare['ashr_log2FoldChange_HIS_TRP_2mM_mm']= (compare['ashr_log2FoldChange_HIS_TRP_2mM'] - compare['ashr_log2FoldChange_HIS_TRP_2mM'].min())/(compare['ashr_log2FoldChange_HIS_TRP_2mM'].max() - compare['ashr_log2FoldChange_HIS_TRP_2mM'].min())"
   ]
  },
  {
   "cell_type": "code",
   "execution_count": 303,
   "id": "667bf362-a23e-4719-99d1-133f9570766d",
   "metadata": {},
   "outputs": [],
   "source": [
    "compare['diff_deseq2'] = compare['ashr_log2FoldChange_HIS_TRP_10mM'] - compare['ashr_log2FoldChange_HIS_TRP_2mM']\n",
    "compare['diff_deseq2_log2'] = compare['avg_log2_no_adj_counts_10mM'] - compare['avg_log2_no_adj_counts_2mM']\n",
    "\n",
    "compare['diff_deseq2_mm'] = compare['ashr_log2FoldChange_HIS_TRP_10mM_mm'] - compare['ashr_log2FoldChange_HIS_TRP_2mM_mm']\n",
    "compare['diff_deseq2_adj'] = compare['diff_deseq2'] / compare['ashr_log2FoldChange_HIS_TRP_2mM']"
   ]
  },
  {
   "cell_type": "code",
   "execution_count": 277,
   "id": "e90ad7e7-c1d1-4447-86e0-59a2f0b90e94",
   "metadata": {},
   "outputs": [
    {
     "data": {
      "image/png": "[encoded data removed]",
      "text/plain": [
       "<Figure size 144x144 with 1 Axes>"
      ]
     },
     "metadata": {
      "needs_background": "light"
     },
     "output_type": "display_data"
    }
   ],
   "source": [
    "#on target vs off target \n",
    "on_targets = \"#ffcc00ff\"\n",
    "off_targets = \"#782167ff\"\n",
    "f, ax = plt.subplots(figsize=(2, 2))\n",
    "plt.errorbar(x = compare[compare.on_target == False]['log_fa'],\n",
    "             y = compare[compare.on_target == False]['diff_deseq2_adj'], \n",
    "             #yerr= compare[compare.on_target == False]['ashr_lfcSE_HIS_TRP_10mM'], \n",
    "             fmt=\"o\", elinewidth = 2, alpha = 0.75, color = off_targets, capsize = 3, markersize = 5, ecolor = 'gray')\n",
    "plt.errorbar(x = compare[compare.on_target == True]['log_fa'],\n",
    "             y = compare[compare.on_target == True]['diff_deseq2_adj'], \n",
    "             #yerr= compare[compare.on_target == True]['ashr_lfcSE_HIS_TRP_10mM'], \n",
    "             fmt=\"o\", elinewidth = 2, alpha = 0.75, color = on_targets, capsize = 3, markersize = 5, ecolor = 'gray')#plt.xlabel('Log2 fold change')\n",
    "#plt.ylabel('Log fold activation')\n",
    "plt.tight_layout()\n",
    "#plt.savefig('./figures/' + 'ashr_v_log_fa.svg', dpi = 300)\n",
    "plt.show()"
   ]
  },
  {
   "cell_type": "code",
   "execution_count": 278,
   "id": "3e118cd1-85c6-4ddb-aeb8-4bc17a061480",
   "metadata": {},
   "outputs": [
    {
     "data": {
      "image/png": "[encoded data removed]",
      "text/plain": [
       "<Figure size 144x144 with 1 Axes>"
      ]
     },
     "metadata": {
      "needs_background": "light"
     },
     "output_type": "display_data"
    }
   ],
   "source": [
    "#on target vs off target \n",
    "on_targets = \"#ffcc00ff\"\n",
    "off_targets = \"#782167ff\"\n",
    "f, ax = plt.subplots(figsize=(2, 2))\n",
    "plt.errorbar(x = compare[compare.on_target == False]['log_fa'],\n",
    "             y = compare[compare.on_target == False]['diff_deseq2'], \n",
    "             #yerr= compare[compare.on_target == False]['ashr_lfcSE_HIS_TRP_10mM'], \n",
    "             fmt=\"o\", elinewidth = 2, alpha = 0.75, color = off_targets, capsize = 3, markersize = 5, ecolor = 'gray')\n",
    "plt.errorbar(x = compare[compare.on_target == True]['log_fa'],\n",
    "             y = compare[compare.on_target == True]['diff_deseq2'], \n",
    "             #yerr= compare[compare.on_target == True]['ashr_lfcSE_HIS_TRP_10mM'], \n",
    "             fmt=\"o\", elinewidth = 2, alpha = 0.75, color = on_targets, capsize = 3, markersize = 5, ecolor = 'gray')#plt.xlabel('Log2 fold change')\n",
    "#plt.ylabel('Log fold activation')\n",
    "plt.tight_layout()\n",
    "#plt.savefig('./figures/' + 'ashr_v_log_fa.svg', dpi = 300)\n",
    "plt.show()"
   ]
  },
  {
   "cell_type": "code",
   "execution_count": 279,
   "id": "19ab2ec7-953f-49dd-835e-24b1106ca2cc",
   "metadata": {},
   "outputs": [
    {
     "data": {
      "image/png": "[encoded data removed]",
      "text/plain": [
       "<Figure size 144x144 with 1 Axes>"
      ]
     },
     "metadata": {
      "needs_background": "light"
     },
     "output_type": "display_data"
    }
   ],
   "source": [
    "#on target vs off target \n",
    "on_targets = \"#ffcc00ff\"\n",
    "off_targets = \"#782167ff\"\n",
    "f, ax = plt.subplots(figsize=(2, 2))\n",
    "plt.errorbar(x = compare[compare.on_target == False]['log_fa'],\n",
    "             y = compare[compare.on_target == False]['diff_deseq2_mm'], \n",
    "             #yerr= compare[compare.on_target == False]['ashr_lfcSE_HIS_TRP_10mM'], \n",
    "             fmt=\"o\", elinewidth = 2, alpha = 0.75, color = off_targets, capsize = 3, markersize = 5, ecolor = 'gray')\n",
    "plt.errorbar(x = compare[compare.on_target == True]['log_fa'],\n",
    "             y = compare[compare.on_target == True]['diff_deseq2_mm'], \n",
    "             #yerr= compare[compare.on_target == True]['ashr_lfcSE_HIS_TRP_10mM'], \n",
    "             fmt=\"o\", elinewidth = 2, alpha = 0.75, color = on_targets, capsize = 3, markersize = 5, ecolor = 'gray')#plt.xlabel('Log2 fold change')\n",
    "#plt.ylabel('Log fold activation')\n",
    "plt.tight_layout()\n",
    "#plt.savefig('./figures/' + 'ashr_v_log_fa.svg', dpi = 300)\n",
    "plt.show()"
   ]
  },
  {
   "cell_type": "code",
   "execution_count": 280,
   "id": "1490b70f-d96a-40f4-a5d6-5920f1f8d5b3",
   "metadata": {},
   "outputs": [
    {
     "data": {
      "image/png": "[encoded data removed]",
      "text/plain": [
       "<Figure size 144x144 with 1 Axes>"
      ]
     },
     "metadata": {
      "needs_background": "light"
     },
     "output_type": "display_data"
    }
   ],
   "source": [
    "f, ax = plt.subplots(figsize=(2, 2))\n",
    "sns.scatterplot(data = compare[compare.ashr_padj_HIS_TRP_2mM <= 0.1], x = 'ashr_log2FoldChange_HIS_TRP_2mM', y = 'ashr_log2FoldChange_HIS_TRP_10mM', hue = 'on_target')\n",
    "plt.plot([0,10], [0,10])\n",
    "plt.show()"
   ]
  },
  {
   "cell_type": "code",
   "execution_count": 281,
   "id": "79fec96f-abc5-4c1a-915d-8dd4bb7bec84",
   "metadata": {},
   "outputs": [
    {
     "data": {
      "text/plain": [
       "(-1.0, 1.0)"
      ]
     },
     "execution_count": 281,
     "metadata": {},
     "output_type": "execute_result"
    },
    {
     "data": {
      "image/png": "[encoded data removed]",
      "text/plain": [
       "<Figure size 144x144 with 1 Axes>"
      ]
     },
     "metadata": {
      "needs_background": "light"
     },
     "output_type": "display_data"
    }
   ],
   "source": [
    "f, ax = plt.subplots(figsize=(2, 2))\n",
    "sns.boxplot(data = compare[compare.ashr_padj_HIS_TRP_2mM > 0.1], y = 'diff_deseq2', x = 'on_target')\n",
    "plt.ylim([-1,1])\n"
   ]
  },
  {
   "cell_type": "code",
   "execution_count": 283,
   "id": "606497b7-25dc-4510-aac0-3dbab4b4eb67",
   "metadata": {},
   "outputs": [
    {
     "data": {
      "text/plain": [
       "<AxesSubplot:ylabel='diff_deseq2'>"
      ]
     },
     "execution_count": 283,
     "metadata": {},
     "output_type": "execute_result"
    },
    {
     "data": {
      "image/png": "[encoded data removed]",
      "text/plain": [
       "<Figure size 144x144 with 1 Axes>"
      ]
     },
     "metadata": {
      "needs_background": "light"
     },
     "output_type": "display_data"
    }
   ],
   "source": [
    "f, ax = plt.subplots(figsize=(2, 2))\n",
    "sns.boxplot(data = compare, y = 'diff_deseq2',showfliers = False)\n",
    "\n"
   ]
  },
  {
   "cell_type": "code",
   "execution_count": 330,
   "id": "70a6db25-453d-4772-8fdd-d76a420ddb45",
   "metadata": {},
   "outputs": [
    {
     "data": {
      "image/png": "[encoded data removed]",
      "text/plain": [
       "<Figure size 216x144 with 1 Axes>"
      ]
     },
     "metadata": {
      "needs_background": "light"
     },
     "output_type": "display_data"
    }
   ],
   "source": [
    "sns.displot(data = compare, x = 'diff_deseq2', kind = 'ecdf', stat = 'count',height=2 , aspect = 1.5, color= '#006680ff')#,showfliers = False)\n",
    "plt.plot([0,0],[0,144], linestyle = '--', lw = 1.5, c = 'gray')\n",
    "plt.plot([-4,4.5],[99,99], linestyle = '-', lw = 1, color = '#aa0000ff')\n",
    "plt.xlabel('')\n",
    "plt.ylabel('')\n",
    "#plt.xlim(-5,5)\n",
    "\n",
    "plt.xlim([-3.24,4.06])\n",
    "plt.savefig('./figures/ecdf_diff_adj.svg')\n"
   ]
  },
  {
   "cell_type": "code",
   "execution_count": 331,
   "id": "446b6b93-c2e2-4d3b-992d-118110cb2ce1",
   "metadata": {},
   "outputs": [
    {
     "data": {
      "text/plain": [
       "2.6651713290392256"
      ]
     },
     "execution_count": 331,
     "metadata": {},
     "output_type": "execute_result"
    }
   ],
   "source": [
    "compare.diff_deseq2_log2.max()"
   ]
  },
  {
   "cell_type": "code",
   "execution_count": 332,
   "id": "a854003f-3c8e-4e66-b341-7426a49d29ba",
   "metadata": {},
   "outputs": [
    {
     "data": {
      "image/png": "[encoded data removed]",
      "text/plain": [
       "<Figure size 216x144 with 1 Axes>"
      ]
     },
     "metadata": {
      "needs_background": "light"
     },
     "output_type": "display_data"
    }
   ],
   "source": [
    "sns.displot(data = compare, x = 'diff_deseq2_log2', kind = 'ecdf', stat = 'count',height=2 , aspect = 1.5, color = '#006680ff')#,showfliers = False)\n",
    "plt.plot([0,0],[0,144], linestyle = '--', lw = 1.5, c= 'gray')\n",
    "plt.plot([-4,4.5],[122,122], linestyle = '-', lw = 1, c = '#aa0000ff')\n",
    "plt.xlabel('')\n",
    "plt.ylabel('')\n",
    "#plt.xlim(-5,5)\n",
    "plt.xlim([-3.96,2.67])\n",
    "plt.savefig('./figures/ecdf_diff_adj_log2.svg')\n"
   ]
  },
  {
   "cell_type": "code",
   "execution_count": null,
   "id": "326daaba-458d-4cbc-969a-649373878aa3",
   "metadata": {},
   "outputs": [],
   "source": [
    "compare[compare['ashr_log2FoldChange_HIS_TRP_2mM'] > compare['ashr_log2FoldChange_HIS_TRP_10mM']].diff_deseq2#, 'diff_deseq2_mm']].sort_values('diff_deseq2_mm')"
   ]
  },
  {
   "cell_type": "code",
   "execution_count": 296,
   "id": "a0119842-c2cd-47c7-8604-d56bd2b14a61",
   "metadata": {},
   "outputs": [
    {
     "data": {
      "image/png": "[encoded data removed]",
      "text/plain": [
       "<Figure size 144x72 with 1 Axes>"
      ]
     },
     "metadata": {
      "needs_background": "light"
     },
     "output_type": "display_data"
    }
   ],
   "source": [
    "sns.displot(data = compare[compare['ashr_log2FoldChange_HIS_TRP_2mM'] > compare['ashr_log2FoldChange_HIS_TRP_10mM']], x = 'diff_deseq2', kind = 'ecdf', stat = 'count',height=1 , aspect = 2)#,showfliers = False)\n",
    "plt.plot([0,0],[0,144], linestyle = '--', lw = 2)\n",
    "plt.xlabel('')\n",
    "plt.ylabel('')\n",
    "#plt.xlim(-5,5)\n",
    "plt.savefig('./figures/ecdf_diff_adj.svg')\n"
   ]
  },
  {
   "cell_type": "code",
   "execution_count": 305,
   "id": "9c624b3f-4991-468e-b36b-4d940fa9d777",
   "metadata": {},
   "outputs": [
    {
     "data": {
      "text/plain": [
       "2     -0.046289\n",
       "3     -0.083046\n",
       "4     -0.041090\n",
       "5     -0.155185\n",
       "6     -1.771756\n",
       "         ...   \n",
       "139   -0.095867\n",
       "140   -0.157476\n",
       "141   -1.577050\n",
       "142   -1.556549\n",
       "143   -0.013979\n",
       "Name: diff_deseq2, Length: 122, dtype: float64"
      ]
     },
     "execution_count": 305,
     "metadata": {},
     "output_type": "execute_result"
    }
   ],
   "source": [
    "compare[compare['avg_log2_no_adj_counts_2mM'] > compare['avg_log2_no_adj_counts_10mM']].diff_deseq2#, 'diff_deseq2_mm']].sort_values('diff_deseq2_mm')"
   ]
  },
  {
   "cell_type": "code",
   "execution_count": 294,
   "id": "dea3e8e9-2b84-4201-b54a-45e48860aa5f",
   "metadata": {},
   "outputs": [
    {
     "data": {
      "text/html": [
       "<div>\n",
       "<style scoped>\n",
       "    .dataframe tbody tr th:only-of-type {\n",
       "        vertical-align: middle;\n",
       "    }\n",
       "\n",
       "    .dataframe tbody tr th {\n",
       "        vertical-align: top;\n",
       "    }\n",
       "\n",
       "    .dataframe thead th {\n",
       "        text-align: right;\n",
       "    }\n",
       "</style>\n",
       "<table border=\"1\" class=\"dataframe\">\n",
       "  <thead>\n",
       "    <tr style=\"text-align: right;\">\n",
       "      <th></th>\n",
       "      <th>PPI</th>\n",
       "      <th>ashr_log2FoldChange_HIS_TRP_2mM</th>\n",
       "      <th>ashr_log2FoldChange_HIS_TRP_10mM</th>\n",
       "      <th>diff_deseq2_mm</th>\n",
       "    </tr>\n",
       "  </thead>\n",
       "  <tbody>\n",
       "    <tr>\n",
       "      <th>131</th>\n",
       "      <td>DBD:Jerala_P11:AD:Jerala_P12</td>\n",
       "      <td>5.838431</td>\n",
       "      <td>2.786566</td>\n",
       "      <td>-0.349544</td>\n",
       "    </tr>\n",
       "    <tr>\n",
       "      <th>79</th>\n",
       "      <td>DBD:Jerala_P7:AD:Jerala_P8</td>\n",
       "      <td>3.515893</td>\n",
       "      <td>0.276204</td>\n",
       "      <td>-0.326272</td>\n",
       "    </tr>\n",
       "    <tr>\n",
       "      <th>130</th>\n",
       "      <td>DBD:Jerala_P11:AD:Jerala_P11</td>\n",
       "      <td>3.420064</td>\n",
       "      <td>0.184629</td>\n",
       "      <td>-0.324233</td>\n",
       "    </tr>\n",
       "    <tr>\n",
       "      <th>64</th>\n",
       "      <td>DBD:Jerala_P6:AD:Jerala_P5</td>\n",
       "      <td>3.343438</td>\n",
       "      <td>0.902530</td>\n",
       "      <td>-0.251543</td>\n",
       "    </tr>\n",
       "    <tr>\n",
       "      <th>90</th>\n",
       "      <td>DBD:Jerala_P8:AD:Jerala_P7</td>\n",
       "      <td>6.798557</td>\n",
       "      <td>5.026400</td>\n",
       "      <td>-0.251194</td>\n",
       "    </tr>\n",
       "    <tr>\n",
       "      <th>...</th>\n",
       "      <td>...</td>\n",
       "      <td>...</td>\n",
       "      <td>...</td>\n",
       "      <td>...</td>\n",
       "    </tr>\n",
       "    <tr>\n",
       "      <th>39</th>\n",
       "      <td>DBD:Jerala_P4:AD:Jerala_P4</td>\n",
       "      <td>1.456407</td>\n",
       "      <td>4.068089</td>\n",
       "      <td>0.234904</td>\n",
       "    </tr>\n",
       "    <tr>\n",
       "      <th>124</th>\n",
       "      <td>DBD:Jerala_P11:AD:Jerala_P5</td>\n",
       "      <td>3.142199</td>\n",
       "      <td>6.223179</td>\n",
       "      <td>0.247919</td>\n",
       "    </tr>\n",
       "    <tr>\n",
       "      <th>82</th>\n",
       "      <td>DBD:Jerala_P7:AD:Jerala_P11</td>\n",
       "      <td>0.414895</td>\n",
       "      <td>3.575402</td>\n",
       "      <td>0.302201</td>\n",
       "    </tr>\n",
       "    <tr>\n",
       "      <th>113</th>\n",
       "      <td>DBD:Jerala_P10:AD:Jerala_P6</td>\n",
       "      <td>0.205547</td>\n",
       "      <td>3.758015</td>\n",
       "      <td>0.341026</td>\n",
       "    </tr>\n",
       "    <tr>\n",
       "      <th>13</th>\n",
       "      <td>DBD:Jerala_P2:AD:Jerala_P2</td>\n",
       "      <td>0.213783</td>\n",
       "      <td>4.270145</td>\n",
       "      <td>0.386144</td>\n",
       "    </tr>\n",
       "  </tbody>\n",
       "</table>\n",
       "<p>144 rows × 4 columns</p>\n",
       "</div>"
      ],
      "text/plain": [
       "                              PPI  ashr_log2FoldChange_HIS_TRP_2mM  \\\n",
       "131  DBD:Jerala_P11:AD:Jerala_P12                         5.838431   \n",
       "79     DBD:Jerala_P7:AD:Jerala_P8                         3.515893   \n",
       "130  DBD:Jerala_P11:AD:Jerala_P11                         3.420064   \n",
       "64     DBD:Jerala_P6:AD:Jerala_P5                         3.343438   \n",
       "90     DBD:Jerala_P8:AD:Jerala_P7                         6.798557   \n",
       "..                            ...                              ...   \n",
       "39     DBD:Jerala_P4:AD:Jerala_P4                         1.456407   \n",
       "124   DBD:Jerala_P11:AD:Jerala_P5                         3.142199   \n",
       "82    DBD:Jerala_P7:AD:Jerala_P11                         0.414895   \n",
       "113   DBD:Jerala_P10:AD:Jerala_P6                         0.205547   \n",
       "13     DBD:Jerala_P2:AD:Jerala_P2                         0.213783   \n",
       "\n",
       "     ashr_log2FoldChange_HIS_TRP_10mM  diff_deseq2_mm  \n",
       "131                          2.786566       -0.349544  \n",
       "79                           0.276204       -0.326272  \n",
       "130                          0.184629       -0.324233  \n",
       "64                           0.902530       -0.251543  \n",
       "90                           5.026400       -0.251194  \n",
       "..                                ...             ...  \n",
       "39                           4.068089        0.234904  \n",
       "124                          6.223179        0.247919  \n",
       "82                           3.575402        0.302201  \n",
       "113                          3.758015        0.341026  \n",
       "13                           4.270145        0.386144  \n",
       "\n",
       "[144 rows x 4 columns]"
      ]
     },
     "execution_count": 294,
     "metadata": {},
     "output_type": "execute_result"
    }
   ],
   "source": [
    "compare[['PPI','ashr_log2FoldChange_HIS_TRP_2mM','ashr_log2FoldChange_HIS_TRP_10mM', 'diff_deseq2_mm']].sort_values('diff_deseq2_mm')"
   ]
  },
  {
   "cell_type": "code",
   "execution_count": 257,
   "id": "8f46990f-88da-48ab-b4fa-911a72966cb5",
   "metadata": {},
   "outputs": [
    {
     "data": {
      "text/plain": [
       "(45, 35)"
      ]
     },
     "execution_count": 257,
     "metadata": {},
     "output_type": "execute_result"
    }
   ],
   "source": [
    "compare[compare.diff_deseq2_adj > 0].shape"
   ]
  },
  {
   "cell_type": "code",
   "execution_count": 228,
   "id": "183d6940-af30-44eb-b2b5-2aa8445e1958",
   "metadata": {},
   "outputs": [
    {
     "data": {
      "text/plain": [
       "<AxesSubplot:xlabel='on_target', ylabel='diff_deseq2_adj'>"
      ]
     },
     "execution_count": 228,
     "metadata": {},
     "output_type": "execute_result"
    },
    {
     "data": {
      "image/png": "[encoded data removed]",
      "text/plain": [
       "<Figure size 144x144 with 1 Axes>"
      ]
     },
     "metadata": {
      "needs_background": "light"
     },
     "output_type": "display_data"
    }
   ],
   "source": [
    "f, ax = plt.subplots(figsize=(2, 2))\n",
    "sns.boxplot(data = compare[compare.ashr_padj_HIS_TRP_2mM <= 0.1], y = 'diff_deseq2_adj', x = 'on_target')\n",
    "#plt.ylim([-2,2])\n"
   ]
  },
  {
   "cell_type": "code",
   "execution_count": 230,
   "id": "b4891721-445c-4a7e-99ec-bbffe95530ca",
   "metadata": {},
   "outputs": [
    {
     "data": {
      "image/png": "[encoded data removed]",
      "text/plain": [
       "<Figure size 432x288 with 1 Axes>"
      ]
     },
     "metadata": {
      "needs_background": "light"
     },
     "output_type": "display_data"
    }
   ],
   "source": [
    "fig = plt.figure()\n",
    "sns.scatterplot(data = compare[compare.ashr_padj_HIS_TRP_2mM > 0.1], x = 'ashr_log2FoldChange_HIS_TRP_2mM', y = 'ashr_log2FoldChange_HIS_TRP_10mM', hue = 'on_target')\n",
    "plt.plot([0,10], [0,10])\n",
    "plt.xlim([0,1])\n",
    "plt.show()"
   ]
  },
  {
   "cell_type": "code",
   "execution_count": 231,
   "id": "9277ac4c-a723-4105-b7d3-292249edb35e",
   "metadata": {},
   "outputs": [
    {
     "data": {
      "text/plain": [
       "(-2.0, 2.0)"
      ]
     },
     "execution_count": 231,
     "metadata": {},
     "output_type": "execute_result"
    },
    {
     "data": {
      "image/png": "[encoded data removed]",
      "text/plain": [
       "<Figure size 432x288 with 1 Axes>"
      ]
     },
     "metadata": {
      "needs_background": "light"
     },
     "output_type": "display_data"
    }
   ],
   "source": [
    "sns.boxplot(data = compare[compare.ashr_padj_HIS_TRP_2mM > 0.1], y = 'diff_deseq2', x = 'on_target')\n",
    "plt.ylim([-2,2])"
   ]
  },
  {
   "cell_type": "code",
   "execution_count": 232,
   "id": "078b640a-3a18-40ed-887d-e7102f37e8f3",
   "metadata": {},
   "outputs": [
    {
     "data": {
      "text/plain": [
       "<AxesSubplot:xlabel='on_target', ylabel='diff_deseq2'>"
      ]
     },
     "execution_count": 232,
     "metadata": {},
     "output_type": "execute_result"
    },
    {
     "data": {
      "image/png": "[encoded data removed]",
      "text/plain": [
       "<Figure size 432x288 with 1 Axes>"
      ]
     },
     "metadata": {
      "needs_background": "light"
     },
     "output_type": "display_data"
    }
   ],
   "source": [
    "sns.boxplot(data = compare, y = 'diff_deseq2', x = 'on_target')\n"
   ]
  },
  {
   "cell_type": "code",
   "execution_count": 233,
   "id": "c4de6cd7-1937-48e4-9845-8e122648751b",
   "metadata": {},
   "outputs": [
    {
     "data": {
      "text/plain": [
       "<seaborn.axisgrid.FacetGrid at 0x7fb1d2513a30>"
      ]
     },
     "execution_count": 233,
     "metadata": {},
     "output_type": "execute_result"
    },
    {
     "data": {
      "image/png": "[encoded data removed]",
      "text/plain": [
       "<Figure size 360x360 with 1 Axes>"
      ]
     },
     "metadata": {
      "needs_background": "light"
     },
     "output_type": "display_data"
    }
   ],
   "source": [
    "sns.displot(compare[compare.ashr_padj_HIS_TRP_2mM > 0.1].diff_deseq2_adj)"
   ]
  },
  {
   "cell_type": "code",
   "execution_count": 235,
   "id": "a3e56066-1176-465c-b576-e7fa9d1b6ddd",
   "metadata": {},
   "outputs": [
    {
     "data": {
      "text/plain": [
       "<seaborn.axisgrid.FacetGrid at 0x7fb1d6279570>"
      ]
     },
     "execution_count": 235,
     "metadata": {},
     "output_type": "execute_result"
    },
    {
     "data": {
      "image/png": "[encoded data removed]",
      "text/plain": [
       "<Figure size 360x360 with 1 Axes>"
      ]
     },
     "metadata": {
      "needs_background": "light"
     },
     "output_type": "display_data"
    },
    {
     "data": {
      "image/png": "[encoded data removed]",
      "text/plain": [
       "<Figure size 360x360 with 1 Axes>"
      ]
     },
     "metadata": {
      "needs_background": "light"
     },
     "output_type": "display_data"
    }
   ],
   "source": [
    "sns.displot(compare.ashr_log2FoldChange_HIS_TRP_10mM, )\n",
    "sns.displot(compare.ashr_log2FoldChange_HIS_TRP_2mM,)"
   ]
  },
  {
   "cell_type": "code",
   "execution_count": 236,
   "id": "bb7c6f2e-b800-4915-b781-a521d5766bfb",
   "metadata": {},
   "outputs": [
    {
     "name": "stdout",
     "output_type": "stream",
     "text": [
      "[Text(-10.0, 0, '−10'), Text(-5.0, 0, '−5'), Text(0.0, 0, '0'), Text(5.0, 0, '5'), Text(10.0, 0, '10'), Text(5.0, 0, '5.0'), Text(7.5, 0, '7.5'), Text(0, 0, ''), Text(0, 0, '')]\n",
      "[Text(0, 0.0, '0.00'), Text(0, 0.25, '0.25'), Text(0, 0.5, '0.50'), Text(0, 0.75, '0.75'), Text(0, 1.0, '1.00')]\n"
     ]
    },
    {
     "data": {
      "image/png": "[encoded data removed]",
      "text/plain": [
       "<Figure size 277.25x144 with 1 Axes>"
      ]
     },
     "metadata": {
      "needs_background": "light"
     },
     "output_type": "display_data"
    }
   ],
   "source": [
    "sns.displot( data = compare, x = 'diff_deseq2', hue=\"on_target\", kind=\"kde\",height=2 , aspect = 1.5)\n",
    "#ax.plot(ax.get_xlim(), ax.get_ylim(), ls=\"--\", c=\".3\")\n",
    "plt.tight_layout()\n",
    "ax.set_xlim(left = 0)\n",
    "ax.set_ylim(bottom = 0)\n",
    "locsx, labels = plt.xticks()\n",
    "print (labels)\n",
    "#plt.xticks([0,0.01,0.02], [])\n",
    "locsy, labels = plt.yticks()\n",
    "print (labels)\n",
    "#plt.yticks([0,0.01,0.02], [])\n",
    "plt.xlabel(\"\")\n",
    "plt.ylabel(\"\")\n",
    "#resize \n",
    "plt.savefig('./figures/' 'dist_10_2.svg', dpi = 300)\n",
    "\n",
    "plt.show()"
   ]
  },
  {
   "cell_type": "code",
   "execution_count": 237,
   "id": "f7bec2ac-6836-4aa4-b272-eff61ade945a",
   "metadata": {},
   "outputs": [
    {
     "name": "stdout",
     "output_type": "stream",
     "text": [
      "[Text(-10.0, 0, '−10'), Text(-5.0, 0, '−5'), Text(0.0, 0, '0'), Text(5.0, 0, '5'), Text(2.5, 0, '2.5')]\n",
      "[Text(0, 0.0, '0'), Text(0, 1.0, '1'), Text(0, 2.0, '2')]\n"
     ]
    },
    {
     "data": {
      "image/png": "[encoded data removed]",
      "text/plain": [
       "<Figure size 196.25x90 with 1 Axes>"
      ]
     },
     "metadata": {
      "needs_background": "light"
     },
     "output_type": "display_data"
    }
   ],
   "source": [
    "sns.displot( data = compare[compare.ashr_padj_HIS_TRP_2mM > 0.1], x = 'diff_deseq2', hue=\"on_target\", kind=\"kde\",height=1.25 , aspect = 1.5)\n",
    "#ax.plot(ax.get_xlim(), ax.get_ylim(), ls=\"--\", c=\".3\")\n",
    "plt.tight_layout()\n",
    "ax.set_xlim(left = 0)\n",
    "ax.set_ylim(bottom = 0)\n",
    "locsx, labels = plt.xticks()\n",
    "print (labels)\n",
    "#plt.xticks([0,0.01,0.02], [])\n",
    "locsy, labels = plt.yticks()\n",
    "print (labels)\n",
    "#plt.yticks([0,0.01,0.02], [])\n",
    "plt.xlabel(\"\")\n",
    "plt.ylabel(\"\")\n",
    "#resize \n",
    "plt.savefig('./figures/' 'dist_10_2_padj_not_sig.svg', dpi = 300)\n",
    "\n",
    "#plt.savefig('./figures/' 'fraction_change_2mm.svg', dpi = 300)\n",
    "\n",
    "plt.show()"
   ]
  },
  {
   "cell_type": "code",
   "execution_count": 238,
   "id": "e52dd8e4-9718-4b94-a72f-3aa3da856f0c",
   "metadata": {},
   "outputs": [
    {
     "data": {
      "text/plain": [
       "-0.09857779775888852"
      ]
     },
     "execution_count": 238,
     "metadata": {},
     "output_type": "execute_result"
    }
   ],
   "source": [
    "compare[compare.ashr_padj_HIS_TRP_2mM > 0.1].diff_deseq2.mean()"
   ]
  },
  {
   "cell_type": "code",
   "execution_count": 239,
   "id": "5ee2fdfe-4aae-4b29-beec-321e4625a682",
   "metadata": {},
   "outputs": [
    {
     "data": {
      "text/plain": [
       "-0.028332148951847533"
      ]
     },
     "execution_count": 239,
     "metadata": {},
     "output_type": "execute_result"
    }
   ],
   "source": [
    "compare.diff_deseq2.mean()"
   ]
  },
  {
   "cell_type": "code",
   "execution_count": 197,
   "id": "1ed837ed-7c73-466c-a5bd-97e0b40373e1",
   "metadata": {},
   "outputs": [
    {
     "name": "stdout",
     "output_type": "stream",
     "text": [
      "[Text(-10.0, 0, '−10'), Text(-5.0, 0, '−5'), Text(0.0, 0, '0'), Text(5.0, 0, '5'), Text(10.0, 0, '10')]\n",
      "[Text(0, 0.0, '0.00'), Text(0, 0.05, '0.05'), Text(0, 0.1, '0.10')]\n"
     ]
    },
    {
     "data": {
      "image/png": "[encoded data removed]",
      "text/plain": [
       "<Figure size 196.25x90 with 1 Axes>"
      ]
     },
     "metadata": {
      "needs_background": "light"
     },
     "output_type": "display_data"
    }
   ],
   "source": [
    "sns.displot( data = compare[compare.ashr_padj_HIS_TRP_2mM <= 0.1], x = 'diff_deseq2', hue=\"on_target\", kind=\"kde\",height=1.25 , aspect = 1.5)\n",
    "#ax.plot(ax.get_xlim(), ax.get_ylim(), ls=\"--\", c=\".3\")\n",
    "plt.tight_layout()\n",
    "ax.set_xlim(left = 0)\n",
    "ax.set_ylim(bottom = 0)\n",
    "locsx, labels = plt.xticks()\n",
    "print (labels)\n",
    "#plt.xticks([0,0.01,0.02], [])\n",
    "locsy, labels = plt.yticks()\n",
    "print (labels)\n",
    "#plt.yticks([0,0.01,0.02], [])\n",
    "plt.xlabel(\"\")\n",
    "plt.ylabel(\"\")\n",
    "#resize \n",
    "plt.savefig('./figures/' 'dist_10_2_padj_sig.svg', dpi = 300)\n",
    "\n",
    "#plt.savefig('./figures/' 'dist_10_2.svg', dpi = 300)\n",
    "\n",
    "#plt.savefig('./figures/' 'fraction_change_2mm.svg', dpi = 300)\n",
    "\n",
    "plt.show()"
   ]
  },
  {
   "cell_type": "code",
   "execution_count": null,
   "id": "0b9b3d8c-76a9-44d0-bfa8-765755745eea",
   "metadata": {},
   "outputs": [
    {
     "name": "stdout",
     "output_type": "stream",
     "text": [
      "[Text(-10.0, 0, '−10'), Text(-5.0, 0, '−5'), Text(0.0, 0, '0'), Text(5.0, 0, '5'), Text(10.0, 0, '10')]\n",
      "[Text(0, 0.0, '0.0'), Text(0, 0.1, '0.1'), Text(0, 0.2, '0.2')]\n"
     ]
    },
    {
     "data": {
      "image/png": "[encoded data removed]",
      "text/plain": [
       "<Figure size 135x90 with 1 Axes>"
      ]
     },
     "metadata": {
      "needs_background": "light"
     },
     "output_type": "display_data"
    }
   ],
   "source": [
    "sns.displot( data = compare, x = 'diff_deseq2', hue=\"on_target\", kind=\"kde\",height=1.25 , aspect = 1.5)\n",
    "#ax.plot(ax.get_xlim(), ax.get_ylim(), ls=\"--\", c=\".3\")\n",
    "plt.tight_layout()\n",
    "ax.set_xlim(left = 0)\n",
    "ax.set_ylim(bottom = 0)\n",
    "locsx, labels = plt.xticks()\n",
    "print (labels)\n",
    "#plt.xticks([0,0.01,0.02], [])\n",
    "locsy, labels = plt.yticks()\n",
    "print (labels)\n",
    "#plt.yticks([0,0.01,0.02], [])\n",
    "plt.xlabel(\"\")\n",
    "plt.ylabel(\"\")\n",
    "#resize \n",
    "#plt.savefig('./figures/' 'fraction_change_2mm.svg', dpi = 300)\n",
    "\n",
    "plt.show()"
   ]
  }
 ],
 "metadata": {
  "kernelspec": {
   "display_name": "Python 3 (ipykernel)",
   "language": "python",
   "name": "python3"
  },
  "language_info": {
   "codemirror_mode": {
    "name": "ipython",
    "version": 3
   },
   "file_extension": ".py",
   "mimetype": "text/x-python",
   "name": "python",
   "nbconvert_exporter": "python",
   "pygments_lexer": "ipython3",
   "version": "3.11.3"
  }
 },
 "nbformat": 4,
 "nbformat_minor": 5
}
