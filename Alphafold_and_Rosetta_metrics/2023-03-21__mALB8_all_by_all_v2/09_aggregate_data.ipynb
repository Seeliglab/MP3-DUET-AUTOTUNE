{
 "cells": [
  {
   "cell_type": "code",
   "execution_count": 1,
   "metadata": {},
   "outputs": [
    {
     "name": "stdout",
     "output_type": "stream",
     "text": [
      "/home/aljubetic/AF2/projects/2023-03-21__mALB8_all_by_all_v2\n",
      "headnode\n"
     ]
    }
   ],
   "source": [
    "%matplotlib inline\n",
    "%load_ext autoreload\n",
    "%autoreload 2\n",
    "import os; print(os.getcwd())\n",
    "import socket; print(socket.gethostname())\n",
    "from glob import glob\n",
    "import json\n",
    "\n",
    "import truncator as u\n",
    "import pandas as pd\n",
    "from utils import *"
   ]
  },
  {
   "cell_type": "code",
   "execution_count": 2,
   "metadata": {},
   "outputs": [
    {
     "name": "stdout",
     "output_type": "stream",
     "text": [
      "Found 2420 json files.\n"
     ]
    }
   ],
   "source": [
    "out_dir = 'out/01__multimer-v2'\n",
    "files = glob(f'{out_dir}/*/*scores_rank*.json')\n",
    "files = [f for f in files if not 'config.json' in f ]\n",
    "print(f\"Found {len(files)} json files.\")"
   ]
  },
  {
   "cell_type": "code",
   "execution_count": 3,
   "metadata": {},
   "outputs": [
    {
     "data": {
      "text/plain": [
       "'out/01__multimer-v2/g0027/1002__mALb8x1_rprtc_B___1001__mALb8x1_fdrtc_A_scores_rank_004_alphafold2_multimer_v2_model_2_seed_000.json'"
      ]
     },
     "execution_count": 3,
     "metadata": {},
     "output_type": "execute_result"
    }
   ],
   "source": [
    "files[2]"
   ]
  },
  {
   "cell_type": "code",
   "execution_count": null,
   "metadata": {},
   "outputs": [],
   "source": [
    "\n",
    "if not os.path.exists(f'{out_dir}/AF2.csv.gz') or 1:\n",
    "    lines = []\n",
    "    for af in files:\n",
    "        data_dict = u.read_json(af)\n",
    "        data_dict['plddt']=np.average(data_dict['plddt'])\n",
    "        data_dict['pae']=np.average(data_dict['pae'])\n",
    "        name_dict = parse_AF2_file_name(af)\n",
    "        name_dict.update(data_dict)\n",
    "        lines.append(name_dict)\n",
    "       \n",
    "    df = pd.DataFrame(lines)\n",
    "    #df['msa_depth'] = get_token_value(out_dir, 'msad')\n",
    "\n",
    "    df.to_csv(f'{out_dir}/AF2.csv.gz')\n",
    "    print(f'Wrote {len(df)} lines to {out_dir}/AF2.csv.gz')\n",
    "\n",
    "else:\n",
    "    df=pd.read_csv(f'{out_dir}/AF2.csv.gz')\n",
    "df.head()"
   ]
  },
  {
   "cell_type": "code",
   "execution_count": 8,
   "metadata": {},
   "outputs": [
    {
     "data": {
      "text/plain": [
       "{'num_queries': 13,\n",
       " 'use_templates': False,\n",
       " 'num_relax': 5,\n",
       " 'msa_mode': 'single_sequence',\n",
       " 'model_type': 'alphafold2_multimer_v2',\n",
       " 'num_models': 5,\n",
       " 'num_recycles': 6,\n",
       " 'recycle_early_stop_tolerance': None,\n",
       " 'num_ensemble': 1,\n",
       " 'model_order': [1, 2, 3, 4, 5],\n",
       " 'keep_existing_results': True,\n",
       " 'rank_by': 'multimer',\n",
       " 'max_seq': 1,\n",
       " 'max_extra_seq': 1,\n",
       " 'pair_mode': 'unpaired_paired',\n",
       " 'host_url': 'https://api.colabfold.com',\n",
       " 'stop_at_score': 100,\n",
       " 'random_seed': 0,\n",
       " 'num_seeds': 1,\n",
       " 'recompile_padding': 10,\n",
       " 'commit': '8c745219964d6bfb878dd6fb53b5a2a05b009391',\n",
       " 'use_dropout': False,\n",
       " 'use_cluster_profile': True,\n",
       " 'use_fuse': True,\n",
       " 'use_bfloat16': True,\n",
       " 'version': '1.5.2'}"
      ]
     },
     "execution_count": 8,
     "metadata": {},
     "output_type": "execute_result"
    }
   ],
   "source": [
    "# TODO read first config file assume all are the same\n",
    "config = glob(f'{out_dir}/*/config.json')[0]\n",
    "config = u.read_json(config)\n",
    "config"
   ]
  },
  {
   "cell_type": "code",
   "execution_count": 9,
   "metadata": {},
   "outputs": [],
   "source": [
    "\n",
    "\n",
    "\n",
    "df['msa_mode'] = config['msa_mode']\n",
    "df['msa_depth'] = 2\n",
    "df['model_type'] = config['model_type']\n",
    "df['num_recycles'] =  config['num_recycles']"
   ]
  },
  {
   "cell_type": "code",
   "execution_count": 10,
   "metadata": {},
   "outputs": [
    {
     "name": "stdout",
     "output_type": "stream",
     "text": [
      "Wrote 2420 lines to out/01__multimer-v2/AF2.csv.gz\n"
     ]
    }
   ],
   "source": [
    "df.to_csv(f'{out_dir}/AF2.csv.gz')\n",
    "print(f'Wrote {len(df)} lines to {out_dir}/AF2.csv.gz')"
   ]
  }
 ],
 "metadata": {
  "kernelspec": {
   "display_name": "pyro",
   "language": "python",
   "name": "python3"
  },
  "language_info": {
   "codemirror_mode": {
    "name": "ipython",
    "version": 3
   },
   "file_extension": ".py",
   "mimetype": "text/x-python",
   "name": "python",
   "nbconvert_exporter": "python",
   "pygments_lexer": "ipython3",
   "version": "3.9.7"
  },
  "orig_nbformat": 4,
  "vscode": {
   "interpreter": {
    "hash": "ac0061bb4dbc2b17a5a419ea32aa745a1e58e3f554c70fb15d38989b4499d4f2"
   }
  }
 },
 "nbformat": 4,
 "nbformat_minor": 2
}
