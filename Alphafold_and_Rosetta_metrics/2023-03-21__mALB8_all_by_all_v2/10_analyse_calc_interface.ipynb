{
 "cells": [
  {
   "cell_type": "code",
   "execution_count": 2,
   "metadata": {
    "tags": []
   },
   "outputs": [
    {
     "name": "stdout",
     "output_type": "stream",
     "text": [
      "/home/aljubetic/AF2/projects/2023-03-21__mALB8_all_by_all_v2\n",
      "headnode\n"
     ]
    }
   ],
   "source": [
    "import os; print(os.getcwd())\n",
    "import socket; print(socket.gethostname())\n",
    "import os\n",
    "from glob import glob"
   ]
  },
  {
   "cell_type": "code",
   "execution_count": 3,
   "metadata": {},
   "outputs": [],
   "source": [
    "#import sys; sys.path.insert(0, \"/home/ajasja/projects/Stable_Heterodimers\")\n",
    "#import utils as u\n",
    "#import sys; sys.path.insert(0, \"/home/ajasja/projects/truncator/\")\n",
    "import truncator\n",
    "from truncator import pymol_utils\n",
    "import truncator as u\n",
    "\n",
    "from utils import *"
   ]
  },
  {
   "cell_type": "code",
   "execution_count": 4,
   "metadata": {},
   "outputs": [],
   "source": [
    "out_dir = 'out/01__multimer-v2'\n",
    "af2 = pd.read_csv(f'{out_dir}/AF2.csv.gz', index_col=0)"
   ]
  },
  {
   "cell_type": "code",
   "execution_count": 5,
   "metadata": {},
   "outputs": [
    {
     "name": "stdout",
     "output_type": "stream",
     "text": [
      "PDB Files: 2420\n",
      "WARNING: COULD NOT LOAD out/01__multimer-v2/rosetta-min-sc/1005__mALb8x12_fdrtc_A___mALb8_cutT2_A_relaxed_rank_005_alphafold2_multimer_v2_model_2_seed_000__rrelaxed/score__rrelaxed.sc!\n",
      "Unexpected character found when decoding object value\n",
      "CPU times: user 1min 20s, sys: 642 ms, total: 1min 20s\n",
      "Wall time: 1min 26s\n"
     ]
    }
   ],
   "source": [
    "%%time\n",
    "\n",
    "rosetta_subdir = 'rosetta-min-sc'\n",
    "pdb_files=[]\n",
    "score_files=[]\n",
    "\n",
    "pdb_files.extend(sorted(glob(f\"{out_dir}/{rosetta_subdir}/*/*.pdb\")));\n",
    "score_files.extend(sorted(glob(f\"{out_dir}/{rosetta_subdir}/*/*.sc\")));\n",
    "print(f\"PDB Files: {len(pdb_files)}\")\n",
    "\n",
    "\n",
    "#Replace unquoted nan values\n",
    "#for scoref in score_files:\n",
    "#    !sed -i -e 's/-nan/\"\"/ag' -e 's/nan/\"\"/g' {scoref}\n",
    "scores = truncator.read_score_files_with_cache(score_files, f'{out_dir}/{rosetta_subdir}/rosetta_scores.csv.gz')\n",
    "#convert to decoy naming. \n",
    "af2['decoy'] =  (af2.stem_name.str.replace('_scores_','_relaxed_')+'__rrelaxed_0001')\n",
    "af2m = af2.merge(scores, on='decoy', how='left')\n",
    "af2m['rosetta-protocol'] = rosetta_subdir\n",
    "af2m.to_csv(f'{out_dir}/{rosetta_subdir}/AF2_rosetta.csv.gz')\n"
   ]
  },
  {
   "cell_type": "code",
   "execution_count": 6,
   "metadata": {},
   "outputs": [
    {
     "name": "stdout",
     "output_type": "stream",
     "text": [
      "PDB Files: 2420\n",
      "WARNING: COULD NOT LOAD out/01__multimer-v2/rosetta-flex-bb/1005__mALb8x12_fdrtc_A___mALb8_cutT2_A_relaxed_rank_005_alphafold2_multimer_v2_model_2_seed_000__rrelaxed/score__rrelaxed.sc!\n",
      "Unexpected character found when decoding object value\n"
     ]
    }
   ],
   "source": [
    "rosetta_subdir = 'rosetta-flex-bb'\n",
    "pdb_files=[]\n",
    "score_files=[]\n",
    "\n",
    "pdb_files.extend(sorted(glob(f\"{out_dir}/{rosetta_subdir}/*/*.pdb\")));\n",
    "score_files.extend(sorted(glob(f\"{out_dir}/{rosetta_subdir}/*/*.sc\")));\n",
    "print(f\"PDB Files: {len(pdb_files)}\")\n",
    "\n",
    "\n",
    "#Replace unquoted nan values\n",
    "#for scoref in score_files:\n",
    "#    !sed -i -e 's/-nan/\"\"/ag' -e 's/nan/\"\"/g' {scoref}\n",
    "scores = truncator.read_score_files_with_cache(score_files, f'{out_dir}/{rosetta_subdir}/rosetta_scores.csv.gz')\n",
    "#convert to decoy naming. \n",
    "af2['decoy'] =  (af2.stem_name.str.replace('_scores_','_relaxed_')+'__rrelaxed_0001')\n",
    "af2m = af2.merge(scores, on='decoy', how='left')\n",
    "af2m['rosetta-protocol'] = rosetta_subdir\n",
    "af2m.to_csv(f'{out_dir}/{rosetta_subdir}/AF2_rosetta.csv.gz')"
   ]
  },
  {
   "cell_type": "code",
   "execution_count": null,
   "metadata": {},
   "outputs": [],
   "source": [
    "# Merge all\n",
    "all_files = glob(\"out/*/*/AF2_rosetta.csv.gz\")\n",
    "scores = [pd.read_csv(af, index_col=0) for af in all_files]\n",
    "merged = pd.concat(scores)\n",
    "merged.reindex()\n",
    "merged.to_csv('data/AF2_rosetta_merged.csv.gz')"
   ]
  },
  {
   "cell_type": "code",
   "execution_count": null,
   "metadata": {},
   "outputs": [],
   "source": []
  }
 ],
 "metadata": {
  "kernel_info": {
   "name": "python3"
  },
  "kernelspec": {
   "display_name": "pyro",
   "language": "python",
   "name": "python3"
  },
  "language_info": {
   "codemirror_mode": {
    "name": "ipython",
    "version": 3
   },
   "file_extension": ".py",
   "mimetype": "text/x-python",
   "name": "python",
   "nbconvert_exporter": "python",
   "pygments_lexer": "ipython3",
   "version": "3.9.7"
  },
  "nteract": {
   "version": "0.22.0"
  },
  "vscode": {
   "interpreter": {
    "hash": "ac0061bb4dbc2b17a5a419ea32aa745a1e58e3f554c70fb15d38989b4499d4f2"
   }
  }
 },
 "nbformat": 4,
 "nbformat_minor": 4
}
