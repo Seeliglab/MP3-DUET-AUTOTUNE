{
 "cells": [
  {
   "cell_type": "code",
   "execution_count": 1,
   "metadata": {},
   "outputs": [
    {
     "name": "stdout",
     "output_type": "stream",
     "text": [
      "/home/aljubetic/AF2/projects/2023-03-03__MP3-PNIC-all-by-all-v3 headnode\n"
     ]
    }
   ],
   "source": [
    "%load_ext autoreload\n",
    "%autoreload 2\n",
    "from glob import glob\n",
    "import sys, os, socket\n",
    "print(os.getcwd(), socket.gethostname())\n",
    "\n",
    "out_dir = 'out/01__multimer-v3'"
   ]
  },
  {
   "cell_type": "code",
   "execution_count": 2,
   "metadata": {},
   "outputs": [],
   "source": [
    "import numpy\n",
    "import numpy as np\n",
    "\n",
    "from glob import glob\n",
    "import os\n",
    "\n",
    "import truncator\n",
    "import truncator as u\n",
    "\n",
    "import pymol\n",
    "from pymol import cmd\n",
    "from truncator.pymol_utils import *"
   ]
  },
  {
   "cell_type": "code",
   "execution_count": 3,
   "metadata": {},
   "outputs": [
    {
     "name": "stdout",
     "output_type": "stream",
     "text": [
      "Found pdbs: 720\n"
     ]
    }
   ],
   "source": [
    "\n",
    "pdbs=sorted(glob(f'{out_dir}/*/*_relaxed_*.pdb'))\n",
    "print (f\"Found pdbs: {len(pdbs)}\")"
   ]
  },
  {
   "cell_type": "code",
   "execution_count": 4,
   "metadata": {},
   "outputs": [],
   "source": [
    "def make_rosetta_command(xml_script, cmd_in, nstruct=1, target_res='', suffix='\"\"', layer_type='sasa',\n",
    "skip_design=False, design_type='fast_design', out_name=None, num=None, tee=False):\n",
    "    \"\"\"Makes a rosetta command line.\"\"\"\"\"\n",
    "    import os\n",
    "    cmd = \"\"\n",
    "\n",
    "    #rosetta_bin = \"/software/rosetta/latest/bin/rosetta_scripts\"\n",
    "    rosetta_bin = \"/home/aljubetic/Rosetta/source/bin/rosetta_scripts.linuxgccrelease\"\n",
    "    #rosetta_bin = \"/home/bcov/ppi/tutorial_build/main/source/bin/rosetta_scripts\"\n",
    "    #rosetta_bin = \"/software/rosetta/latest/bin/rosetta_scripts\"\n",
    "    #rosetta_bin = \"/home/brunette/src/Rosetta_dev/main/source/bin/rosetta_scripts.hdf5.linuxgccrelease\"\n",
    "    #-holes:dalphaball !/home/bcov/dev_rosetta/main/source/external/DAlpahBall/DAlphaBall.gcc \\\n",
    "    #/software/rosetta/latest/bin/rosetta_scripts\n",
    "    \n",
    "    \n",
    "    \n",
    "    base_name = u.basename_noext(cmd_in)+suffix\n",
    "    if not num is None:\n",
    "        base_name = str(num)+\"__\"+base_name\n",
    "    out_path = f\"{out_name}/{base_name}\"\n",
    "    log_name =  f\"{out_name}/{base_name}/{base_name}.log\"\n",
    "    \n",
    "    if skip_design:\n",
    "        do_fast_design_str = \"<!--\"\n",
    "        do_repack_str = \"<!--\"\n",
    "    else:\n",
    "        if design_type=='fast_design':\n",
    "            do_fast_design_str = '\"\"'\n",
    "            do_repack_str = \"<!--\"\n",
    "        else:\n",
    "            do_fast_design_str = \"<!--\"\n",
    "            do_repack_str = '\"\"'\n",
    "        \n",
    "            \n",
    "\n",
    "    if layer_type=='sasa':\n",
    "        do_sasa_str='\"\"'\n",
    "        do_neighbors_str = \"<!--\"\n",
    "    else:\n",
    "        do_sasa_str='<!--'\n",
    "        do_neighbors_str = '\"\"'\n",
    "    cmd += f\"mkdir -p {out_path} && \"\n",
    "    \n",
    "    flags = f\"\"\"\\\n",
    "            -out::file::pdb_comments \\\n",
    "            -beta_nov16  \\\n",
    "            -s {cmd_in} \\\n",
    "            -in:file:native {cmd_in} \\\n",
    "            -parser:protocol {xml_script} \\\n",
    "            -parser:script_vars do_fast_design=\"{do_fast_design_str}\"  \\\n",
    "            -parser:script_vars do_repack=\"{do_repack_str}\"  \\\n",
    "            -parser:script_vars target_res=\"{target_res}\"  \\\n",
    "            -parser:script_vars do_neighbors=\"{do_neighbors_str}\"  \\\n",
    "            -parser:script_vars do_sasa=\"{do_sasa_str}\"  \\\n",
    "            -suffix {suffix} \\\n",
    "            -nstruct {nstruct} \\\n",
    "            -overwrite 1 \\\n",
    "            -out:pdb 1 \\\n",
    "            -out:level 300 \\\n",
    "            -out::path::all {out_path} \\\n",
    "            -out:file:scorefile_format json \\\n",
    "            -renumber_pdb true \\\n",
    "            -include_current \\\n",
    "            -detect_disulf false \\\n",
    "            -ignore_unrecognized_res true \\\n",
    "            -mute protocols.rosetta_scripts.ParsedProtocol.REPORT \\\n",
    "            -out:levels core.select.residue_selector.SecondaryStructureSelector:warning \\\n",
    "            -out:levels core.select.residue_selector.PrimarySequenceNeighborhoodSelector:warning \\\n",
    "            \"\"\".replace(\"            \",\" \")\n",
    "    \n",
    "       ##     -holes:dalphaball input/DAlphaBall.gcc \\\n",
    "    if tee:\n",
    "        redir_str = \" | tee \"\n",
    "    else:\n",
    "        redir_str = \" > \"\n",
    "    #cmd += \"{ \\\\time -v \" + rosetta_bin + \" \" + flags +  \" 2>&1 ;} \" + redir_str + log_name\n",
    "    cmd += \"{ \" + rosetta_bin + \" \" + flags +  \" 2>&1 ;} \" + redir_str + log_name\n",
    "    return cmd\n"
   ]
  },
  {
   "cell_type": "code",
   "execution_count": 9,
   "metadata": {},
   "outputs": [
    {
     "name": "stdout",
     "output_type": "stream",
     "text": [
      "mkdir -p out/01__multimer-v3/rosetta-flex-bb/P1__P1_relaxed_rank_003_alphafold2_multimer_v3_model_5_seed_000__rrelaxed && { /home/aljubetic/Rosetta/source/bin/rosetta_scripts.linuxgccrelease  -out::file::pdb_comments  -beta_nov16   -s out/01__multimer-v3/g0000/P1__P1_relaxed_rank_003_alphafold2_multimer_v3_model_5_seed_000.pdb  -in:file:native out/01__multimer-v3/g0000/P1__P1_relaxed_rank_003_alphafold2_multimer_v3_model_5_seed_000.pdb  -parser:protocol 02_calc_interface-flex-bb.xml  -parser:script_vars do_fast_design=\"<\\!--\"   -parser:script_vars do_repack=\"\"\"\"   -parser:script_vars target_res=\"\"   -parser:script_vars do_neighbors=\"<\\!--\"   -parser:script_vars do_sasa=\"\"\"\"   -suffix __rrelaxed  -nstruct 1  -overwrite 1  -out:pdb 1  -out:level 300  -out::path::all out/01__multimer-v3/rosetta-flex-bb/P1__P1_relaxed_rank_003_alphafold2_multimer_v3_model_5_seed_000__rrelaxed  -out:file:scorefile_format json  -renumber_pdb true  -include_current  -detect_disulf false  -ignore_unrecognized_res true  -mute protocols.rosetta_scripts.ParsedProtocol.REPORT  -out:levels core.select.residue_selector.SecondaryStructureSelector:warning  -out:levels core.select.residue_selector.PrimarySequenceNeighborhoodSelector:warning   2>&1 ;}  > out/01__multimer-v3/rosetta-flex-bb/P1__P1_relaxed_rank_003_alphafold2_multimer_v3_model_5_seed_000__rrelaxed/P1__P1_relaxed_rank_003_alphafold2_multimer_v3_model_5_seed_000__rrelaxed.log\n",
      "\n",
      "720\n"
     ]
    }
   ],
   "source": [
    "tasks_name = f\"{out_dir}/02b_calc_interface_flex_bb\"\n",
    "tasks_file_name = tasks_name+\".tasks\"\n",
    "\n",
    "\n",
    "with open(tasks_file_name, \"w+\") as f:\n",
    "    for pdb in pdbs:\n",
    "        print(\n",
    "           make_rosetta_command(\"02_calc_interface-flex-bb.xml\", pdb, suffix=\"__rrelaxed\",\n",
    "           layer_type='sasa', nstruct=1, out_name=f'{out_dir}/rosetta-flex-bb',  \n",
    "           design_type='relax'),\n",
    "        file=f)\n",
    "    \n",
    "\n",
    "\n",
    "cmds = u.read_file_lines(tasks_file_name)\n",
    "#print(len(cmds))\n",
    "#cmds\n",
    "print(cmds[2].replace(\"!\",\"\\\\!\")); print(len(cmds))\n"
   ]
  },
  {
   "cell_type": "code",
   "execution_count": 10,
   "metadata": {},
   "outputs": [
    {
     "name": "stdout",
     "output_type": "stream",
     "text": [
      "^C\n"
     ]
    }
   ],
   "source": [
    "!{cmds[0]}\n"
   ]
  },
  {
   "cell_type": "code",
   "execution_count": 11,
   "metadata": {},
   "outputs": [
    {
     "name": "stdout",
     "output_type": "stream",
     "text": [
      "Submitted batch job 40609\n"
     ]
    }
   ],
   "source": [
    "GROUP_SIZE=20\n",
    "task_list=tasks_file_name\n",
    "from math import ceil; num_tasks = ceil(len(cmds)/GROUP_SIZE)\n",
    "!export GROUP_SIZE={GROUP_SIZE}; sbatch --mem=3G -p intel -J {task_list} -o {task_list}.out -e {task_list}.err -a 1-{num_tasks} /home/aljubetic/scripts/wrapper_slurm_array_job_group.sh {task_list} "
   ]
  },
  {
   "cell_type": "code",
   "execution_count": 15,
   "metadata": {},
   "outputs": [
    {
     "name": "stdout",
     "output_type": "stream",
     "text": [
      "             JOBID PARTITION     NAME     USER ST       TIME  NODES NODELIST(REASON)\n",
      "      40609_[9-36]     intel out/01__ aljubeti PD       0:00      1 (Priority)\n",
      "           40609_1     intel out/01__ aljubeti  R       0:03      1 compute-1-1\n",
      "           40609_2     intel out/01__ aljubeti  R       0:03      1 compute-1-1\n",
      "           40609_3     intel out/01__ aljubeti  R       0:03      1 compute-1-1\n",
      "           40609_4     intel out/01__ aljubeti  R       0:03      1 compute-1-1\n",
      "           40609_5     intel out/01__ aljubeti  R       0:03      1 compute-1-1\n",
      "           40609_6     intel out/01__ aljubeti  R       0:03      1 compute-1-1\n",
      "           40609_7     intel out/01__ aljubeti  R       0:03      1 compute-1-1\n",
      "           40609_8     intel out/01__ aljubeti  R       0:03      1 compute-1-1\n"
     ]
    }
   ],
   "source": [
    "!squeue -u $USER\n"
   ]
  },
  {
   "cell_type": "code",
   "execution_count": null,
   "metadata": {},
   "outputs": [],
   "source": [
    "# run Z:/projects/truncator/truncator/pymol_utils.py\n",
    "load_rosetta_pdb('mALb8_0001.pdb', per_res_metrics='per_res_sasa per_res_nc')\n",
    "# run Z:/projects/truncator/truncator/pymol_utils.py\n",
    "cbs per_res_sasa, range=-100 0 100, colors=green white red\n",
    "cbs per_res_nc, range=-5 0 5, colors=green red white\n",
    "cbs per_res_sap, range=-5 0 5, colors=green white red\n",
    "cbs total, range=-5 0 5, colors=green white red\n",
    "\n",
    "select core, p.per_res_sasa<19\n",
    "select bdry, p.per_res_sasa>19 and p.per_res_sasa<40\n",
    "select surf, p.per_res_sasa>40 \n",
    "\n",
    "color white, core\n",
    "color orange, bdry\n",
    "color red, surf\n",
    "\n",
    "color cyan\n",
    "color tv_green, interface_by_vec\n",
    "color marine, interface_near"
   ]
  },
  {
   "cell_type": "code",
   "execution_count": null,
   "metadata": {},
   "outputs": [],
   "source": [
    "def load_score_file_to_dict(score_file):\n",
    "    \"\"\"Loads a Rosetta Json file to a dictionary indexed by decoy. In case of duplicate entries, the last one wins\"\"\"\n",
    "    import json\n",
    "    sc = {}\n",
    "    with open(score_file) as f:\n",
    "        for line in f:\n",
    "            row = json.loads(line)\n",
    "            #print(row)\n",
    "            sc[row['decoy']] = row\n",
    "    return sc\n",
    "\n",
    "load_score_file_to_dict(\"out/01_sap_redesign_bcov/BW1/score.sc\");"
   ]
  },
  {
   "cell_type": "code",
   "execution_count": null,
   "metadata": {},
   "outputs": [],
   "source": []
  },
  {
   "cell_type": "code",
   "execution_count": null,
   "metadata": {},
   "outputs": [],
   "source": []
  }
 ],
 "metadata": {
  "kernelspec": {
   "display_name": "pyro",
   "language": "python",
   "name": "python3"
  },
  "language_info": {
   "codemirror_mode": {
    "name": "ipython",
    "version": 3
   },
   "file_extension": ".py",
   "mimetype": "text/x-python",
   "name": "python",
   "nbconvert_exporter": "python",
   "pygments_lexer": "ipython3",
   "version": "3.9.7"
  },
  "orig_nbformat": 4,
  "vscode": {
   "interpreter": {
    "hash": "ac0061bb4dbc2b17a5a419ea32aa745a1e58e3f554c70fb15d38989b4499d4f2"
   }
  }
 },
 "nbformat": 4,
 "nbformat_minor": 2
}
