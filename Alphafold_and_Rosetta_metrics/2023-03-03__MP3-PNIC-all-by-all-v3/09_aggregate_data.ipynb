{
 "cells": [
  {
   "cell_type": "code",
   "execution_count": 2,
   "metadata": {},
   "outputs": [
    {
     "name": "stdout",
     "output_type": "stream",
     "text": [
      "/home/aljubetic/AF2/projects/2023-03-03__MP3-PNIC-all-by-all-v3\n",
      "headnode\n"
     ]
    }
   ],
   "source": [
    "%matplotlib inline\n",
    "%load_ext autoreload\n",
    "%autoreload 2\n",
    "import os; print(os.getcwd())\n",
    "import socket; print(socket.gethostname())\n",
    "from glob import glob\n",
    "import json\n",
    "\n",
    "import truncator as u\n",
    "import pandas as pd\n",
    "from utils import *"
   ]
  },
  {
   "cell_type": "code",
   "execution_count": 3,
   "metadata": {},
   "outputs": [
    {
     "name": "stdout",
     "output_type": "stream",
     "text": [
      "Found 720 json files.\n"
     ]
    }
   ],
   "source": [
    "out_dir = '/home/aljubetic/AF2/projects/2023-03-03__MP3-PNIC-all-by-all-v3/out/01__multimer-v3'\n",
    "files = glob(f'{out_dir}/*/*scores_rank*.json')\n",
    "files = [f for f in files if not 'config.json' in f ]\n",
    "print(f\"Found {len(files)} json files.\")"
   ]
  },
  {
   "cell_type": "code",
   "execution_count": 21,
   "metadata": {},
   "outputs": [
    {
     "data": {
      "text/plain": [
       "'/home/aljubetic/AF2/projects/2023-03-03__MP3-PNIC-all-by-all-v3/out/01__multimer-v3/g0016/P12__P1_scores_rank_005_alphafold2_multimer_v3_model_5_seed_000.json'"
      ]
     },
     "execution_count": 21,
     "metadata": {},
     "output_type": "execute_result"
    }
   ],
   "source": [
    "files[0]"
   ]
  },
  {
   "cell_type": "code",
   "execution_count": 12,
   "metadata": {},
   "outputs": [
    {
     "name": "stdout",
     "output_type": "stream",
     "text": [
      "Wrote 720 lines to /home/aljubetic/AF2/projects/2023-03-03__MP3-PNIC-all-by-all-v3/out/01__multimer-v3/AF2.csv.gz\n"
     ]
    },
    {
     "data": {
      "text/html": [
       "<div>\n",
       "<style scoped>\n",
       "    .dataframe tbody tr th:only-of-type {\n",
       "        vertical-align: middle;\n",
       "    }\n",
       "\n",
       "    .dataframe tbody tr th {\n",
       "        vertical-align: top;\n",
       "    }\n",
       "\n",
       "    .dataframe thead th {\n",
       "        text-align: right;\n",
       "    }\n",
       "</style>\n",
       "<table border=\"1\" class=\"dataframe\">\n",
       "  <thead>\n",
       "    <tr style=\"text-align: right;\">\n",
       "      <th></th>\n",
       "      <th>full_name_path</th>\n",
       "      <th>stem_name</th>\n",
       "      <th>dir</th>\n",
       "      <th>base_name</th>\n",
       "      <th>id1</th>\n",
       "      <th>id2</th>\n",
       "      <th>rank</th>\n",
       "      <th>model_number</th>\n",
       "      <th>plddt</th>\n",
       "      <th>max_pae</th>\n",
       "      <th>pae</th>\n",
       "      <th>ptm</th>\n",
       "      <th>iptm</th>\n",
       "    </tr>\n",
       "  </thead>\n",
       "  <tbody>\n",
       "    <tr>\n",
       "      <th>0</th>\n",
       "      <td>/home/aljubetic/AF2/projects/2023-03-03__MP3-P...</td>\n",
       "      <td>P12__P1_scores_rank_005_alphafold2_multimer_v3...</td>\n",
       "      <td>/home/aljubetic/AF2/projects/2023-03-03__MP3-P...</td>\n",
       "      <td>P12__P1</td>\n",
       "      <td>P12</td>\n",
       "      <td>P1</td>\n",
       "      <td>5</td>\n",
       "      <td>5</td>\n",
       "      <td>71.381250</td>\n",
       "      <td>23.843750</td>\n",
       "      <td>7.841454</td>\n",
       "      <td>0.49</td>\n",
       "      <td>0.21</td>\n",
       "    </tr>\n",
       "    <tr>\n",
       "      <th>1</th>\n",
       "      <td>/home/aljubetic/AF2/projects/2023-03-03__MP3-P...</td>\n",
       "      <td>P11__P12_scores_rank_002_alphafold2_multimer_v...</td>\n",
       "      <td>/home/aljubetic/AF2/projects/2023-03-03__MP3-P...</td>\n",
       "      <td>P11__P12</td>\n",
       "      <td>P11</td>\n",
       "      <td>P12</td>\n",
       "      <td>4</td>\n",
       "      <td>4</td>\n",
       "      <td>96.432500</td>\n",
       "      <td>20.687500</td>\n",
       "      <td>2.571843</td>\n",
       "      <td>0.82</td>\n",
       "      <td>0.80</td>\n",
       "    </tr>\n",
       "    <tr>\n",
       "      <th>2</th>\n",
       "      <td>/home/aljubetic/AF2/projects/2023-03-03__MP3-P...</td>\n",
       "      <td>P11__P9_scores_rank_003_alphafold2_multimer_v3...</td>\n",
       "      <td>/home/aljubetic/AF2/projects/2023-03-03__MP3-P...</td>\n",
       "      <td>P11__P9</td>\n",
       "      <td>P11</td>\n",
       "      <td>P9</td>\n",
       "      <td>4</td>\n",
       "      <td>4</td>\n",
       "      <td>96.030714</td>\n",
       "      <td>21.140625</td>\n",
       "      <td>2.726916</td>\n",
       "      <td>0.81</td>\n",
       "      <td>0.79</td>\n",
       "    </tr>\n",
       "    <tr>\n",
       "      <th>3</th>\n",
       "      <td>/home/aljubetic/AF2/projects/2023-03-03__MP3-P...</td>\n",
       "      <td>P11__P11_scores_rank_004_alphafold2_multimer_v...</td>\n",
       "      <td>/home/aljubetic/AF2/projects/2023-03-03__MP3-P...</td>\n",
       "      <td>P11__P11</td>\n",
       "      <td>P11</td>\n",
       "      <td>P11</td>\n",
       "      <td>5</td>\n",
       "      <td>5</td>\n",
       "      <td>92.818214</td>\n",
       "      <td>24.890625</td>\n",
       "      <td>3.401183</td>\n",
       "      <td>0.76</td>\n",
       "      <td>0.73</td>\n",
       "    </tr>\n",
       "    <tr>\n",
       "      <th>4</th>\n",
       "      <td>/home/aljubetic/AF2/projects/2023-03-03__MP3-P...</td>\n",
       "      <td>P11__P11_scores_rank_001_alphafold2_multimer_v...</td>\n",
       "      <td>/home/aljubetic/AF2/projects/2023-03-03__MP3-P...</td>\n",
       "      <td>P11__P11</td>\n",
       "      <td>P11</td>\n",
       "      <td>P11</td>\n",
       "      <td>1</td>\n",
       "      <td>1</td>\n",
       "      <td>96.184821</td>\n",
       "      <td>19.421875</td>\n",
       "      <td>2.706049</td>\n",
       "      <td>0.81</td>\n",
       "      <td>0.79</td>\n",
       "    </tr>\n",
       "  </tbody>\n",
       "</table>\n",
       "</div>"
      ],
      "text/plain": [
       "                                      full_name_path  \\\n",
       "0  /home/aljubetic/AF2/projects/2023-03-03__MP3-P...   \n",
       "1  /home/aljubetic/AF2/projects/2023-03-03__MP3-P...   \n",
       "2  /home/aljubetic/AF2/projects/2023-03-03__MP3-P...   \n",
       "3  /home/aljubetic/AF2/projects/2023-03-03__MP3-P...   \n",
       "4  /home/aljubetic/AF2/projects/2023-03-03__MP3-P...   \n",
       "\n",
       "                                           stem_name  \\\n",
       "0  P12__P1_scores_rank_005_alphafold2_multimer_v3...   \n",
       "1  P11__P12_scores_rank_002_alphafold2_multimer_v...   \n",
       "2  P11__P9_scores_rank_003_alphafold2_multimer_v3...   \n",
       "3  P11__P11_scores_rank_004_alphafold2_multimer_v...   \n",
       "4  P11__P11_scores_rank_001_alphafold2_multimer_v...   \n",
       "\n",
       "                                                 dir base_name  id1  id2  \\\n",
       "0  /home/aljubetic/AF2/projects/2023-03-03__MP3-P...   P12__P1  P12   P1   \n",
       "1  /home/aljubetic/AF2/projects/2023-03-03__MP3-P...  P11__P12  P11  P12   \n",
       "2  /home/aljubetic/AF2/projects/2023-03-03__MP3-P...   P11__P9  P11   P9   \n",
       "3  /home/aljubetic/AF2/projects/2023-03-03__MP3-P...  P11__P11  P11  P11   \n",
       "4  /home/aljubetic/AF2/projects/2023-03-03__MP3-P...  P11__P11  P11  P11   \n",
       "\n",
       "   rank  model_number      plddt    max_pae       pae   ptm  iptm  \n",
       "0     5             5  71.381250  23.843750  7.841454  0.49  0.21  \n",
       "1     4             4  96.432500  20.687500  2.571843  0.82  0.80  \n",
       "2     4             4  96.030714  21.140625  2.726916  0.81  0.79  \n",
       "3     5             5  92.818214  24.890625  3.401183  0.76  0.73  \n",
       "4     1             1  96.184821  19.421875  2.706049  0.81  0.79  "
      ]
     },
     "execution_count": 12,
     "metadata": {},
     "output_type": "execute_result"
    }
   ],
   "source": [
    "\n",
    "if not os.path.exists(f'{out_dir}/AF2.csv.gz') or 1:\n",
    "    lines = []\n",
    "    for af in files:\n",
    "        data_dict = u.read_json(af)\n",
    "        data_dict['plddt']=np.average(data_dict['plddt'])\n",
    "        data_dict['pae']=np.average(data_dict['pae'])\n",
    "        name_dict = parse_AF2_file_name(af)\n",
    "        name_dict.update(data_dict)\n",
    "        lines.append(name_dict)\n",
    "       \n",
    "    df = pd.DataFrame(lines)\n",
    "    #df['msa_depth'] = get_token_value(out_dir, 'msad')\n",
    "\n",
    "    df.to_csv(f'{out_dir}/AF2.csv.gz')\n",
    "    print(f'Wrote {len(df)} lines to {out_dir}/AF2.csv.gz')\n",
    "\n",
    "else:\n",
    "    df=pd.read_csv(f'{out_dir}/AF2.csv.gz')\n",
    "df.head()"
   ]
  },
  {
   "cell_type": "code",
   "execution_count": 14,
   "metadata": {},
   "outputs": [
    {
     "data": {
      "text/plain": [
       "{'num_queries': 8,\n",
       " 'use_templates': False,\n",
       " 'num_relax': 5,\n",
       " 'msa_mode': 'single_sequence',\n",
       " 'model_type': 'alphafold2_multimer_v3',\n",
       " 'num_models': 5,\n",
       " 'num_recycles': None,\n",
       " 'recycle_early_stop_tolerance': None,\n",
       " 'num_ensemble': 1,\n",
       " 'model_order': [1, 2, 3, 4, 5],\n",
       " 'keep_existing_results': True,\n",
       " 'rank_by': 'multimer',\n",
       " 'max_seq': 1,\n",
       " 'max_extra_seq': 1,\n",
       " 'pair_mode': 'unpaired_paired',\n",
       " 'host_url': 'https://api.colabfold.com',\n",
       " 'stop_at_score': 100,\n",
       " 'random_seed': 0,\n",
       " 'num_seeds': 1,\n",
       " 'recompile_padding': 10,\n",
       " 'commit': '8c745219964d6bfb878dd6fb53b5a2a05b009391',\n",
       " 'use_dropout': False,\n",
       " 'use_cluster_profile': True,\n",
       " 'use_fuse': True,\n",
       " 'use_bfloat16': True,\n",
       " 'version': '1.5.2'}"
      ]
     },
     "execution_count": 14,
     "metadata": {},
     "output_type": "execute_result"
    }
   ],
   "source": [
    "# TODO read first config file assume all are the same\n",
    "config = glob(f'{out_dir}/*/config.json')[0]\n",
    "config = u.read_json(config)\n",
    "config"
   ]
  },
  {
   "cell_type": "code",
   "execution_count": 15,
   "metadata": {},
   "outputs": [],
   "source": [
    "\n",
    "\n",
    "\n",
    "df['msa_mode'] = config['msa_mode']\n",
    "df['msa_depth'] = 2\n",
    "df['model_type'] = config['model_type']\n",
    "df['num_recycles'] =  config['num_recycles']"
   ]
  },
  {
   "cell_type": "code",
   "execution_count": 16,
   "metadata": {},
   "outputs": [
    {
     "name": "stdout",
     "output_type": "stream",
     "text": [
      "Wrote 720 lines to /home/aljubetic/AF2/projects/2023-03-03__MP3-PNIC-all-by-all-v3/out/01__multimer-v3/AF2.csv.gz\n"
     ]
    }
   ],
   "source": [
    "df.to_csv(f'{out_dir}/AF2.csv.gz')\n",
    "print(f'Wrote {len(df)} lines to {out_dir}/AF2.csv.gz')"
   ]
  }
 ],
 "metadata": {
  "kernelspec": {
   "display_name": "pyro",
   "language": "python",
   "name": "python3"
  },
  "language_info": {
   "codemirror_mode": {
    "name": "ipython",
    "version": 3
   },
   "file_extension": ".py",
   "mimetype": "text/x-python",
   "name": "python",
   "nbconvert_exporter": "python",
   "pygments_lexer": "ipython3",
   "version": "3.9.7"
  },
  "orig_nbformat": 4,
  "vscode": {
   "interpreter": {
    "hash": "ac0061bb4dbc2b17a5a419ea32aa745a1e58e3f554c70fb15d38989b4499d4f2"
   }
  }
 },
 "nbformat": 4,
 "nbformat_minor": 2
}
