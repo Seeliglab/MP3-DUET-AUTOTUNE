{
 "cells": [
  {
   "cell_type": "code",
   "execution_count": 1,
   "metadata": {},
   "outputs": [
    {
     "name": "stdout",
     "output_type": "stream",
     "text": [
      "/mnt/home/ajasja/projects/2022-03-03__AF2_shorter_DHD jojo\n"
     ]
    }
   ],
   "source": [
    "%load_ext autoreload\n",
    "%autoreload 2\n",
    "from glob import glob\n",
    "import sys, os, socket\n",
    "print(os.getcwd(), socket.gethostname())\n",
    "\n",
    "out_dir = 'out/01d__multimer-v2__r3__msad512'"
   ]
  },
  {
   "cell_type": "code",
   "execution_count": 2,
   "metadata": {},
   "outputs": [],
   "source": [
    "import numpy\n",
    "import numpy as np\n",
    "\n",
    "from glob import glob\n",
    "import os\n",
    "\n",
    "import truncator\n",
    "import truncator as u\n",
    "\n",
    "import pymol\n",
    "from pymol import cmd\n",
    "from truncator.pymol_utils import *"
   ]
  },
  {
   "cell_type": "code",
   "execution_count": 3,
   "metadata": {},
   "outputs": [
    {
     "name": "stdout",
     "output_type": "stream",
     "text": [
      "Found pdbs: 720\n"
     ]
    }
   ],
   "source": [
    "\n",
    "pdbs=glob(f'{out_dir}/*.pdb')\n",
    "print (f\"Found pdbs: {len(pdbs)}\")"
   ]
  },
  {
   "cell_type": "code",
   "execution_count": 5,
   "metadata": {},
   "outputs": [],
   "source": [
    "def make_rosetta_command(xml_script, cmd_in, nstruct=1, target_res='', suffix='\"\"', layer_type='sasa',\n",
    "skip_design=False, design_type='fast_design', out_name=None, num=None, tee=False):\n",
    "    \"\"\"Makes a rosetta command line.\"\"\"\"\"\n",
    "    import os\n",
    "    cmd = \"\"\n",
    "\n",
    "    #rosetta_bin = \"/software/rosetta/latest/bin/rosetta_scripts\"\n",
    "    rosetta_bin = \" /home/ajasja/Rosetta/main/source/bin/rosetta_scripts.linuxgccrelease\"\n",
    "    #rosetta_bin = \"/home/bcov/ppi/tutorial_build/main/source/bin/rosetta_scripts\"\n",
    "    #rosetta_bin = \"/software/rosetta/latest/bin/rosetta_scripts\"\n",
    "    #rosetta_bin = \"/home/brunette/src/Rosetta_dev/main/source/bin/rosetta_scripts.hdf5.linuxgccrelease\"\n",
    "    #-holes:dalphaball !/home/bcov/dev_rosetta/main/source/external/DAlpahBall/DAlphaBall.gcc \\\n",
    "    #/software/rosetta/latest/bin/rosetta_scripts\n",
    "    \n",
    "    \n",
    "    \n",
    "    base_name = u.basename_noext(cmd_in)+suffix\n",
    "    if not num is None:\n",
    "        base_name = str(num)+\"__\"+base_name\n",
    "    out_path = f\"{out_name}/{base_name}\"\n",
    "    log_name =  f\"{out_name}/{base_name}/{base_name}.log\"\n",
    "    \n",
    "    if skip_design:\n",
    "        do_fast_design_str = \"<!--\"\n",
    "        do_repack_str = \"<!--\"\n",
    "    else:\n",
    "        if design_type=='fast_design':\n",
    "            do_fast_design_str = '\"\"'\n",
    "            do_repack_str = \"<!--\"\n",
    "        else:\n",
    "            do_fast_design_str = \"<!--\"\n",
    "            do_repack_str = '\"\"'\n",
    "        \n",
    "            \n",
    "\n",
    "    if layer_type=='sasa':\n",
    "        do_sasa_str='\"\"'\n",
    "        do_neighbors_str = \"<!--\"\n",
    "    else:\n",
    "        do_sasa_str='<!--'\n",
    "        do_neighbors_str = '\"\"'\n",
    "    cmd += f\"mkdir -p {out_path} && \"\n",
    "    \n",
    "    flags = f\"\"\"\\\n",
    "            -out::file::pdb_comments \\\n",
    "            -beta_nov16  \\\n",
    "            -s {cmd_in} \\\n",
    "            -in:file:native {cmd_in} \\\n",
    "            -parser:protocol {xml_script} \\\n",
    "            -parser:script_vars do_fast_design=\"{do_fast_design_str}\"  \\\n",
    "            -parser:script_vars do_repack=\"{do_repack_str}\"  \\\n",
    "            -parser:script_vars target_res=\"{target_res}\"  \\\n",
    "            -parser:script_vars do_neighbors=\"{do_neighbors_str}\"  \\\n",
    "            -parser:script_vars do_sasa=\"{do_sasa_str}\"  \\\n",
    "            -suffix {suffix} \\\n",
    "            -nstruct {nstruct} \\\n",
    "            -overwrite 1 \\\n",
    "            -out:pdb 1 \\\n",
    "            -out:level 300 \\\n",
    "            -out::path::all {out_path} \\\n",
    "            -out:file:scorefile_format json \\\n",
    "            -renumber_pdb true \\\n",
    "            -include_current \\\n",
    "            -detect_disulf false \\\n",
    "            -ignore_unrecognized_res true \\\n",
    "            -mute protocols.rosetta_scripts.ParsedProtocol.REPORT \\\n",
    "            -out:levels core.select.residue_selector.SecondaryStructureSelector:warning \\\n",
    "            -out:levels core.select.residue_selector.PrimarySequenceNeighborhoodSelector:warning \\\n",
    "            -holes:dalphaball input/DAlphaBall.gcc \\\n",
    "            \"\"\".replace(\"            \",\" \")\n",
    "    \n",
    "\n",
    "    if tee:\n",
    "        redir_str = \" | tee \"\n",
    "    else:\n",
    "        redir_str = \" > \"\n",
    "    cmd += \"{ \\\\time -v \" + rosetta_bin + \" \" + flags +  \" 2>&1 ;} \" + redir_str + log_name\n",
    "    return cmd\n"
   ]
  },
  {
   "cell_type": "code",
   "execution_count": 6,
   "metadata": {},
   "outputs": [
    {
     "name": "stdout",
     "output_type": "stream",
     "text": [
      "mkdir -p out/01d__multimer-v2__r3__msad512/rosetta/P11_P3_model_1_multimer_v2_seed_0_unrelaxedrelaxed && { \\time -v  /home/ajasja/Rosetta/main/source/bin/rosetta_scripts.linuxgccrelease  -out::file::pdb_comments  -beta_nov16   -s out/01d__multimer-v2__r3__msad512/P11_P3_model_1_multimer_v2_seed_0_unrelaxed.pdb  -in:file:native out/01d__multimer-v2__r3__msad512/P11_P3_model_1_multimer_v2_seed_0_unrelaxed.pdb  -parser:protocol 02_calc_interface.xml  -parser:script_vars do_fast_design=\"<!--\"   -parser:script_vars do_repack=\"\"\"\"   -parser:script_vars target_res=\"\"   -parser:script_vars do_neighbors=\"<!--\"   -parser:script_vars do_sasa=\"\"\"\"   -suffix relaxed  -nstruct 1  -overwrite 1  -out:pdb 1  -out:level 300  -out::path::all out/01d__multimer-v2__r3__msad512/rosetta/P11_P3_model_1_multimer_v2_seed_0_unrelaxedrelaxed  -out:file:scorefile_format json  -renumber_pdb true  -include_current  -detect_disulf false  -ignore_unrecognized_res true  -mute protocols.rosetta_scripts.ParsedProtocol.REPORT  -out:levels core.select.residue_selector.SecondaryStructureSelector:warning  -out:levels core.select.residue_selector.PrimarySequenceNeighborhoodSelector:warning  -holes:dalphaball input/DAlphaBall.gcc   2>&1 ;}  > out/01d__multimer-v2__r3__msad512/rosetta/P11_P3_model_1_multimer_v2_seed_0_unrelaxedrelaxed/P11_P3_model_1_multimer_v2_seed_0_unrelaxedrelaxed.log\n",
      "\n",
      "720\n"
     ]
    }
   ],
   "source": [
    "tasks_name = f\"{out_dir}/02_calc_interface\"\n",
    "tasks_file_name = tasks_name+\".tasks\"\n",
    "\n",
    "\n",
    "with open(tasks_file_name, \"w+\") as f:\n",
    "    for pdb in pdbs:\n",
    "        print(\n",
    "           make_rosetta_command(\"02_calc_interface.xml\", pdb, suffix=\"relaxed\",\n",
    "           layer_type='sasa', nstruct=1, out_name=f'{out_dir}/rosetta',  \n",
    "           design_type='relax'),\n",
    "        file=f)\n",
    "    \n",
    "\n",
    "\n",
    "cmds = u.read_file_lines(tasks_file_name)\n",
    "#print(len(cmds))\n",
    "#cmds\n",
    "print(cmds[0]); print(len(cmds))\n"
   ]
  },
  {
   "cell_type": "code",
   "execution_count": 9,
   "metadata": {},
   "outputs": [],
   "source": [
    "!{cmds[0]}\n"
   ]
  },
  {
   "cell_type": "code",
   "execution_count": 10,
   "metadata": {},
   "outputs": [
    {
     "name": "stdout",
     "output_type": "stream",
     "text": [
      "Submitted batch job 24762523\n"
     ]
    }
   ],
   "source": [
    "GROUP_SIZE=20\n",
    "task_list=tasks_file_name\n",
    "from math import ceil; num_tasks = ceil(len(cmds)/GROUP_SIZE)\n",
    "!export GROUP_SIZE={GROUP_SIZE}; sbatch --mem=3G -p short -J {task_list} -o {task_list}.out -e {task_list}.err -a 1-{num_tasks} /home/ajasja/scripts/wrapper_digs_array_job_group.sh {task_list} "
   ]
  },
  {
   "cell_type": "code",
   "execution_count": 13,
   "metadata": {},
   "outputs": [
    {
     "name": "stdout",
     "output_type": "stream",
     "text": [
      "ARRAY_JO ARRAY_TA PRIORI PARTITIO USER       START_TIME           ST TIME     MIN_ CPUS NAME                 NODELIST REASON               \n"
     ]
    }
   ],
   "source": [
    "!squeue -u $USER\n"
   ]
  },
  {
   "cell_type": "code",
   "execution_count": null,
   "metadata": {},
   "outputs": [],
   "source": [
    "# run Z:/projects/truncator/truncator/pymol_utils.py\n",
    "load_rosetta_pdb('mALb8_0001.pdb', per_res_metrics='per_res_sasa per_res_nc')\n",
    "# run Z:/projects/truncator/truncator/pymol_utils.py\n",
    "cbs per_res_sasa, range=-100 0 100, colors=green white red\n",
    "cbs per_res_nc, range=-5 0 5, colors=green red white\n",
    "cbs per_res_sap, range=-5 0 5, colors=green white red\n",
    "cbs total, range=-5 0 5, colors=green white red\n",
    "\n",
    "select core, p.per_res_sasa<19\n",
    "select bdry, p.per_res_sasa>19 and p.per_res_sasa<40\n",
    "select surf, p.per_res_sasa>40 \n",
    "\n",
    "color white, core\n",
    "color orange, bdry\n",
    "color red, surf\n",
    "\n",
    "color cyan\n",
    "color tv_green, interface_by_vec\n",
    "color marine, interface_near"
   ]
  },
  {
   "cell_type": "code",
   "execution_count": null,
   "metadata": {},
   "outputs": [],
   "source": [
    "def load_score_file_to_dict(score_file):\n",
    "    \"\"\"Loads a Rosetta Json file to a dictionary indexed by decoy. In case of duplicate entries, the last one wins\"\"\"\n",
    "    import json\n",
    "    sc = {}\n",
    "    with open(score_file) as f:\n",
    "        for line in f:\n",
    "            row = json.loads(line)\n",
    "            #print(row)\n",
    "            sc[row['decoy']] = row\n",
    "    return sc\n",
    "\n",
    "load_score_file_to_dict(\"out/01_sap_redesign_bcov/BW1/score.sc\");"
   ]
  },
  {
   "cell_type": "code",
   "execution_count": null,
   "metadata": {},
   "outputs": [],
   "source": []
  },
  {
   "cell_type": "code",
   "execution_count": null,
   "metadata": {},
   "outputs": [],
   "source": []
  }
 ],
 "metadata": {
  "interpreter": {
   "hash": "e04715c5bbbfef408de42d1b8d78b8ece051f21c75fc2c6f89cdd964c9e53e98"
  },
  "kernelspec": {
   "display_name": "Python 3.7.8 64-bit ('pyro_scripts': conda)",
   "name": "python3"
  },
  "language_info": {
   "codemirror_mode": {
    "name": "ipython",
    "version": 3
   },
   "file_extension": ".py",
   "mimetype": "text/x-python",
   "name": "python",
   "nbconvert_exporter": "python",
   "pygments_lexer": "ipython3",
   "version": "3.7.8"
  },
  "orig_nbformat": 4
 },
 "nbformat": 4,
 "nbformat_minor": 2
}
