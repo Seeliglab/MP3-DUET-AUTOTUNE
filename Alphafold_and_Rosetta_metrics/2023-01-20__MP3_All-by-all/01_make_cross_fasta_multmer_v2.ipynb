{
 "cells": [
  {
   "cell_type": "code",
   "execution_count": 67,
   "metadata": {},
   "outputs": [
    {
     "name": "stdout",
     "output_type": "stream",
     "text": [
      "/home/aljubetic/AF2/projects/2023-01-20__MP3_All-by-all\n",
      "headnode\n"
     ]
    }
   ],
   "source": [
    "import os; print(os.getcwd())\n",
    "import socket; print(socket.gethostname())\n",
    "import os\n",
    "from glob import glob\n",
    "from Bio import SeqIO\n",
    "import truncator as u\n",
    "import pathlib"
   ]
  },
  {
   "cell_type": "code",
   "execution_count": 68,
   "metadata": {},
   "outputs": [],
   "source": [
    "seqs = SeqIO.to_dict(SeqIO.parse(open('01_MP3_single_set.fasta'),'fasta'))\n",
    "out_dir = pathlib.Path('out/01__multimer-v2__r6')"
   ]
  },
  {
   "cell_type": "code",
   "execution_count": 69,
   "metadata": {},
   "outputs": [],
   "source": [
    "\n",
    "#make a big all-by-all fasta file\n",
    "\n",
    "u.make_dirs(out_dir)\n",
    "with open('01b_mp3-all-by-all.fasta', 'w') as out_file:\n",
    "    for id1 in seqs.keys():\n",
    "        for id2 in seqs.keys():\n",
    "            name = f'{id1}__{id2}'\n",
    "            # get rid of - and white space\n",
    "            seq1 = ''.join(str(seqs[id1].seq).replace('-','').split())\n",
    "            seq2 = ''.join(str(seqs[id2].seq).replace('-','').split())\n",
    "            out_file.write(f'>{name}\\n')\n",
    "            out_file.write(f'{seq1}:{seq2}\\n')\n",
    "                "
   ]
  },
  {
   "cell_type": "code",
   "execution_count": 70,
   "metadata": {},
   "outputs": [],
   "source": [
    "def write_to_fasta(name, list_of_seq):\n",
    "    with open(name, 'w') as out_file:\n",
    "        for seq in list_of_seq:\n",
    "            out_file.write(f'>{seq.id}\\n')\n",
    "            out_file.write(f'{seq.seq}\\n')"
   ]
  },
  {
   "cell_type": "code",
   "execution_count": 71,
   "metadata": {},
   "outputs": [],
   "source": [
    "#load the big fasta file\n",
    "seqs = SeqIO.to_dict(SeqIO.parse(open('01b_mp3-all-by-all.fasta'),'fasta'))\n",
    "#Sort by length\n",
    "seqs = dict(sorted(seqs.items(), key=lambda item: len(item[1])))\n",
    "write_to_fasta('01c__sorted_mp3-all-by-all.fasta', seqs.values())\n"
   ]
  },
  {
   "cell_type": "code",
   "execution_count": 72,
   "metadata": {},
   "outputs": [],
   "source": [
    "MAX_GROUP_SIZE = 21\n",
    "MAX_GROUP_TOTAL_AA   = 3000\n",
    "MAX_SIZE_CHANGE = 1.1\n",
    "\n",
    "GROUPS = []\n",
    "\n",
    "seq_list = list(seqs.values())\n",
    "\n",
    "#add fist sequence to group\n",
    "\n",
    "seq = seq_list[0]\n",
    "group_index = 0\n",
    "GROUPS.append([seq])\n",
    "group_size = 1\n",
    "group_total_AA = len(seq) \n",
    "last_added_length = len(seq)\n",
    "\n",
    "for seq in seq_list[1:]:\n",
    "    #if change in criteria\n",
    "    size_change = len(seq)/last_added_length  \n",
    "    if group_size > MAX_GROUP_SIZE or group_total_AA > MAX_GROUP_TOTAL_AA or size_change > MAX_SIZE_CHANGE:\n",
    "        #Make a new group\n",
    "        group_index = group_index + 1\n",
    "        GROUPS.append([seq])\n",
    "        group_size = 1\n",
    "        group_total_AA = len(seq) \n",
    "        last_added_length = len(seq)\n",
    "    else:\n",
    "        GROUPS[group_index].append(seq)\n",
    "        group_size += 1\n",
    "        group_total_AA += len(seq) \n",
    "        last_added_length = len(seq)\n",
    "\n"
   ]
  },
  {
   "cell_type": "code",
   "execution_count": 73,
   "metadata": {},
   "outputs": [],
   "source": [
    "for n, g in enumerate(GROUPS):\n",
    "    write_to_fasta(out_dir/f\"g{n:04d}.fasta\", g)"
   ]
  },
  {
   "cell_type": "code",
   "execution_count": 74,
   "metadata": {},
   "outputs": [
    {
     "name": "stdout",
     "output_type": "stream",
     "text": [
      "out/01__multimer-v2__r6/run.tasks\n"
     ]
    }
   ],
   "source": [
    "fastas = sorted(glob(f'{out_dir}/*.fasta'))\n",
    "\n",
    "print(f'{out_dir}/run.tasks')\n",
    "with open(f'{out_dir}/run.tasks', 'w') as f:\n",
    "    for fasta in fastas:\n",
    "        fasta_name = u.basename_noext(fasta)\n",
    "        f.write(f'. /home/aljubetic/bin/set_up_AF2.sh && mkdir -p {out_dir/fasta_name} && '\n",
    "        f'/home/aljubetic/AF2/CF2/bin/colabfold_batch --num-recycle 6 --msa-mode single_sequence --model-type AlphaFold2-multimer-v2 {fasta} {out_dir/fasta_name} \\n')\n"
   ]
  },
  {
   "cell_type": "code",
   "execution_count": 75,
   "metadata": {},
   "outputs": [
    {
     "data": {
      "text/plain": [
       "'. /home/aljubetic/bin/set_up_AF2.sh && mkdir -p out/01__multimer-v2__r6/g0000 && /home/aljubetic/AF2/CF2/bin/colabfold_batch --num-recycle 6 --msa-mode single_sequence --model-type AlphaFold2-multimer-v2 out/01__multimer-v2__r6/g0000.fasta out/01__multimer-v2__r6/g0000'"
      ]
     },
     "execution_count": 75,
     "metadata": {},
     "output_type": "execute_result"
    }
   ],
   "source": [
    "cmds = u.read_file_lines(f'{out_dir}/run.tasks', trim=True)\n",
    "cmds[0]"
   ]
  },
  {
   "cell_type": "code",
   "execution_count": 77,
   "metadata": {},
   "outputs": [
    {
     "name": "stdout",
     "output_type": "stream",
     "text": [
      "sbatch  --partition=gpu --gres=gpu:A40:1 --ntasks=1 --cpus-per-task=2 --job-name=MP3-all-by-all --output=MP3-all-by-all.out -e MP3-all-by-all.err  --wrap=\". /home/aljubetic/bin/set_up_AF2.sh && mkdir -p out/01__multimer-v2__r6/g0000 && /home/aljubetic/AF2/CF2/bin/colabfold_batch --num-recycle 6 --msa-mode single_sequence --model-type AlphaFold2-multimer-v2 out/01__multimer-v2__r6/g0000.fasta out/01__multimer-v2__r6/g0000\" \n"
     ]
    }
   ],
   "source": [
    "###TEST one\n",
    "job_name='MP3-all-by-all'\n",
    "\n",
    "slurm_params = f'--partition=gpu --gres=gpu:A40:1 --ntasks=1 --cpus-per-task=2 --job-name={job_name} --output={job_name}.out -e {job_name}.err '\n",
    "\n",
    "print(f\"\"\"sbatch  {slurm_params} --wrap=\"{cmds[0]}\" \"\"\")"
   ]
  },
  {
   "cell_type": "code",
   "execution_count": 84,
   "metadata": {},
   "outputs": [
    {
     "name": "stdout",
     "output_type": "stream",
     "text": [
      "Submitted batch job 11860\n"
     ]
    }
   ],
   "source": [
    "GROUP_SIZE=1\n",
    "task_list=f'{out_dir}/run.tasks'\n",
    "from math import ceil; num_tasks = ceil(len(cmds)/GROUP_SIZE)\n",
    "!export GROUP_SIZE={GROUP_SIZE}; sbatch {slurm_params} -a 1-{num_tasks} /home/aljubetic/scripts/wrapper_slurm_array_job_group.sh {task_list} "
   ]
  },
  {
   "cell_type": "code",
   "execution_count": 85,
   "metadata": {},
   "outputs": [
    {
     "name": "stdout",
     "output_type": "stream",
     "text": [
      "             JOBID PARTITION     NAME     USER ST       TIME  NODES NODELIST(REASON)\n",
      "    11860_[47-219]       gpu MP3-all- aljubeti PD       0:00      1 (Resources)\n",
      "           11860_1       gpu MP3-all- aljubeti  R       0:02      1 compute-0-10\n",
      "           11860_2       gpu MP3-all- aljubeti  R       0:02      1 compute-0-10\n",
      "           11860_3       gpu MP3-all- aljubeti  R       0:02      1 compute-0-10\n",
      "           11860_4       gpu MP3-all- aljubeti  R       0:02      1 compute-0-10\n",
      "           11860_5       gpu MP3-all- aljubeti  R       0:02      1 compute-0-11\n",
      "           11860_6       gpu MP3-all- aljubeti  R       0:02      1 compute-0-11\n",
      "           11860_7       gpu MP3-all- aljubeti  R       0:02      1 compute-6-0\n",
      "           11860_8       gpu MP3-all- aljubeti  R       0:02      1 compute-6-0\n",
      "           11860_9       gpu MP3-all- aljubeti  R       0:02      1 compute-6-0\n",
      "          11860_10       gpu MP3-all- aljubeti  R       0:02      1 compute-6-0\n",
      "          11860_11       gpu MP3-all- aljubeti  R       0:02      1 compute-6-0\n",
      "          11860_12       gpu MP3-all- aljubeti  R       0:02      1 compute-6-0\n",
      "          11860_13       gpu MP3-all- aljubeti  R       0:02      1 compute-6-0\n",
      "          11860_14       gpu MP3-all- aljubeti  R       0:02      1 compute-6-0\n",
      "          11860_15       gpu MP3-all- aljubeti  R       0:02      1 compute-6-1\n",
      "          11860_16       gpu MP3-all- aljubeti  R       0:02      1 compute-6-1\n",
      "          11860_17       gpu MP3-all- aljubeti  R       0:02      1 compute-6-1\n",
      "          11860_18       gpu MP3-all- aljubeti  R       0:02      1 compute-6-1\n",
      "          11860_19       gpu MP3-all- aljubeti  R       0:02      1 compute-6-1\n",
      "          11860_20       gpu MP3-all- aljubeti  R       0:02      1 compute-6-1\n",
      "          11860_21       gpu MP3-all- aljubeti  R       0:02      1 compute-6-1\n",
      "          11860_22       gpu MP3-all- aljubeti  R       0:02      1 compute-6-1\n",
      "          11860_23       gpu MP3-all- aljubeti  R       0:02      1 compute-6-2\n",
      "          11860_24       gpu MP3-all- aljubeti  R       0:02      1 compute-6-2\n",
      "          11860_25       gpu MP3-all- aljubeti  R       0:02      1 compute-6-2\n",
      "          11860_26       gpu MP3-all- aljubeti  R       0:02      1 compute-6-2\n",
      "          11860_27       gpu MP3-all- aljubeti  R       0:02      1 compute-6-2\n",
      "          11860_28       gpu MP3-all- aljubeti  R       0:02      1 compute-6-2\n",
      "          11860_29       gpu MP3-all- aljubeti  R       0:02      1 compute-6-2\n",
      "          11860_30       gpu MP3-all- aljubeti  R       0:02      1 compute-6-2\n",
      "          11860_31       gpu MP3-all- aljubeti  R       0:02      1 compute-6-3\n",
      "          11860_32       gpu MP3-all- aljubeti  R       0:02      1 compute-6-3\n",
      "          11860_33       gpu MP3-all- aljubeti  R       0:02      1 compute-6-3\n",
      "          11860_34       gpu MP3-all- aljubeti  R       0:02      1 compute-6-3\n",
      "          11860_35       gpu MP3-all- aljubeti  R       0:02      1 compute-6-3\n",
      "          11860_36       gpu MP3-all- aljubeti  R       0:02      1 compute-6-3\n",
      "          11860_37       gpu MP3-all- aljubeti  R       0:02      1 compute-6-3\n",
      "          11860_38       gpu MP3-all- aljubeti  R       0:02      1 compute-6-3\n",
      "          11860_39       gpu MP3-all- aljubeti  R       0:02      1 compute-6-4\n",
      "          11860_40       gpu MP3-all- aljubeti  R       0:02      1 compute-6-4\n",
      "          11860_41       gpu MP3-all- aljubeti  R       0:02      1 compute-6-4\n",
      "          11860_42       gpu MP3-all- aljubeti  R       0:02      1 compute-6-4\n",
      "          11860_43       gpu MP3-all- aljubeti  R       0:02      1 compute-6-4\n",
      "          11860_44       gpu MP3-all- aljubeti  R       0:02      1 compute-6-4\n",
      "          11860_45       gpu MP3-all- aljubeti  R       0:02      1 compute-6-4\n",
      "          11860_46       gpu MP3-all- aljubeti  R       0:02      1 compute-6-4\n"
     ]
    }
   ],
   "source": [
    "!squeue --me"
   ]
  },
  {
   "cell_type": "code",
   "execution_count": 22,
   "metadata": {},
   "outputs": [],
   "source": [
    "!scancel 24290331 "
   ]
  },
  {
   "cell_type": "code",
   "execution_count": null,
   "metadata": {},
   "outputs": [],
   "source": []
  }
 ],
 "metadata": {
  "kernelspec": {
   "display_name": "pyro",
   "language": "python",
   "name": "python3"
  },
  "language_info": {
   "codemirror_mode": {
    "name": "ipython",
    "version": 3
   },
   "file_extension": ".py",
   "mimetype": "text/x-python",
   "name": "python",
   "nbconvert_exporter": "python",
   "pygments_lexer": "ipython3",
   "version": "3.9.7"
  },
  "orig_nbformat": 4,
  "vscode": {
   "interpreter": {
    "hash": "ac0061bb4dbc2b17a5a419ea32aa745a1e58e3f554c70fb15d38989b4499d4f2"
   }
  }
 },
 "nbformat": 4,
 "nbformat_minor": 2
}
