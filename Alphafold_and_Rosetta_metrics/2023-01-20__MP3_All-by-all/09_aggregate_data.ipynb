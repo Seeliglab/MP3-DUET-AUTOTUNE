{
 "cells": [
  {
   "cell_type": "code",
   "execution_count": null,
   "metadata": {},
   "outputs": [],
   "source": [
    "%matplotlib inline\n",
    "%load_ext autoreload\n",
    "%autoreload 2\n",
    "import os; print(os.getcwd())\n",
    "import socket; print(socket.gethostname())\n",
    "from glob import glob\n",
    "import json\n",
    "\n",
    "import truncator as u\n",
    "import pandas as pd\n",
    "from utils import *"
   ]
  },
  {
   "cell_type": "code",
   "execution_count": null,
   "metadata": {},
   "outputs": [],
   "source": [
    "out_dir = 'out/01__multimer-v2__r6'\n",
    "files = glob(f'{out_dir}/*/*scores.json')\n",
    "files = [f for f in files if not 'config.json' in f ]\n",
    "print(f\"Found {len(files)} json files.\")"
   ]
  },
  {
   "cell_type": "code",
   "execution_count": null,
   "metadata": {},
   "outputs": [],
   "source": [
    "# TODO read first config file assume all are the same"
   ]
  },
  {
   "cell_type": "code",
   "execution_count": 73,
   "metadata": {},
   "outputs": [],
   "source": [
    "\n",
    "if not os.path.exist(f'{out_dir}/AF2.csv.gz'):\n",
    "    lines = []\n",
    "    for af in files:\n",
    "        data_dict = u.read_json(af)\n",
    "        data_dict['plddt']=np.average(data_dict['plddt'])\n",
    "        data_dict['pae']=np.average(data_dict['pae'])\n",
    "        name_dict = parse_AF2_file_name(af)\n",
    "\n",
    "        name_dict.update(data_dict)\n",
    "        lines.append(name_dict)\n",
    "\n",
    "    df = pd.DataFrame(lines)\n",
    "    #df['msa_depth'] = get_token_value(out_dir, 'msad')\n",
    "\n",
    "    df.to_csv(f'{out_dir}/AF2.csv.gz')\n",
    "    print(f'Wrote {len(df)} lines to {out_dir}/AF2.csv.gz')\n",
    "\n",
    "else:\n",
    "    df=pd.read_csv(f'{out_dir}/AF2.csv.gz')\n",
    "df.head()"
   ]
  },
  {
   "cell_type": "code",
   "execution_count": 78,
   "metadata": {},
   "outputs": [],
   "source": [
    "df['model_num']=\n",
    "df['rank_num]=\n",
    "\n",
    "df['msa_mode'] = 'single_sequence'\n",
    "df['model_type'] = 'multimer-v2'\n",
    "df['num_models'] = 5\n",
    "df['num_recycles'] = 6\n"
   ]
  },
  {
   "cell_type": "code",
   "execution_count": 79,
   "metadata": {},
   "outputs": [
    {
     "name": "stdout",
     "output_type": "stream",
     "text": [
      "Wrote 21780 lines to out/01__multimer-v2__r6/AF2.csv.gz\n"
     ]
    }
   ],
   "source": [
    "    df.to_csv(f'{out_dir}/AF2.csv.gz')\n",
    "    print(f'Wrote {len(df)} lines to {out_dir}/AF2.csv.gz')"
   ]
  }
 ],
 "metadata": {
  "kernelspec": {
   "display_name": "pyro",
   "language": "python",
   "name": "python3"
  },
  "language_info": {
   "codemirror_mode": {
    "name": "ipython",
    "version": 3
   },
   "file_extension": ".py",
   "mimetype": "text/x-python",
   "name": "python",
   "nbconvert_exporter": "python",
   "pygments_lexer": "ipython3",
   "version": "3.9.7"
  },
  "orig_nbformat": 4,
  "vscode": {
   "interpreter": {
    "hash": "ac0061bb4dbc2b17a5a419ea32aa745a1e58e3f554c70fb15d38989b4499d4f2"
   }
  }
 },
 "nbformat": 4,
 "nbformat_minor": 2
}
