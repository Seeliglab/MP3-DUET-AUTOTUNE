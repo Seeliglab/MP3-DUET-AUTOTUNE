{
 "cells": [
  {
   "cell_type": "code",
   "execution_count": 2,
   "metadata": {
    "tags": []
   },
   "outputs": [
    {
     "name": "stdout",
     "output_type": "stream",
     "text": [
      "/mnt/home/ajasja/projects/2022-03-03__AF2_shorter_DHD\n",
      "jojo\n"
     ]
    }
   ],
   "source": [
    "import os; print(os.getcwd())\n",
    "import socket; print(socket.gethostname())\n",
    "import os\n",
    "from glob import glob"
   ]
  },
  {
   "cell_type": "code",
   "execution_count": 3,
   "metadata": {},
   "outputs": [],
   "source": [
    "#import sys; sys.path.insert(0, \"/home/ajasja/projects/Stable_Heterodimers\")\n",
    "#import utils as u\n",
    "#import sys; sys.path.insert(0, \"/home/ajasja/projects/truncator/\")\n",
    "import truncator\n",
    "from truncator import pymol_utils\n",
    "import truncator as u\n",
    "\n",
    "from utils import *"
   ]
  },
  {
   "cell_type": "code",
   "execution_count": 5,
   "metadata": {
    "tags": []
   },
   "outputs": [
    {
     "name": "stdout",
     "output_type": "stream",
     "text": [
      "PDB Files: 720\n",
      "CPU times: user 216 ms, sys: 7.96 ms, total: 224 ms\n",
      "Wall time: 252 ms\n"
     ]
    }
   ],
   "source": [
    "%%time\n",
    "out_dir = 'out/01a_monomer-ptm__r6__msad512'\n",
    "\n",
    "pdb_files=[]\n",
    "score_files=[]\n",
    "\n",
    "pdb_files.extend(sorted(glob(f\"{out_dir}/rosetta/*/*.pdb\")));\n",
    "score_files.extend(sorted(glob(f\"{out_dir}/rosetta/*/*.sc\")));\n",
    "print(f\"PDB Files: {len(pdb_files)}\")\n",
    "\n",
    "#Replace unqouted nan values\n",
    "#for scoref in score_files:\n",
    "#    !sed -i -e 's/-nan/\"\"/g' -e 's/nan/\"\"/g' {scoref}\n",
    "scores = truncator.read_score_files_with_cache(score_files, f'{out_dir}/rosetta/rosetta_scores.csv.gz')\n",
    "af2 = pd.read_csv(f'{out_dir}/AF2.csv.gz', index_col=0)\n",
    "af2['decoy'] =  af2.base_name + '_unrelaxedrelaxed_0001'\n",
    "af2m = af2.merge(scores, on='decoy', how='left')\n",
    "af2m.to_csv(f'{out_dir}/AF2_rosetta.csv.gz')"
   ]
  },
  {
   "cell_type": "code",
   "execution_count": 6,
   "metadata": {},
   "outputs": [
    {
     "name": "stdout",
     "output_type": "stream",
     "text": [
      "PDB Files: 720\n",
      "CPU times: user 27.4 s, sys: 199 ms, total: 27.6 s\n",
      "Wall time: 29.1 s\n"
     ]
    }
   ],
   "source": [
    "%%time\n",
    "out_dir = 'out/01b__multimer-v1__r3__msad1'\n",
    "\n",
    "pdb_files=[]\n",
    "score_files=[]\n",
    "\n",
    "pdb_files.extend(sorted(glob(f\"{out_dir}/rosetta/*/*.pdb\")));\n",
    "score_files.extend(sorted(glob(f\"{out_dir}/rosetta/*/*.sc\")));\n",
    "print(f\"PDB Files: {len(pdb_files)}\")\n",
    "\n",
    "#Replace unqouted nan values\n",
    "#for scoref in score_files:\n",
    "#    !sed -i -e 's/-nan/\"\"/g' -e 's/nan/\"\"/g' {scoref}\n",
    "scores = truncator.read_score_files_with_cache(score_files, f'{out_dir}/rosetta/rosetta_scores.csv.gz')\n",
    "af2 = pd.read_csv(f'{out_dir}/AF2.csv.gz', index_col=0)\n",
    "af2['decoy'] =  af2.base_name + '_unrelaxedrelaxed_0001'\n",
    "af2m = af2.merge(scores, on='decoy', how='left')\n",
    "af2m.to_csv(f'{out_dir}/AF2_rosetta.csv.gz')"
   ]
  },
  {
   "cell_type": "code",
   "execution_count": 7,
   "metadata": {},
   "outputs": [
    {
     "name": "stdout",
     "output_type": "stream",
     "text": [
      "PDB Files: 720\n",
      "Wrote 721 lines to out/01c__multimer-v1__r3__msad512/AF2_rosetta.csv.gz\n",
      "CPU times: user 27 s, sys: 192 ms, total: 27.2 s\n",
      "Wall time: 28.8 s\n"
     ]
    }
   ],
   "source": [
    "%%time\n",
    "out_dir = 'out/01c__multimer-v1__r3__msad512'\n",
    "\n",
    "pdb_files=[]\n",
    "score_files=[]\n",
    "\n",
    "pdb_files.extend(sorted(glob(f\"{out_dir}/rosetta/*/*.pdb\")));\n",
    "score_files.extend(sorted(glob(f\"{out_dir}/rosetta/*/*.sc\")));\n",
    "print(f\"PDB Files: {len(pdb_files)}\")\n",
    "\n",
    "#Replace unqouted nan values\n",
    "#for scoref in score_files:\n",
    "#    !sed -i -e 's/-nan/\"\"/g' -e 's/nan/\"\"/g' {scoref}\n",
    "scores = truncator.read_score_files_with_cache(score_files, f'{out_dir}/rosetta/rosetta_scores.csv.gz')\n",
    "af2 = pd.read_csv(f'{out_dir}/AF2.csv.gz', index_col=0)\n",
    "af2['decoy'] =  af2.base_name + '_unrelaxedrelaxed_0001'\n",
    "af2m = af2.merge(scores, on='decoy', how='left')\n",
    "af2m.to_csv(f'{out_dir}/AF2_rosetta.csv.gz')\n",
    "print(f'Wrote {len(af2m)} lines to {out_dir}/AF2_rosetta.csv.gz')"
   ]
  },
  {
   "cell_type": "code",
   "execution_count": 4,
   "metadata": {},
   "outputs": [
    {
     "name": "stdout",
     "output_type": "stream",
     "text": [
      "PDB Files: 717\n",
      "Wrote 721 lines to out/01d__multimer-v2__r3__msad512/AF2_rosetta.csv.gz\n",
      "CPU times: user 28.6 s, sys: 172 ms, total: 28.8 s\n",
      "Wall time: 29.4 s\n"
     ]
    }
   ],
   "source": [
    "%%time\n",
    "out_dir = 'out/01d__multimer-v2__r3__msad512'\n",
    "\n",
    "pdb_files=[]\n",
    "score_files=[]\n",
    "\n",
    "pdb_files.extend(sorted(glob(f\"{out_dir}/rosetta/*/*.pdb\")));\n",
    "score_files.extend(sorted(glob(f\"{out_dir}/rosetta/*/*.sc\")));\n",
    "print(f\"PDB Files: {len(pdb_files)}\")\n",
    "\n",
    "#Replace unqouted nan values\n",
    "#for scoref in score_files:\n",
    "#    !sed -i -e 's/-nan/\"\"/g' -e 's/nan/\"\"/g' {scoref}\n",
    "scores = truncator.read_score_files_with_cache(score_files, f'{out_dir}/rosetta/rosetta_scores.csv.gz')\n",
    "af2 = pd.read_csv(f'{out_dir}/AF2.csv.gz', index_col=0)\n",
    "af2['decoy'] =  af2.base_name + '_unrelaxedrelaxed_0001'\n",
    "af2m = af2.merge(scores, on='decoy', how='left')\n",
    "af2m.to_csv(f'{out_dir}/AF2_rosetta.csv.gz')\n",
    "print(f'Wrote {len(af2m)} lines to {out_dir}/AF2_rosetta.csv.gz')"
   ]
  },
  {
   "cell_type": "code",
   "execution_count": null,
   "metadata": {},
   "outputs": [],
   "source": [
    "all_files = glob(\"out/*/AF2_rosetta.csv.gz\")\n",
    "scores = [pd.read_csv(af, index_col=0) for af in all_files]\n",
    "merged = pd.concat(scores)\n",
    "merged.reindex()\n",
    "merged.to_csv('data/AF2_rosetta_merged.csv.gz')"
   ]
  },
  {
   "cell_type": "code",
   "execution_count": null,
   "metadata": {},
   "outputs": [],
   "source": []
  }
 ],
 "metadata": {
  "interpreter": {
   "hash": "e04715c5bbbfef408de42d1b8d78b8ece051f21c75fc2c6f89cdd964c9e53e98"
  },
  "kernel_info": {
   "name": "python3"
  },
  "kernelspec": {
   "display_name": "Python 3.7.8 64-bit ('pyro_scripts': conda)",
   "name": "python3"
  },
  "language_info": {
   "codemirror_mode": {
    "name": "ipython",
    "version": 3
   },
   "file_extension": ".py",
   "mimetype": "text/x-python",
   "name": "python",
   "nbconvert_exporter": "python",
   "pygments_lexer": "ipython3",
   "version": "3.7.8"
  },
  "nteract": {
   "version": "0.22.0"
  }
 },
 "nbformat": 4,
 "nbformat_minor": 4
}
