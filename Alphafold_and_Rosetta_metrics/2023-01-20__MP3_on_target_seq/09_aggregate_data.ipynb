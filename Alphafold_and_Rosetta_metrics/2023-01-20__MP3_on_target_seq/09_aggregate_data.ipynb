{
 "cells": [
  {
   "cell_type": "code",
   "execution_count": 1,
   "metadata": {},
   "outputs": [
    {
     "name": "stdout",
     "output_type": "stream",
     "text": [
      "/mnt/home/ajasja/projects/2022-03-03__AF2_shorter_DHD\n",
      "jojo\n"
     ]
    }
   ],
   "source": [
    "%matplotlib inline\n",
    "%load_ext autoreload\n",
    "%autoreload 2\n",
    "import os; print(os.getcwd())\n",
    "import socket; print(socket.gethostname())\n",
    "from glob import glob\n",
    "import json\n",
    "\n",
    "import truncator as u\n",
    "import pandas as pd\n",
    "from utils import *"
   ]
  },
  {
   "cell_type": "code",
   "execution_count": 2,
   "metadata": {},
   "outputs": [
    {
     "name": "stdout",
     "output_type": "stream",
     "text": [
      "Found 720 json files.\n",
      "Wrote 720 lines to out/01a_monomer-ptm__r6__msad512/AF2.csv.gz\n"
     ]
    }
   ],
   "source": [
    "out_dir = 'out/01a_monomer-ptm__r6__msad512'\n",
    "\n",
    "files = glob(f'{out_dir}/*.json')\n",
    "print(f\"Found {len(files)} json files.\")\n",
    "lines = []\n",
    "for af in files:\n",
    "    data_dict = u.read_json(af)\n",
    "    name_dict = parse_AF2_file_name(af)\n",
    "\n",
    "    name_dict.update(data_dict)\n",
    "    lines.append(name_dict)\n",
    "\n",
    "df = pd.DataFrame(lines)\n",
    "df['msa_depth'] = get_token_value(out_dir, 'msad')\n",
    "df.to_csv(f'{out_dir}/AF2.csv.gz')\n",
    "print(f'Wrote {len(df)} lines to {out_dir}/AF2.csv.gz')"
   ]
  },
  {
   "cell_type": "code",
   "execution_count": 18,
   "metadata": {},
   "outputs": [
    {
     "name": "stdout",
     "output_type": "stream",
     "text": [
      "Found 720 json files.\n",
      "out/01b__multimer-v1__r3__msad1/P2_P8_model_1_multimer_seed_0_prediction_results.json   Extra data: line 11 column 2 (char 233)\n",
      "Wrote 719 lines to out/01b__multimer-v1__r3__msad1/AF2.csv.gz\n"
     ]
    }
   ],
   "source": [
    "out_dir = 'out/01b__multimer-v1__r3__msad1'\n",
    "files = glob(f'{out_dir}/*.json')\n",
    "print(f\"Found {len(files)} json files.\")\n",
    "lines = []\n",
    "for af in files:\n",
    "    try:\n",
    "        data_dict = u.read_json(af)\n",
    "        name_dict = parse_AF2_file_name(af)\n",
    "\n",
    "        name_dict.update(data_dict)\n",
    "        lines.append(name_dict)\n",
    "    except Exception as e: \n",
    "        print(af,\" \", e)\n",
    "        cmd = f\"sed -z -i -e 's/}}}}/}}/' -e 's/}}\\\\n}}/}}/' {af}\"\n",
    "        !{cmd}\n",
    "df = pd.DataFrame(lines)\n",
    "df['msa_depth'] = get_token_value(out_dir, 'msad')\n",
    "df.to_csv(f'{out_dir}/AF2.csv.gz')\n",
    "print(f'Wrote {len(df)} lines to {out_dir}/AF2.csv.gz')"
   ]
  },
  {
   "cell_type": "code",
   "execution_count": 19,
   "metadata": {},
   "outputs": [
    {
     "name": "stdout",
     "output_type": "stream",
     "text": [
      "Found 720 json files.\n",
      "Wrote 720 lines to out/01c__multimer-v1__r3__msad512/AF2.csv.gz\n"
     ]
    }
   ],
   "source": [
    "out_dir = 'out/01c__multimer-v1__r3__msad512'\n",
    "files = glob(f'{out_dir}/*.json')\n",
    "print(f\"Found {len(files)} json files.\")\n",
    "lines = []\n",
    "for af in files:\n",
    "    try:\n",
    "        data_dict = u.read_json(af)\n",
    "        name_dict = parse_AF2_file_name(af)\n",
    "\n",
    "        name_dict.update(data_dict)\n",
    "        lines.append(name_dict)\n",
    "    except Exception as e: \n",
    "        print(af,\" \", e)\n",
    "        cmd = f\"sed -z -i -e 's/}}}}/}}/' -e 's/}}\\\\n}}/}}/' {af}\"\n",
    "        !{cmd}\n",
    "df = pd.DataFrame(lines)\n",
    "df['msa_depth'] = get_token_value(out_dir, 'msad')\n",
    "df.to_csv(f'{out_dir}/AF2.csv.gz')\n",
    "print(f'Wrote {len(df)} lines to {out_dir}/AF2.csv.gz')"
   ]
  },
  {
   "cell_type": "code",
   "execution_count": 2,
   "metadata": {},
   "outputs": [
    {
     "name": "stdout",
     "output_type": "stream",
     "text": [
      "Found 720 json files.\n",
      "Wrote 720 lines to out/01d__multimer-v2__r3__msad512/AF2.csv.gz\n"
     ]
    }
   ],
   "source": [
    "out_dir = 'out/01d__multimer-v2__r3__msad512'\n",
    "files = glob(f'{out_dir}/*.json')\n",
    "print(f\"Found {len(files)} json files.\")\n",
    "lines = []\n",
    "for af in files:\n",
    "    try:\n",
    "        data_dict = u.read_json(af)\n",
    "        name_dict = parse_AF2_file_name(af)\n",
    "\n",
    "        name_dict.update(data_dict)\n",
    "        lines.append(name_dict)\n",
    "    except Exception as e: \n",
    "        print(af,\" \", e)\n",
    "        cmd = f\"sed -z -i -e 's/}}}}/}}/' -e 's/}}\\\\n}}/}}/' {af}\"\n",
    "        !{cmd}\n",
    "df = pd.DataFrame(lines)\n",
    "df['msa_depth'] = get_token_value(out_dir, 'msad')\n",
    "df.to_csv(f'{out_dir}/AF2.csv.gz')\n",
    "print(f'Wrote {len(df)} lines to {out_dir}/AF2.csv.gz')"
   ]
  },
  {
   "cell_type": "code",
   "execution_count": null,
   "metadata": {},
   "outputs": [],
   "source": []
  }
 ],
 "metadata": {
  "kernelspec": {
   "display_name": "Python 3",
   "language": "python",
   "name": "python3"
  },
  "language_info": {
   "codemirror_mode": {
    "name": "ipython",
    "version": 3
   },
   "file_extension": ".py",
   "mimetype": "text/x-python",
   "name": "python",
   "nbconvert_exporter": "python",
   "pygments_lexer": "ipython3",
   "version": "3.9.7 (default, May 10 2022, 23:45:56) \n[GCC 8.5.0 20210514 (Red Hat 8.5.0-10)]"
  },
  "orig_nbformat": 4,
  "vscode": {
   "interpreter": {
    "hash": "f9f85f796d01129d0dd105a088854619f454435301f6ffec2fea96ecbd9be4ac"
   }
  }
 },
 "nbformat": 4,
 "nbformat_minor": 2
}
