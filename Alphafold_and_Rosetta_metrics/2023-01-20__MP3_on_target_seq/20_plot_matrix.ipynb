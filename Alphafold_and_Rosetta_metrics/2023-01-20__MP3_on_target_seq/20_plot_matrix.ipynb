{
 "cells": [
  {
   "cell_type": "code",
   "execution_count": 1,
   "metadata": {},
   "outputs": [
    {
     "name": "stdout",
     "output_type": "stream",
     "text": [
      "/mnt/home/ajasja/projects/2022-03-03__AF2_shorter_DHD\n",
      "jojo\n"
     ]
    }
   ],
   "source": [
    "%matplotlib inline\n",
    "%load_ext autoreload\n",
    "%autoreload 2\n",
    "import os; print(os.getcwd())\n",
    "import socket; print(socket.gethostname())\n",
    "from glob import glob\n",
    "import json\n",
    "\n",
    "import truncator as u\n",
    "import pandas as pd\n",
    "import seaborn as sns\n",
    "import matplotlib.pyplot as plt\n",
    "import matplotlib as mpl\n",
    "mpl.rcParams['figure.dpi'] = 150\n",
    "from IPython.display import display\n",
    "from ipywidgets import widgets"
   ]
  },
  {
   "cell_type": "code",
   "execution_count": 2,
   "metadata": {},
   "outputs": [
    {
     "name": "stdout",
     "output_type": "stream",
     "text": [
      "['id1', 'id2', 'model', 'type', 'seed', 'base_name', 'mean_plddt', 'recycles', 'tol', 'ptm', 'iptm', 'elapsed_time', 'msa_depth', 'decoy', 'IA_complex_normalized', 'IA_dG_cross', 'IA_dG_cross/dSASAx100', 'IA_dG_separated', 'IA_dG_separated/dSASAx100', 'IA_dSASA_hphobic', 'IA_dSASA_int', 'IA_dSASA_polar', 'IA_delta_unsatHbonds', 'IA_hbond_E_fraction', 'IA_hbonds_int', 'IA_nres_all', 'IA_nres_int', 'IA_packstat', 'IA_per_residue_energy_int', 'IA_sc_value', 'IA_side1_normalized', 'IA_side1_score', 'IA_side2_normalized', 'IA_side2_score', 'cart_bonded', 'cms', 'cms_apolar', 'cms_sq5', 'complex_normalized', 'dG_cross', 'dG_cross/dSASAx100', 'dG_separated', 'dG_separated/dSASAx100', 'dSASA_hphobic', 'dSASA_int', 'dSASA_polar', 'ddg', 'delta_unsatHbonds', 'dslf_fa13', 'exposed_hydrop', 'fa_atr', 'fa_dun_dev', 'fa_dun_rot', 'fa_dun_semi', 'fa_elec', 'fa_intra_atr_xover4', 'fa_intra_elec', 'fa_intra_rep_xover4', 'fa_intra_sol_xover4', 'fa_rep', 'fa_sol', 'hbond_E_fraction', 'hbond_bb_sc', 'hbond_lr_bb', 'hbond_sc', 'hbond_sr_bb', 'hbonds_int', 'hxl_tors', 'lk_ball', 'lk_ball_bridge', 'lk_ball_bridge_uncpl', 'lk_ball_iso', 'nres_all', 'nres_int', 'num_core_polar', 'num_hbnet', 'omega', 'p_aa_pp', 'packstat', 'per_residue_energy_int', 'rama_prepro', 'ref', 'sbuns', 'sc2', 'sc2_int_area', 'sc2_median_dist', 'sc_value', 'score_per_res', 'side1_normalized', 'side1_score', 'side2_normalized', 'side2_score', 'timed', 'total_score', 'vbuns', 'clashing_res', 'seqA', 'seqB', 'full_name', 'seq', 'mean_pae_interaction_AB', 'mean_pae_interaction_BA', 'mean_pae_interaction', 'mean_pae_intra_chain_A', 'mean_pae_intra_chain_B', 'mean_pae_intra_chain', 'mean_pae', 'pTMscore']\n"
     ]
    },
    {
     "data": {
      "text/html": [
       "<div>\n",
       "<style scoped>\n",
       "    .dataframe tbody tr th:only-of-type {\n",
       "        vertical-align: middle;\n",
       "    }\n",
       "\n",
       "    .dataframe tbody tr th {\n",
       "        vertical-align: top;\n",
       "    }\n",
       "\n",
       "    .dataframe thead th {\n",
       "        text-align: right;\n",
       "    }\n",
       "</style>\n",
       "<table border=\"1\" class=\"dataframe\">\n",
       "  <thead>\n",
       "    <tr style=\"text-align: right;\">\n",
       "      <th></th>\n",
       "      <th>id1</th>\n",
       "      <th>id2</th>\n",
       "      <th>model</th>\n",
       "      <th>type</th>\n",
       "      <th>seed</th>\n",
       "      <th>base_name</th>\n",
       "      <th>mean_plddt</th>\n",
       "      <th>recycles</th>\n",
       "      <th>tol</th>\n",
       "      <th>ptm</th>\n",
       "      <th>...</th>\n",
       "      <th>full_name</th>\n",
       "      <th>seq</th>\n",
       "      <th>mean_pae_interaction_AB</th>\n",
       "      <th>mean_pae_interaction_BA</th>\n",
       "      <th>mean_pae_interaction</th>\n",
       "      <th>mean_pae_intra_chain_A</th>\n",
       "      <th>mean_pae_intra_chain_B</th>\n",
       "      <th>mean_pae_intra_chain</th>\n",
       "      <th>mean_pae</th>\n",
       "      <th>pTMscore</th>\n",
       "    </tr>\n",
       "  </thead>\n",
       "  <tbody>\n",
       "    <tr>\n",
       "      <th>0</th>\n",
       "      <td>P04</td>\n",
       "      <td>P10</td>\n",
       "      <td>4</td>\n",
       "      <td>multimer_v2</td>\n",
       "      <td>0</td>\n",
       "      <td>P4_P10_model_4_multimer_v2_seed_0</td>\n",
       "      <td>88.211189</td>\n",
       "      <td>3</td>\n",
       "      <td>0.499577</td>\n",
       "      <td>0.653128</td>\n",
       "      <td>...</td>\n",
       "      <td>out/01d__multimer-v2__r3__msad512/rosetta/P4_P...</td>\n",
       "      <td></td>\n",
       "      <td>NaN</td>\n",
       "      <td>NaN</td>\n",
       "      <td>NaN</td>\n",
       "      <td>NaN</td>\n",
       "      <td>NaN</td>\n",
       "      <td>NaN</td>\n",
       "      <td>NaN</td>\n",
       "      <td>NaN</td>\n",
       "    </tr>\n",
       "    <tr>\n",
       "      <th>1</th>\n",
       "      <td>P07</td>\n",
       "      <td>P12</td>\n",
       "      <td>5</td>\n",
       "      <td>multimer_v2</td>\n",
       "      <td>0</td>\n",
       "      <td>P7_P12_model_5_multimer_v2_seed_0</td>\n",
       "      <td>96.440849</td>\n",
       "      <td>3</td>\n",
       "      <td>0.116250</td>\n",
       "      <td>0.798902</td>\n",
       "      <td>...</td>\n",
       "      <td>out/01d__multimer-v2__r3__msad512/rosetta/P7_P...</td>\n",
       "      <td></td>\n",
       "      <td>NaN</td>\n",
       "      <td>NaN</td>\n",
       "      <td>NaN</td>\n",
       "      <td>NaN</td>\n",
       "      <td>NaN</td>\n",
       "      <td>NaN</td>\n",
       "      <td>NaN</td>\n",
       "      <td>NaN</td>\n",
       "    </tr>\n",
       "    <tr>\n",
       "      <th>2</th>\n",
       "      <td>P06</td>\n",
       "      <td>P10</td>\n",
       "      <td>5</td>\n",
       "      <td>multimer_v2</td>\n",
       "      <td>0</td>\n",
       "      <td>P6_P10_model_5_multimer_v2_seed_0</td>\n",
       "      <td>95.317596</td>\n",
       "      <td>3</td>\n",
       "      <td>0.099695</td>\n",
       "      <td>0.777615</td>\n",
       "      <td>...</td>\n",
       "      <td>out/01d__multimer-v2__r3__msad512/rosetta/P6_P...</td>\n",
       "      <td></td>\n",
       "      <td>NaN</td>\n",
       "      <td>NaN</td>\n",
       "      <td>NaN</td>\n",
       "      <td>NaN</td>\n",
       "      <td>NaN</td>\n",
       "      <td>NaN</td>\n",
       "      <td>NaN</td>\n",
       "      <td>NaN</td>\n",
       "    </tr>\n",
       "    <tr>\n",
       "      <th>3</th>\n",
       "      <td>P01</td>\n",
       "      <td>P07</td>\n",
       "      <td>2</td>\n",
       "      <td>multimer_v2</td>\n",
       "      <td>0</td>\n",
       "      <td>P1_P7_model_2_multimer_v2_seed_0</td>\n",
       "      <td>97.431786</td>\n",
       "      <td>3</td>\n",
       "      <td>0.072560</td>\n",
       "      <td>0.816837</td>\n",
       "      <td>...</td>\n",
       "      <td>out/01d__multimer-v2__r3__msad512/rosetta/P1_P...</td>\n",
       "      <td></td>\n",
       "      <td>NaN</td>\n",
       "      <td>NaN</td>\n",
       "      <td>NaN</td>\n",
       "      <td>NaN</td>\n",
       "      <td>NaN</td>\n",
       "      <td>NaN</td>\n",
       "      <td>NaN</td>\n",
       "      <td>NaN</td>\n",
       "    </tr>\n",
       "    <tr>\n",
       "      <th>4</th>\n",
       "      <td>P05</td>\n",
       "      <td>P12</td>\n",
       "      <td>4</td>\n",
       "      <td>multimer_v2</td>\n",
       "      <td>0</td>\n",
       "      <td>P5_P12_model_4_multimer_v2_seed_0</td>\n",
       "      <td>73.963852</td>\n",
       "      <td>3</td>\n",
       "      <td>0.510846</td>\n",
       "      <td>0.449190</td>\n",
       "      <td>...</td>\n",
       "      <td>out/01d__multimer-v2__r3__msad512/rosetta/P5_P...</td>\n",
       "      <td></td>\n",
       "      <td>NaN</td>\n",
       "      <td>NaN</td>\n",
       "      <td>NaN</td>\n",
       "      <td>NaN</td>\n",
       "      <td>NaN</td>\n",
       "      <td>NaN</td>\n",
       "      <td>NaN</td>\n",
       "      <td>NaN</td>\n",
       "    </tr>\n",
       "  </tbody>\n",
       "</table>\n",
       "<p>5 rows × 108 columns</p>\n",
       "</div>"
      ],
      "text/plain": [
       "   id1  id2  model         type  seed                          base_name  \\\n",
       "0  P04  P10      4  multimer_v2     0  P4_P10_model_4_multimer_v2_seed_0   \n",
       "1  P07  P12      5  multimer_v2     0  P7_P12_model_5_multimer_v2_seed_0   \n",
       "2  P06  P10      5  multimer_v2     0  P6_P10_model_5_multimer_v2_seed_0   \n",
       "3  P01  P07      2  multimer_v2     0   P1_P7_model_2_multimer_v2_seed_0   \n",
       "4  P05  P12      4  multimer_v2     0  P5_P12_model_4_multimer_v2_seed_0   \n",
       "\n",
       "   mean_plddt  recycles       tol       ptm  ...  \\\n",
       "0   88.211189         3  0.499577  0.653128  ...   \n",
       "1   96.440849         3  0.116250  0.798902  ...   \n",
       "2   95.317596         3  0.099695  0.777615  ...   \n",
       "3   97.431786         3  0.072560  0.816837  ...   \n",
       "4   73.963852         3  0.510846  0.449190  ...   \n",
       "\n",
       "                                           full_name  seq  \\\n",
       "0  out/01d__multimer-v2__r3__msad512/rosetta/P4_P...        \n",
       "1  out/01d__multimer-v2__r3__msad512/rosetta/P7_P...        \n",
       "2  out/01d__multimer-v2__r3__msad512/rosetta/P6_P...        \n",
       "3  out/01d__multimer-v2__r3__msad512/rosetta/P1_P...        \n",
       "4  out/01d__multimer-v2__r3__msad512/rosetta/P5_P...        \n",
       "\n",
       "   mean_pae_interaction_AB mean_pae_interaction_BA  mean_pae_interaction  \\\n",
       "0                      NaN                     NaN                   NaN   \n",
       "1                      NaN                     NaN                   NaN   \n",
       "2                      NaN                     NaN                   NaN   \n",
       "3                      NaN                     NaN                   NaN   \n",
       "4                      NaN                     NaN                   NaN   \n",
       "\n",
       "   mean_pae_intra_chain_A  mean_pae_intra_chain_B  mean_pae_intra_chain  \\\n",
       "0                     NaN                     NaN                   NaN   \n",
       "1                     NaN                     NaN                   NaN   \n",
       "2                     NaN                     NaN                   NaN   \n",
       "3                     NaN                     NaN                   NaN   \n",
       "4                     NaN                     NaN                   NaN   \n",
       "\n",
       "   mean_pae  pTMscore  \n",
       "0       NaN       NaN  \n",
       "1       NaN       NaN  \n",
       "2       NaN       NaN  \n",
       "3       NaN       NaN  \n",
       "4       NaN       NaN  \n",
       "\n",
       "[5 rows x 108 columns]"
      ]
     },
     "execution_count": 2,
     "metadata": {},
     "output_type": "execute_result"
    }
   ],
   "source": [
    "df = pd.read_csv('data/AF2_rosetta_merged.csv.gz', index_col=0)\n",
    "\n",
    "\n",
    "\n",
    "\n",
    "#Add a 0 so that ids are correctly sorted\n",
    "df['id1'].replace(r'P(\\d)$', r'P0\\1', inplace=True, regex=True)\n",
    "df['id2'].replace(r'P(\\d)$', r'P0\\1', inplace=True, regex=True)\n",
    "print(list(df.columns))\n",
    "df.head(5)\n"
   ]
  },
  {
   "cell_type": "code",
   "execution_count": 3,
   "metadata": {},
   "outputs": [
    {
     "name": "stdout",
     "output_type": "stream",
     "text": [
      "P01 P02\n",
      "load out/01c__multimer-v1__r3__msad512/rosetta/P1_P2_model_1_multimer_seed_0_unrelaxedrelaxed/P1_P2_model_1_multimer_seed_0_unrelaxedrelaxed_0001.pdb\n",
      "load out/01c__multimer-v1__r3__msad512/rosetta/P1_P2_model_4_multimer_seed_0_unrelaxedrelaxed/P1_P2_model_4_multimer_seed_0_unrelaxedrelaxed_0001.pdb\n",
      "load out/01c__multimer-v1__r3__msad512/rosetta/P1_P2_model_3_multimer_seed_0_unrelaxedrelaxed/P1_P2_model_3_multimer_seed_0_unrelaxedrelaxed_0001.pdb\n",
      "load out/01c__multimer-v1__r3__msad512/rosetta/P1_P2_model_2_multimer_seed_0_unrelaxedrelaxed/P1_P2_model_2_multimer_seed_0_unrelaxedrelaxed_0001.pdb\n",
      "load out/01c__multimer-v1__r3__msad512/rosetta/P1_P2_model_5_multimer_seed_0_unrelaxedrelaxed/P1_P2_model_5_multimer_seed_0_unrelaxedrelaxed_0001.pdb\n"
     ]
    },
    {
     "data": {
      "image/png": "[encoded data removed]",
      "text/plain": [
       "<Figure size 900x600 with 2 Axes>"
      ]
     },
     "metadata": {
      "needs_background": "light"
     },
     "output_type": "display_data"
    }
   ],
   "source": [
    "ranges_by_field = dict(\n",
    "    mean_plddt = (75,100),\n",
    "    IA_dSASA_int = (1200, 1800),\n",
    ")\n",
    "def plot(df, model_type, model_number, msa_depth, field, pdb, reverse_color_scale=False, annotate=False):\n",
    "    if model_number.isnumeric():\n",
    "        df = df.query(f'type==\"{model_type}\" and model=={model_number} and msa_depth=={msa_depth}')\n",
    "        mat=df \n",
    "    else:\n",
    "        df = df.query(f'type==\"{model_type}\" and msa_depth=={msa_depth}')\n",
    "        mat = df.groupby('id1 id2'.split())\n",
    "        \n",
    "        #calls the mean, min, max function of mat group by\n",
    "        mat = getattr(mat, model_number)()\n",
    "        \n",
    "    \n",
    "    df = df.sort_values(by=field, ascending=True)\n",
    "    id1 , id2 = pdb.split()\n",
    "    print(id1, id2)    \n",
    "    pdb_filt = df.query(f'id1 == \"{id1}\" and id2 == \"{id2}\"')\n",
    "    \n",
    "    for path in pdb_filt.full_name.values:\n",
    "        print(f'load {path}')\n",
    "\n",
    "    mat = mat.pivot_table(values=field, index='id1', columns='id2')\n",
    "\n",
    "    if field in ranges_by_field:\n",
    "        vmin, vmax = ranges_by_field[field]\n",
    "    else:\n",
    "        vmin, vmax = None, None\n",
    "    \n",
    "    if reverse_color_scale:\n",
    "        cmap ='viridis_r'\n",
    "    else:\n",
    "        cmap='viridis'\n",
    "    sns.heatmap(mat, cmap=cmap, linewidths=1, linecolor='black', annot=annotate, annot_kws={\"size\": 5}, fmt=\".1f\", vmin=vmin, vmax=vmax)\n",
    "    plt.suptitle(field, y=1.01, fontsize=18)\n",
    "    plt.title(f'{model_type} {model_number}', fontsize=10)\n",
    "    \n",
    "    ax = plt.gca()\n",
    "    for i in [0,2,4,6,8,10]: \n",
    "        ax.add_patch( plt.Rectangle((i, i+1), 1, 1, fill=False, edgecolor='lightgray', lw=2) )\n",
    "        ax.add_patch( plt.Rectangle((i+1, i), 1, 1, fill=False, edgecolor='lightgray', lw=2) )\n",
    "    #return df\n",
    "    ax.set_aspect('equal','box')\n",
    "    \n",
    "\n",
    "sns.set_context(\"talk\")\n",
    "plot(df, 'multimer', 'min', 512, 'IA_dSASA_int', 'P01 P02', True)"
   ]
  },
  {
   "cell_type": "code",
   "execution_count": 4,
   "metadata": {},
   "outputs": [
    {
     "data": {
      "application/vnd.jupyter.widget-view+json": {
       "model_id": "03e780e4c0bb43bf83f93f75f803d0c2",
       "version_major": 2,
       "version_minor": 0
      },
      "text/plain": [
       "interactive(children=(Dropdown(description='model_type', options=('monomer_ptm', 'multimer', 'multimer_v2'), v…"
      ]
     },
     "metadata": {},
     "output_type": "display_data"
    },
    {
     "data": {
      "text/plain": [
       "<function __main__.plot(df, model_type, model_number, msa_depth, field, pdb, reverse_color_scale=False, annotate=False)>"
      ]
     },
     "execution_count": 4,
     "metadata": {},
     "output_type": "execute_result"
    }
   ],
   "source": [
    "from ipywidgets import interact, interactive, fixed, interact_manual\n",
    "interact(plot, df=fixed(df), model_type=['monomer_ptm','multimer', 'multimer_v2'], \n",
    "model_number='1 2 3 4 5 min max mean median stdev'.split(),\n",
    "msa_depth=[512,1],\n",
    "field='mean_plddt mean_pae_interaction pTMscore elapsed_time IA_dG_cross IA_dSASA_int IA_dSASA_polar IA_sc_value IA_delta_unsatHbonds IA_nres_int IA_per_residue_energy_int IA_sc_value ptm iptm msa_depth\\\n",
    "   cms sc2 sc2_int_area sc2_median_dist vbuns sbuns score_per_res timed'.split(),\n",
    "pdb='P01 P02', reverse_color_scale=False, annotate=False)"
   ]
  },
  {
   "cell_type": "code",
   "execution_count": 5,
   "metadata": {},
   "outputs": [
    {
     "data": {
      "application/vnd.jupyter.widget-view+json": {
       "model_id": "1b940f462cec40f4a953246140de02a7",
       "version_major": 2,
       "version_minor": 0
      },
      "text/plain": [
       "GridspecLayout(children=(Button(button_style='primary', description='[P0, P0]', layout=Layout(grid_area='widge…"
      ]
     },
     "metadata": {},
     "output_type": "display_data"
    }
   ],
   "source": [
    "grid = widgets.GridspecLayout(12, 12)\n",
    "def on_btn_click(btn):\n",
    "    print(btn.description)\n",
    "\n",
    "for i in range(12):\n",
    "    for j in range(12):\n",
    "        grid[i, j] = widgets.Button(description=\"[P%d, P%d]\"%(i,j), button_style=\"primary\")\n",
    "\n",
    "display(grid)"
   ]
  },
  {
   "cell_type": "code",
   "execution_count": 12,
   "metadata": {},
   "outputs": [
    {
     "data": {
      "application/vnd.jupyter.widget-view+json": {
       "model_id": "3581cb42f9a64176b139437448a98f52",
       "version_major": 2,
       "version_minor": 0
      },
      "text/plain": [
       "interactive(children=(FloatSlider(value=0.0, description='m', max=2.0, min=-2.0), FloatSlider(value=0.0, descr…"
      ]
     },
     "metadata": {},
     "output_type": "display_data"
    }
   ],
   "source": [
    "%matplotlib inline\n",
    "from ipywidgets import interactive\n",
    "import matplotlib.pyplot as plt\n",
    "import numpy as np\n",
    "\n",
    "def f(m, b):\n",
    "    plt.figure(2)\n",
    "    x = np.linspace(-10, 10, num=1000)\n",
    "    plt.plot(x, m * x + b)\n",
    "    plt.ylim(-5, 5)\n",
    "    plt.show()\n",
    "\n",
    "interactive_plot = interactive(f, m=(-2.0, 2.0), b=(-3, 3, 0.5))\n",
    "output = interactive_plot.children[-1]\n",
    "output.layout.height = '350px'\n",
    "interactive_plot"
   ]
  },
  {
   "cell_type": "code",
   "execution_count": null,
   "metadata": {},
   "outputs": [],
   "source": []
  }
 ],
 "metadata": {
  "kernelspec": {
   "display_name": "Python 3",
   "language": "python",
   "name": "python3"
  },
  "language_info": {
   "codemirror_mode": {
    "name": "ipython",
    "version": 3
   },
   "file_extension": ".py",
   "mimetype": "text/x-python",
   "name": "python",
   "nbconvert_exporter": "python",
   "pygments_lexer": "ipython3",
   "version": "3.9.7 (default, May 10 2022, 23:45:56) \n[GCC 8.5.0 20210514 (Red Hat 8.5.0-10)]"
  },
  "orig_nbformat": 4,
  "vscode": {
   "interpreter": {
    "hash": "f9f85f796d01129d0dd105a088854619f454435301f6ffec2fea96ecbd9be4ac"
   }
  }
 },
 "nbformat": 4,
 "nbformat_minor": 2
}
