{
 "cells": [
  {
   "cell_type": "code",
   "execution_count": 36,
   "metadata": {},
   "outputs": [],
   "source": [
    "#looking at puma kd benchmark \n",
    "import pandas as pd\n",
    "from processing_functions import *"
   ]
  },
  {
   "cell_type": "code",
   "execution_count": 37,
   "metadata": {},
   "outputs": [],
   "source": [
    "deseq_values = pd.read_csv('../processing_pipeline/merged_replicates/deseq_new_smaller_psuedoreplicate_autotune.csv')\n",
    "deseq_values = deseq_values.rename(columns = {'Unnamed: 0': 'PPI'})"
   ]
  },
  {
   "cell_type": "code",
   "execution_count": 38,
   "metadata": {},
   "outputs": [],
   "source": [
    "puma_kds = pd.read_csv('./benchmark_values_misc/puma_kds.csv', sep = ',')\n",
    "puma_kds = puma_kds.dropna()"
   ]
  },
  {
   "cell_type": "code",
   "execution_count": 39,
   "metadata": {},
   "outputs": [],
   "source": [
    "puma_kds['PPI'] = puma_kds.Binder.apply(lambda x: make_ppi(x, 'MCL1'))\n",
    "puma_kds['kd'] = puma_kds[' Kd'].apply(lambda x: float(x.split('±')[0].strip()))\n",
    "puma_kds['kd_err'] = puma_kds[' Kd'].apply(lambda x: float(x.split('±')[1].strip()))\n",
    "graph_df = puma_kds.merge(deseq_values, on = 'PPI', how = 'inner')"
   ]
  },
  {
   "cell_type": "code",
   "execution_count": 41,
   "metadata": {},
   "outputs": [
    {
     "data": {
      "image/png": "[encoded data removed]",
      "text/plain": [
       "<Figure size 150x200 with 1 Axes>"
      ]
     },
     "metadata": {},
     "output_type": "display_data"
    },
    {
     "name": "stdout",
     "output_type": "stream",
     "text": [
      "(13, 13, 0.66, -0.29)\n",
      "(13, 13, 0.89, -0.29)\n"
     ]
    }
   ],
   "source": [
    "\n",
    "on_targets = \"#ffcc00ff\"\n",
    "off_targets = \"#782167ff\"\n",
    "f, ax = plt.subplots()\n",
    "plt.errorbar(y = graph_df['kd'],\n",
    "             x = graph_df['ashr_log2FoldChange_HIS_TRP'], \n",
    "             xerr= graph_df['ashr_lfcSE_HIS_TRP'], \n",
    "             yerr = graph_df['kd_err'],\n",
    "             fmt=\"o\", elinewidth = 2, alpha = 0.75, color = off_targets, capsize = 3, markersize = 5, ecolor = 'gray')\n",
    "plt.yscale('log')\n",
    "plt.tight_layout()\n",
    "f.set_size_inches(1.5,2)\n",
    "plt.savefig('./figures/' + 'puma_values.svg', dpi = 300)\n",
    "plt.show()\n",
    "\n",
    "print(get_correls(graph_df, 'ashr_log2FoldChange_HIS_TRP', 'kd', log=True))\n",
    "print(get_correls(graph_df, 'ashr_log2FoldChange_HIS_TRP', 'kd', log=False))\n",
    "\n"
   ]
  }
 ],
 "metadata": {
  "kernelspec": {
   "display_name": "MP3Seq",
   "language": "python",
   "name": "python3"
  },
  "language_info": {
   "codemirror_mode": {
    "name": "ipython",
    "version": 3
   },
   "file_extension": ".py",
   "mimetype": "text/x-python",
   "name": "python",
   "nbconvert_exporter": "python",
   "pygments_lexer": "ipython3",
   "version": "3.11.3"
  },
  "orig_nbformat": 4
 },
 "nbformat": 4,
 "nbformat_minor": 2
}
