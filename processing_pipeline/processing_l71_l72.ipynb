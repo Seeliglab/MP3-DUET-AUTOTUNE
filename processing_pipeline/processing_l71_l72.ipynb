{
 "cells": [
  {
   "cell_type": "code",
   "execution_count": 167,
   "metadata": {},
   "outputs": [],
   "source": [
    "import pandas as pd\n",
    "from functools import reduce"
   ]
  },
  {
   "cell_type": "code",
   "execution_count": null,
   "metadata": {},
   "outputs": [],
   "source": [
    "#some of our proteins in the last two replicates used old/suspect sequences, and some were missing their desired partners.  These were dropped from analysis."
   ]
  },
  {
   "cell_type": "code",
   "execution_count": 168,
   "metadata": {},
   "outputs": [],
   "source": [
    "#dropping 1028_BW8_2Hx1_B col and row \n",
    "def combine_technical_replicates_drop_pros(trp_1a, trp_1b, his_1a, his_1b, drop_list = ['1028_BW8_2Hx1_B']):\n",
    "\n",
    "    #combine two trp frames \n",
    "    for drop_col in drop_list:\n",
    "        if drop_col in trp_1a:\n",
    "            trp_1a = trp_1a.drop(columns=drop_col)\n",
    "            trp_1a = trp_1a[trp_1a.Binder1 != drop_col].copy().reset_index(drop = True)\n",
    "        if drop_col in trp_1b:  \n",
    "            trp_1b = trp_1b.drop(columns=drop_col)\n",
    "            trp_1b = trp_1b[trp_1b.Binder1 != drop_col].copy().reset_index(drop = True)\n",
    "        if drop_col in his_1a:\n",
    "            his_1a = his_1a.drop(columns=drop_col)\n",
    "            his_1a = his_1a[his_1a.Binder1 != drop_col].copy().reset_index(drop = True)\n",
    "        if drop_col in his_1b:\n",
    "            his_1b = his_1b.drop(columns=drop_col)\n",
    "            his_1b = his_1b[his_1b.Binder1 != drop_col].copy().reset_index(drop = True)\n",
    "\n",
    "    #now combine trp and his \n",
    "    print (trp_1a.shape)\n",
    "    print (trp_1b.shape)\n",
    "    print (his_1a.shape)\n",
    "    print (his_1b.shape)\n",
    "\n",
    "    trp_combined = trp_1a.merge(trp_1b, on = 'Binder1', how = 'inner', suffixes = ['_a', '_b'])\n",
    "    print (trp_combined[trp_combined['Binder1'] == 'alphaBCL2'].columns)\n",
    "    for binder in trp_combined.Binder1.to_list():\n",
    "        trp_combined[binder] = trp_combined[binder + '_a'] + trp_combined[binder + '_b']\n",
    "        trp_combined = trp_combined.drop(columns= [binder + '_a', binder + '_b']).copy()\n",
    "\n",
    "    his_combined = his_1a.merge(his_1b, on = 'Binder1', how = 'inner', suffixes = ['_a', '_b'])\n",
    "    for binder in his_combined.Binder1.to_list():\n",
    "        his_combined[binder] = his_combined[binder + '_a'] + his_combined[binder + '_b']\n",
    "        his_combined = his_combined.drop(columns= [binder + '_a', binder + '_b']).copy()\n",
    "\n",
    "    return trp_combined, his_combined"
   ]
  },
  {
   "cell_type": "code",
   "execution_count": 169,
   "metadata": {},
   "outputs": [],
   "source": [
    "#dropping all bcls (bad stock) and binders + missing parnter BWs (not useful)\n",
    "#also, combining our technical replicate counts \n",
    "\n",
    "bcls = ['2CDP06','BCDP01','BECM01','Bcl-2','Bcl-B','Bcl-w','Bcl-w-trunc','Bcl-xL','Bfl-1','FECM04','Mcl1[151-321]','XCDP07','alphaBCL2','alphaBCLB','alphaBFL1','alphaMCL1']\n",
    "other = ['1028_BW8_2Hx1_B', '1029_BW8_2Hx2_A', '1034_BW1_2Hx1_A']"
   ]
  },
  {
   "cell_type": "code",
   "execution_count": 170,
   "metadata": {},
   "outputs": [],
   "source": [
    "trp_1a = pd.read_csv('../data/final_mp3seq_method/large_rep_nochanges/TRP_table_Trp1a.csv')\n",
    "trp_1b = pd.read_csv('../data/final_mp3seq_method/large_rep_nochanges/TRP_table_Trp1b.csv')\n",
    "his_1a = pd.read_csv('../data/final_mp3seq_method/large_rep_nochanges/HIS_table_His1a.csv')\n",
    "his_1b = pd.read_csv('../data/final_mp3seq_method/large_rep_nochanges/HIS_table_His1b.csv')\n"
   ]
  },
  {
   "cell_type": "code",
   "execution_count": 171,
   "metadata": {},
   "outputs": [
    {
     "name": "stdout",
     "output_type": "stream",
     "text": [
      "137\n",
      "137\n",
      "136\n",
      "137\n",
      "136\n",
      "{'1028_BW8_2Hx1_B'}\n"
     ]
    }
   ],
   "source": [
    "#figure out what binders are in all \n",
    "common_binders =  reduce(lambda left, right: pd.merge(left, right, on=['Binder1'], how='inner'), [trp_1a[['Binder1']], trp_1b[['Binder1']], his_1a[['Binder1']], his_1b[['Binder1']]])\n"
   ]
  },
  {
   "cell_type": "code",
   "execution_count": 173,
   "metadata": {},
   "outputs": [
    {
     "name": "stdout",
     "output_type": "stream",
     "text": [
      "(136, 137)\n",
      "(136, 137)\n",
      "(136, 137)\n",
      "(136, 137)\n",
      "Index(['Binder1', 'Jerala_P1_a', 'Jerala_P2_a', 'Jerala_P3_a', 'Jerala_P4_a',\n",
      "       'Jerala_P5_a', 'Jerala_P6_a', 'Jerala_P7_a', 'Jerala_P8_a',\n",
      "       'Jerala_P9_a',\n",
      "       ...\n",
      "       '1024_BW11_2H_A_b', '1024_BW11_2H_B_b', '1025_BW5_2Hx1_A_b',\n",
      "       '1025_BW5_2Hx1_B_b', '1026_BW5_2Hx2_A_b', '1026_BW5_2Hx2_B_b',\n",
      "       '1027_BW5_2Hx12j_A_b', '1027_BW5_2Hx12j_B_b', '1029_BW8_2Hx2_A_b',\n",
      "       '1034_BW1_2Hx1_A_b'],\n",
      "      dtype='object', length=273)\n"
     ]
    }
   ],
   "source": [
    "#process and save \n",
    "trp_df, his_df = combine_technical_replicates_drop_pros(trp_1a.copy(), trp_1b.copy(), his_1a.copy(), his_1b.copy())\n",
    "trp_df.to_csv('../data/final_mp3seq_method/large_rep_nochanges/TRP_table_Trp1.csv')\n",
    "his_df.to_csv('../data/final_mp3seq_method/large_rep_nochanges/HIS_table_His1.csv')"
   ]
  },
  {
   "cell_type": "code",
   "execution_count": 174,
   "metadata": {},
   "outputs": [
    {
     "name": "stdout",
     "output_type": "stream",
     "text": [
      "(118, 119)\n",
      "(118, 119)\n",
      "(118, 119)\n",
      "(118, 119)\n",
      "Index(['Binder1', 'Jerala_P1_a', 'Jerala_P2_a', 'Jerala_P3_a', 'Jerala_P4_a',\n",
      "       'Jerala_P5_a', 'Jerala_P6_a', 'Jerala_P7_a', 'Jerala_P8_a',\n",
      "       'Jerala_P9_a',\n",
      "       ...\n",
      "       '1023_BW9_2H_A_b', '1023_BW9_2H_B_b', '1024_BW11_2H_A_b',\n",
      "       '1024_BW11_2H_B_b', '1025_BW5_2Hx1_A_b', '1025_BW5_2Hx1_B_b',\n",
      "       '1026_BW5_2Hx2_A_b', '1026_BW5_2Hx2_B_b', '1027_BW5_2Hx12j_A_b',\n",
      "       '1027_BW5_2Hx12j_B_b'],\n",
      "      dtype='object', length=237)\n"
     ]
    }
   ],
   "source": [
    "trp_1a = pd.read_csv('../data/final_mp3seq_method/large_rep_nochanges/TRP_table_Trp1a.csv')\n",
    "trp_1b = pd.read_csv('../data/final_mp3seq_method/large_rep_nochanges/TRP_table_Trp1b.csv')\n",
    "his_1a = pd.read_csv('../data/final_mp3seq_method/large_rep_nochanges/HIS_table_His1a.csv')\n",
    "his_1b = pd.read_csv('../data/final_mp3seq_method/large_rep_nochanges/HIS_table_His1b.csv')\n",
    "\n",
    "trp_df, his_df = combine_technical_replicates_drop_pros(trp_1a, trp_1b, his_1a, his_1b, drop_list = bcls + other)\n",
    "trp_df.to_csv('../data/final_mp3seq_method/large_rep_nochanges/TRP_table_Trp1_dropJunk.csv')\n",
    "his_df.to_csv('../data/final_mp3seq_method/large_rep_nochanges/HIS_table_His1_dropJunk.csv')\n"
   ]
  },
  {
   "cell_type": "code",
   "execution_count": 176,
   "metadata": {},
   "outputs": [],
   "source": [
    "trp_1a = pd.read_csv('../data/final_mp3seq_method/large_rep_nochanges/TRP_table_Trp2a.csv')\n",
    "trp_1b = pd.read_csv('../data/final_mp3seq_method/large_rep_nochanges/TRP_table_Trp2b.csv')\n",
    "his_1a = pd.read_csv('../data/final_mp3seq_method/large_rep_nochanges/HIS_table_His2a.csv')\n",
    "his_1b = pd.read_csv('../data/final_mp3seq_method/large_rep_nochanges/HIS_table_His2b.csv')\n"
   ]
  },
  {
   "cell_type": "code",
   "execution_count": 178,
   "metadata": {},
   "outputs": [
    {
     "name": "stdout",
     "output_type": "stream",
     "text": [
      "(136, 137)\n",
      "(136, 137)\n",
      "(136, 137)\n",
      "(136, 137)\n",
      "Index(['Binder1', 'Jerala_P1_a', 'Jerala_P2_a', 'Jerala_P3_a', 'Jerala_P4_a',\n",
      "       'Jerala_P5_a', 'Jerala_P6_a', 'Jerala_P7_a', 'Jerala_P8_a',\n",
      "       'Jerala_P9_a',\n",
      "       ...\n",
      "       '1024_BW11_2H_A_b', '1024_BW11_2H_B_b', '1025_BW5_2Hx1_A_b',\n",
      "       '1025_BW5_2Hx1_B_b', '1026_BW5_2Hx2_A_b', '1026_BW5_2Hx2_B_b',\n",
      "       '1027_BW5_2Hx12j_A_b', '1027_BW5_2Hx12j_B_b', '1029_BW8_2Hx2_A_b',\n",
      "       '1034_BW1_2Hx1_A_b'],\n",
      "      dtype='object', length=273)\n"
     ]
    }
   ],
   "source": [
    "#process and save \n",
    "trp_df, his_df = combine_technical_replicates_drop_pros(trp_1a, trp_1b, his_1a, his_1b)\n",
    "trp_df.to_csv('../data/final_mp3seq_method/large_rep_nochanges/TRP_table_Trp2.csv')\n",
    "his_df.to_csv('../data/final_mp3seq_method/large_rep_nochanges/HIS_table_His2.csv')"
   ]
  },
  {
   "cell_type": "code",
   "execution_count": 179,
   "metadata": {},
   "outputs": [
    {
     "name": "stdout",
     "output_type": "stream",
     "text": [
      "(118, 119)\n",
      "(118, 119)\n",
      "(118, 119)\n",
      "(118, 119)\n",
      "Index(['Binder1', 'Jerala_P1_a', 'Jerala_P2_a', 'Jerala_P3_a', 'Jerala_P4_a',\n",
      "       'Jerala_P5_a', 'Jerala_P6_a', 'Jerala_P7_a', 'Jerala_P8_a',\n",
      "       'Jerala_P9_a',\n",
      "       ...\n",
      "       '1023_BW9_2H_A_b', '1023_BW9_2H_B_b', '1024_BW11_2H_A_b',\n",
      "       '1024_BW11_2H_B_b', '1025_BW5_2Hx1_A_b', '1025_BW5_2Hx1_B_b',\n",
      "       '1026_BW5_2Hx2_A_b', '1026_BW5_2Hx2_B_b', '1027_BW5_2Hx12j_A_b',\n",
      "       '1027_BW5_2Hx12j_B_b'],\n",
      "      dtype='object', length=237)\n"
     ]
    }
   ],
   "source": [
    "trp_1a = pd.read_csv('../data/final_mp3seq_method/large_rep_nochanges/TRP_table_Trp2a.csv')\n",
    "trp_1b = pd.read_csv('../data/final_mp3seq_method/large_rep_nochanges/TRP_table_Trp2b.csv')\n",
    "his_1a = pd.read_csv('../data/final_mp3seq_method/large_rep_nochanges/HIS_table_His2a.csv')\n",
    "his_1b = pd.read_csv('../data/final_mp3seq_method/large_rep_nochanges/HIS_table_His2b.csv')\n",
    "trp_df, his_df = combine_technical_replicates_drop_pros(trp_1a, trp_1b, his_1a, his_1b, drop_list = bcls + other)\n",
    "trp_df.to_csv('../data/final_mp3seq_method/large_rep_nochanges/TRP_table_Trp2_dropJunk.csv')\n",
    "his_df.to_csv('../data/final_mp3seq_method/large_rep_nochanges/HIS_table_His2_dropJunk.csv')\n"
   ]
  }
 ],
 "metadata": {
  "kernelspec": {
   "display_name": "MP3Seq",
   "language": "python",
   "name": "python3"
  },
  "language_info": {
   "codemirror_mode": {
    "name": "ipython",
    "version": 3
   },
   "file_extension": ".py",
   "mimetype": "text/x-python",
   "name": "python",
   "nbconvert_exporter": "python",
   "pygments_lexer": "ipython3",
   "version": "3.11.3"
  },
  "orig_nbformat": 4
 },
 "nbformat": 4,
 "nbformat_minor": 2
}
