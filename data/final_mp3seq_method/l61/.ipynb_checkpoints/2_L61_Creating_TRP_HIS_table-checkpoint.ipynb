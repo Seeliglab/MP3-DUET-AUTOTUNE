{
 "cells": [
  {
   "cell_type": "code",
   "execution_count": 1,
   "metadata": {},
   "outputs": [],
   "source": [
    "import os\n",
    "import pandas as pd\n",
    "import numpy as np\n",
    "import scipy.stats as stats\n",
    "import matplotlib.pyplot as plt\n",
    "from matplotlib import gridspec\n",
    "import seaborn as sns\n",
    "import math"
   ]
  },
  {
   "cell_type": "code",
   "execution_count": 2,
   "metadata": {},
   "outputs": [],
   "source": [
    "%matplotlib inline"
   ]
  },
  {
   "cell_type": "markdown",
   "metadata": {},
   "source": [
    "# Barcodes"
   ]
  },
  {
   "cell_type": "code",
   "execution_count": 3,
   "metadata": {},
   "outputs": [],
   "source": [
    "binder_name_to_barcode_df = pd.read_csv('L61_barcodes_list.csv')"
   ]
  },
  {
   "cell_type": "code",
   "execution_count": 4,
   "metadata": {},
   "outputs": [],
   "source": [
    "#binder_name_to_barcode_df.columns = ['Binder', 'Barcode']"
   ]
  },
  {
   "cell_type": "code",
   "execution_count": 5,
   "metadata": {},
   "outputs": [
    {
     "data": {
      "text/html": [
       "<div>\n",
       "<style scoped>\n",
       "    .dataframe tbody tr th:only-of-type {\n",
       "        vertical-align: middle;\n",
       "    }\n",
       "\n",
       "    .dataframe tbody tr th {\n",
       "        vertical-align: top;\n",
       "    }\n",
       "\n",
       "    .dataframe thead th {\n",
       "        text-align: right;\n",
       "    }\n",
       "</style>\n",
       "<table border=\"1\" class=\"dataframe\">\n",
       "  <thead>\n",
       "    <tr style=\"text-align: right;\">\n",
       "      <th></th>\n",
       "      <th>Binder</th>\n",
       "      <th>Barcode</th>\n",
       "    </tr>\n",
       "  </thead>\n",
       "  <tbody>\n",
       "    <tr>\n",
       "      <td>0</td>\n",
       "      <td>Jerala_P1</td>\n",
       "      <td>TACCGAGTCTGAGATGCCCA</td>\n",
       "    </tr>\n",
       "    <tr>\n",
       "      <td>1</td>\n",
       "      <td>Jerala_P2</td>\n",
       "      <td>GACACTGCAGACCGATATGC</td>\n",
       "    </tr>\n",
       "    <tr>\n",
       "      <td>2</td>\n",
       "      <td>Jerala_P3</td>\n",
       "      <td>GGGTACGTGAAATACCTTCA</td>\n",
       "    </tr>\n",
       "    <tr>\n",
       "      <td>3</td>\n",
       "      <td>Jerala_P4</td>\n",
       "      <td>GTTGCGCGGATGACTCATGG</td>\n",
       "    </tr>\n",
       "    <tr>\n",
       "      <td>4</td>\n",
       "      <td>Jerala_P5</td>\n",
       "      <td>ACATGTATCCCTCAGGTTTC</td>\n",
       "    </tr>\n",
       "    <tr>\n",
       "      <td>5</td>\n",
       "      <td>Jerala_P6</td>\n",
       "      <td>TTAAGACGAACTGCCACAGC</td>\n",
       "    </tr>\n",
       "    <tr>\n",
       "      <td>6</td>\n",
       "      <td>Jerala_P7</td>\n",
       "      <td>AAATGGAGTGTAATGGAGAC</td>\n",
       "    </tr>\n",
       "    <tr>\n",
       "      <td>7</td>\n",
       "      <td>Jerala_P8</td>\n",
       "      <td>ACACCCGCTGTGATGACCTC</td>\n",
       "    </tr>\n",
       "    <tr>\n",
       "      <td>8</td>\n",
       "      <td>Jerala_P9</td>\n",
       "      <td>CGTCGCCACCTCCTTTAGGC</td>\n",
       "    </tr>\n",
       "    <tr>\n",
       "      <td>9</td>\n",
       "      <td>Jerala_P10</td>\n",
       "      <td>CCAGAGCGCAGGACCGCTCT</td>\n",
       "    </tr>\n",
       "    <tr>\n",
       "      <td>10</td>\n",
       "      <td>Jerala_P11</td>\n",
       "      <td>CATGTTTTGCCTTGCTGATC</td>\n",
       "    </tr>\n",
       "    <tr>\n",
       "      <td>11</td>\n",
       "      <td>Jerala_P12</td>\n",
       "      <td>TGTCTTGGACAATGTATGTA</td>\n",
       "    </tr>\n",
       "  </tbody>\n",
       "</table>\n",
       "</div>"
      ],
      "text/plain": [
       "        Binder               Barcode\n",
       "0    Jerala_P1  TACCGAGTCTGAGATGCCCA\n",
       "1    Jerala_P2  GACACTGCAGACCGATATGC\n",
       "2    Jerala_P3  GGGTACGTGAAATACCTTCA\n",
       "3    Jerala_P4  GTTGCGCGGATGACTCATGG\n",
       "4    Jerala_P5  ACATGTATCCCTCAGGTTTC\n",
       "5    Jerala_P6  TTAAGACGAACTGCCACAGC\n",
       "6    Jerala_P7  AAATGGAGTGTAATGGAGAC\n",
       "7    Jerala_P8  ACACCCGCTGTGATGACCTC\n",
       "8    Jerala_P9  CGTCGCCACCTCCTTTAGGC\n",
       "9   Jerala_P10  CCAGAGCGCAGGACCGCTCT\n",
       "10  Jerala_P11  CATGTTTTGCCTTGCTGATC\n",
       "11  Jerala_P12  TGTCTTGGACAATGTATGTA"
      ]
     },
     "execution_count": 5,
     "metadata": {},
     "output_type": "execute_result"
    }
   ],
   "source": [
    "binder_name_to_barcode_df"
   ]
  },
  {
   "cell_type": "code",
   "execution_count": 6,
   "metadata": {},
   "outputs": [],
   "source": [
    "assigned_barcodes_list = list(binder_name_to_barcode_df['Barcode'])"
   ]
  },
  {
   "cell_type": "code",
   "execution_count": 7,
   "metadata": {},
   "outputs": [
    {
     "data": {
      "text/plain": [
       "['TACCGAGTCTGAGATGCCCA',\n",
       " 'GACACTGCAGACCGATATGC',\n",
       " 'GGGTACGTGAAATACCTTCA',\n",
       " 'GTTGCGCGGATGACTCATGG',\n",
       " 'ACATGTATCCCTCAGGTTTC',\n",
       " 'TTAAGACGAACTGCCACAGC',\n",
       " 'AAATGGAGTGTAATGGAGAC',\n",
       " 'ACACCCGCTGTGATGACCTC',\n",
       " 'CGTCGCCACCTCCTTTAGGC',\n",
       " 'CCAGAGCGCAGGACCGCTCT',\n",
       " 'CATGTTTTGCCTTGCTGATC',\n",
       " 'TGTCTTGGACAATGTATGTA']"
      ]
     },
     "execution_count": 7,
     "metadata": {},
     "output_type": "execute_result"
    }
   ],
   "source": [
    "assigned_barcodes_list"
   ]
  },
  {
   "cell_type": "code",
   "execution_count": 8,
   "metadata": {},
   "outputs": [],
   "source": [
    "binder_name_to_barcode_dict = dict(zip(assigned_barcodes_list, binder_name_to_barcode_df['Binder']))"
   ]
  },
  {
   "cell_type": "code",
   "execution_count": 9,
   "metadata": {
    "scrolled": true
   },
   "outputs": [
    {
     "data": {
      "text/plain": [
       "{'TACCGAGTCTGAGATGCCCA': 'Jerala_P1',\n",
       " 'GACACTGCAGACCGATATGC': 'Jerala_P2',\n",
       " 'GGGTACGTGAAATACCTTCA': 'Jerala_P3',\n",
       " 'GTTGCGCGGATGACTCATGG': 'Jerala_P4',\n",
       " 'ACATGTATCCCTCAGGTTTC': 'Jerala_P5',\n",
       " 'TTAAGACGAACTGCCACAGC': 'Jerala_P6',\n",
       " 'AAATGGAGTGTAATGGAGAC': 'Jerala_P7',\n",
       " 'ACACCCGCTGTGATGACCTC': 'Jerala_P8',\n",
       " 'CGTCGCCACCTCCTTTAGGC': 'Jerala_P9',\n",
       " 'CCAGAGCGCAGGACCGCTCT': 'Jerala_P10',\n",
       " 'CATGTTTTGCCTTGCTGATC': 'Jerala_P11',\n",
       " 'TGTCTTGGACAATGTATGTA': 'Jerala_P12'}"
      ]
     },
     "execution_count": 9,
     "metadata": {},
     "output_type": "execute_result"
    }
   ],
   "source": [
    "binder_name_to_barcode_dict"
   ]
  },
  {
   "cell_type": "markdown",
   "metadata": {},
   "source": [
    "## Load the Data"
   ]
  },
  {
   "cell_type": "code",
   "execution_count": 10,
   "metadata": {},
   "outputs": [],
   "source": [
    "trimmed_data_path = '../../Yeast2HybridData2/MiSeq-2020-12-30-L61/Trimmed/'"
   ]
  },
  {
   "cell_type": "code",
   "execution_count": 11,
   "metadata": {},
   "outputs": [],
   "source": [
    "fastq_files = [filename for filename in os.listdir(trimmed_data_path) if filename[-6:] == '.fastq' and 'HIS' in filename and '10mM' in filename]"
   ]
  },
  {
   "cell_type": "code",
   "execution_count": 12,
   "metadata": {},
   "outputs": [],
   "source": [
    "fastq_files = sorted(fastq_files)"
   ]
  },
  {
   "cell_type": "code",
   "execution_count": 13,
   "metadata": {},
   "outputs": [
    {
     "data": {
      "text/plain": [
       "['L61_HIS_10mM_3AT_R1.fastq', 'L61_HIS_10mM_3AT_R2.fastq']"
      ]
     },
     "execution_count": 13,
     "metadata": {},
     "output_type": "execute_result"
    }
   ],
   "source": [
    "fastq_files"
   ]
  },
  {
   "cell_type": "code",
   "execution_count": 14,
   "metadata": {},
   "outputs": [],
   "source": [
    "#fastq_files = [filename for filename in fastq_files if 'V2' in filename]"
   ]
  },
  {
   "cell_type": "code",
   "execution_count": 15,
   "metadata": {},
   "outputs": [
    {
     "data": {
      "text/plain": [
       "['L61_HIS_10mM_3AT_R1.fastq', 'L61_HIS_10mM_3AT_R2.fastq']"
      ]
     },
     "execution_count": 15,
     "metadata": {},
     "output_type": "execute_result"
    }
   ],
   "source": [
    "fastq_files"
   ]
  },
  {
   "cell_type": "code",
   "execution_count": 16,
   "metadata": {},
   "outputs": [],
   "source": [
    "\n",
    "\n",
    "j = 0\n",
    "\n",
    "original = 'ATGC'\n",
    "complement = 'TACG'\n",
    "translation_table = str.maketrans(original, complement)\n",
    "\n",
    "\n",
    "#barcodes_df = pd.DataFrame(columns = ['Barcode', 'ID', 'N_poor_nt', 'Condition', 'Binder'])\n",
    "\n",
    "barcodes_df_list = []\n",
    "\n",
    "for file in fastq_files:\n",
    "\n",
    "    if 'R1' in file:\n",
    "        \n",
    "        binder_type = 'binder2'\n",
    "        \n",
    "        if 'TRP' in file:\n",
    "            condition = 'TRP'\n",
    "        else:  # 'HIS'\n",
    "            condition = 'HIS'\n",
    "            \n",
    "    else:  # 'R2'\n",
    "        \n",
    "        binder_type = 'binder1'\n",
    "        \n",
    "        if 'TRP' in file:\n",
    "            condition = 'TRP'\n",
    "        else:  # 'HIS'\n",
    "            condition = 'HIS'\n",
    "            \n",
    "    with open(trimmed_data_path + file) as f:\n",
    "        \n",
    "        barcode_read_info = f.readline()\n",
    "\n",
    "        #for i in range(3):\n",
    "        while barcode_read_info:\n",
    "                    \n",
    "            barcode_read_id = ':'.join(barcode_read_info.split(' ')[0].split(':')[3:])\n",
    "\n",
    "            barcode_seq = f.readline()[:-1]\n",
    "            #barcode_seq = f.readline()[:-1] if binder_type == 'binder1' else f.readline()[:-1].translate(translation_table)[::-1]\n",
    "            #barcode_seq = f.readline()[:-1]\n",
    "            #f1.readline()[:-1] if binder_type == 'binder2' else f1.readline()[:-1].translate(translation_table)[::-1]\n",
    "\n",
    "            empty_line = f.readline()\n",
    "\n",
    "            barcode_quality_ascii = f.readline()\n",
    "\n",
    "            # we're only interested in barcode quality\n",
    "            barcode_q_scores = [ord(c)-33 for c in barcode_quality_ascii][:-1]\n",
    "            n_poor = sum(1 for i in barcode_q_scores if i < 30)\n",
    "\n",
    "            #barcodes_info_dict[0].append((barcode_seq, barcode_read_id, n_poor, condition, binder_type))\n",
    "            barcodes_df_list.append([barcode_seq, barcode_read_id, n_poor, condition, binder_type])\n",
    "\n",
    "            barcode_read_info = f.readline()\n",
    "            \n",
    "            j+=1\n",
    "            if j % 1000000 == 0: print(j)\n",
    "\n",
    "\n",
    "barcodes_df = pd.DataFrame(barcodes_df_list ,columns = ['Barcode', 'ID', 'N_poor_nt', 'Condition', 'Binder'])        \n",
    "\n"
   ]
  },
  {
   "cell_type": "code",
   "execution_count": 17,
   "metadata": {},
   "outputs": [
    {
     "data": {
      "text/html": [
       "<div>\n",
       "<style scoped>\n",
       "    .dataframe tbody tr th:only-of-type {\n",
       "        vertical-align: middle;\n",
       "    }\n",
       "\n",
       "    .dataframe tbody tr th {\n",
       "        vertical-align: top;\n",
       "    }\n",
       "\n",
       "    .dataframe thead th {\n",
       "        text-align: right;\n",
       "    }\n",
       "</style>\n",
       "<table border=\"1\" class=\"dataframe\">\n",
       "  <thead>\n",
       "    <tr style=\"text-align: right;\">\n",
       "      <th></th>\n",
       "      <th>Barcode</th>\n",
       "      <th>ID</th>\n",
       "      <th>N_poor_nt</th>\n",
       "      <th>Condition</th>\n",
       "      <th>Binder</th>\n",
       "    </tr>\n",
       "  </thead>\n",
       "  <tbody>\n",
       "    <tr>\n",
       "      <td>0</td>\n",
       "      <td>CTCACTTTCTTACTATTTGC</td>\n",
       "      <td>1:1101:15258:2126</td>\n",
       "      <td>19</td>\n",
       "      <td>HIS</td>\n",
       "      <td>binder2</td>\n",
       "    </tr>\n",
       "    <tr>\n",
       "      <td>1</td>\n",
       "      <td>GTCACTGCTGTCCGATATGC</td>\n",
       "      <td>1:1101:14691:2155</td>\n",
       "      <td>16</td>\n",
       "      <td>HIS</td>\n",
       "      <td>binder2</td>\n",
       "    </tr>\n",
       "    <tr>\n",
       "      <td>2</td>\n",
       "      <td>TACCGAGTCTGTGATGCCCA</td>\n",
       "      <td>1:1101:15641:2162</td>\n",
       "      <td>13</td>\n",
       "      <td>HIS</td>\n",
       "      <td>binder2</td>\n",
       "    </tr>\n",
       "    <tr>\n",
       "      <td>3</td>\n",
       "      <td>GACACTGCTTTCCGTTATGC</td>\n",
       "      <td>1:1101:14249:2162</td>\n",
       "      <td>14</td>\n",
       "      <td>HIS</td>\n",
       "      <td>binder2</td>\n",
       "    </tr>\n",
       "    <tr>\n",
       "      <td>4</td>\n",
       "      <td>TTCACTGTTGTCCGTTTTGC</td>\n",
       "      <td>1:1101:11412:2164</td>\n",
       "      <td>16</td>\n",
       "      <td>HIS</td>\n",
       "      <td>binder2</td>\n",
       "    </tr>\n",
       "  </tbody>\n",
       "</table>\n",
       "</div>"
      ],
      "text/plain": [
       "                Barcode                 ID  N_poor_nt Condition   Binder\n",
       "0  CTCACTTTCTTACTATTTGC  1:1101:15258:2126         19       HIS  binder2\n",
       "1  GTCACTGCTGTCCGATATGC  1:1101:14691:2155         16       HIS  binder2\n",
       "2  TACCGAGTCTGTGATGCCCA  1:1101:15641:2162         13       HIS  binder2\n",
       "3  GACACTGCTTTCCGTTATGC  1:1101:14249:2162         14       HIS  binder2\n",
       "4  TTCACTGTTGTCCGTTTTGC  1:1101:11412:2164         16       HIS  binder2"
      ]
     },
     "execution_count": 17,
     "metadata": {},
     "output_type": "execute_result"
    }
   ],
   "source": [
    "barcodes_df.head()"
   ]
  },
  {
   "cell_type": "code",
   "execution_count": 18,
   "metadata": {},
   "outputs": [
    {
     "data": {
      "text/plain": [
       "(904040, 5)"
      ]
     },
     "execution_count": 18,
     "metadata": {},
     "output_type": "execute_result"
    }
   ],
   "source": [
    "barcodes_df.shape"
   ]
  },
  {
   "cell_type": "code",
   "execution_count": 19,
   "metadata": {},
   "outputs": [],
   "source": [
    "#barcodes_df[(barcodes_df.Barcode.str.len() == 10) & (barcodes_df.Barcode.str.len() == 10)].shape"
   ]
  },
  {
   "cell_type": "code",
   "execution_count": 20,
   "metadata": {},
   "outputs": [],
   "source": [
    "#barcodes_df[(barcodes_df.Barcode.str.len() >= 17) & (barcodes_df.Barcode.str.len() <= 23)].shape"
   ]
  },
  {
   "cell_type": "code",
   "execution_count": 21,
   "metadata": {},
   "outputs": [],
   "source": [
    "#barcodes_df = barcodes_df[(barcodes_df.Barcode.str.len() > 7) & (barcodes_df.Barcode.str.len() < 13)]"
   ]
  },
  {
   "cell_type": "code",
   "execution_count": 22,
   "metadata": {},
   "outputs": [],
   "source": [
    "#barcodes_df.head()"
   ]
  },
  {
   "cell_type": "code",
   "execution_count": 23,
   "metadata": {},
   "outputs": [],
   "source": [
    "#barcodes_df.to_csv('../../Yeast2HybridData/NextSeq-2019-02-08/DataFrames/L33_3AT_0mM_Processed_Unclustered_Barcodes.csv', index = False)"
   ]
  },
  {
   "cell_type": "code",
   "execution_count": 24,
   "metadata": {},
   "outputs": [],
   "source": [
    "#barcodes_df[barcodes_df['Binder'] == 'binder1']['Barcode'].nunique()"
   ]
  },
  {
   "cell_type": "code",
   "execution_count": 25,
   "metadata": {},
   "outputs": [],
   "source": [
    "#barcodes_df[barcodes_df['Binder'] == 'binder2']['Barcode'].nunique()"
   ]
  },
  {
   "cell_type": "code",
   "execution_count": 26,
   "metadata": {},
   "outputs": [],
   "source": [
    "#barcodes_df['Barcode'].nunique()"
   ]
  },
  {
   "cell_type": "markdown",
   "metadata": {},
   "source": [
    "## Cluster the barcodes"
   ]
  },
  {
   "cell_type": "code",
   "execution_count": 27,
   "metadata": {},
   "outputs": [],
   "source": [
    "unclustered_barcodes_file = '../../Yeast2HybridData2/MiSeq-2020-12-30-L61/DataFrames/L61_unclustered_barcodes.csv'"
   ]
  },
  {
   "cell_type": "code",
   "execution_count": 28,
   "metadata": {},
   "outputs": [],
   "source": [
    "barcodes_df['Barcode'].to_csv(unclustered_barcodes_file, header = False, index = False, sep = '\\n')"
   ]
  },
  {
   "cell_type": "code",
   "execution_count": 29,
   "metadata": {},
   "outputs": [],
   "source": [
    "clustered_barcodes_file = '../../Yeast2HybridData2/MiSeq-2020-12-30-L61/DataFrames/L61_clustered_barcodes.csv'"
   ]
  },
  {
   "cell_type": "code",
   "execution_count": 30,
   "metadata": {},
   "outputs": [],
   "source": [
    "# starcode gets confused if you don't escape the spaces\n",
    "\n",
    "unclustered_barcodes_file = unclustered_barcodes_file.replace(' ', \"\\ \")\n",
    "clustered_barcodes_file = clustered_barcodes_file.replace(' ', '\\ ')"
   ]
  },
  {
   "cell_type": "code",
   "execution_count": 31,
   "metadata": {},
   "outputs": [
    {
     "data": {
      "text/plain": [
       "'../../Yeast2HybridData2/MiSeq-2020-12-30-L61/DataFrames/L61_unclustered_barcodes.csv'"
      ]
     },
     "execution_count": 31,
     "metadata": {},
     "output_type": "execute_result"
    }
   ],
   "source": [
    "unclustered_barcodes_file"
   ]
  },
  {
   "cell_type": "code",
   "execution_count": 32,
   "metadata": {},
   "outputs": [
    {
     "data": {
      "text/plain": [
       "'../../Yeast2HybridData2/MiSeq-2020-12-30-L61/DataFrames/L61_clustered_barcodes.csv'"
      ]
     },
     "execution_count": 32,
     "metadata": {},
     "output_type": "execute_result"
    }
   ],
   "source": [
    "clustered_barcodes_file"
   ]
  },
  {
   "cell_type": "markdown",
   "metadata": {},
   "source": [
    " -d or --distance\n",
    " \n",
    " Defines the maximum Levenshtein distance for clustering.\n",
    " \n",
    " When not set it is automatically computed as:\n",
    " \n",
    " min(8, 2 + [median seq length]/30)"
   ]
  },
  {
   "cell_type": "code",
   "execution_count": 33,
   "metadata": {},
   "outputs": [
    {
     "name": "stdout",
     "output_type": "stream",
     "text": [
      "running starcode with 1 thread\n",
      "reading input files\n",
      "raw format detected\n",
      "sorting\n",
      "progress: 100.00%\n",
      "message passing clustering\n"
     ]
    }
   ],
   "source": [
    "# you can set the distance (-d) (2.6666 for a barcode of length 20), I've been having trouble with this...\n",
    "\n",
    "#!/usr/local/bin/starcode -i {file_path} -o {new_path} -d 5 --seq-id --print-clusters\n",
    "\n",
    "!/Users/alex/Documents/Python/Y2H/starcode/starcode/starcode -d 2 -i {unclustered_barcodes_file} -o {clustered_barcodes_file} --seq-id --print-clusters"
   ]
  },
  {
   "cell_type": "markdown",
   "metadata": {},
   "source": [
    "## Upload clustered barcodes"
   ]
  },
  {
   "cell_type": "code",
   "execution_count": 34,
   "metadata": {},
   "outputs": [],
   "source": [
    "\n",
    "i = 0\n",
    "\n",
    "barcode_to_consensus = {}\n",
    "\n",
    "with open(clustered_barcodes_file) as f:\n",
    "    \n",
    "    line = f.readline()\n",
    "    \n",
    "    while line:\n",
    "                \n",
    "        #line.split()[0] - Consensus barcode\n",
    "        consensus_barcode = line.split()[0]\n",
    "\n",
    "        #line.split()[1] - Number of the consensus barcode occurences\n",
    "\n",
    "        #line.split()[2] - List of barcodes\n",
    "        for barcode in line.split()[2].split(','):\n",
    "            barcode_to_consensus[barcode] = consensus_barcode\n",
    "\n",
    "        #line.split()[3] - List of lines (+1 shift to a dataframe index)        \n",
    "        #lines_numbers = [int(x)-1 for x in line.split()[3].split(',') if x]    # -1 accounts for index shift\n",
    "        \n",
    "        #unique_barcodes_df.Consensus.loc[lines_numbers] = consensus_barcode\n",
    "        \n",
    "        line = f.readline()\n",
    "        "
   ]
  },
  {
   "cell_type": "code",
   "execution_count": 35,
   "metadata": {},
   "outputs": [
    {
     "data": {
      "text/plain": [
       "16215"
      ]
     },
     "execution_count": 35,
     "metadata": {},
     "output_type": "execute_result"
    }
   ],
   "source": [
    "len(barcode_to_consensus)"
   ]
  },
  {
   "cell_type": "code",
   "execution_count": 36,
   "metadata": {},
   "outputs": [
    {
     "data": {
      "text/plain": [
       "16216"
      ]
     },
     "execution_count": 36,
     "metadata": {},
     "output_type": "execute_result"
    }
   ],
   "source": [
    "barcodes_df['Barcode'].nunique()"
   ]
  },
  {
   "cell_type": "code",
   "execution_count": 37,
   "metadata": {},
   "outputs": [
    {
     "data": {
      "text/plain": [
       "(904040, 5)"
      ]
     },
     "execution_count": 37,
     "metadata": {},
     "output_type": "execute_result"
    }
   ],
   "source": [
    "barcodes_df.shape"
   ]
  },
  {
   "cell_type": "code",
   "execution_count": 38,
   "metadata": {},
   "outputs": [],
   "source": [
    "barcodes_df = barcodes_df[barcodes_df['Barcode'].isin(barcode_to_consensus.keys())].reset_index(drop = True)"
   ]
  },
  {
   "cell_type": "code",
   "execution_count": 39,
   "metadata": {},
   "outputs": [
    {
     "data": {
      "text/plain": [
       "(904039, 5)"
      ]
     },
     "execution_count": 39,
     "metadata": {},
     "output_type": "execute_result"
    }
   ],
   "source": [
    "barcodes_df.shape"
   ]
  },
  {
   "cell_type": "code",
   "execution_count": 40,
   "metadata": {},
   "outputs": [
    {
     "data": {
      "text/html": [
       "<div>\n",
       "<style scoped>\n",
       "    .dataframe tbody tr th:only-of-type {\n",
       "        vertical-align: middle;\n",
       "    }\n",
       "\n",
       "    .dataframe tbody tr th {\n",
       "        vertical-align: top;\n",
       "    }\n",
       "\n",
       "    .dataframe thead th {\n",
       "        text-align: right;\n",
       "    }\n",
       "</style>\n",
       "<table border=\"1\" class=\"dataframe\">\n",
       "  <thead>\n",
       "    <tr style=\"text-align: right;\">\n",
       "      <th></th>\n",
       "      <th>Barcode</th>\n",
       "      <th>ID</th>\n",
       "      <th>N_poor_nt</th>\n",
       "      <th>Condition</th>\n",
       "      <th>Binder</th>\n",
       "    </tr>\n",
       "  </thead>\n",
       "  <tbody>\n",
       "    <tr>\n",
       "      <td>904034</td>\n",
       "      <td>TTCACTGCAGACCGATATGC</td>\n",
       "      <td>1:2104:17430:29140</td>\n",
       "      <td>16</td>\n",
       "      <td>HIS</td>\n",
       "      <td>binder1</td>\n",
       "    </tr>\n",
       "    <tr>\n",
       "      <td>904035</td>\n",
       "      <td>TACCGAGTCTGAGATGCCCA</td>\n",
       "      <td>1:2104:16502:29141</td>\n",
       "      <td>12</td>\n",
       "      <td>HIS</td>\n",
       "      <td>binder1</td>\n",
       "    </tr>\n",
       "    <tr>\n",
       "      <td>904036</td>\n",
       "      <td>CCTCTGCGCATGACTTCTCT</td>\n",
       "      <td>1:2104:16394:29148</td>\n",
       "      <td>19</td>\n",
       "      <td>HIS</td>\n",
       "      <td>binder1</td>\n",
       "    </tr>\n",
       "    <tr>\n",
       "      <td>904037</td>\n",
       "      <td>TGTCGCCACCTCCTTTATGC</td>\n",
       "      <td>1:2104:14697:29150</td>\n",
       "      <td>14</td>\n",
       "      <td>HIS</td>\n",
       "      <td>binder1</td>\n",
       "    </tr>\n",
       "    <tr>\n",
       "      <td>904038</td>\n",
       "      <td>GACACTGCGGACCGATATGC</td>\n",
       "      <td>1:2104:15061:29180</td>\n",
       "      <td>15</td>\n",
       "      <td>HIS</td>\n",
       "      <td>binder1</td>\n",
       "    </tr>\n",
       "  </tbody>\n",
       "</table>\n",
       "</div>"
      ],
      "text/plain": [
       "                     Barcode                  ID  N_poor_nt Condition   Binder\n",
       "904034  TTCACTGCAGACCGATATGC  1:2104:17430:29140         16       HIS  binder1\n",
       "904035  TACCGAGTCTGAGATGCCCA  1:2104:16502:29141         12       HIS  binder1\n",
       "904036  CCTCTGCGCATGACTTCTCT  1:2104:16394:29148         19       HIS  binder1\n",
       "904037  TGTCGCCACCTCCTTTATGC  1:2104:14697:29150         14       HIS  binder1\n",
       "904038  GACACTGCGGACCGATATGC  1:2104:15061:29180         15       HIS  binder1"
      ]
     },
     "execution_count": 40,
     "metadata": {},
     "output_type": "execute_result"
    }
   ],
   "source": [
    "barcodes_df.tail()"
   ]
  },
  {
   "cell_type": "code",
   "execution_count": 41,
   "metadata": {},
   "outputs": [],
   "source": [
    "barcodes_df['Consensus'] = barcodes_df['Barcode'].apply(lambda x: barcode_to_consensus[x])"
   ]
  },
  {
   "cell_type": "code",
   "execution_count": 42,
   "metadata": {},
   "outputs": [
    {
     "data": {
      "text/html": [
       "<div>\n",
       "<style scoped>\n",
       "    .dataframe tbody tr th:only-of-type {\n",
       "        vertical-align: middle;\n",
       "    }\n",
       "\n",
       "    .dataframe tbody tr th {\n",
       "        vertical-align: top;\n",
       "    }\n",
       "\n",
       "    .dataframe thead th {\n",
       "        text-align: right;\n",
       "    }\n",
       "</style>\n",
       "<table border=\"1\" class=\"dataframe\">\n",
       "  <thead>\n",
       "    <tr style=\"text-align: right;\">\n",
       "      <th></th>\n",
       "      <th>Barcode</th>\n",
       "      <th>ID</th>\n",
       "      <th>N_poor_nt</th>\n",
       "      <th>Condition</th>\n",
       "      <th>Binder</th>\n",
       "      <th>Consensus</th>\n",
       "    </tr>\n",
       "  </thead>\n",
       "  <tbody>\n",
       "    <tr>\n",
       "      <td>904034</td>\n",
       "      <td>TTCACTGCAGACCGATATGC</td>\n",
       "      <td>1:2104:17430:29140</td>\n",
       "      <td>16</td>\n",
       "      <td>HIS</td>\n",
       "      <td>binder1</td>\n",
       "      <td>GACACTGCAGACCGATATGC</td>\n",
       "    </tr>\n",
       "    <tr>\n",
       "      <td>904035</td>\n",
       "      <td>TACCGAGTCTGAGATGCCCA</td>\n",
       "      <td>1:2104:16502:29141</td>\n",
       "      <td>12</td>\n",
       "      <td>HIS</td>\n",
       "      <td>binder1</td>\n",
       "      <td>TACCGAGTCTGAGATGCCCA</td>\n",
       "    </tr>\n",
       "    <tr>\n",
       "      <td>904036</td>\n",
       "      <td>CCTCTGCGCATGACTTCTCT</td>\n",
       "      <td>1:2104:16394:29148</td>\n",
       "      <td>19</td>\n",
       "      <td>HIS</td>\n",
       "      <td>binder1</td>\n",
       "      <td>CCTCTGCGCATGACTTCTCT</td>\n",
       "    </tr>\n",
       "    <tr>\n",
       "      <td>904037</td>\n",
       "      <td>TGTCGCCACCTCCTTTATGC</td>\n",
       "      <td>1:2104:14697:29150</td>\n",
       "      <td>14</td>\n",
       "      <td>HIS</td>\n",
       "      <td>binder1</td>\n",
       "      <td>CGTCGCCACCTCCTTTAGGC</td>\n",
       "    </tr>\n",
       "    <tr>\n",
       "      <td>904038</td>\n",
       "      <td>GACACTGCGGACCGATATGC</td>\n",
       "      <td>1:2104:15061:29180</td>\n",
       "      <td>15</td>\n",
       "      <td>HIS</td>\n",
       "      <td>binder1</td>\n",
       "      <td>GACACTGCAGACCGATATGC</td>\n",
       "    </tr>\n",
       "  </tbody>\n",
       "</table>\n",
       "</div>"
      ],
      "text/plain": [
       "                     Barcode                  ID  N_poor_nt Condition  \\\n",
       "904034  TTCACTGCAGACCGATATGC  1:2104:17430:29140         16       HIS   \n",
       "904035  TACCGAGTCTGAGATGCCCA  1:2104:16502:29141         12       HIS   \n",
       "904036  CCTCTGCGCATGACTTCTCT  1:2104:16394:29148         19       HIS   \n",
       "904037  TGTCGCCACCTCCTTTATGC  1:2104:14697:29150         14       HIS   \n",
       "904038  GACACTGCGGACCGATATGC  1:2104:15061:29180         15       HIS   \n",
       "\n",
       "         Binder             Consensus  \n",
       "904034  binder1  GACACTGCAGACCGATATGC  \n",
       "904035  binder1  TACCGAGTCTGAGATGCCCA  \n",
       "904036  binder1  CCTCTGCGCATGACTTCTCT  \n",
       "904037  binder1  CGTCGCCACCTCCTTTAGGC  \n",
       "904038  binder1  GACACTGCAGACCGATATGC  "
      ]
     },
     "execution_count": 42,
     "metadata": {},
     "output_type": "execute_result"
    }
   ],
   "source": [
    "barcodes_df.tail()"
   ]
  },
  {
   "cell_type": "code",
   "execution_count": 43,
   "metadata": {},
   "outputs": [
    {
     "data": {
      "text/plain": [
       "(896641, 6)"
      ]
     },
     "execution_count": 43,
     "metadata": {},
     "output_type": "execute_result"
    }
   ],
   "source": [
    "barcodes_df[barcodes_df['Consensus'].isin(assigned_barcodes_list)].shape"
   ]
  },
  {
   "cell_type": "code",
   "execution_count": 44,
   "metadata": {},
   "outputs": [],
   "source": [
    "barcodes_df = barcodes_df[barcodes_df['Consensus'].isin(assigned_barcodes_list)]"
   ]
  },
  {
   "cell_type": "code",
   "execution_count": 45,
   "metadata": {},
   "outputs": [
    {
     "data": {
      "text/plain": [
       "(896641, 6)"
      ]
     },
     "execution_count": 45,
     "metadata": {},
     "output_type": "execute_result"
    }
   ],
   "source": [
    "barcodes_df.shape"
   ]
  },
  {
   "cell_type": "code",
   "execution_count": 46,
   "metadata": {},
   "outputs": [],
   "source": [
    "barcodes_df['Binder_Name'] = barcodes_df['Consensus'].apply(lambda x: binder_name_to_barcode_dict[x])"
   ]
  },
  {
   "cell_type": "code",
   "execution_count": 47,
   "metadata": {},
   "outputs": [
    {
     "data": {
      "text/html": [
       "<div>\n",
       "<style scoped>\n",
       "    .dataframe tbody tr th:only-of-type {\n",
       "        vertical-align: middle;\n",
       "    }\n",
       "\n",
       "    .dataframe tbody tr th {\n",
       "        vertical-align: top;\n",
       "    }\n",
       "\n",
       "    .dataframe thead th {\n",
       "        text-align: right;\n",
       "    }\n",
       "</style>\n",
       "<table border=\"1\" class=\"dataframe\">\n",
       "  <thead>\n",
       "    <tr style=\"text-align: right;\">\n",
       "      <th></th>\n",
       "      <th>Barcode</th>\n",
       "      <th>ID</th>\n",
       "      <th>N_poor_nt</th>\n",
       "      <th>Condition</th>\n",
       "      <th>Binder</th>\n",
       "      <th>Consensus</th>\n",
       "      <th>Binder_Name</th>\n",
       "    </tr>\n",
       "  </thead>\n",
       "  <tbody>\n",
       "    <tr>\n",
       "      <td>1</td>\n",
       "      <td>GTCACTGCTGTCCGATATGC</td>\n",
       "      <td>1:1101:14691:2155</td>\n",
       "      <td>16</td>\n",
       "      <td>HIS</td>\n",
       "      <td>binder2</td>\n",
       "      <td>GACACTGCAGACCGATATGC</td>\n",
       "      <td>Jerala_P2</td>\n",
       "    </tr>\n",
       "    <tr>\n",
       "      <td>2</td>\n",
       "      <td>TACCGAGTCTGTGATGCCCA</td>\n",
       "      <td>1:1101:15641:2162</td>\n",
       "      <td>13</td>\n",
       "      <td>HIS</td>\n",
       "      <td>binder2</td>\n",
       "      <td>TACCGAGTCTGAGATGCCCA</td>\n",
       "      <td>Jerala_P1</td>\n",
       "    </tr>\n",
       "    <tr>\n",
       "      <td>3</td>\n",
       "      <td>GACACTGCTTTCCGTTATGC</td>\n",
       "      <td>1:1101:14249:2162</td>\n",
       "      <td>14</td>\n",
       "      <td>HIS</td>\n",
       "      <td>binder2</td>\n",
       "      <td>GACACTGCAGACCGATATGC</td>\n",
       "      <td>Jerala_P2</td>\n",
       "    </tr>\n",
       "    <tr>\n",
       "      <td>6</td>\n",
       "      <td>CCTGTTTTTCCTTGCTGTTC</td>\n",
       "      <td>1:1101:14846:2173</td>\n",
       "      <td>12</td>\n",
       "      <td>HIS</td>\n",
       "      <td>binder2</td>\n",
       "      <td>CATGTTTTGCCTTGCTGATC</td>\n",
       "      <td>Jerala_P11</td>\n",
       "    </tr>\n",
       "    <tr>\n",
       "      <td>8</td>\n",
       "      <td>TACCGTGTCTGAGATGCCCA</td>\n",
       "      <td>1:1101:11207:2180</td>\n",
       "      <td>16</td>\n",
       "      <td>HIS</td>\n",
       "      <td>binder2</td>\n",
       "      <td>TACCGAGTCTGAGATGCCCA</td>\n",
       "      <td>Jerala_P1</td>\n",
       "    </tr>\n",
       "  </tbody>\n",
       "</table>\n",
       "</div>"
      ],
      "text/plain": [
       "                Barcode                 ID  N_poor_nt Condition   Binder  \\\n",
       "1  GTCACTGCTGTCCGATATGC  1:1101:14691:2155         16       HIS  binder2   \n",
       "2  TACCGAGTCTGTGATGCCCA  1:1101:15641:2162         13       HIS  binder2   \n",
       "3  GACACTGCTTTCCGTTATGC  1:1101:14249:2162         14       HIS  binder2   \n",
       "6  CCTGTTTTTCCTTGCTGTTC  1:1101:14846:2173         12       HIS  binder2   \n",
       "8  TACCGTGTCTGAGATGCCCA  1:1101:11207:2180         16       HIS  binder2   \n",
       "\n",
       "              Consensus Binder_Name  \n",
       "1  GACACTGCAGACCGATATGC   Jerala_P2  \n",
       "2  TACCGAGTCTGAGATGCCCA   Jerala_P1  \n",
       "3  GACACTGCAGACCGATATGC   Jerala_P2  \n",
       "6  CATGTTTTGCCTTGCTGATC  Jerala_P11  \n",
       "8  TACCGAGTCTGAGATGCCCA   Jerala_P1  "
      ]
     },
     "execution_count": 47,
     "metadata": {},
     "output_type": "execute_result"
    }
   ],
   "source": [
    "barcodes_df.head()"
   ]
  },
  {
   "cell_type": "code",
   "execution_count": 48,
   "metadata": {},
   "outputs": [
    {
     "data": {
      "text/plain": [
       "12"
      ]
     },
     "execution_count": 48,
     "metadata": {},
     "output_type": "execute_result"
    }
   ],
   "source": [
    "barcodes_df['Consensus'].nunique()"
   ]
  },
  {
   "cell_type": "code",
   "execution_count": 49,
   "metadata": {},
   "outputs": [],
   "source": [
    "binder1_df = barcodes_df[barcodes_df['Binder'] == 'binder1'][['ID', 'Condition', 'Binder_Name']]"
   ]
  },
  {
   "cell_type": "code",
   "execution_count": 50,
   "metadata": {},
   "outputs": [
    {
     "data": {
      "text/plain": [
       "(436159, 3)"
      ]
     },
     "execution_count": 50,
     "metadata": {},
     "output_type": "execute_result"
    }
   ],
   "source": [
    "binder1_df.shape"
   ]
  },
  {
   "cell_type": "code",
   "execution_count": 51,
   "metadata": {},
   "outputs": [
    {
     "data": {
      "text/html": [
       "<div>\n",
       "<style scoped>\n",
       "    .dataframe tbody tr th:only-of-type {\n",
       "        vertical-align: middle;\n",
       "    }\n",
       "\n",
       "    .dataframe tbody tr th {\n",
       "        vertical-align: top;\n",
       "    }\n",
       "\n",
       "    .dataframe thead th {\n",
       "        text-align: right;\n",
       "    }\n",
       "</style>\n",
       "<table border=\"1\" class=\"dataframe\">\n",
       "  <thead>\n",
       "    <tr style=\"text-align: right;\">\n",
       "      <th></th>\n",
       "      <th>ID</th>\n",
       "      <th>Condition</th>\n",
       "      <th>Binder_Name</th>\n",
       "    </tr>\n",
       "  </thead>\n",
       "  <tbody>\n",
       "    <tr>\n",
       "      <td>462573</td>\n",
       "      <td>1:1101:15413:2216</td>\n",
       "      <td>HIS</td>\n",
       "      <td>Jerala_P2</td>\n",
       "    </tr>\n",
       "    <tr>\n",
       "      <td>462574</td>\n",
       "      <td>1:1101:17449:2217</td>\n",
       "      <td>HIS</td>\n",
       "      <td>Jerala_P9</td>\n",
       "    </tr>\n",
       "    <tr>\n",
       "      <td>462575</td>\n",
       "      <td>1:1101:12689:2225</td>\n",
       "      <td>HIS</td>\n",
       "      <td>Jerala_P4</td>\n",
       "    </tr>\n",
       "    <tr>\n",
       "      <td>462576</td>\n",
       "      <td>1:1101:16454:2225</td>\n",
       "      <td>HIS</td>\n",
       "      <td>Jerala_P9</td>\n",
       "    </tr>\n",
       "    <tr>\n",
       "      <td>462578</td>\n",
       "      <td>1:1101:12933:2243</td>\n",
       "      <td>HIS</td>\n",
       "      <td>Jerala_P4</td>\n",
       "    </tr>\n",
       "  </tbody>\n",
       "</table>\n",
       "</div>"
      ],
      "text/plain": [
       "                       ID Condition Binder_Name\n",
       "462573  1:1101:15413:2216       HIS   Jerala_P2\n",
       "462574  1:1101:17449:2217       HIS   Jerala_P9\n",
       "462575  1:1101:12689:2225       HIS   Jerala_P4\n",
       "462576  1:1101:16454:2225       HIS   Jerala_P9\n",
       "462578  1:1101:12933:2243       HIS   Jerala_P4"
      ]
     },
     "execution_count": 51,
     "metadata": {},
     "output_type": "execute_result"
    }
   ],
   "source": [
    "binder1_df.head()"
   ]
  },
  {
   "cell_type": "code",
   "execution_count": 52,
   "metadata": {},
   "outputs": [],
   "source": [
    "binder1_df.columns = ['ID', 'Condition', 'Binder1_Name']"
   ]
  },
  {
   "cell_type": "code",
   "execution_count": 53,
   "metadata": {},
   "outputs": [
    {
     "data": {
      "text/html": [
       "<div>\n",
       "<style scoped>\n",
       "    .dataframe tbody tr th:only-of-type {\n",
       "        vertical-align: middle;\n",
       "    }\n",
       "\n",
       "    .dataframe tbody tr th {\n",
       "        vertical-align: top;\n",
       "    }\n",
       "\n",
       "    .dataframe thead th {\n",
       "        text-align: right;\n",
       "    }\n",
       "</style>\n",
       "<table border=\"1\" class=\"dataframe\">\n",
       "  <thead>\n",
       "    <tr style=\"text-align: right;\">\n",
       "      <th></th>\n",
       "      <th>ID</th>\n",
       "      <th>Condition</th>\n",
       "      <th>Binder1_Name</th>\n",
       "    </tr>\n",
       "  </thead>\n",
       "  <tbody>\n",
       "    <tr>\n",
       "      <td>462573</td>\n",
       "      <td>1:1101:15413:2216</td>\n",
       "      <td>HIS</td>\n",
       "      <td>Jerala_P2</td>\n",
       "    </tr>\n",
       "    <tr>\n",
       "      <td>462574</td>\n",
       "      <td>1:1101:17449:2217</td>\n",
       "      <td>HIS</td>\n",
       "      <td>Jerala_P9</td>\n",
       "    </tr>\n",
       "    <tr>\n",
       "      <td>462575</td>\n",
       "      <td>1:1101:12689:2225</td>\n",
       "      <td>HIS</td>\n",
       "      <td>Jerala_P4</td>\n",
       "    </tr>\n",
       "    <tr>\n",
       "      <td>462576</td>\n",
       "      <td>1:1101:16454:2225</td>\n",
       "      <td>HIS</td>\n",
       "      <td>Jerala_P9</td>\n",
       "    </tr>\n",
       "    <tr>\n",
       "      <td>462578</td>\n",
       "      <td>1:1101:12933:2243</td>\n",
       "      <td>HIS</td>\n",
       "      <td>Jerala_P4</td>\n",
       "    </tr>\n",
       "  </tbody>\n",
       "</table>\n",
       "</div>"
      ],
      "text/plain": [
       "                       ID Condition Binder1_Name\n",
       "462573  1:1101:15413:2216       HIS    Jerala_P2\n",
       "462574  1:1101:17449:2217       HIS    Jerala_P9\n",
       "462575  1:1101:12689:2225       HIS    Jerala_P4\n",
       "462576  1:1101:16454:2225       HIS    Jerala_P9\n",
       "462578  1:1101:12933:2243       HIS    Jerala_P4"
      ]
     },
     "execution_count": 53,
     "metadata": {},
     "output_type": "execute_result"
    }
   ],
   "source": [
    "binder1_df.head()"
   ]
  },
  {
   "cell_type": "code",
   "execution_count": 54,
   "metadata": {},
   "outputs": [],
   "source": [
    "binder2_df = barcodes_df[barcodes_df['Binder'] == 'binder2'][['ID', 'Condition', 'Binder_Name']]"
   ]
  },
  {
   "cell_type": "code",
   "execution_count": 55,
   "metadata": {},
   "outputs": [
    {
     "data": {
      "text/plain": [
       "(460482, 3)"
      ]
     },
     "execution_count": 55,
     "metadata": {},
     "output_type": "execute_result"
    }
   ],
   "source": [
    "binder2_df.shape"
   ]
  },
  {
   "cell_type": "code",
   "execution_count": 56,
   "metadata": {},
   "outputs": [
    {
     "data": {
      "text/html": [
       "<div>\n",
       "<style scoped>\n",
       "    .dataframe tbody tr th:only-of-type {\n",
       "        vertical-align: middle;\n",
       "    }\n",
       "\n",
       "    .dataframe tbody tr th {\n",
       "        vertical-align: top;\n",
       "    }\n",
       "\n",
       "    .dataframe thead th {\n",
       "        text-align: right;\n",
       "    }\n",
       "</style>\n",
       "<table border=\"1\" class=\"dataframe\">\n",
       "  <thead>\n",
       "    <tr style=\"text-align: right;\">\n",
       "      <th></th>\n",
       "      <th>ID</th>\n",
       "      <th>Condition</th>\n",
       "      <th>Binder_Name</th>\n",
       "    </tr>\n",
       "  </thead>\n",
       "  <tbody>\n",
       "    <tr>\n",
       "      <td>1</td>\n",
       "      <td>1:1101:14691:2155</td>\n",
       "      <td>HIS</td>\n",
       "      <td>Jerala_P2</td>\n",
       "    </tr>\n",
       "    <tr>\n",
       "      <td>2</td>\n",
       "      <td>1:1101:15641:2162</td>\n",
       "      <td>HIS</td>\n",
       "      <td>Jerala_P1</td>\n",
       "    </tr>\n",
       "    <tr>\n",
       "      <td>3</td>\n",
       "      <td>1:1101:14249:2162</td>\n",
       "      <td>HIS</td>\n",
       "      <td>Jerala_P2</td>\n",
       "    </tr>\n",
       "    <tr>\n",
       "      <td>6</td>\n",
       "      <td>1:1101:14846:2173</td>\n",
       "      <td>HIS</td>\n",
       "      <td>Jerala_P11</td>\n",
       "    </tr>\n",
       "    <tr>\n",
       "      <td>8</td>\n",
       "      <td>1:1101:11207:2180</td>\n",
       "      <td>HIS</td>\n",
       "      <td>Jerala_P1</td>\n",
       "    </tr>\n",
       "  </tbody>\n",
       "</table>\n",
       "</div>"
      ],
      "text/plain": [
       "                  ID Condition Binder_Name\n",
       "1  1:1101:14691:2155       HIS   Jerala_P2\n",
       "2  1:1101:15641:2162       HIS   Jerala_P1\n",
       "3  1:1101:14249:2162       HIS   Jerala_P2\n",
       "6  1:1101:14846:2173       HIS  Jerala_P11\n",
       "8  1:1101:11207:2180       HIS   Jerala_P1"
      ]
     },
     "execution_count": 56,
     "metadata": {},
     "output_type": "execute_result"
    }
   ],
   "source": [
    "binder2_df.head()"
   ]
  },
  {
   "cell_type": "code",
   "execution_count": 57,
   "metadata": {},
   "outputs": [],
   "source": [
    "binder2_df.columns = ['ID', 'Condition', 'Binder2_Name']"
   ]
  },
  {
   "cell_type": "code",
   "execution_count": 58,
   "metadata": {},
   "outputs": [
    {
     "data": {
      "text/html": [
       "<div>\n",
       "<style scoped>\n",
       "    .dataframe tbody tr th:only-of-type {\n",
       "        vertical-align: middle;\n",
       "    }\n",
       "\n",
       "    .dataframe tbody tr th {\n",
       "        vertical-align: top;\n",
       "    }\n",
       "\n",
       "    .dataframe thead th {\n",
       "        text-align: right;\n",
       "    }\n",
       "</style>\n",
       "<table border=\"1\" class=\"dataframe\">\n",
       "  <thead>\n",
       "    <tr style=\"text-align: right;\">\n",
       "      <th></th>\n",
       "      <th>ID</th>\n",
       "      <th>Condition</th>\n",
       "      <th>Binder2_Name</th>\n",
       "    </tr>\n",
       "  </thead>\n",
       "  <tbody>\n",
       "    <tr>\n",
       "      <td>1</td>\n",
       "      <td>1:1101:14691:2155</td>\n",
       "      <td>HIS</td>\n",
       "      <td>Jerala_P2</td>\n",
       "    </tr>\n",
       "    <tr>\n",
       "      <td>2</td>\n",
       "      <td>1:1101:15641:2162</td>\n",
       "      <td>HIS</td>\n",
       "      <td>Jerala_P1</td>\n",
       "    </tr>\n",
       "    <tr>\n",
       "      <td>3</td>\n",
       "      <td>1:1101:14249:2162</td>\n",
       "      <td>HIS</td>\n",
       "      <td>Jerala_P2</td>\n",
       "    </tr>\n",
       "    <tr>\n",
       "      <td>6</td>\n",
       "      <td>1:1101:14846:2173</td>\n",
       "      <td>HIS</td>\n",
       "      <td>Jerala_P11</td>\n",
       "    </tr>\n",
       "    <tr>\n",
       "      <td>8</td>\n",
       "      <td>1:1101:11207:2180</td>\n",
       "      <td>HIS</td>\n",
       "      <td>Jerala_P1</td>\n",
       "    </tr>\n",
       "  </tbody>\n",
       "</table>\n",
       "</div>"
      ],
      "text/plain": [
       "                  ID Condition Binder2_Name\n",
       "1  1:1101:14691:2155       HIS    Jerala_P2\n",
       "2  1:1101:15641:2162       HIS    Jerala_P1\n",
       "3  1:1101:14249:2162       HIS    Jerala_P2\n",
       "6  1:1101:14846:2173       HIS   Jerala_P11\n",
       "8  1:1101:11207:2180       HIS    Jerala_P1"
      ]
     },
     "execution_count": 58,
     "metadata": {},
     "output_type": "execute_result"
    }
   ],
   "source": [
    "binder2_df.head()"
   ]
  },
  {
   "cell_type": "code",
   "execution_count": 59,
   "metadata": {},
   "outputs": [],
   "source": [
    "merged_df = pd.merge(binder1_df, binder2_df, on = 'ID')"
   ]
  },
  {
   "cell_type": "code",
   "execution_count": 60,
   "metadata": {},
   "outputs": [
    {
     "data": {
      "text/plain": [
       "(430111, 5)"
      ]
     },
     "execution_count": 60,
     "metadata": {},
     "output_type": "execute_result"
    }
   ],
   "source": [
    "merged_df.shape"
   ]
  },
  {
   "cell_type": "code",
   "execution_count": 61,
   "metadata": {},
   "outputs": [
    {
     "data": {
      "text/html": [
       "<div>\n",
       "<style scoped>\n",
       "    .dataframe tbody tr th:only-of-type {\n",
       "        vertical-align: middle;\n",
       "    }\n",
       "\n",
       "    .dataframe tbody tr th {\n",
       "        vertical-align: top;\n",
       "    }\n",
       "\n",
       "    .dataframe thead th {\n",
       "        text-align: right;\n",
       "    }\n",
       "</style>\n",
       "<table border=\"1\" class=\"dataframe\">\n",
       "  <thead>\n",
       "    <tr style=\"text-align: right;\">\n",
       "      <th></th>\n",
       "      <th>ID</th>\n",
       "      <th>Condition_x</th>\n",
       "      <th>Binder1_Name</th>\n",
       "      <th>Condition_y</th>\n",
       "      <th>Binder2_Name</th>\n",
       "    </tr>\n",
       "  </thead>\n",
       "  <tbody>\n",
       "    <tr>\n",
       "      <td>0</td>\n",
       "      <td>1:1101:15413:2216</td>\n",
       "      <td>HIS</td>\n",
       "      <td>Jerala_P2</td>\n",
       "      <td>HIS</td>\n",
       "      <td>Jerala_P1</td>\n",
       "    </tr>\n",
       "    <tr>\n",
       "      <td>1</td>\n",
       "      <td>1:1101:17449:2217</td>\n",
       "      <td>HIS</td>\n",
       "      <td>Jerala_P9</td>\n",
       "      <td>HIS</td>\n",
       "      <td>Jerala_P10</td>\n",
       "    </tr>\n",
       "    <tr>\n",
       "      <td>2</td>\n",
       "      <td>1:1101:12689:2225</td>\n",
       "      <td>HIS</td>\n",
       "      <td>Jerala_P4</td>\n",
       "      <td>HIS</td>\n",
       "      <td>Jerala_P3</td>\n",
       "    </tr>\n",
       "    <tr>\n",
       "      <td>3</td>\n",
       "      <td>1:1101:16454:2225</td>\n",
       "      <td>HIS</td>\n",
       "      <td>Jerala_P9</td>\n",
       "      <td>HIS</td>\n",
       "      <td>Jerala_P10</td>\n",
       "    </tr>\n",
       "    <tr>\n",
       "      <td>4</td>\n",
       "      <td>1:1101:12933:2243</td>\n",
       "      <td>HIS</td>\n",
       "      <td>Jerala_P4</td>\n",
       "      <td>HIS</td>\n",
       "      <td>Jerala_P3</td>\n",
       "    </tr>\n",
       "  </tbody>\n",
       "</table>\n",
       "</div>"
      ],
      "text/plain": [
       "                  ID Condition_x Binder1_Name Condition_y Binder2_Name\n",
       "0  1:1101:15413:2216         HIS    Jerala_P2         HIS    Jerala_P1\n",
       "1  1:1101:17449:2217         HIS    Jerala_P9         HIS   Jerala_P10\n",
       "2  1:1101:12689:2225         HIS    Jerala_P4         HIS    Jerala_P3\n",
       "3  1:1101:16454:2225         HIS    Jerala_P9         HIS   Jerala_P10\n",
       "4  1:1101:12933:2243         HIS    Jerala_P4         HIS    Jerala_P3"
      ]
     },
     "execution_count": 61,
     "metadata": {},
     "output_type": "execute_result"
    }
   ],
   "source": [
    "merged_df.head()"
   ]
  },
  {
   "cell_type": "code",
   "execution_count": 62,
   "metadata": {},
   "outputs": [],
   "source": [
    "merged_df = merged_df.drop('Condition_y', axis = 1)"
   ]
  },
  {
   "cell_type": "code",
   "execution_count": 63,
   "metadata": {},
   "outputs": [
    {
     "data": {
      "text/html": [
       "<div>\n",
       "<style scoped>\n",
       "    .dataframe tbody tr th:only-of-type {\n",
       "        vertical-align: middle;\n",
       "    }\n",
       "\n",
       "    .dataframe tbody tr th {\n",
       "        vertical-align: top;\n",
       "    }\n",
       "\n",
       "    .dataframe thead th {\n",
       "        text-align: right;\n",
       "    }\n",
       "</style>\n",
       "<table border=\"1\" class=\"dataframe\">\n",
       "  <thead>\n",
       "    <tr style=\"text-align: right;\">\n",
       "      <th></th>\n",
       "      <th>ID</th>\n",
       "      <th>Condition_x</th>\n",
       "      <th>Binder1_Name</th>\n",
       "      <th>Binder2_Name</th>\n",
       "    </tr>\n",
       "  </thead>\n",
       "  <tbody>\n",
       "    <tr>\n",
       "      <td>0</td>\n",
       "      <td>1:1101:15413:2216</td>\n",
       "      <td>HIS</td>\n",
       "      <td>Jerala_P2</td>\n",
       "      <td>Jerala_P1</td>\n",
       "    </tr>\n",
       "    <tr>\n",
       "      <td>1</td>\n",
       "      <td>1:1101:17449:2217</td>\n",
       "      <td>HIS</td>\n",
       "      <td>Jerala_P9</td>\n",
       "      <td>Jerala_P10</td>\n",
       "    </tr>\n",
       "    <tr>\n",
       "      <td>2</td>\n",
       "      <td>1:1101:12689:2225</td>\n",
       "      <td>HIS</td>\n",
       "      <td>Jerala_P4</td>\n",
       "      <td>Jerala_P3</td>\n",
       "    </tr>\n",
       "    <tr>\n",
       "      <td>3</td>\n",
       "      <td>1:1101:16454:2225</td>\n",
       "      <td>HIS</td>\n",
       "      <td>Jerala_P9</td>\n",
       "      <td>Jerala_P10</td>\n",
       "    </tr>\n",
       "    <tr>\n",
       "      <td>4</td>\n",
       "      <td>1:1101:12933:2243</td>\n",
       "      <td>HIS</td>\n",
       "      <td>Jerala_P4</td>\n",
       "      <td>Jerala_P3</td>\n",
       "    </tr>\n",
       "  </tbody>\n",
       "</table>\n",
       "</div>"
      ],
      "text/plain": [
       "                  ID Condition_x Binder1_Name Binder2_Name\n",
       "0  1:1101:15413:2216         HIS    Jerala_P2    Jerala_P1\n",
       "1  1:1101:17449:2217         HIS    Jerala_P9   Jerala_P10\n",
       "2  1:1101:12689:2225         HIS    Jerala_P4    Jerala_P3\n",
       "3  1:1101:16454:2225         HIS    Jerala_P9   Jerala_P10\n",
       "4  1:1101:12933:2243         HIS    Jerala_P4    Jerala_P3"
      ]
     },
     "execution_count": 63,
     "metadata": {},
     "output_type": "execute_result"
    }
   ],
   "source": [
    "merged_df.head()"
   ]
  },
  {
   "cell_type": "code",
   "execution_count": 64,
   "metadata": {},
   "outputs": [],
   "source": [
    "merged_df.columns = ['ID', 'Condition', 'Binder1', 'Binder2']"
   ]
  },
  {
   "cell_type": "code",
   "execution_count": 65,
   "metadata": {},
   "outputs": [
    {
     "data": {
      "text/html": [
       "<div>\n",
       "<style scoped>\n",
       "    .dataframe tbody tr th:only-of-type {\n",
       "        vertical-align: middle;\n",
       "    }\n",
       "\n",
       "    .dataframe tbody tr th {\n",
       "        vertical-align: top;\n",
       "    }\n",
       "\n",
       "    .dataframe thead th {\n",
       "        text-align: right;\n",
       "    }\n",
       "</style>\n",
       "<table border=\"1\" class=\"dataframe\">\n",
       "  <thead>\n",
       "    <tr style=\"text-align: right;\">\n",
       "      <th></th>\n",
       "      <th>ID</th>\n",
       "      <th>Condition</th>\n",
       "      <th>Binder1</th>\n",
       "      <th>Binder2</th>\n",
       "    </tr>\n",
       "  </thead>\n",
       "  <tbody>\n",
       "    <tr>\n",
       "      <td>0</td>\n",
       "      <td>1:1101:15413:2216</td>\n",
       "      <td>HIS</td>\n",
       "      <td>Jerala_P2</td>\n",
       "      <td>Jerala_P1</td>\n",
       "    </tr>\n",
       "    <tr>\n",
       "      <td>1</td>\n",
       "      <td>1:1101:17449:2217</td>\n",
       "      <td>HIS</td>\n",
       "      <td>Jerala_P9</td>\n",
       "      <td>Jerala_P10</td>\n",
       "    </tr>\n",
       "    <tr>\n",
       "      <td>2</td>\n",
       "      <td>1:1101:12689:2225</td>\n",
       "      <td>HIS</td>\n",
       "      <td>Jerala_P4</td>\n",
       "      <td>Jerala_P3</td>\n",
       "    </tr>\n",
       "    <tr>\n",
       "      <td>3</td>\n",
       "      <td>1:1101:16454:2225</td>\n",
       "      <td>HIS</td>\n",
       "      <td>Jerala_P9</td>\n",
       "      <td>Jerala_P10</td>\n",
       "    </tr>\n",
       "    <tr>\n",
       "      <td>4</td>\n",
       "      <td>1:1101:12933:2243</td>\n",
       "      <td>HIS</td>\n",
       "      <td>Jerala_P4</td>\n",
       "      <td>Jerala_P3</td>\n",
       "    </tr>\n",
       "  </tbody>\n",
       "</table>\n",
       "</div>"
      ],
      "text/plain": [
       "                  ID Condition    Binder1     Binder2\n",
       "0  1:1101:15413:2216       HIS  Jerala_P2   Jerala_P1\n",
       "1  1:1101:17449:2217       HIS  Jerala_P9  Jerala_P10\n",
       "2  1:1101:12689:2225       HIS  Jerala_P4   Jerala_P3\n",
       "3  1:1101:16454:2225       HIS  Jerala_P9  Jerala_P10\n",
       "4  1:1101:12933:2243       HIS  Jerala_P4   Jerala_P3"
      ]
     },
     "execution_count": 65,
     "metadata": {},
     "output_type": "execute_result"
    }
   ],
   "source": [
    "merged_df.head()"
   ]
  },
  {
   "cell_type": "code",
   "execution_count": 66,
   "metadata": {},
   "outputs": [],
   "source": [
    "#merged_df.to_csv('L33_3AT_0mM_Main_DF_after_merging.csv', index = False)"
   ]
  },
  {
   "cell_type": "code",
   "execution_count": 67,
   "metadata": {},
   "outputs": [
    {
     "data": {
      "text/plain": [
       "144"
      ]
     },
     "execution_count": 67,
     "metadata": {},
     "output_type": "execute_result"
    }
   ],
   "source": [
    "merged_df.groupby('Binder1')['Binder2'].nunique().sum()"
   ]
  },
  {
   "cell_type": "markdown",
   "metadata": {},
   "source": [
    "# TRP"
   ]
  },
  {
   "cell_type": "code",
   "execution_count": 68,
   "metadata": {},
   "outputs": [],
   "source": [
    "#merged_df = pd.read_csv('L33_3AT_0mM_Main_DF_after_merging.csv')"
   ]
  },
  {
   "cell_type": "code",
   "execution_count": 69,
   "metadata": {},
   "outputs": [
    {
     "data": {
      "text/plain": [
       "(421776, 4)"
      ]
     },
     "execution_count": 69,
     "metadata": {},
     "output_type": "execute_result"
    }
   ],
   "source": [
    "merged_df.shape"
   ]
  },
  {
   "cell_type": "code",
   "execution_count": 70,
   "metadata": {},
   "outputs": [
    {
     "data": {
      "text/html": [
       "<div>\n",
       "<style scoped>\n",
       "    .dataframe tbody tr th:only-of-type {\n",
       "        vertical-align: middle;\n",
       "    }\n",
       "\n",
       "    .dataframe tbody tr th {\n",
       "        vertical-align: top;\n",
       "    }\n",
       "\n",
       "    .dataframe thead th {\n",
       "        text-align: right;\n",
       "    }\n",
       "</style>\n",
       "<table border=\"1\" class=\"dataframe\">\n",
       "  <thead>\n",
       "    <tr style=\"text-align: right;\">\n",
       "      <th></th>\n",
       "      <th>ID</th>\n",
       "      <th>Condition</th>\n",
       "      <th>Binder1</th>\n",
       "      <th>Binder2</th>\n",
       "    </tr>\n",
       "  </thead>\n",
       "  <tbody>\n",
       "    <tr>\n",
       "      <td>0</td>\n",
       "      <td>1:1101:17134:2203</td>\n",
       "      <td>TRP</td>\n",
       "      <td>Jerala_P12</td>\n",
       "      <td>Jerala_P1</td>\n",
       "    </tr>\n",
       "    <tr>\n",
       "      <td>1</td>\n",
       "      <td>1:1101:14609:2209</td>\n",
       "      <td>TRP</td>\n",
       "      <td>Jerala_P10</td>\n",
       "      <td>Jerala_P7</td>\n",
       "    </tr>\n",
       "    <tr>\n",
       "      <td>2</td>\n",
       "      <td>1:1101:12895:2215</td>\n",
       "      <td>TRP</td>\n",
       "      <td>Jerala_P2</td>\n",
       "      <td>Jerala_P11</td>\n",
       "    </tr>\n",
       "    <tr>\n",
       "      <td>3</td>\n",
       "      <td>1:1101:11225:2233</td>\n",
       "      <td>TRP</td>\n",
       "      <td>Jerala_P10</td>\n",
       "      <td>Jerala_P6</td>\n",
       "    </tr>\n",
       "    <tr>\n",
       "      <td>4</td>\n",
       "      <td>1:1101:19975:2236</td>\n",
       "      <td>TRP</td>\n",
       "      <td>Jerala_P11</td>\n",
       "      <td>Jerala_P1</td>\n",
       "    </tr>\n",
       "  </tbody>\n",
       "</table>\n",
       "</div>"
      ],
      "text/plain": [
       "                  ID Condition     Binder1     Binder2\n",
       "0  1:1101:17134:2203       TRP  Jerala_P12   Jerala_P1\n",
       "1  1:1101:14609:2209       TRP  Jerala_P10   Jerala_P7\n",
       "2  1:1101:12895:2215       TRP   Jerala_P2  Jerala_P11\n",
       "3  1:1101:11225:2233       TRP  Jerala_P10   Jerala_P6\n",
       "4  1:1101:19975:2236       TRP  Jerala_P11   Jerala_P1"
      ]
     },
     "execution_count": 70,
     "metadata": {},
     "output_type": "execute_result"
    }
   ],
   "source": [
    "merged_df.head()"
   ]
  },
  {
   "cell_type": "code",
   "execution_count": 71,
   "metadata": {},
   "outputs": [],
   "source": [
    "trp_df = merged_df[merged_df['Condition'] == 'TRP'][['Binder1', 'Binder2']]"
   ]
  },
  {
   "cell_type": "code",
   "execution_count": 72,
   "metadata": {},
   "outputs": [
    {
     "data": {
      "text/plain": [
       "(421776, 2)"
      ]
     },
     "execution_count": 72,
     "metadata": {},
     "output_type": "execute_result"
    }
   ],
   "source": [
    "trp_df.shape"
   ]
  },
  {
   "cell_type": "code",
   "execution_count": 73,
   "metadata": {},
   "outputs": [
    {
     "data": {
      "text/html": [
       "<div>\n",
       "<style scoped>\n",
       "    .dataframe tbody tr th:only-of-type {\n",
       "        vertical-align: middle;\n",
       "    }\n",
       "\n",
       "    .dataframe tbody tr th {\n",
       "        vertical-align: top;\n",
       "    }\n",
       "\n",
       "    .dataframe thead th {\n",
       "        text-align: right;\n",
       "    }\n",
       "</style>\n",
       "<table border=\"1\" class=\"dataframe\">\n",
       "  <thead>\n",
       "    <tr style=\"text-align: right;\">\n",
       "      <th></th>\n",
       "      <th>Binder1</th>\n",
       "      <th>Binder2</th>\n",
       "    </tr>\n",
       "  </thead>\n",
       "  <tbody>\n",
       "    <tr>\n",
       "      <td>0</td>\n",
       "      <td>Jerala_P12</td>\n",
       "      <td>Jerala_P1</td>\n",
       "    </tr>\n",
       "    <tr>\n",
       "      <td>1</td>\n",
       "      <td>Jerala_P10</td>\n",
       "      <td>Jerala_P7</td>\n",
       "    </tr>\n",
       "    <tr>\n",
       "      <td>2</td>\n",
       "      <td>Jerala_P2</td>\n",
       "      <td>Jerala_P11</td>\n",
       "    </tr>\n",
       "    <tr>\n",
       "      <td>3</td>\n",
       "      <td>Jerala_P10</td>\n",
       "      <td>Jerala_P6</td>\n",
       "    </tr>\n",
       "    <tr>\n",
       "      <td>4</td>\n",
       "      <td>Jerala_P11</td>\n",
       "      <td>Jerala_P1</td>\n",
       "    </tr>\n",
       "  </tbody>\n",
       "</table>\n",
       "</div>"
      ],
      "text/plain": [
       "      Binder1     Binder2\n",
       "0  Jerala_P12   Jerala_P1\n",
       "1  Jerala_P10   Jerala_P7\n",
       "2   Jerala_P2  Jerala_P11\n",
       "3  Jerala_P10   Jerala_P6\n",
       "4  Jerala_P11   Jerala_P1"
      ]
     },
     "execution_count": 73,
     "metadata": {},
     "output_type": "execute_result"
    }
   ],
   "source": [
    "trp_df.head()"
   ]
  },
  {
   "cell_type": "code",
   "execution_count": 74,
   "metadata": {},
   "outputs": [],
   "source": [
    "trp_df['Count'] = 1"
   ]
  },
  {
   "cell_type": "code",
   "execution_count": 75,
   "metadata": {},
   "outputs": [
    {
     "data": {
      "text/html": [
       "<div>\n",
       "<style scoped>\n",
       "    .dataframe tbody tr th:only-of-type {\n",
       "        vertical-align: middle;\n",
       "    }\n",
       "\n",
       "    .dataframe tbody tr th {\n",
       "        vertical-align: top;\n",
       "    }\n",
       "\n",
       "    .dataframe thead th {\n",
       "        text-align: right;\n",
       "    }\n",
       "</style>\n",
       "<table border=\"1\" class=\"dataframe\">\n",
       "  <thead>\n",
       "    <tr style=\"text-align: right;\">\n",
       "      <th></th>\n",
       "      <th>Binder1</th>\n",
       "      <th>Binder2</th>\n",
       "      <th>Count</th>\n",
       "    </tr>\n",
       "  </thead>\n",
       "  <tbody>\n",
       "    <tr>\n",
       "      <td>0</td>\n",
       "      <td>Jerala_P12</td>\n",
       "      <td>Jerala_P1</td>\n",
       "      <td>1</td>\n",
       "    </tr>\n",
       "    <tr>\n",
       "      <td>1</td>\n",
       "      <td>Jerala_P10</td>\n",
       "      <td>Jerala_P7</td>\n",
       "      <td>1</td>\n",
       "    </tr>\n",
       "    <tr>\n",
       "      <td>2</td>\n",
       "      <td>Jerala_P2</td>\n",
       "      <td>Jerala_P11</td>\n",
       "      <td>1</td>\n",
       "    </tr>\n",
       "    <tr>\n",
       "      <td>3</td>\n",
       "      <td>Jerala_P10</td>\n",
       "      <td>Jerala_P6</td>\n",
       "      <td>1</td>\n",
       "    </tr>\n",
       "    <tr>\n",
       "      <td>4</td>\n",
       "      <td>Jerala_P11</td>\n",
       "      <td>Jerala_P1</td>\n",
       "      <td>1</td>\n",
       "    </tr>\n",
       "  </tbody>\n",
       "</table>\n",
       "</div>"
      ],
      "text/plain": [
       "      Binder1     Binder2  Count\n",
       "0  Jerala_P12   Jerala_P1      1\n",
       "1  Jerala_P10   Jerala_P7      1\n",
       "2   Jerala_P2  Jerala_P11      1\n",
       "3  Jerala_P10   Jerala_P6      1\n",
       "4  Jerala_P11   Jerala_P1      1"
      ]
     },
     "execution_count": 75,
     "metadata": {},
     "output_type": "execute_result"
    }
   ],
   "source": [
    "trp_df.head()"
   ]
  },
  {
   "cell_type": "code",
   "execution_count": 76,
   "metadata": {},
   "outputs": [],
   "source": [
    "trp_table = pd.pivot_table(trp_df, values = 'Count', index = 'Binder1', columns = 'Binder2', aggfunc = np.sum )"
   ]
  },
  {
   "cell_type": "code",
   "execution_count": 77,
   "metadata": {},
   "outputs": [
    {
     "data": {
      "text/html": [
       "<div>\n",
       "<style scoped>\n",
       "    .dataframe tbody tr th:only-of-type {\n",
       "        vertical-align: middle;\n",
       "    }\n",
       "\n",
       "    .dataframe tbody tr th {\n",
       "        vertical-align: top;\n",
       "    }\n",
       "\n",
       "    .dataframe thead th {\n",
       "        text-align: right;\n",
       "    }\n",
       "</style>\n",
       "<table border=\"1\" class=\"dataframe\">\n",
       "  <thead>\n",
       "    <tr style=\"text-align: right;\">\n",
       "      <th>Binder2</th>\n",
       "      <th>Jerala_P1</th>\n",
       "      <th>Jerala_P10</th>\n",
       "      <th>Jerala_P11</th>\n",
       "      <th>Jerala_P12</th>\n",
       "      <th>Jerala_P2</th>\n",
       "      <th>Jerala_P3</th>\n",
       "      <th>Jerala_P4</th>\n",
       "      <th>Jerala_P5</th>\n",
       "      <th>Jerala_P6</th>\n",
       "      <th>Jerala_P7</th>\n",
       "      <th>Jerala_P8</th>\n",
       "      <th>Jerala_P9</th>\n",
       "    </tr>\n",
       "    <tr>\n",
       "      <th>Binder1</th>\n",
       "      <th></th>\n",
       "      <th></th>\n",
       "      <th></th>\n",
       "      <th></th>\n",
       "      <th></th>\n",
       "      <th></th>\n",
       "      <th></th>\n",
       "      <th></th>\n",
       "      <th></th>\n",
       "      <th></th>\n",
       "      <th></th>\n",
       "      <th></th>\n",
       "    </tr>\n",
       "  </thead>\n",
       "  <tbody>\n",
       "    <tr>\n",
       "      <td>Jerala_P1</td>\n",
       "      <td>20</td>\n",
       "      <td>5256</td>\n",
       "      <td>2122</td>\n",
       "      <td>2989</td>\n",
       "      <td>1237</td>\n",
       "      <td>3430</td>\n",
       "      <td>1846</td>\n",
       "      <td>3245</td>\n",
       "      <td>4899</td>\n",
       "      <td>3835</td>\n",
       "      <td>2273</td>\n",
       "      <td>1982</td>\n",
       "    </tr>\n",
       "    <tr>\n",
       "      <td>Jerala_P10</td>\n",
       "      <td>4820</td>\n",
       "      <td>7</td>\n",
       "      <td>3059</td>\n",
       "      <td>8945</td>\n",
       "      <td>6353</td>\n",
       "      <td>8003</td>\n",
       "      <td>2132</td>\n",
       "      <td>7332</td>\n",
       "      <td>6463</td>\n",
       "      <td>6280</td>\n",
       "      <td>4001</td>\n",
       "      <td>1672</td>\n",
       "    </tr>\n",
       "    <tr>\n",
       "      <td>Jerala_P11</td>\n",
       "      <td>1700</td>\n",
       "      <td>1367</td>\n",
       "      <td>77</td>\n",
       "      <td>831</td>\n",
       "      <td>3918</td>\n",
       "      <td>2605</td>\n",
       "      <td>1967</td>\n",
       "      <td>1991</td>\n",
       "      <td>2532</td>\n",
       "      <td>1396</td>\n",
       "      <td>2444</td>\n",
       "      <td>2305</td>\n",
       "    </tr>\n",
       "    <tr>\n",
       "      <td>Jerala_P12</td>\n",
       "      <td>3318</td>\n",
       "      <td>3280</td>\n",
       "      <td>1364</td>\n",
       "      <td>3975</td>\n",
       "      <td>4604</td>\n",
       "      <td>3679</td>\n",
       "      <td>1844</td>\n",
       "      <td>4158</td>\n",
       "      <td>4022</td>\n",
       "      <td>3358</td>\n",
       "      <td>3073</td>\n",
       "      <td>2325</td>\n",
       "    </tr>\n",
       "    <tr>\n",
       "      <td>Jerala_P2</td>\n",
       "      <td>523</td>\n",
       "      <td>4151</td>\n",
       "      <td>3212</td>\n",
       "      <td>4268</td>\n",
       "      <td>75</td>\n",
       "      <td>4547</td>\n",
       "      <td>2956</td>\n",
       "      <td>7055</td>\n",
       "      <td>4402</td>\n",
       "      <td>5468</td>\n",
       "      <td>5290</td>\n",
       "      <td>2169</td>\n",
       "    </tr>\n",
       "    <tr>\n",
       "      <td>Jerala_P3</td>\n",
       "      <td>1642</td>\n",
       "      <td>4347</td>\n",
       "      <td>1471</td>\n",
       "      <td>1957</td>\n",
       "      <td>3719</td>\n",
       "      <td>2215</td>\n",
       "      <td>237</td>\n",
       "      <td>2829</td>\n",
       "      <td>1758</td>\n",
       "      <td>2149</td>\n",
       "      <td>1801</td>\n",
       "      <td>2945</td>\n",
       "    </tr>\n",
       "    <tr>\n",
       "      <td>Jerala_P4</td>\n",
       "      <td>2480</td>\n",
       "      <td>5113</td>\n",
       "      <td>2424</td>\n",
       "      <td>3433</td>\n",
       "      <td>2590</td>\n",
       "      <td>1450</td>\n",
       "      <td>11</td>\n",
       "      <td>4630</td>\n",
       "      <td>5626</td>\n",
       "      <td>3248</td>\n",
       "      <td>2489</td>\n",
       "      <td>4531</td>\n",
       "    </tr>\n",
       "    <tr>\n",
       "      <td>Jerala_P5</td>\n",
       "      <td>2856</td>\n",
       "      <td>2354</td>\n",
       "      <td>2885</td>\n",
       "      <td>3351</td>\n",
       "      <td>4678</td>\n",
       "      <td>3270</td>\n",
       "      <td>2540</td>\n",
       "      <td>1896</td>\n",
       "      <td>1120</td>\n",
       "      <td>3045</td>\n",
       "      <td>2914</td>\n",
       "      <td>3488</td>\n",
       "    </tr>\n",
       "    <tr>\n",
       "      <td>Jerala_P6</td>\n",
       "      <td>2293</td>\n",
       "      <td>2754</td>\n",
       "      <td>2008</td>\n",
       "      <td>1728</td>\n",
       "      <td>2839</td>\n",
       "      <td>2953</td>\n",
       "      <td>1426</td>\n",
       "      <td>1740</td>\n",
       "      <td>24</td>\n",
       "      <td>3161</td>\n",
       "      <td>2993</td>\n",
       "      <td>1661</td>\n",
       "    </tr>\n",
       "    <tr>\n",
       "      <td>Jerala_P7</td>\n",
       "      <td>1747</td>\n",
       "      <td>1557</td>\n",
       "      <td>1789</td>\n",
       "      <td>2707</td>\n",
       "      <td>2105</td>\n",
       "      <td>1724</td>\n",
       "      <td>1214</td>\n",
       "      <td>3324</td>\n",
       "      <td>2606</td>\n",
       "      <td>1720</td>\n",
       "      <td>2199</td>\n",
       "      <td>2081</td>\n",
       "    </tr>\n",
       "    <tr>\n",
       "      <td>Jerala_P8</td>\n",
       "      <td>3353</td>\n",
       "      <td>1920</td>\n",
       "      <td>1958</td>\n",
       "      <td>4663</td>\n",
       "      <td>4385</td>\n",
       "      <td>2886</td>\n",
       "      <td>2637</td>\n",
       "      <td>4235</td>\n",
       "      <td>3081</td>\n",
       "      <td>1892</td>\n",
       "      <td>12</td>\n",
       "      <td>3815</td>\n",
       "    </tr>\n",
       "    <tr>\n",
       "      <td>Jerala_P9</td>\n",
       "      <td>2950</td>\n",
       "      <td>1173</td>\n",
       "      <td>2037</td>\n",
       "      <td>3719</td>\n",
       "      <td>2437</td>\n",
       "      <td>5412</td>\n",
       "      <td>2068</td>\n",
       "      <td>7646</td>\n",
       "      <td>3457</td>\n",
       "      <td>2846</td>\n",
       "      <td>4884</td>\n",
       "      <td>15</td>\n",
       "    </tr>\n",
       "  </tbody>\n",
       "</table>\n",
       "</div>"
      ],
      "text/plain": [
       "Binder2     Jerala_P1  Jerala_P10  Jerala_P11  Jerala_P12  Jerala_P2  \\\n",
       "Binder1                                                                \n",
       "Jerala_P1          20        5256        2122        2989       1237   \n",
       "Jerala_P10       4820           7        3059        8945       6353   \n",
       "Jerala_P11       1700        1367          77         831       3918   \n",
       "Jerala_P12       3318        3280        1364        3975       4604   \n",
       "Jerala_P2         523        4151        3212        4268         75   \n",
       "Jerala_P3        1642        4347        1471        1957       3719   \n",
       "Jerala_P4        2480        5113        2424        3433       2590   \n",
       "Jerala_P5        2856        2354        2885        3351       4678   \n",
       "Jerala_P6        2293        2754        2008        1728       2839   \n",
       "Jerala_P7        1747        1557        1789        2707       2105   \n",
       "Jerala_P8        3353        1920        1958        4663       4385   \n",
       "Jerala_P9        2950        1173        2037        3719       2437   \n",
       "\n",
       "Binder2     Jerala_P3  Jerala_P4  Jerala_P5  Jerala_P6  Jerala_P7  Jerala_P8  \\\n",
       "Binder1                                                                        \n",
       "Jerala_P1        3430       1846       3245       4899       3835       2273   \n",
       "Jerala_P10       8003       2132       7332       6463       6280       4001   \n",
       "Jerala_P11       2605       1967       1991       2532       1396       2444   \n",
       "Jerala_P12       3679       1844       4158       4022       3358       3073   \n",
       "Jerala_P2        4547       2956       7055       4402       5468       5290   \n",
       "Jerala_P3        2215        237       2829       1758       2149       1801   \n",
       "Jerala_P4        1450         11       4630       5626       3248       2489   \n",
       "Jerala_P5        3270       2540       1896       1120       3045       2914   \n",
       "Jerala_P6        2953       1426       1740         24       3161       2993   \n",
       "Jerala_P7        1724       1214       3324       2606       1720       2199   \n",
       "Jerala_P8        2886       2637       4235       3081       1892         12   \n",
       "Jerala_P9        5412       2068       7646       3457       2846       4884   \n",
       "\n",
       "Binder2     Jerala_P9  \n",
       "Binder1                \n",
       "Jerala_P1        1982  \n",
       "Jerala_P10       1672  \n",
       "Jerala_P11       2305  \n",
       "Jerala_P12       2325  \n",
       "Jerala_P2        2169  \n",
       "Jerala_P3        2945  \n",
       "Jerala_P4        4531  \n",
       "Jerala_P5        3488  \n",
       "Jerala_P6        1661  \n",
       "Jerala_P7        2081  \n",
       "Jerala_P8        3815  \n",
       "Jerala_P9          15  "
      ]
     },
     "execution_count": 77,
     "metadata": {},
     "output_type": "execute_result"
    }
   ],
   "source": [
    "trp_table"
   ]
  },
  {
   "cell_type": "code",
   "execution_count": 78,
   "metadata": {},
   "outputs": [],
   "source": [
    "\n",
    "correct_order = []\n",
    "\n",
    "for i in range(12):\n",
    "    correct_order.append('Jerala_P' + str(i+1))\n",
    "    "
   ]
  },
  {
   "cell_type": "code",
   "execution_count": 79,
   "metadata": {},
   "outputs": [
    {
     "data": {
      "text/plain": [
       "['Jerala_P1',\n",
       " 'Jerala_P2',\n",
       " 'Jerala_P3',\n",
       " 'Jerala_P4',\n",
       " 'Jerala_P5',\n",
       " 'Jerala_P6',\n",
       " 'Jerala_P7',\n",
       " 'Jerala_P8',\n",
       " 'Jerala_P9',\n",
       " 'Jerala_P10',\n",
       " 'Jerala_P11',\n",
       " 'Jerala_P12']"
      ]
     },
     "execution_count": 79,
     "metadata": {},
     "output_type": "execute_result"
    }
   ],
   "source": [
    "correct_order"
   ]
  },
  {
   "cell_type": "code",
   "execution_count": 80,
   "metadata": {},
   "outputs": [],
   "source": [
    "trp_table = trp_table[correct_order].reindex(correct_order)"
   ]
  },
  {
   "cell_type": "code",
   "execution_count": 81,
   "metadata": {},
   "outputs": [
    {
     "data": {
      "text/html": [
       "<div>\n",
       "<style scoped>\n",
       "    .dataframe tbody tr th:only-of-type {\n",
       "        vertical-align: middle;\n",
       "    }\n",
       "\n",
       "    .dataframe tbody tr th {\n",
       "        vertical-align: top;\n",
       "    }\n",
       "\n",
       "    .dataframe thead th {\n",
       "        text-align: right;\n",
       "    }\n",
       "</style>\n",
       "<table border=\"1\" class=\"dataframe\">\n",
       "  <thead>\n",
       "    <tr style=\"text-align: right;\">\n",
       "      <th>Binder2</th>\n",
       "      <th>Jerala_P1</th>\n",
       "      <th>Jerala_P2</th>\n",
       "      <th>Jerala_P3</th>\n",
       "      <th>Jerala_P4</th>\n",
       "      <th>Jerala_P5</th>\n",
       "      <th>Jerala_P6</th>\n",
       "      <th>Jerala_P7</th>\n",
       "      <th>Jerala_P8</th>\n",
       "      <th>Jerala_P9</th>\n",
       "      <th>Jerala_P10</th>\n",
       "      <th>Jerala_P11</th>\n",
       "      <th>Jerala_P12</th>\n",
       "    </tr>\n",
       "    <tr>\n",
       "      <th>Binder1</th>\n",
       "      <th></th>\n",
       "      <th></th>\n",
       "      <th></th>\n",
       "      <th></th>\n",
       "      <th></th>\n",
       "      <th></th>\n",
       "      <th></th>\n",
       "      <th></th>\n",
       "      <th></th>\n",
       "      <th></th>\n",
       "      <th></th>\n",
       "      <th></th>\n",
       "    </tr>\n",
       "  </thead>\n",
       "  <tbody>\n",
       "    <tr>\n",
       "      <td>Jerala_P1</td>\n",
       "      <td>20</td>\n",
       "      <td>1237</td>\n",
       "      <td>3430</td>\n",
       "      <td>1846</td>\n",
       "      <td>3245</td>\n",
       "      <td>4899</td>\n",
       "      <td>3835</td>\n",
       "      <td>2273</td>\n",
       "      <td>1982</td>\n",
       "      <td>5256</td>\n",
       "      <td>2122</td>\n",
       "      <td>2989</td>\n",
       "    </tr>\n",
       "    <tr>\n",
       "      <td>Jerala_P2</td>\n",
       "      <td>523</td>\n",
       "      <td>75</td>\n",
       "      <td>4547</td>\n",
       "      <td>2956</td>\n",
       "      <td>7055</td>\n",
       "      <td>4402</td>\n",
       "      <td>5468</td>\n",
       "      <td>5290</td>\n",
       "      <td>2169</td>\n",
       "      <td>4151</td>\n",
       "      <td>3212</td>\n",
       "      <td>4268</td>\n",
       "    </tr>\n",
       "    <tr>\n",
       "      <td>Jerala_P3</td>\n",
       "      <td>1642</td>\n",
       "      <td>3719</td>\n",
       "      <td>2215</td>\n",
       "      <td>237</td>\n",
       "      <td>2829</td>\n",
       "      <td>1758</td>\n",
       "      <td>2149</td>\n",
       "      <td>1801</td>\n",
       "      <td>2945</td>\n",
       "      <td>4347</td>\n",
       "      <td>1471</td>\n",
       "      <td>1957</td>\n",
       "    </tr>\n",
       "    <tr>\n",
       "      <td>Jerala_P4</td>\n",
       "      <td>2480</td>\n",
       "      <td>2590</td>\n",
       "      <td>1450</td>\n",
       "      <td>11</td>\n",
       "      <td>4630</td>\n",
       "      <td>5626</td>\n",
       "      <td>3248</td>\n",
       "      <td>2489</td>\n",
       "      <td>4531</td>\n",
       "      <td>5113</td>\n",
       "      <td>2424</td>\n",
       "      <td>3433</td>\n",
       "    </tr>\n",
       "    <tr>\n",
       "      <td>Jerala_P5</td>\n",
       "      <td>2856</td>\n",
       "      <td>4678</td>\n",
       "      <td>3270</td>\n",
       "      <td>2540</td>\n",
       "      <td>1896</td>\n",
       "      <td>1120</td>\n",
       "      <td>3045</td>\n",
       "      <td>2914</td>\n",
       "      <td>3488</td>\n",
       "      <td>2354</td>\n",
       "      <td>2885</td>\n",
       "      <td>3351</td>\n",
       "    </tr>\n",
       "    <tr>\n",
       "      <td>Jerala_P6</td>\n",
       "      <td>2293</td>\n",
       "      <td>2839</td>\n",
       "      <td>2953</td>\n",
       "      <td>1426</td>\n",
       "      <td>1740</td>\n",
       "      <td>24</td>\n",
       "      <td>3161</td>\n",
       "      <td>2993</td>\n",
       "      <td>1661</td>\n",
       "      <td>2754</td>\n",
       "      <td>2008</td>\n",
       "      <td>1728</td>\n",
       "    </tr>\n",
       "    <tr>\n",
       "      <td>Jerala_P7</td>\n",
       "      <td>1747</td>\n",
       "      <td>2105</td>\n",
       "      <td>1724</td>\n",
       "      <td>1214</td>\n",
       "      <td>3324</td>\n",
       "      <td>2606</td>\n",
       "      <td>1720</td>\n",
       "      <td>2199</td>\n",
       "      <td>2081</td>\n",
       "      <td>1557</td>\n",
       "      <td>1789</td>\n",
       "      <td>2707</td>\n",
       "    </tr>\n",
       "    <tr>\n",
       "      <td>Jerala_P8</td>\n",
       "      <td>3353</td>\n",
       "      <td>4385</td>\n",
       "      <td>2886</td>\n",
       "      <td>2637</td>\n",
       "      <td>4235</td>\n",
       "      <td>3081</td>\n",
       "      <td>1892</td>\n",
       "      <td>12</td>\n",
       "      <td>3815</td>\n",
       "      <td>1920</td>\n",
       "      <td>1958</td>\n",
       "      <td>4663</td>\n",
       "    </tr>\n",
       "    <tr>\n",
       "      <td>Jerala_P9</td>\n",
       "      <td>2950</td>\n",
       "      <td>2437</td>\n",
       "      <td>5412</td>\n",
       "      <td>2068</td>\n",
       "      <td>7646</td>\n",
       "      <td>3457</td>\n",
       "      <td>2846</td>\n",
       "      <td>4884</td>\n",
       "      <td>15</td>\n",
       "      <td>1173</td>\n",
       "      <td>2037</td>\n",
       "      <td>3719</td>\n",
       "    </tr>\n",
       "    <tr>\n",
       "      <td>Jerala_P10</td>\n",
       "      <td>4820</td>\n",
       "      <td>6353</td>\n",
       "      <td>8003</td>\n",
       "      <td>2132</td>\n",
       "      <td>7332</td>\n",
       "      <td>6463</td>\n",
       "      <td>6280</td>\n",
       "      <td>4001</td>\n",
       "      <td>1672</td>\n",
       "      <td>7</td>\n",
       "      <td>3059</td>\n",
       "      <td>8945</td>\n",
       "    </tr>\n",
       "    <tr>\n",
       "      <td>Jerala_P11</td>\n",
       "      <td>1700</td>\n",
       "      <td>3918</td>\n",
       "      <td>2605</td>\n",
       "      <td>1967</td>\n",
       "      <td>1991</td>\n",
       "      <td>2532</td>\n",
       "      <td>1396</td>\n",
       "      <td>2444</td>\n",
       "      <td>2305</td>\n",
       "      <td>1367</td>\n",
       "      <td>77</td>\n",
       "      <td>831</td>\n",
       "    </tr>\n",
       "    <tr>\n",
       "      <td>Jerala_P12</td>\n",
       "      <td>3318</td>\n",
       "      <td>4604</td>\n",
       "      <td>3679</td>\n",
       "      <td>1844</td>\n",
       "      <td>4158</td>\n",
       "      <td>4022</td>\n",
       "      <td>3358</td>\n",
       "      <td>3073</td>\n",
       "      <td>2325</td>\n",
       "      <td>3280</td>\n",
       "      <td>1364</td>\n",
       "      <td>3975</td>\n",
       "    </tr>\n",
       "  </tbody>\n",
       "</table>\n",
       "</div>"
      ],
      "text/plain": [
       "Binder2     Jerala_P1  Jerala_P2  Jerala_P3  Jerala_P4  Jerala_P5  Jerala_P6  \\\n",
       "Binder1                                                                        \n",
       "Jerala_P1          20       1237       3430       1846       3245       4899   \n",
       "Jerala_P2         523         75       4547       2956       7055       4402   \n",
       "Jerala_P3        1642       3719       2215        237       2829       1758   \n",
       "Jerala_P4        2480       2590       1450         11       4630       5626   \n",
       "Jerala_P5        2856       4678       3270       2540       1896       1120   \n",
       "Jerala_P6        2293       2839       2953       1426       1740         24   \n",
       "Jerala_P7        1747       2105       1724       1214       3324       2606   \n",
       "Jerala_P8        3353       4385       2886       2637       4235       3081   \n",
       "Jerala_P9        2950       2437       5412       2068       7646       3457   \n",
       "Jerala_P10       4820       6353       8003       2132       7332       6463   \n",
       "Jerala_P11       1700       3918       2605       1967       1991       2532   \n",
       "Jerala_P12       3318       4604       3679       1844       4158       4022   \n",
       "\n",
       "Binder2     Jerala_P7  Jerala_P8  Jerala_P9  Jerala_P10  Jerala_P11  \\\n",
       "Binder1                                                               \n",
       "Jerala_P1        3835       2273       1982        5256        2122   \n",
       "Jerala_P2        5468       5290       2169        4151        3212   \n",
       "Jerala_P3        2149       1801       2945        4347        1471   \n",
       "Jerala_P4        3248       2489       4531        5113        2424   \n",
       "Jerala_P5        3045       2914       3488        2354        2885   \n",
       "Jerala_P6        3161       2993       1661        2754        2008   \n",
       "Jerala_P7        1720       2199       2081        1557        1789   \n",
       "Jerala_P8        1892         12       3815        1920        1958   \n",
       "Jerala_P9        2846       4884         15        1173        2037   \n",
       "Jerala_P10       6280       4001       1672           7        3059   \n",
       "Jerala_P11       1396       2444       2305        1367          77   \n",
       "Jerala_P12       3358       3073       2325        3280        1364   \n",
       "\n",
       "Binder2     Jerala_P12  \n",
       "Binder1                 \n",
       "Jerala_P1         2989  \n",
       "Jerala_P2         4268  \n",
       "Jerala_P3         1957  \n",
       "Jerala_P4         3433  \n",
       "Jerala_P5         3351  \n",
       "Jerala_P6         1728  \n",
       "Jerala_P7         2707  \n",
       "Jerala_P8         4663  \n",
       "Jerala_P9         3719  \n",
       "Jerala_P10        8945  \n",
       "Jerala_P11         831  \n",
       "Jerala_P12        3975  "
      ]
     },
     "execution_count": 81,
     "metadata": {},
     "output_type": "execute_result"
    }
   ],
   "source": [
    "trp_table"
   ]
  },
  {
   "cell_type": "code",
   "execution_count": 83,
   "metadata": {},
   "outputs": [],
   "source": [
    "#trp_table.to_csv('L61_TRP_60h_table.csv')"
   ]
  },
  {
   "cell_type": "markdown",
   "metadata": {},
   "source": [
    "# HIS"
   ]
  },
  {
   "cell_type": "code",
   "execution_count": 68,
   "metadata": {},
   "outputs": [
    {
     "data": {
      "text/plain": [
       "(430111, 4)"
      ]
     },
     "execution_count": 68,
     "metadata": {},
     "output_type": "execute_result"
    }
   ],
   "source": [
    "merged_df.shape"
   ]
  },
  {
   "cell_type": "code",
   "execution_count": 69,
   "metadata": {},
   "outputs": [
    {
     "data": {
      "text/html": [
       "<div>\n",
       "<style scoped>\n",
       "    .dataframe tbody tr th:only-of-type {\n",
       "        vertical-align: middle;\n",
       "    }\n",
       "\n",
       "    .dataframe tbody tr th {\n",
       "        vertical-align: top;\n",
       "    }\n",
       "\n",
       "    .dataframe thead th {\n",
       "        text-align: right;\n",
       "    }\n",
       "</style>\n",
       "<table border=\"1\" class=\"dataframe\">\n",
       "  <thead>\n",
       "    <tr style=\"text-align: right;\">\n",
       "      <th></th>\n",
       "      <th>ID</th>\n",
       "      <th>Condition</th>\n",
       "      <th>Binder1</th>\n",
       "      <th>Binder2</th>\n",
       "    </tr>\n",
       "  </thead>\n",
       "  <tbody>\n",
       "    <tr>\n",
       "      <td>0</td>\n",
       "      <td>1:1101:15413:2216</td>\n",
       "      <td>HIS</td>\n",
       "      <td>Jerala_P2</td>\n",
       "      <td>Jerala_P1</td>\n",
       "    </tr>\n",
       "    <tr>\n",
       "      <td>1</td>\n",
       "      <td>1:1101:17449:2217</td>\n",
       "      <td>HIS</td>\n",
       "      <td>Jerala_P9</td>\n",
       "      <td>Jerala_P10</td>\n",
       "    </tr>\n",
       "    <tr>\n",
       "      <td>2</td>\n",
       "      <td>1:1101:12689:2225</td>\n",
       "      <td>HIS</td>\n",
       "      <td>Jerala_P4</td>\n",
       "      <td>Jerala_P3</td>\n",
       "    </tr>\n",
       "    <tr>\n",
       "      <td>3</td>\n",
       "      <td>1:1101:16454:2225</td>\n",
       "      <td>HIS</td>\n",
       "      <td>Jerala_P9</td>\n",
       "      <td>Jerala_P10</td>\n",
       "    </tr>\n",
       "    <tr>\n",
       "      <td>4</td>\n",
       "      <td>1:1101:12933:2243</td>\n",
       "      <td>HIS</td>\n",
       "      <td>Jerala_P4</td>\n",
       "      <td>Jerala_P3</td>\n",
       "    </tr>\n",
       "  </tbody>\n",
       "</table>\n",
       "</div>"
      ],
      "text/plain": [
       "                  ID Condition    Binder1     Binder2\n",
       "0  1:1101:15413:2216       HIS  Jerala_P2   Jerala_P1\n",
       "1  1:1101:17449:2217       HIS  Jerala_P9  Jerala_P10\n",
       "2  1:1101:12689:2225       HIS  Jerala_P4   Jerala_P3\n",
       "3  1:1101:16454:2225       HIS  Jerala_P9  Jerala_P10\n",
       "4  1:1101:12933:2243       HIS  Jerala_P4   Jerala_P3"
      ]
     },
     "execution_count": 69,
     "metadata": {},
     "output_type": "execute_result"
    }
   ],
   "source": [
    "merged_df.head()"
   ]
  },
  {
   "cell_type": "code",
   "execution_count": 70,
   "metadata": {},
   "outputs": [],
   "source": [
    "his_df = merged_df[merged_df['Condition'] == 'HIS'][['Binder1', 'Binder2']]"
   ]
  },
  {
   "cell_type": "code",
   "execution_count": 71,
   "metadata": {},
   "outputs": [
    {
     "data": {
      "text/plain": [
       "(430111, 2)"
      ]
     },
     "execution_count": 71,
     "metadata": {},
     "output_type": "execute_result"
    }
   ],
   "source": [
    "his_df.shape"
   ]
  },
  {
   "cell_type": "code",
   "execution_count": 72,
   "metadata": {},
   "outputs": [
    {
     "data": {
      "text/html": [
       "<div>\n",
       "<style scoped>\n",
       "    .dataframe tbody tr th:only-of-type {\n",
       "        vertical-align: middle;\n",
       "    }\n",
       "\n",
       "    .dataframe tbody tr th {\n",
       "        vertical-align: top;\n",
       "    }\n",
       "\n",
       "    .dataframe thead th {\n",
       "        text-align: right;\n",
       "    }\n",
       "</style>\n",
       "<table border=\"1\" class=\"dataframe\">\n",
       "  <thead>\n",
       "    <tr style=\"text-align: right;\">\n",
       "      <th></th>\n",
       "      <th>Binder1</th>\n",
       "      <th>Binder2</th>\n",
       "    </tr>\n",
       "  </thead>\n",
       "  <tbody>\n",
       "    <tr>\n",
       "      <td>0</td>\n",
       "      <td>Jerala_P2</td>\n",
       "      <td>Jerala_P1</td>\n",
       "    </tr>\n",
       "    <tr>\n",
       "      <td>1</td>\n",
       "      <td>Jerala_P9</td>\n",
       "      <td>Jerala_P10</td>\n",
       "    </tr>\n",
       "    <tr>\n",
       "      <td>2</td>\n",
       "      <td>Jerala_P4</td>\n",
       "      <td>Jerala_P3</td>\n",
       "    </tr>\n",
       "    <tr>\n",
       "      <td>3</td>\n",
       "      <td>Jerala_P9</td>\n",
       "      <td>Jerala_P10</td>\n",
       "    </tr>\n",
       "    <tr>\n",
       "      <td>4</td>\n",
       "      <td>Jerala_P4</td>\n",
       "      <td>Jerala_P3</td>\n",
       "    </tr>\n",
       "  </tbody>\n",
       "</table>\n",
       "</div>"
      ],
      "text/plain": [
       "     Binder1     Binder2\n",
       "0  Jerala_P2   Jerala_P1\n",
       "1  Jerala_P9  Jerala_P10\n",
       "2  Jerala_P4   Jerala_P3\n",
       "3  Jerala_P9  Jerala_P10\n",
       "4  Jerala_P4   Jerala_P3"
      ]
     },
     "execution_count": 72,
     "metadata": {},
     "output_type": "execute_result"
    }
   ],
   "source": [
    "his_df.head()"
   ]
  },
  {
   "cell_type": "code",
   "execution_count": 73,
   "metadata": {},
   "outputs": [],
   "source": [
    "his_df['Count'] = 1"
   ]
  },
  {
   "cell_type": "code",
   "execution_count": 74,
   "metadata": {},
   "outputs": [
    {
     "data": {
      "text/html": [
       "<div>\n",
       "<style scoped>\n",
       "    .dataframe tbody tr th:only-of-type {\n",
       "        vertical-align: middle;\n",
       "    }\n",
       "\n",
       "    .dataframe tbody tr th {\n",
       "        vertical-align: top;\n",
       "    }\n",
       "\n",
       "    .dataframe thead th {\n",
       "        text-align: right;\n",
       "    }\n",
       "</style>\n",
       "<table border=\"1\" class=\"dataframe\">\n",
       "  <thead>\n",
       "    <tr style=\"text-align: right;\">\n",
       "      <th></th>\n",
       "      <th>Binder1</th>\n",
       "      <th>Binder2</th>\n",
       "      <th>Count</th>\n",
       "    </tr>\n",
       "  </thead>\n",
       "  <tbody>\n",
       "    <tr>\n",
       "      <td>0</td>\n",
       "      <td>Jerala_P2</td>\n",
       "      <td>Jerala_P1</td>\n",
       "      <td>1</td>\n",
       "    </tr>\n",
       "    <tr>\n",
       "      <td>1</td>\n",
       "      <td>Jerala_P9</td>\n",
       "      <td>Jerala_P10</td>\n",
       "      <td>1</td>\n",
       "    </tr>\n",
       "    <tr>\n",
       "      <td>2</td>\n",
       "      <td>Jerala_P4</td>\n",
       "      <td>Jerala_P3</td>\n",
       "      <td>1</td>\n",
       "    </tr>\n",
       "    <tr>\n",
       "      <td>3</td>\n",
       "      <td>Jerala_P9</td>\n",
       "      <td>Jerala_P10</td>\n",
       "      <td>1</td>\n",
       "    </tr>\n",
       "    <tr>\n",
       "      <td>4</td>\n",
       "      <td>Jerala_P4</td>\n",
       "      <td>Jerala_P3</td>\n",
       "      <td>1</td>\n",
       "    </tr>\n",
       "  </tbody>\n",
       "</table>\n",
       "</div>"
      ],
      "text/plain": [
       "     Binder1     Binder2  Count\n",
       "0  Jerala_P2   Jerala_P1      1\n",
       "1  Jerala_P9  Jerala_P10      1\n",
       "2  Jerala_P4   Jerala_P3      1\n",
       "3  Jerala_P9  Jerala_P10      1\n",
       "4  Jerala_P4   Jerala_P3      1"
      ]
     },
     "execution_count": 74,
     "metadata": {},
     "output_type": "execute_result"
    }
   ],
   "source": [
    "his_df.head()"
   ]
  },
  {
   "cell_type": "code",
   "execution_count": 75,
   "metadata": {},
   "outputs": [],
   "source": [
    "his_table = pd.pivot_table(his_df, values = 'Count', index = 'Binder1', columns = 'Binder2', aggfunc = np.sum )"
   ]
  },
  {
   "cell_type": "code",
   "execution_count": 76,
   "metadata": {},
   "outputs": [
    {
     "data": {
      "text/html": [
       "<div>\n",
       "<style scoped>\n",
       "    .dataframe tbody tr th:only-of-type {\n",
       "        vertical-align: middle;\n",
       "    }\n",
       "\n",
       "    .dataframe tbody tr th {\n",
       "        vertical-align: top;\n",
       "    }\n",
       "\n",
       "    .dataframe thead th {\n",
       "        text-align: right;\n",
       "    }\n",
       "</style>\n",
       "<table border=\"1\" class=\"dataframe\">\n",
       "  <thead>\n",
       "    <tr style=\"text-align: right;\">\n",
       "      <th>Binder2</th>\n",
       "      <th>Jerala_P1</th>\n",
       "      <th>Jerala_P10</th>\n",
       "      <th>Jerala_P11</th>\n",
       "      <th>Jerala_P12</th>\n",
       "      <th>Jerala_P2</th>\n",
       "      <th>Jerala_P3</th>\n",
       "      <th>Jerala_P4</th>\n",
       "      <th>Jerala_P5</th>\n",
       "      <th>Jerala_P6</th>\n",
       "      <th>Jerala_P7</th>\n",
       "      <th>Jerala_P8</th>\n",
       "      <th>Jerala_P9</th>\n",
       "    </tr>\n",
       "    <tr>\n",
       "      <th>Binder1</th>\n",
       "      <th></th>\n",
       "      <th></th>\n",
       "      <th></th>\n",
       "      <th></th>\n",
       "      <th></th>\n",
       "      <th></th>\n",
       "      <th></th>\n",
       "      <th></th>\n",
       "      <th></th>\n",
       "      <th></th>\n",
       "      <th></th>\n",
       "      <th></th>\n",
       "    </tr>\n",
       "  </thead>\n",
       "  <tbody>\n",
       "    <tr>\n",
       "      <td>Jerala_P1</td>\n",
       "      <td>36</td>\n",
       "      <td>199</td>\n",
       "      <td>93</td>\n",
       "      <td>832</td>\n",
       "      <td>102351</td>\n",
       "      <td>120</td>\n",
       "      <td>81</td>\n",
       "      <td>122</td>\n",
       "      <td>182</td>\n",
       "      <td>140</td>\n",
       "      <td>93</td>\n",
       "      <td>839</td>\n",
       "    </tr>\n",
       "    <tr>\n",
       "      <td>Jerala_P10</td>\n",
       "      <td>167</td>\n",
       "      <td>5</td>\n",
       "      <td>1250</td>\n",
       "      <td>287</td>\n",
       "      <td>256</td>\n",
       "      <td>484</td>\n",
       "      <td>83</td>\n",
       "      <td>1559</td>\n",
       "      <td>16754</td>\n",
       "      <td>185</td>\n",
       "      <td>144</td>\n",
       "      <td>29637</td>\n",
       "    </tr>\n",
       "    <tr>\n",
       "      <td>Jerala_P11</td>\n",
       "      <td>55</td>\n",
       "      <td>6147</td>\n",
       "      <td>15</td>\n",
       "      <td>531</td>\n",
       "      <td>123</td>\n",
       "      <td>103</td>\n",
       "      <td>81</td>\n",
       "      <td>87</td>\n",
       "      <td>58</td>\n",
       "      <td>89</td>\n",
       "      <td>90</td>\n",
       "      <td>97</td>\n",
       "    </tr>\n",
       "    <tr>\n",
       "      <td>Jerala_P12</td>\n",
       "      <td>103</td>\n",
       "      <td>209</td>\n",
       "      <td>6321</td>\n",
       "      <td>178</td>\n",
       "      <td>127</td>\n",
       "      <td>107</td>\n",
       "      <td>101</td>\n",
       "      <td>147</td>\n",
       "      <td>116</td>\n",
       "      <td>775</td>\n",
       "      <td>97</td>\n",
       "      <td>63</td>\n",
       "    </tr>\n",
       "    <tr>\n",
       "      <td>Jerala_P2</td>\n",
       "      <td>93558</td>\n",
       "      <td>140</td>\n",
       "      <td>119</td>\n",
       "      <td>168</td>\n",
       "      <td>46</td>\n",
       "      <td>2103</td>\n",
       "      <td>106</td>\n",
       "      <td>4773</td>\n",
       "      <td>3527</td>\n",
       "      <td>149</td>\n",
       "      <td>775</td>\n",
       "      <td>118</td>\n",
       "    </tr>\n",
       "    <tr>\n",
       "      <td>Jerala_P3</td>\n",
       "      <td>89</td>\n",
       "      <td>133</td>\n",
       "      <td>55</td>\n",
       "      <td>68</td>\n",
       "      <td>115</td>\n",
       "      <td>82</td>\n",
       "      <td>3217</td>\n",
       "      <td>127</td>\n",
       "      <td>56</td>\n",
       "      <td>70</td>\n",
       "      <td>57</td>\n",
       "      <td>104</td>\n",
       "    </tr>\n",
       "    <tr>\n",
       "      <td>Jerala_P4</td>\n",
       "      <td>108</td>\n",
       "      <td>839</td>\n",
       "      <td>1062</td>\n",
       "      <td>171</td>\n",
       "      <td>487</td>\n",
       "      <td>67082</td>\n",
       "      <td>5</td>\n",
       "      <td>173</td>\n",
       "      <td>188</td>\n",
       "      <td>114</td>\n",
       "      <td>116</td>\n",
       "      <td>183</td>\n",
       "    </tr>\n",
       "    <tr>\n",
       "      <td>Jerala_P5</td>\n",
       "      <td>139</td>\n",
       "      <td>78</td>\n",
       "      <td>307</td>\n",
       "      <td>146</td>\n",
       "      <td>152</td>\n",
       "      <td>134</td>\n",
       "      <td>363</td>\n",
       "      <td>80</td>\n",
       "      <td>6755</td>\n",
       "      <td>425</td>\n",
       "      <td>151</td>\n",
       "      <td>125</td>\n",
       "    </tr>\n",
       "    <tr>\n",
       "      <td>Jerala_P6</td>\n",
       "      <td>96</td>\n",
       "      <td>91</td>\n",
       "      <td>88</td>\n",
       "      <td>66</td>\n",
       "      <td>700</td>\n",
       "      <td>108</td>\n",
       "      <td>49</td>\n",
       "      <td>620</td>\n",
       "      <td>10</td>\n",
       "      <td>95</td>\n",
       "      <td>105</td>\n",
       "      <td>3516</td>\n",
       "    </tr>\n",
       "    <tr>\n",
       "      <td>Jerala_P7</td>\n",
       "      <td>60</td>\n",
       "      <td>58</td>\n",
       "      <td>5954</td>\n",
       "      <td>106</td>\n",
       "      <td>80</td>\n",
       "      <td>49</td>\n",
       "      <td>39</td>\n",
       "      <td>114</td>\n",
       "      <td>73</td>\n",
       "      <td>69</td>\n",
       "      <td>184</td>\n",
       "      <td>66</td>\n",
       "    </tr>\n",
       "    <tr>\n",
       "      <td>Jerala_P8</td>\n",
       "      <td>125</td>\n",
       "      <td>1617</td>\n",
       "      <td>99</td>\n",
       "      <td>189</td>\n",
       "      <td>170</td>\n",
       "      <td>121</td>\n",
       "      <td>96</td>\n",
       "      <td>115</td>\n",
       "      <td>117</td>\n",
       "      <td>4609</td>\n",
       "      <td>1</td>\n",
       "      <td>150</td>\n",
       "    </tr>\n",
       "    <tr>\n",
       "      <td>Jerala_P9</td>\n",
       "      <td>3700</td>\n",
       "      <td>43612</td>\n",
       "      <td>60</td>\n",
       "      <td>108</td>\n",
       "      <td>137</td>\n",
       "      <td>154</td>\n",
       "      <td>73</td>\n",
       "      <td>209</td>\n",
       "      <td>107</td>\n",
       "      <td>1085</td>\n",
       "      <td>196</td>\n",
       "      <td>8</td>\n",
       "    </tr>\n",
       "  </tbody>\n",
       "</table>\n",
       "</div>"
      ],
      "text/plain": [
       "Binder2     Jerala_P1  Jerala_P10  Jerala_P11  Jerala_P12  Jerala_P2  \\\n",
       "Binder1                                                                \n",
       "Jerala_P1          36         199          93         832     102351   \n",
       "Jerala_P10        167           5        1250         287        256   \n",
       "Jerala_P11         55        6147          15         531        123   \n",
       "Jerala_P12        103         209        6321         178        127   \n",
       "Jerala_P2       93558         140         119         168         46   \n",
       "Jerala_P3          89         133          55          68        115   \n",
       "Jerala_P4         108         839        1062         171        487   \n",
       "Jerala_P5         139          78         307         146        152   \n",
       "Jerala_P6          96          91          88          66        700   \n",
       "Jerala_P7          60          58        5954         106         80   \n",
       "Jerala_P8         125        1617          99         189        170   \n",
       "Jerala_P9        3700       43612          60         108        137   \n",
       "\n",
       "Binder2     Jerala_P3  Jerala_P4  Jerala_P5  Jerala_P6  Jerala_P7  Jerala_P8  \\\n",
       "Binder1                                                                        \n",
       "Jerala_P1         120         81        122        182        140         93   \n",
       "Jerala_P10        484         83       1559      16754        185        144   \n",
       "Jerala_P11        103         81         87         58         89         90   \n",
       "Jerala_P12        107        101        147        116        775         97   \n",
       "Jerala_P2        2103        106       4773       3527        149        775   \n",
       "Jerala_P3          82       3217        127         56         70         57   \n",
       "Jerala_P4       67082          5        173        188        114        116   \n",
       "Jerala_P5         134        363         80       6755        425        151   \n",
       "Jerala_P6         108         49        620         10         95        105   \n",
       "Jerala_P7          49         39        114         73         69        184   \n",
       "Jerala_P8         121         96        115        117       4609          1   \n",
       "Jerala_P9         154         73        209        107       1085        196   \n",
       "\n",
       "Binder2     Jerala_P9  \n",
       "Binder1                \n",
       "Jerala_P1         839  \n",
       "Jerala_P10      29637  \n",
       "Jerala_P11         97  \n",
       "Jerala_P12         63  \n",
       "Jerala_P2         118  \n",
       "Jerala_P3         104  \n",
       "Jerala_P4         183  \n",
       "Jerala_P5         125  \n",
       "Jerala_P6        3516  \n",
       "Jerala_P7          66  \n",
       "Jerala_P8         150  \n",
       "Jerala_P9           8  "
      ]
     },
     "execution_count": 76,
     "metadata": {},
     "output_type": "execute_result"
    }
   ],
   "source": [
    "his_table"
   ]
  },
  {
   "cell_type": "code",
   "execution_count": 77,
   "metadata": {},
   "outputs": [],
   "source": [
    "\n",
    "correct_order = []\n",
    "\n",
    "for i in range(12):\n",
    "    correct_order.append('Jerala_P' + str(i+1))\n",
    "    "
   ]
  },
  {
   "cell_type": "code",
   "execution_count": 78,
   "metadata": {},
   "outputs": [
    {
     "data": {
      "text/plain": [
       "['Jerala_P1',\n",
       " 'Jerala_P2',\n",
       " 'Jerala_P3',\n",
       " 'Jerala_P4',\n",
       " 'Jerala_P5',\n",
       " 'Jerala_P6',\n",
       " 'Jerala_P7',\n",
       " 'Jerala_P8',\n",
       " 'Jerala_P9',\n",
       " 'Jerala_P10',\n",
       " 'Jerala_P11',\n",
       " 'Jerala_P12']"
      ]
     },
     "execution_count": 78,
     "metadata": {},
     "output_type": "execute_result"
    }
   ],
   "source": [
    "correct_order"
   ]
  },
  {
   "cell_type": "code",
   "execution_count": 79,
   "metadata": {},
   "outputs": [],
   "source": [
    "his_table = his_table[correct_order].reindex(correct_order)"
   ]
  },
  {
   "cell_type": "code",
   "execution_count": 80,
   "metadata": {},
   "outputs": [
    {
     "data": {
      "text/html": [
       "<div>\n",
       "<style scoped>\n",
       "    .dataframe tbody tr th:only-of-type {\n",
       "        vertical-align: middle;\n",
       "    }\n",
       "\n",
       "    .dataframe tbody tr th {\n",
       "        vertical-align: top;\n",
       "    }\n",
       "\n",
       "    .dataframe thead th {\n",
       "        text-align: right;\n",
       "    }\n",
       "</style>\n",
       "<table border=\"1\" class=\"dataframe\">\n",
       "  <thead>\n",
       "    <tr style=\"text-align: right;\">\n",
       "      <th>Binder2</th>\n",
       "      <th>Jerala_P1</th>\n",
       "      <th>Jerala_P2</th>\n",
       "      <th>Jerala_P3</th>\n",
       "      <th>Jerala_P4</th>\n",
       "      <th>Jerala_P5</th>\n",
       "      <th>Jerala_P6</th>\n",
       "      <th>Jerala_P7</th>\n",
       "      <th>Jerala_P8</th>\n",
       "      <th>Jerala_P9</th>\n",
       "      <th>Jerala_P10</th>\n",
       "      <th>Jerala_P11</th>\n",
       "      <th>Jerala_P12</th>\n",
       "    </tr>\n",
       "    <tr>\n",
       "      <th>Binder1</th>\n",
       "      <th></th>\n",
       "      <th></th>\n",
       "      <th></th>\n",
       "      <th></th>\n",
       "      <th></th>\n",
       "      <th></th>\n",
       "      <th></th>\n",
       "      <th></th>\n",
       "      <th></th>\n",
       "      <th></th>\n",
       "      <th></th>\n",
       "      <th></th>\n",
       "    </tr>\n",
       "  </thead>\n",
       "  <tbody>\n",
       "    <tr>\n",
       "      <td>Jerala_P1</td>\n",
       "      <td>36</td>\n",
       "      <td>102351</td>\n",
       "      <td>120</td>\n",
       "      <td>81</td>\n",
       "      <td>122</td>\n",
       "      <td>182</td>\n",
       "      <td>140</td>\n",
       "      <td>93</td>\n",
       "      <td>839</td>\n",
       "      <td>199</td>\n",
       "      <td>93</td>\n",
       "      <td>832</td>\n",
       "    </tr>\n",
       "    <tr>\n",
       "      <td>Jerala_P2</td>\n",
       "      <td>93558</td>\n",
       "      <td>46</td>\n",
       "      <td>2103</td>\n",
       "      <td>106</td>\n",
       "      <td>4773</td>\n",
       "      <td>3527</td>\n",
       "      <td>149</td>\n",
       "      <td>775</td>\n",
       "      <td>118</td>\n",
       "      <td>140</td>\n",
       "      <td>119</td>\n",
       "      <td>168</td>\n",
       "    </tr>\n",
       "    <tr>\n",
       "      <td>Jerala_P3</td>\n",
       "      <td>89</td>\n",
       "      <td>115</td>\n",
       "      <td>82</td>\n",
       "      <td>3217</td>\n",
       "      <td>127</td>\n",
       "      <td>56</td>\n",
       "      <td>70</td>\n",
       "      <td>57</td>\n",
       "      <td>104</td>\n",
       "      <td>133</td>\n",
       "      <td>55</td>\n",
       "      <td>68</td>\n",
       "    </tr>\n",
       "    <tr>\n",
       "      <td>Jerala_P4</td>\n",
       "      <td>108</td>\n",
       "      <td>487</td>\n",
       "      <td>67082</td>\n",
       "      <td>5</td>\n",
       "      <td>173</td>\n",
       "      <td>188</td>\n",
       "      <td>114</td>\n",
       "      <td>116</td>\n",
       "      <td>183</td>\n",
       "      <td>839</td>\n",
       "      <td>1062</td>\n",
       "      <td>171</td>\n",
       "    </tr>\n",
       "    <tr>\n",
       "      <td>Jerala_P5</td>\n",
       "      <td>139</td>\n",
       "      <td>152</td>\n",
       "      <td>134</td>\n",
       "      <td>363</td>\n",
       "      <td>80</td>\n",
       "      <td>6755</td>\n",
       "      <td>425</td>\n",
       "      <td>151</td>\n",
       "      <td>125</td>\n",
       "      <td>78</td>\n",
       "      <td>307</td>\n",
       "      <td>146</td>\n",
       "    </tr>\n",
       "    <tr>\n",
       "      <td>Jerala_P6</td>\n",
       "      <td>96</td>\n",
       "      <td>700</td>\n",
       "      <td>108</td>\n",
       "      <td>49</td>\n",
       "      <td>620</td>\n",
       "      <td>10</td>\n",
       "      <td>95</td>\n",
       "      <td>105</td>\n",
       "      <td>3516</td>\n",
       "      <td>91</td>\n",
       "      <td>88</td>\n",
       "      <td>66</td>\n",
       "    </tr>\n",
       "    <tr>\n",
       "      <td>Jerala_P7</td>\n",
       "      <td>60</td>\n",
       "      <td>80</td>\n",
       "      <td>49</td>\n",
       "      <td>39</td>\n",
       "      <td>114</td>\n",
       "      <td>73</td>\n",
       "      <td>69</td>\n",
       "      <td>184</td>\n",
       "      <td>66</td>\n",
       "      <td>58</td>\n",
       "      <td>5954</td>\n",
       "      <td>106</td>\n",
       "    </tr>\n",
       "    <tr>\n",
       "      <td>Jerala_P8</td>\n",
       "      <td>125</td>\n",
       "      <td>170</td>\n",
       "      <td>121</td>\n",
       "      <td>96</td>\n",
       "      <td>115</td>\n",
       "      <td>117</td>\n",
       "      <td>4609</td>\n",
       "      <td>1</td>\n",
       "      <td>150</td>\n",
       "      <td>1617</td>\n",
       "      <td>99</td>\n",
       "      <td>189</td>\n",
       "    </tr>\n",
       "    <tr>\n",
       "      <td>Jerala_P9</td>\n",
       "      <td>3700</td>\n",
       "      <td>137</td>\n",
       "      <td>154</td>\n",
       "      <td>73</td>\n",
       "      <td>209</td>\n",
       "      <td>107</td>\n",
       "      <td>1085</td>\n",
       "      <td>196</td>\n",
       "      <td>8</td>\n",
       "      <td>43612</td>\n",
       "      <td>60</td>\n",
       "      <td>108</td>\n",
       "    </tr>\n",
       "    <tr>\n",
       "      <td>Jerala_P10</td>\n",
       "      <td>167</td>\n",
       "      <td>256</td>\n",
       "      <td>484</td>\n",
       "      <td>83</td>\n",
       "      <td>1559</td>\n",
       "      <td>16754</td>\n",
       "      <td>185</td>\n",
       "      <td>144</td>\n",
       "      <td>29637</td>\n",
       "      <td>5</td>\n",
       "      <td>1250</td>\n",
       "      <td>287</td>\n",
       "    </tr>\n",
       "    <tr>\n",
       "      <td>Jerala_P11</td>\n",
       "      <td>55</td>\n",
       "      <td>123</td>\n",
       "      <td>103</td>\n",
       "      <td>81</td>\n",
       "      <td>87</td>\n",
       "      <td>58</td>\n",
       "      <td>89</td>\n",
       "      <td>90</td>\n",
       "      <td>97</td>\n",
       "      <td>6147</td>\n",
       "      <td>15</td>\n",
       "      <td>531</td>\n",
       "    </tr>\n",
       "    <tr>\n",
       "      <td>Jerala_P12</td>\n",
       "      <td>103</td>\n",
       "      <td>127</td>\n",
       "      <td>107</td>\n",
       "      <td>101</td>\n",
       "      <td>147</td>\n",
       "      <td>116</td>\n",
       "      <td>775</td>\n",
       "      <td>97</td>\n",
       "      <td>63</td>\n",
       "      <td>209</td>\n",
       "      <td>6321</td>\n",
       "      <td>178</td>\n",
       "    </tr>\n",
       "  </tbody>\n",
       "</table>\n",
       "</div>"
      ],
      "text/plain": [
       "Binder2     Jerala_P1  Jerala_P2  Jerala_P3  Jerala_P4  Jerala_P5  Jerala_P6  \\\n",
       "Binder1                                                                        \n",
       "Jerala_P1          36     102351        120         81        122        182   \n",
       "Jerala_P2       93558         46       2103        106       4773       3527   \n",
       "Jerala_P3          89        115         82       3217        127         56   \n",
       "Jerala_P4         108        487      67082          5        173        188   \n",
       "Jerala_P5         139        152        134        363         80       6755   \n",
       "Jerala_P6          96        700        108         49        620         10   \n",
       "Jerala_P7          60         80         49         39        114         73   \n",
       "Jerala_P8         125        170        121         96        115        117   \n",
       "Jerala_P9        3700        137        154         73        209        107   \n",
       "Jerala_P10        167        256        484         83       1559      16754   \n",
       "Jerala_P11         55        123        103         81         87         58   \n",
       "Jerala_P12        103        127        107        101        147        116   \n",
       "\n",
       "Binder2     Jerala_P7  Jerala_P8  Jerala_P9  Jerala_P10  Jerala_P11  \\\n",
       "Binder1                                                               \n",
       "Jerala_P1         140         93        839         199          93   \n",
       "Jerala_P2         149        775        118         140         119   \n",
       "Jerala_P3          70         57        104         133          55   \n",
       "Jerala_P4         114        116        183         839        1062   \n",
       "Jerala_P5         425        151        125          78         307   \n",
       "Jerala_P6          95        105       3516          91          88   \n",
       "Jerala_P7          69        184         66          58        5954   \n",
       "Jerala_P8        4609          1        150        1617          99   \n",
       "Jerala_P9        1085        196          8       43612          60   \n",
       "Jerala_P10        185        144      29637           5        1250   \n",
       "Jerala_P11         89         90         97        6147          15   \n",
       "Jerala_P12        775         97         63         209        6321   \n",
       "\n",
       "Binder2     Jerala_P12  \n",
       "Binder1                 \n",
       "Jerala_P1          832  \n",
       "Jerala_P2          168  \n",
       "Jerala_P3           68  \n",
       "Jerala_P4          171  \n",
       "Jerala_P5          146  \n",
       "Jerala_P6           66  \n",
       "Jerala_P7          106  \n",
       "Jerala_P8          189  \n",
       "Jerala_P9          108  \n",
       "Jerala_P10         287  \n",
       "Jerala_P11         531  \n",
       "Jerala_P12         178  "
      ]
     },
     "execution_count": 80,
     "metadata": {},
     "output_type": "execute_result"
    }
   ],
   "source": [
    "his_table"
   ]
  },
  {
   "cell_type": "code",
   "execution_count": 82,
   "metadata": {},
   "outputs": [],
   "source": [
    "#his_table.to_csv('L61_10mM_3AT_HIS_table.csv')"
   ]
  },
  {
   "cell_type": "code",
   "execution_count": null,
   "metadata": {},
   "outputs": [],
   "source": []
  }
 ],
 "metadata": {
  "kernelspec": {
   "display_name": "Python 3",
   "language": "python",
   "name": "python3"
  },
  "language_info": {
   "codemirror_mode": {
    "name": "ipython",
    "version": 3
   },
   "file_extension": ".py",
   "mimetype": "text/x-python",
   "name": "python",
   "nbconvert_exporter": "python",
   "pygments_lexer": "ipython3",
   "version": "3.7.4"
  }
 },
 "nbformat": 4,
 "nbformat_minor": 2
}
