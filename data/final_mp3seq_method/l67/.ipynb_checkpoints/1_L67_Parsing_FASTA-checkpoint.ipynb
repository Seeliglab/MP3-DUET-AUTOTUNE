{
 "cells": [
  {
   "cell_type": "code",
   "execution_count": 1,
   "metadata": {},
   "outputs": [],
   "source": [
    "import pandas as pd\n",
    "from Bio import SeqIO\n",
    "from Bio.Seq import Seq"
   ]
  },
  {
   "cell_type": "code",
   "execution_count": 2,
   "metadata": {},
   "outputs": [],
   "source": [
    "\n",
    "name_seq_list = []\n",
    "\n",
    "for seq_record in SeqIO.parse(\"DHDv3_DNA.fasta\", 'fasta'):\n",
    "    name_seq_list.append((seq_record.id, str(seq_record.seq)))\n",
    "    "
   ]
  },
  {
   "cell_type": "code",
   "execution_count": 3,
   "metadata": {},
   "outputs": [],
   "source": [
    "dhd3_df = pd.DataFrame(name_seq_list, columns = [\"Binder_Name\", \"Binder_Seq\"])"
   ]
  },
  {
   "cell_type": "code",
   "execution_count": 4,
   "metadata": {},
   "outputs": [
    {
     "data": {
      "text/html": [
       "<div>\n",
       "<style scoped>\n",
       "    .dataframe tbody tr th:only-of-type {\n",
       "        vertical-align: middle;\n",
       "    }\n",
       "\n",
       "    .dataframe tbody tr th {\n",
       "        vertical-align: top;\n",
       "    }\n",
       "\n",
       "    .dataframe thead th {\n",
       "        text-align: right;\n",
       "    }\n",
       "</style>\n",
       "<table border=\"1\" class=\"dataframe\">\n",
       "  <thead>\n",
       "    <tr style=\"text-align: right;\">\n",
       "      <th></th>\n",
       "      <th>Binder_Name</th>\n",
       "      <th>Binder_Seq</th>\n",
       "    </tr>\n",
       "  </thead>\n",
       "  <tbody>\n",
       "    <tr>\n",
       "      <th>0</th>\n",
       "      <td>BW10_A</td>\n",
       "      <td>GGAGGGTCAGGTGGTAGCAGCGAAGAAATGGAAGAATTGACTAGAG...</td>\n",
       "    </tr>\n",
       "    <tr>\n",
       "      <th>1</th>\n",
       "      <td>BW10_B</td>\n",
       "      <td>GGTGGTTCTGGTGGTAGTACTCCAGAAGAGTTAGTTAAGGAATTTG...</td>\n",
       "    </tr>\n",
       "    <tr>\n",
       "      <th>2</th>\n",
       "      <td>BW11_A</td>\n",
       "      <td>GGCGGTTCTGGCGGTAGCAAAGAGTCTGAAGTAGCAAGAGAATCTG...</td>\n",
       "    </tr>\n",
       "    <tr>\n",
       "      <th>3</th>\n",
       "      <td>BW11_B</td>\n",
       "      <td>GGTGGTAGCGGGGGCTCCGATGAAGAGGAGAAACTTGAAGAGAAAG...</td>\n",
       "    </tr>\n",
       "    <tr>\n",
       "      <th>4</th>\n",
       "      <td>BW1_A</td>\n",
       "      <td>GGCGGTTCTGGTGGTTCCTCCGAGGAAGAATTGGAAGAGATTATTG...</td>\n",
       "    </tr>\n",
       "    <tr>\n",
       "      <th>...</th>\n",
       "      <td>...</td>\n",
       "      <td>...</td>\n",
       "    </tr>\n",
       "    <tr>\n",
       "      <th>65</th>\n",
       "      <td>mALb8_B</td>\n",
       "      <td>GGTGGTTCCGGCGGTTCTTCCAGAGAAGAATTGTTGGATAGATTGG...</td>\n",
       "    </tr>\n",
       "    <tr>\n",
       "      <th>66</th>\n",
       "      <td>mALb8_cutT1_A</td>\n",
       "      <td>GGTGGTTCAGGTGGTAGCGATAAATTGAAGAGATTTCTGGAAAAGT...</td>\n",
       "    </tr>\n",
       "    <tr>\n",
       "      <th>67</th>\n",
       "      <td>mALb8_cutT1_B</td>\n",
       "      <td>GGCGGTTCCGGCGGTAGTGATTTGTTGGATAGATTGGATGAAATTC...</td>\n",
       "    </tr>\n",
       "    <tr>\n",
       "      <th>68</th>\n",
       "      <td>mALb8_cutT2_A</td>\n",
       "      <td>GGTGGTTCTGGTGGTAGTGATTTTCTGGAGAAACTCAAGAGACATT...</td>\n",
       "    </tr>\n",
       "    <tr>\n",
       "      <th>69</th>\n",
       "      <td>mALb8_cutT2_B</td>\n",
       "      <td>GGTGGTTCTGGTGGCTCCGATAGATTGGATGAAATTCTAGATGAAG...</td>\n",
       "    </tr>\n",
       "  </tbody>\n",
       "</table>\n",
       "<p>70 rows × 2 columns</p>\n",
       "</div>"
      ],
      "text/plain": [
       "      Binder_Name                                         Binder_Seq\n",
       "0          BW10_A  GGAGGGTCAGGTGGTAGCAGCGAAGAAATGGAAGAATTGACTAGAG...\n",
       "1          BW10_B  GGTGGTTCTGGTGGTAGTACTCCAGAAGAGTTAGTTAAGGAATTTG...\n",
       "2          BW11_A  GGCGGTTCTGGCGGTAGCAAAGAGTCTGAAGTAGCAAGAGAATCTG...\n",
       "3          BW11_B  GGTGGTAGCGGGGGCTCCGATGAAGAGGAGAAACTTGAAGAGAAAG...\n",
       "4           BW1_A  GGCGGTTCTGGTGGTTCCTCCGAGGAAGAATTGGAAGAGATTATTG...\n",
       "..            ...                                                ...\n",
       "65        mALb8_B  GGTGGTTCCGGCGGTTCTTCCAGAGAAGAATTGTTGGATAGATTGG...\n",
       "66  mALb8_cutT1_A  GGTGGTTCAGGTGGTAGCGATAAATTGAAGAGATTTCTGGAAAAGT...\n",
       "67  mALb8_cutT1_B  GGCGGTTCCGGCGGTAGTGATTTGTTGGATAGATTGGATGAAATTC...\n",
       "68  mALb8_cutT2_A  GGTGGTTCTGGTGGTAGTGATTTTCTGGAGAAACTCAAGAGACATT...\n",
       "69  mALb8_cutT2_B  GGTGGTTCTGGTGGCTCCGATAGATTGGATGAAATTCTAGATGAAG...\n",
       "\n",
       "[70 rows x 2 columns]"
      ]
     },
     "execution_count": 4,
     "metadata": {},
     "output_type": "execute_result"
    }
   ],
   "source": [
    "dhd3_df"
   ]
  },
  {
   "cell_type": "code",
   "execution_count": 23,
   "metadata": {},
   "outputs": [],
   "source": [
    "#dhd3_df.to_csv(\"DHDv3_Name_Seq.csv\")"
   ]
  },
  {
   "cell_type": "code",
   "execution_count": 26,
   "metadata": {},
   "outputs": [],
   "source": [
    "#pd.read_csv('DHDv3_Name_Seq.csv', index_col=0)"
   ]
  },
  {
   "cell_type": "code",
   "execution_count": 5,
   "metadata": {},
   "outputs": [
    {
     "data": {
      "text/plain": [
       "'GGAGGGTCAGGTGGTAGCAGCGAAGAAATGGAAGAATTGACTAGAGAAGCTGAAAAGGCTGAAGAAGAGGGTGATGAAGAAAAGTTGAAAGAAATTTACGAAGAAGCTCATAAATTGGCAGAAGAAGGTGAAGATTCGAATGAATGGTTGATTGAAATTCAAAGATTTAAAGAAAAAGGTGGTGGGTCTGGTGGTTCG'"
      ]
     },
     "execution_count": 5,
     "metadata": {},
     "output_type": "execute_result"
    }
   ],
   "source": [
    "dhd3_df['Binder_Seq'].values[0]"
   ]
  },
  {
   "cell_type": "code",
   "execution_count": 18,
   "metadata": {},
   "outputs": [
    {
     "name": "stdout",
     "output_type": "stream",
     "text": [
      "GGSGGSSEEMEELTREAEKAEEEGDEEKLKEIYEEAHKLAEEGEDSNEWLIEIQRFKEKGGGSGGS\n",
      "GGSGGSTPEELVKEFEKLKEKGDKDEELKKLIEELQKAAKHMDQEALERAHELQREAEEGGGSGGS\n",
      "GGSGGSKESEVARESAESIREVIEVIEEFKEAVEKLGADEELRKELAKFLEELAEHLQELVEHVKELKKGADTTEEEQEEIEKILEEAEEVVKEAKKEVEEETGGSGGS\n",
      "GGSGGSDEEEKLEEKEKELQELEEELEKKHRKSEETDEVEVYKELLELHREAVKMLLELAEELKKITDEEKARKILELLKRILELAREIIKLAKELREEKGGSGGS\n",
      "GGSGGSSEEELEEIIELVLEMSRAVRKSPKSEEALEQLKRVTELLKEAVKAVLLKRKGDKDSEEKLKKAKEEMEEELKKLESGGSGGS\n",
      "GGSGGSDEVELHLKIVELAAKLLKAAEKDGEDEEEALRFAEEALKAVEEVSKLLEETKHTDQKEAKEEIEKIMKELEEWIEELRGGGSGGS\n",
      "GGSGGSSEEAKKRLEEMEKEMRELEEEKLDDEEALEKLVKLLELLVELAEEQVDEEELEKAHEILEKAVKIVEEQRGGGSGGS\n",
      "GGSGGSSEEEVEEIEKEAEEEWKRAEKGEQDDQQLLLELIKILLELQKALQEGKADEEEAVRVSKKIAERIKEMAKKKTGGSGGS\n",
      "GGSGGSSEEEELEKLSEEIKKWIEELLELLEELAKHASNEEVVKKAKKIVELLLEALRVSLKLLKSGSEEEREEIEKEKEELEEKVEELKKEAEEKRGGSGGS\n",
      "GGSGGSDEEFIEAVKKILEALLRLNEILVELQKSNKDEEELEKLLEEYKKMLERLRELLERLIEWQQEGSSEEELKKKIKEIEEEIEKIKQEAEEETKRAEGGGSGGS\n",
      "GGSGGSTEELAKKILELSEEIVKLIEKAAEEGDSEKLKKLLKINLELLEINKELQEGDDTEEAEKEIRRIEEELQKIKEESGGSGGS\n",
      "GGSGGSREELVVEVIRASVEIIKLAEEGADEELYKELVERYEELVKAEENNEDEEEIKKELEELEKRLEEAKKGGGSGGS\n",
      "GGSGGSDEEQEKAEEWLKEAEEMLEQAKRAKDEEELLKLLVRLLELSVELAKIIQKTKDEEKKKELLEINKRLIEVIKELLRRLKGGSGGS\n",
      "GGSGGSQEELAELIELILEVNEWLQRWEEEGLKDSEELVKEYEKIVEKIKELVKMAEEGHDEEEAEEEAKKLKKKAEEILREAEKGGGSGGS\n",
      "GGSGGSSELEELLKKLEELLKKGASEEELIEEHTEALKAARKATDEEALQELIKLSEEALKQLNGGSGGS\n",
      "GGSGGSTEEEYIELVKLLLELLEEKNEEEAERVIELLEKLSEIQKRGDEDSEEKRKEVQKHMEEKEKSGGSGGS\n",
      "GGSGGSHEEEAEELEKKVEEAKENKTDEEELKKVLEEIQEVIEQLKKHNDEEVILKLHELVMQLAETGGSGGS\n",
      "GGSGGSDEAEEAKKLAEEAKKSDSEEAVELMREISEIIEEKGAENSEELHKWLKELEEGGGSGGS\n",
      "GGSGGSSELEISKRIAEVSREIAELFEEAREKGSDEEKMKELIKLNEELIEINKELIELEKTGKSDEEELKKLKEEVEEIEKRVEQEKKEEGGGSGGS\n",
      "GGSGGSDQEEISEELNKISEELNKIAKRARDEELLKEILEIHKEILELHKELLKLKEENRDDSEEKKEMEERLKELKEELKRIEEEEGGGSGGS\n",
      "GGSGGSDQEEELERIKQEAEEILREVERRLEEAKEKKRSEEEILELVKEAVREILKLAEEALEEAKEKATSEEALKEALKLHLELVEIIVEILKEALKETGGSGGS\n",
      "GGSGGSDEEEKKLEELLEEMLKEWEEIIKELEKAAEKVSQELILEMLKHVSEIIKRIAELVAEVREKNSDDEELAKEAKKEVERLQEEAEKRLKEIGGGSGGS\n",
      "GGSGGSDEEEAEKELRRAEEKAKKHGRATDELAEELLELYKRMLRLFQRNGSEELLKWLVEISRLLLEAAKGGGSGGS\n",
      "GGSGGSSEEEIEEAIRWAEELAELAERGRMSEEEALRILEINLRILEFILKLRRHGRTSEEEKKEFEKWKEELKERKKEGGGSGGS\n",
      "GGSGGSDEEELKRRIEEVEKRLREWKEEFEEAEKKGVSEKELLEEVIKRNEEIIRENEKVLEEAERRNLTNAVREAVRILEEAVRLLEKAVRRQGGSGGS\n",
      "GGSGGSSEEWKRRAEELLKKARELRERAKELRKRNDQEELARVLLELSKILVELSRIILELLERGRDSSEILKAYKEVVRIYEEVVRWFEESGGSGGS\n",
      "GGSGGSSEVEEHAELVLEQLELVKKKLDHSEEAKEEAERLRKQFEEAKRRKLSEKEASKLWEEVIRLQETGGSGGS\n",
      "GGSGGSDEEEAARILLELLKLAARRSTDEEFRKEVEEARKEIEKGTVSEEELVRIHKEAIKALKKGGGSGGS\n",
      "GGSGGSSEEILFELARISAELAKLARRKGDLDEEELEKIMEDILRSLERAKKAIDDEKARKELEKLLEEIKRERERGGSGGS\n",
      "GGSGGSSEEEEELKKAEEWAKRLRELAKKRGLDEEALRLFKRYVELFKEFKKGDGDEEALRILAENLRILFEILKKSGGSGGS\n",
      "GGSGGSSELQRMIEEYMRLVEEYIRLLKEAEKKGVEDSEILERNLEVIVRNLKIILEVAKEHGIGTEEVEKEVRRLEKLAEEAKEEAKKRGGSGGS\n",
      "GGSGGSSEILREWAKILKEWAEILRKWAEELERRGATDAAEIAEKSVKLFELSLKAAEEHGADEEELRELKELLKELKEMLKRLKGGGSGGS\n",
      "GGSGGSSEEAERLLKRAREIEEELRKKGADEELKRSLELLIRLIEILQKKEDEEARRILELLERSLEIIRRRGGGSGGS\n",
      "GGSGGSSELEEHIKIMVEILELLKRKNSDEELVKIILENLELAKERGEGDDEARKLLEEARKKAEREGGGSGGS\n",
      "GGSGGSDEELAERLLEISLRLVEISVEIAELLAKRVEDEERARRVLESVRKLAESVRKLLESVLKKSKDDEKRKRLEELRKRLEELKKRLEEIRKGGGSGGS\n",
      "GGSGGSDELLKVIAENLEVILENAEVLKRAAKDADEEVRRVLKRYMELVHEYAEVVEEFLKRRRGNEEVARRAEELLKEARRLFEEERREGGGSGGS\n",
      "GGSGGSDHEEKLRKFLEKLIEHLEELLRHIEEARRRNLDEKAIEKSFESVRIVIEVIEIFLESANEDEEEKREREERLEELKRKFEEERERFRREGGSGGS\n",
      "GGSGGSSEKEEELKRLEKEVRRLKEEAEEAMKRGADERELLRLLEEILKLAREIIEVANRILRENGDEELYRRALELHEEAVRLLLEIAEEHRKGGGSGGS\n",
      "GGSGGSSEIERLLEEAERLLEEAERRLREHEKHDTDDEKLKFLKKLVEHLRKLVEHMREARERNLDEEAIRKSFESIKIVFEVIKKFQGGGSGGS\n",
      "GGSGGSDEEEIRREAEEIERRLEKLEEEAKRTTDEKELLRLLERVLELARRVIELAHEALRKGLDEELYRRLLEVHERAVRLLLKLAQGGGSGGS\n",
      "GGSGGSDEEEKLLRHLEELVRHMEEAVRRNLDEKAIEKLFESIKIVVEVIKKKAGDERLLRHAEELLKRAEELRERARGGSGGS\n",
      "GGSGGSSEEEEILELAREVIRLANELLRKGGDEEEYRKALEIHEELVKLLESDKSEEAREKKRELKERLEELEKEVKGGSGGS\n",
      "GGSGGSDEVEEERRKIEEELEKLRELKKEGRKDEREIQKRLIELAQRLAELAEHGADQEEALRLLRKIAERNRELLEGGGSGGS\n",
      "GGSGGSSSEELQEELNRLIERLIELAKKRDDEELKKKAWKLTEEALRLLEELAKKGTADEEAEKRVREFRKEVEEFLRRADGGSGGS\n",
      "GGSGGSDSEEIRKWIEEIRKWKEELKRTDDQEEAVRAYERAVEASREALRVLKENKSEEAARLYLELVRLLVELSEKVEGGGSGGS\n",
      "GGSGGSDEEEIREIEERLEELERRLKHEKMDSEAAKEILKLIKRLLELAERKRPDEKIAELIQKALELNLEVKRGGGSGGS\n",
      "GGSGGSSEREKAKEEAREVLEELRKEGDDSEEAKLMRKHAELIKKLFELREKLDEEAIKSAIKWLEVIKKQRGGGSGGS\n",
      "GGSGGSDDAEMHEKLVKVQEELRRDDSEEAKEWSREILELLRELTRLAEEGRRDEEKAKEMERKAEEIKRRNGGSGGS\n",
      "GGSGGSSEELKELLRRLREGVDEEEADKLILEIAKARRRGEGDEEALEEAVELWKEVVRGGGSGGS\n",
      "GGSGGSTEELLRLSVELAKLFRKAKDEEKLEEIHRLWKKITEAAERGKADEEVLEEVREQIERERGGGSGGS\n",
      "GGSGGSDEELLEVHKWADEVTKFARERNDDSSAELLERMTEIQKKFVSGKDGSEKEELRREAEEIIRRERKGGSGGS\n",
      "GGSGGSSEEAARVHSRAQEAHDEALKRGGEDQEKLVRILEEVSRALEHNRSEEELEELRKRIEELERKDGGSGGS\n",
      "GGSGGSSEEEKIRRRAEEILERAKRAKDEREISKLASEIVEMLIKLLKKGADEKAVEELVRIYEELSKRIREGGGSGGS\n",
      "GGSGGSSEEQERLKEILERAREAKERNKDEEELLKLLQEFSELYKKLVEEGTDEEELKRAHEWQREMLKWLREEGGGSGGS\n",
      "GGSGGSTEELIKELYKISKELHKKLKEKGKTSEALERHIEIVERIQELEESPESEEKKEEVKEEIKKLEKERKEGGGSGGS\n",
      "GGSGGSKQEEAKKWLEEVRRLEEEGKDEEELLKEIHKINRRLAELLKETGDEEALKVSEELLKILERLRGGGSGGS\n",
      "GGSGGSDEEEVLKLIEELVKQIEKSIEFLRKTNDERFAEVVKEWIKLVLEFAEVLRKTIKDEEARRRLEELIEKLRELLKEAEKEDGGSGGS\n",
      "GGSGGSDEREAVELLRKAIELLKKVSEALRREGDPKLLEAYEKVVRLLEEIIKILIRLREEGRSSDEERERLRELEERLEEERKEIEKRDGGSGGS\n",
      "GGSGGSSEEELSRELIKLSEKLNELAKKSKDEELLLKIHRLNLEVNRVIVEVLEIRRKGERNEEKKERLRELLERLRERVKEAEEDGGSGGS\n",
      "GGSGGSSEEQERAKRLLERARELLKEAQRDDDEETLSRLLNEISKILIELWRLAERTNDEELVKIAREVVEMYKEVVERLEGGGSGGS\n",
      "GGSGGSEDDLYRQSLEIISRYLREQATGSKDSKPLGEAGAAGRRALETLRRVGDGVQRNHETAFQGMLRKLDIKNEGDVKSFSRVMVHVFKDGVTNWGRIVTLISFGAFVAKHLKSVNQESFIEPLAETITDVLVRTKRDWLVKQRGWDGFVEFFHVQDLEGGGGSGGS\n",
      "GGSGGSRVEEEEWAREIGAQLRRAADDLNAQYERRRQEEQHGGSGGS\n",
      "GGSGGSRVEEEEWAREIGAQARRAADDLNAQYERRRQEEQHGGSGGS\n",
      "GGSGGSRVEEEEWAREIGAQLRRAADDANAQYERRRQEEQHGGSGGS\n",
      "GGSGGSDHEEKLKRFLEKLKRHLEKLKEHIKEAKEDNLDEEAIRESEESVKIVERVIEIFQDSTERGGSGGS\n",
      "GGSGGSSREELLDRLDEILDEADKIIERANEALKEKDDKSKYQKLLKEHEEAVDKLLKIAEKHREMGGSGGS\n",
      "GGSGGSDKLKRFLEKLKRHLEKLKEHIKEAKEDNLDEEAIRESEESVKIVERVIEIFQDGGSGGS\n",
      "GGSGGSDLLDRLDEILDEADKIIERANEALKEKDDKSKYQKLLKEHEEAVDKLLKIAEKGGSGGS\n",
      "GGSGGSDFLEKLKRHLEKLKEHIKEAKEDNLDEEAIRESEESVKIVERVIEIGGSGGS\n",
      "GGSGGSDRLDEILDEADKIIERANEALKEKDDKSKYQKLLKEHEEAVDKLLKIGGSGGS\n"
     ]
    }
   ],
   "source": [
    "\n",
    "s1 = set()\n",
    "\n",
    "for binder_seq in dhd3_df[\"Binder_Seq\"]:\n",
    "    print (Seq(binder_seq).translate())\n",
    "    s1.add(Seq(binder_seq[:18]).translate())\n",
    "    "
   ]
  },
  {
   "cell_type": "code",
   "execution_count": 7,
   "metadata": {},
   "outputs": [
    {
     "data": {
      "text/plain": [
       "{Seq('GGSGGS')}"
      ]
     },
     "execution_count": 7,
     "metadata": {},
     "output_type": "execute_result"
    }
   ],
   "source": [
    "s1"
   ]
  },
  {
   "cell_type": "code",
   "execution_count": 8,
   "metadata": {},
   "outputs": [],
   "source": [
    "\n",
    "s2 = set()\n",
    "\n",
    "for binder_seq in dhd3_df[\"Binder_Seq\"]:\n",
    "    s2.add(Seq(binder_seq[-18:]).translate())\n",
    "    "
   ]
  },
  {
   "cell_type": "code",
   "execution_count": 9,
   "metadata": {},
   "outputs": [
    {
     "data": {
      "text/plain": [
       "{Seq('GGSGGS')}"
      ]
     },
     "execution_count": 9,
     "metadata": {},
     "output_type": "execute_result"
    }
   ],
   "source": [
    "s2"
   ]
  },
  {
   "cell_type": "markdown",
   "metadata": {},
   "source": [
    "# Cut first 18 nucleotides"
   ]
  },
  {
   "cell_type": "code",
   "execution_count": 10,
   "metadata": {},
   "outputs": [],
   "source": [
    "dhd3_df[\"N_Term_Trunc_Binder_Seq\"] = dhd3_df[\"Binder_Seq\"].apply(lambda x: x[18:])"
   ]
  },
  {
   "cell_type": "code",
   "execution_count": 11,
   "metadata": {},
   "outputs": [
    {
     "data": {
      "text/html": [
       "<div>\n",
       "<style scoped>\n",
       "    .dataframe tbody tr th:only-of-type {\n",
       "        vertical-align: middle;\n",
       "    }\n",
       "\n",
       "    .dataframe tbody tr th {\n",
       "        vertical-align: top;\n",
       "    }\n",
       "\n",
       "    .dataframe thead th {\n",
       "        text-align: right;\n",
       "    }\n",
       "</style>\n",
       "<table border=\"1\" class=\"dataframe\">\n",
       "  <thead>\n",
       "    <tr style=\"text-align: right;\">\n",
       "      <th></th>\n",
       "      <th>Binder_Name</th>\n",
       "      <th>Binder_Seq</th>\n",
       "      <th>N_Term_Trunc_Binder_Seq</th>\n",
       "    </tr>\n",
       "  </thead>\n",
       "  <tbody>\n",
       "    <tr>\n",
       "      <th>0</th>\n",
       "      <td>BW10_A</td>\n",
       "      <td>GGAGGGTCAGGTGGTAGCAGCGAAGAAATGGAAGAATTGACTAGAG...</td>\n",
       "      <td>AGCGAAGAAATGGAAGAATTGACTAGAGAAGCTGAAAAGGCTGAAG...</td>\n",
       "    </tr>\n",
       "    <tr>\n",
       "      <th>1</th>\n",
       "      <td>BW10_B</td>\n",
       "      <td>GGTGGTTCTGGTGGTAGTACTCCAGAAGAGTTAGTTAAGGAATTTG...</td>\n",
       "      <td>ACTCCAGAAGAGTTAGTTAAGGAATTTGAAAAGCTAAAGGAAAAAG...</td>\n",
       "    </tr>\n",
       "    <tr>\n",
       "      <th>2</th>\n",
       "      <td>BW11_A</td>\n",
       "      <td>GGCGGTTCTGGCGGTAGCAAAGAGTCTGAAGTAGCAAGAGAATCTG...</td>\n",
       "      <td>AAAGAGTCTGAAGTAGCAAGAGAATCTGCTGAATCCATTAGAGAAG...</td>\n",
       "    </tr>\n",
       "    <tr>\n",
       "      <th>3</th>\n",
       "      <td>BW11_B</td>\n",
       "      <td>GGTGGTAGCGGGGGCTCCGATGAAGAGGAGAAACTTGAAGAGAAAG...</td>\n",
       "      <td>GATGAAGAGGAGAAACTTGAAGAGAAAGAAAAAGAGCTGCAAGAAC...</td>\n",
       "    </tr>\n",
       "    <tr>\n",
       "      <th>4</th>\n",
       "      <td>BW1_A</td>\n",
       "      <td>GGCGGTTCTGGTGGTTCCTCCGAGGAAGAATTGGAAGAGATTATTG...</td>\n",
       "      <td>TCCGAGGAAGAATTGGAAGAGATTATTGAATTGGTTTTGGAAATGT...</td>\n",
       "    </tr>\n",
       "    <tr>\n",
       "      <th>...</th>\n",
       "      <td>...</td>\n",
       "      <td>...</td>\n",
       "      <td>...</td>\n",
       "    </tr>\n",
       "    <tr>\n",
       "      <th>65</th>\n",
       "      <td>mALb8_B</td>\n",
       "      <td>GGTGGTTCCGGCGGTTCTTCCAGAGAAGAATTGTTGGATAGATTGG...</td>\n",
       "      <td>TCCAGAGAAGAATTGTTGGATAGATTGGATGAAATCCTAGATGAAG...</td>\n",
       "    </tr>\n",
       "    <tr>\n",
       "      <th>66</th>\n",
       "      <td>mALb8_cutT1_A</td>\n",
       "      <td>GGTGGTTCAGGTGGTAGCGATAAATTGAAGAGATTTCTGGAAAAGT...</td>\n",
       "      <td>GATAAATTGAAGAGATTTCTGGAAAAGTTGAAGCGGCATCTTGAAA...</td>\n",
       "    </tr>\n",
       "    <tr>\n",
       "      <th>67</th>\n",
       "      <td>mALb8_cutT1_B</td>\n",
       "      <td>GGCGGTTCCGGCGGTAGTGATTTGTTGGATAGATTGGATGAAATTC...</td>\n",
       "      <td>GATTTGTTGGATAGATTGGATGAAATTCTCGATGAAGCTGATAAGA...</td>\n",
       "    </tr>\n",
       "    <tr>\n",
       "      <th>68</th>\n",
       "      <td>mALb8_cutT2_A</td>\n",
       "      <td>GGTGGTTCTGGTGGTAGTGATTTTCTGGAGAAACTCAAGAGACATT...</td>\n",
       "      <td>GATTTTCTGGAGAAACTCAAGAGACATTTGGAAAAATTGAAGGAAC...</td>\n",
       "    </tr>\n",
       "    <tr>\n",
       "      <th>69</th>\n",
       "      <td>mALb8_cutT2_B</td>\n",
       "      <td>GGTGGTTCTGGTGGCTCCGATAGATTGGATGAAATTCTAGATGAAG...</td>\n",
       "      <td>GATAGATTGGATGAAATTCTAGATGAAGCTGATAAAATTATTGAAA...</td>\n",
       "    </tr>\n",
       "  </tbody>\n",
       "</table>\n",
       "<p>70 rows × 3 columns</p>\n",
       "</div>"
      ],
      "text/plain": [
       "      Binder_Name                                         Binder_Seq  \\\n",
       "0          BW10_A  GGAGGGTCAGGTGGTAGCAGCGAAGAAATGGAAGAATTGACTAGAG...   \n",
       "1          BW10_B  GGTGGTTCTGGTGGTAGTACTCCAGAAGAGTTAGTTAAGGAATTTG...   \n",
       "2          BW11_A  GGCGGTTCTGGCGGTAGCAAAGAGTCTGAAGTAGCAAGAGAATCTG...   \n",
       "3          BW11_B  GGTGGTAGCGGGGGCTCCGATGAAGAGGAGAAACTTGAAGAGAAAG...   \n",
       "4           BW1_A  GGCGGTTCTGGTGGTTCCTCCGAGGAAGAATTGGAAGAGATTATTG...   \n",
       "..            ...                                                ...   \n",
       "65        mALb8_B  GGTGGTTCCGGCGGTTCTTCCAGAGAAGAATTGTTGGATAGATTGG...   \n",
       "66  mALb8_cutT1_A  GGTGGTTCAGGTGGTAGCGATAAATTGAAGAGATTTCTGGAAAAGT...   \n",
       "67  mALb8_cutT1_B  GGCGGTTCCGGCGGTAGTGATTTGTTGGATAGATTGGATGAAATTC...   \n",
       "68  mALb8_cutT2_A  GGTGGTTCTGGTGGTAGTGATTTTCTGGAGAAACTCAAGAGACATT...   \n",
       "69  mALb8_cutT2_B  GGTGGTTCTGGTGGCTCCGATAGATTGGATGAAATTCTAGATGAAG...   \n",
       "\n",
       "                              N_Term_Trunc_Binder_Seq  \n",
       "0   AGCGAAGAAATGGAAGAATTGACTAGAGAAGCTGAAAAGGCTGAAG...  \n",
       "1   ACTCCAGAAGAGTTAGTTAAGGAATTTGAAAAGCTAAAGGAAAAAG...  \n",
       "2   AAAGAGTCTGAAGTAGCAAGAGAATCTGCTGAATCCATTAGAGAAG...  \n",
       "3   GATGAAGAGGAGAAACTTGAAGAGAAAGAAAAAGAGCTGCAAGAAC...  \n",
       "4   TCCGAGGAAGAATTGGAAGAGATTATTGAATTGGTTTTGGAAATGT...  \n",
       "..                                                ...  \n",
       "65  TCCAGAGAAGAATTGTTGGATAGATTGGATGAAATCCTAGATGAAG...  \n",
       "66  GATAAATTGAAGAGATTTCTGGAAAAGTTGAAGCGGCATCTTGAAA...  \n",
       "67  GATTTGTTGGATAGATTGGATGAAATTCTCGATGAAGCTGATAAGA...  \n",
       "68  GATTTTCTGGAGAAACTCAAGAGACATTTGGAAAAATTGAAGGAAC...  \n",
       "69  GATAGATTGGATGAAATTCTAGATGAAGCTGATAAAATTATTGAAA...  \n",
       "\n",
       "[70 rows x 3 columns]"
      ]
     },
     "execution_count": 11,
     "metadata": {},
     "output_type": "execute_result"
    }
   ],
   "source": [
    "dhd3_df"
   ]
  },
  {
   "cell_type": "code",
   "execution_count": 17,
   "metadata": {},
   "outputs": [],
   "source": [
    "dhd3_df[[\"Binder_Name\", \"N_Term_Trunc_Binder_Seq\"]].to_csv(\"DHDv3_N_Term_Trunc_Name_Seq.csv\")"
   ]
  },
  {
   "cell_type": "code",
   "execution_count": 13,
   "metadata": {},
   "outputs": [
    {
     "data": {
      "text/plain": [
       "'GGTGGTTCTGGTGGTAGTACTCCAGAAGAGTTAGTTAAGGAATTTGAAAAGCTAAAGGAAAAAGGTGATAAAGATGAAGAATTGAAAAAGTTGATTGAAGAACTCCAAAAAGCTGCTAAACATATGGATCAAGAAGCTTTGGAAAGAGCTCATGAATTGCAAAGAGAAGCTGAAGAAGGTGGCGGTTCCGGTGGGTCC'"
      ]
     },
     "execution_count": 13,
     "metadata": {},
     "output_type": "execute_result"
    }
   ],
   "source": [
    "dhd3_df[\"Binder_Seq\"].values[1]"
   ]
  },
  {
   "cell_type": "code",
   "execution_count": 14,
   "metadata": {},
   "outputs": [
    {
     "data": {
      "text/plain": [
       "'ACTCCAGAAGAGTTAGTTAAGGAATTTGAAAAGCTAAAGGAAAAAGGTGATAAAGATGAAGAATTGAAAAAGTTGATTGAAGAACTCCAAAAAGCTGCTAAACATATGGATCAAGAAGCTTTGGAAAGAGCTCATGAATTGCAAAGAGAAGCTGAAGAAGGTGGCGGTTCCGGTGGGTCC'"
      ]
     },
     "execution_count": 14,
     "metadata": {},
     "output_type": "execute_result"
    }
   ],
   "source": [
    "dhd3_df[\"N_Term_Trunc_Binder_Seq\"].values[1]"
   ]
  },
  {
   "cell_type": "code",
   "execution_count": 15,
   "metadata": {},
   "outputs": [
    {
     "name": "stdout",
     "output_type": "stream",
     "text": [
      "True\n",
      "True\n",
      "True\n",
      "True\n",
      "True\n",
      "True\n",
      "True\n",
      "True\n",
      "True\n",
      "True\n",
      "True\n",
      "True\n",
      "True\n",
      "True\n",
      "True\n",
      "True\n",
      "True\n",
      "True\n",
      "True\n",
      "True\n",
      "True\n",
      "True\n",
      "True\n",
      "True\n",
      "True\n",
      "True\n",
      "True\n",
      "True\n",
      "True\n",
      "True\n",
      "True\n",
      "True\n",
      "True\n",
      "True\n",
      "True\n",
      "True\n",
      "True\n",
      "True\n",
      "True\n",
      "True\n",
      "True\n",
      "True\n",
      "True\n",
      "True\n",
      "True\n",
      "True\n",
      "True\n",
      "True\n",
      "True\n",
      "True\n",
      "True\n",
      "True\n",
      "True\n",
      "True\n",
      "True\n",
      "True\n",
      "True\n",
      "True\n",
      "True\n",
      "True\n",
      "True\n",
      "True\n",
      "True\n",
      "True\n",
      "True\n",
      "True\n",
      "True\n",
      "True\n",
      "True\n",
      "True\n"
     ]
    }
   ],
   "source": [
    "\n",
    "for seq, trunc_seq in zip(dhd3_df[\"Binder_Seq\"], dhd3_df[\"N_Term_Trunc_Binder_Seq\"]):\n",
    "    print(seq[18:] == trunc_seq)\n",
    "    "
   ]
  },
  {
   "cell_type": "code",
   "execution_count": 16,
   "metadata": {},
   "outputs": [
    {
     "name": "stdout",
     "output_type": "stream",
     "text": [
      "198\n",
      "198\n",
      "327\n",
      "318\n",
      "264\n",
      "273\n",
      "249\n",
      "255\n",
      "309\n",
      "324\n",
      "261\n",
      "240\n",
      "273\n",
      "276\n",
      "210\n",
      "222\n",
      "219\n",
      "195\n",
      "294\n",
      "282\n",
      "318\n",
      "309\n",
      "234\n",
      "258\n",
      "300\n",
      "294\n",
      "228\n",
      "216\n",
      "246\n",
      "249\n",
      "288\n",
      "276\n",
      "237\n",
      "222\n",
      "306\n",
      "291\n",
      "303\n",
      "303\n",
      "285\n",
      "285\n",
      "252\n",
      "249\n",
      "252\n",
      "261\n",
      "258\n",
      "243\n",
      "237\n",
      "234\n",
      "198\n",
      "216\n",
      "231\n",
      "225\n",
      "237\n",
      "243\n",
      "243\n",
      "228\n",
      "276\n",
      "288\n",
      "276\n",
      "264\n",
      "507\n",
      "141\n",
      "141\n",
      "141\n",
      "216\n",
      "216\n",
      "195\n",
      "195\n",
      "174\n",
      "177\n"
     ]
    }
   ],
   "source": [
    "\n",
    "for seq in dhd3_df[\"Binder_Seq\"]:\n",
    "    print(len(seq))\n",
    "    "
   ]
  },
  {
   "cell_type": "code",
   "execution_count": 21,
   "metadata": {},
   "outputs": [],
   "source": [
    "dhd3_df['translation'] = dhd3_df.Binder_Seq.apply(lambda x: str(Seq(x).translate()))\n",
    "dhd3_df['translation_trunc'] = dhd3_df.N_Term_Trunc_Binder_Seq.apply(lambda x: str(Seq(x).translate()))"
   ]
  },
  {
   "cell_type": "code",
   "execution_count": 32,
   "metadata": {},
   "outputs": [
    {
     "data": {
      "text/html": [
       "<div>\n",
       "<style scoped>\n",
       "    .dataframe tbody tr th:only-of-type {\n",
       "        vertical-align: middle;\n",
       "    }\n",
       "\n",
       "    .dataframe tbody tr th {\n",
       "        vertical-align: top;\n",
       "    }\n",
       "\n",
       "    .dataframe thead th {\n",
       "        text-align: right;\n",
       "    }\n",
       "</style>\n",
       "<table border=\"1\" class=\"dataframe\">\n",
       "  <thead>\n",
       "    <tr style=\"text-align: right;\">\n",
       "      <th></th>\n",
       "      <th>Binder_Seq</th>\n",
       "      <th>translation_trunc</th>\n",
       "    </tr>\n",
       "  </thead>\n",
       "  <tbody>\n",
       "    <tr>\n",
       "      <th>0</th>\n",
       "      <td>GGAGGGTCAGGTGGTAGCAGCGAAGAAATGGAAGAATTGACTAGAG...</td>\n",
       "      <td>SEEMEELTREAEKAEEEGDEEKLKEIYEEAHKLAEEGEDSNEWLIE...</td>\n",
       "    </tr>\n",
       "    <tr>\n",
       "      <th>1</th>\n",
       "      <td>GGTGGTTCTGGTGGTAGTACTCCAGAAGAGTTAGTTAAGGAATTTG...</td>\n",
       "      <td>TPEELVKEFEKLKEKGDKDEELKKLIEELQKAAKHMDQEALERAHE...</td>\n",
       "    </tr>\n",
       "    <tr>\n",
       "      <th>2</th>\n",
       "      <td>GGCGGTTCTGGCGGTAGCAAAGAGTCTGAAGTAGCAAGAGAATCTG...</td>\n",
       "      <td>KESEVARESAESIREVIEVIEEFKEAVEKLGADEELRKELAKFLEE...</td>\n",
       "    </tr>\n",
       "    <tr>\n",
       "      <th>3</th>\n",
       "      <td>GGTGGTAGCGGGGGCTCCGATGAAGAGGAGAAACTTGAAGAGAAAG...</td>\n",
       "      <td>DEEEKLEEKEKELQELEEELEKKHRKSEETDEVEVYKELLELHREA...</td>\n",
       "    </tr>\n",
       "    <tr>\n",
       "      <th>4</th>\n",
       "      <td>GGCGGTTCTGGTGGTTCCTCCGAGGAAGAATTGGAAGAGATTATTG...</td>\n",
       "      <td>SEEELEEIIELVLEMSRAVRKSPKSEEALEQLKRVTELLKEAVKAV...</td>\n",
       "    </tr>\n",
       "    <tr>\n",
       "      <th>...</th>\n",
       "      <td>...</td>\n",
       "      <td>...</td>\n",
       "    </tr>\n",
       "    <tr>\n",
       "      <th>65</th>\n",
       "      <td>GGTGGTTCCGGCGGTTCTTCCAGAGAAGAATTGTTGGATAGATTGG...</td>\n",
       "      <td>SREELLDRLDEILDEADKIIERANEALKEKDDKSKYQKLLKEHEEA...</td>\n",
       "    </tr>\n",
       "    <tr>\n",
       "      <th>66</th>\n",
       "      <td>GGTGGTTCAGGTGGTAGCGATAAATTGAAGAGATTTCTGGAAAAGT...</td>\n",
       "      <td>DKLKRFLEKLKRHLEKLKEHIKEAKEDNLDEEAIRESEESVKIVER...</td>\n",
       "    </tr>\n",
       "    <tr>\n",
       "      <th>67</th>\n",
       "      <td>GGCGGTTCCGGCGGTAGTGATTTGTTGGATAGATTGGATGAAATTC...</td>\n",
       "      <td>DLLDRLDEILDEADKIIERANEALKEKDDKSKYQKLLKEHEEAVDK...</td>\n",
       "    </tr>\n",
       "    <tr>\n",
       "      <th>68</th>\n",
       "      <td>GGTGGTTCTGGTGGTAGTGATTTTCTGGAGAAACTCAAGAGACATT...</td>\n",
       "      <td>DFLEKLKRHLEKLKEHIKEAKEDNLDEEAIRESEESVKIVERVIEI...</td>\n",
       "    </tr>\n",
       "    <tr>\n",
       "      <th>69</th>\n",
       "      <td>GGTGGTTCTGGTGGCTCCGATAGATTGGATGAAATTCTAGATGAAG...</td>\n",
       "      <td>DRLDEILDEADKIIERANEALKEKDDKSKYQKLLKEHEEAVDKLLK...</td>\n",
       "    </tr>\n",
       "  </tbody>\n",
       "</table>\n",
       "<p>70 rows × 2 columns</p>\n",
       "</div>"
      ],
      "text/plain": [
       "                                           Binder_Seq  \\\n",
       "0   GGAGGGTCAGGTGGTAGCAGCGAAGAAATGGAAGAATTGACTAGAG...   \n",
       "1   GGTGGTTCTGGTGGTAGTACTCCAGAAGAGTTAGTTAAGGAATTTG...   \n",
       "2   GGCGGTTCTGGCGGTAGCAAAGAGTCTGAAGTAGCAAGAGAATCTG...   \n",
       "3   GGTGGTAGCGGGGGCTCCGATGAAGAGGAGAAACTTGAAGAGAAAG...   \n",
       "4   GGCGGTTCTGGTGGTTCCTCCGAGGAAGAATTGGAAGAGATTATTG...   \n",
       "..                                                ...   \n",
       "65  GGTGGTTCCGGCGGTTCTTCCAGAGAAGAATTGTTGGATAGATTGG...   \n",
       "66  GGTGGTTCAGGTGGTAGCGATAAATTGAAGAGATTTCTGGAAAAGT...   \n",
       "67  GGCGGTTCCGGCGGTAGTGATTTGTTGGATAGATTGGATGAAATTC...   \n",
       "68  GGTGGTTCTGGTGGTAGTGATTTTCTGGAGAAACTCAAGAGACATT...   \n",
       "69  GGTGGTTCTGGTGGCTCCGATAGATTGGATGAAATTCTAGATGAAG...   \n",
       "\n",
       "                                    translation_trunc  \n",
       "0   SEEMEELTREAEKAEEEGDEEKLKEIYEEAHKLAEEGEDSNEWLIE...  \n",
       "1   TPEELVKEFEKLKEKGDKDEELKKLIEELQKAAKHMDQEALERAHE...  \n",
       "2   KESEVARESAESIREVIEVIEEFKEAVEKLGADEELRKELAKFLEE...  \n",
       "3   DEEEKLEEKEKELQELEEELEKKHRKSEETDEVEVYKELLELHREA...  \n",
       "4   SEEELEEIIELVLEMSRAVRKSPKSEEALEQLKRVTELLKEAVKAV...  \n",
       "..                                                ...  \n",
       "65  SREELLDRLDEILDEADKIIERANEALKEKDDKSKYQKLLKEHEEA...  \n",
       "66  DKLKRFLEKLKRHLEKLKEHIKEAKEDNLDEEAIRESEESVKIVER...  \n",
       "67  DLLDRLDEILDEADKIIERANEALKEKDDKSKYQKLLKEHEEAVDK...  \n",
       "68  DFLEKLKRHLEKLKEHIKEAKEDNLDEEAIRESEESVKIVERVIEI...  \n",
       "69  DRLDEILDEADKIIERANEALKEKDDKSKYQKLLKEHEEAVDKLLK...  \n",
       "\n",
       "[70 rows x 2 columns]"
      ]
     },
     "execution_count": 32,
     "metadata": {},
     "output_type": "execute_result"
    }
   ],
   "source": [
    "dhd3_df[['Binder_Seq', 'translation_trunc']]"
   ]
  },
  {
   "cell_type": "code",
   "execution_count": 37,
   "metadata": {},
   "outputs": [],
   "source": [
    "pairs = [('IL8_A','IL8_B'), ('mALb8_A','mALb8_cutT2_A'),('mALb8_B','mALb8_cutT1_B'), ('mALb8_B','mALb8_cutT2_B')]"
   ]
  },
  {
   "cell_type": "code",
   "execution_count": 38,
   "metadata": {},
   "outputs": [],
   "source": [
    "from Bio import pairwise2"
   ]
  },
  {
   "cell_type": "code",
   "execution_count": 39,
   "metadata": {},
   "outputs": [
    {
     "name": "stdout",
     "output_type": "stream",
     "text": [
      "('IL8_A', 'IL8_B')\n",
      "GGSGGSDEE-E-V-LKL---IEELV-KQIEK-SIEF-LRKTN---D----ERFA-E-VVK---EW-I-K-LV--L-EFAEVL-RKTIK--DEEAR-R-R-LEE-LIEKLRELL--KEA-EKE-DGGSGGS\n",
      "||||||| | | | | |   | ||  |   | | |  ||      |    |  | | ||    |  | | |   | |  |   |      ||| | | | ||| | |   |    ||  ||  |||||||\n",
      "GGSGGSD-EREAVEL-LRKAI-EL-LK---KVS-E-ALR---REGDPKLLE--AYEKVV-RLLE-EIIKIL-IRLRE--E--GR----SSDEE-RERLRELEERL-E---E--ERKE-IEK-RDGGSGGS\n",
      "  Score=58\n",
      "\n",
      "DEEEVLKLIEELVKQIEKSIEFLRKTNDERFAEVVKEWIKLVLEFAEVLRKTIKDEEARRRLEELIEKLRELLKEAEKEDGGSGGS\n",
      "DEREAVELLRKAIELLKKVSEALRREGDPKLLEAYEKVVRLLEEIIKILIRLREEGRSSDEERERLRELEERLEEERKEIEKRDGGSGGS\n",
      "DEE-E-V-LKL---IEELV-KQIEK-SIEF-LRKTN---D----ERFA-E-VVK---EW-I-K-LV--L-EFAEVL-RKTIK--DEEAR-R-R-LEE-LIEKLRELL--KEA-EKE-DGGSGGS\n",
      "| | | | | |   | ||  |   | | |  ||      |    |  | | ||    |  | | |   | |  |   |      ||| | | | ||| | |   |    ||  ||  |||||||\n",
      "D-EREAVEL-LRKAI-EL-LK---KVS-E-ALR---REGDPKLLE--AYEKVV-RLLE-EIIKIL-IRLRE--E--GR----SSDEE-RERLRELEERL-E---E--ERKE-IEK-RDGGSGGS\n",
      "  Score=52\n",
      "\n",
      "('mALb8_A', 'mALb8_cutT2_A')\n",
      "GGSGGSDHEEKLKRFLEKLKRHLEKLKEHIKEAKEDNLDEEAIRESEESVKIVERVIEIFQDSTERGGSGGS\n",
      "|||||||       |||||||||||||||||||||||||||||||||||||||||||||       ||||||\n",
      "GGSGGSD-------FLEKLKRHLEKLKEHIKEAKEDNLDEEAIRESEESVKIVERVIEI-------GGSGGS\n",
      "  Score=58\n",
      "\n",
      "DHEEKLKRFLEKLKRHLEKLKEHIKEAKEDNLDEEAIRESEESVKIVERVIEIFQDSTERGGSGGS\n",
      "DFLEKLKRHLEKLKEHIKEAKEDNLDEEAIRESEESVKIVERVIEIGGSGGS\n",
      "DHEEKLKRFLEKLKRHLEKLKEHIKEAKEDNLDEEAIRESEESVKIVERVIEIFQDSTERGGSGGS\n",
      "|       |||||||||||||||||||||||||||||||||||||||||||||       ||||||\n",
      "D-------FLEKLKRHLEKLKEHIKEAKEDNLDEEAIRESEESVKIVERVIEI-------GGSGGS\n",
      "  Score=52\n",
      "\n",
      "('mALb8_B', 'mALb8_cutT1_B')\n",
      "GGSGGSSREE-LLDRLDEILDEADKIIERANEALKEKDDKSKYQKLLKEHEEAVDKLLKIAEKHREMGGSGGS\n",
      "||||| |    ||||||||||||||||||||||||||||||||||||||||||||||||||||    ||||||\n",
      "GGSGG-S---DLLDRLDEILDEADKIIERANEALKEKDDKSKYQKLLKEHEEAVDKLLKIAEK----GGSGGS\n",
      "  Score=64\n",
      "\n",
      "SREELLDRLDEILDEADKIIERANEALKEKDDKSKYQKLLKEHEEAVDKLLKIAEKHREMGGSGGS\n",
      "DLLDRLDEILDEADKIIERANEALKEKDDKSKYQKLLKEHEEAVDKLLKIAEKGGSGGS\n",
      "SREE-LLDRLDEILDEADKIIERANEALKEKDDKSKYQKLLKEHEEAVDKLLKIAEKHREMGGSGGS\n",
      "     ||||||||||||||||||||||||||||||||||||||||||||||||||||    ||||||\n",
      "----DLLDRLDEILDEADKIIERANEALKEKDDKSKYQKLLKEHEEAVDKLLKIAEK----GGSGGS\n",
      "  Score=58\n",
      "\n",
      "('mALb8_B', 'mALb8_cutT2_B')\n",
      "GGSGGSSREELLDRLDEILDEADKIIERANEALKEKDDKSKYQKLLKEHEEAVDKLLKIAEKHREMGGSGGS\n",
      "||||| |     |||||||||||||||||||||||||||||||||||||||||||||||       ||||||\n",
      "GGSGG-S-----DRLDEILDEADKIIERANEALKEKDDKSKYQKLLKEHEEAVDKLLKI-------GGSGGS\n",
      "  Score=59\n",
      "\n",
      "SREELLDRLDEILDEADKIIERANEALKEKDDKSKYQKLLKEHEEAVDKLLKIAEKHREMGGSGGS\n",
      "DRLDEILDEADKIIERANEALKEKDDKSKYQKLLKEHEEAVDKLLKIGGSGGS\n",
      "SREELLDRLDEILDEADKIIERANEALKEKDDKSKYQKLLKEHEEAVDKLLKIAEKHREMGGSGGS\n",
      "      |||||||||||||||||||||||||||||||||||||||||||||||       ||||||\n",
      "------DRLDEILDEADKIIERANEALKEKDDKSKYQKLLKEHEEAVDKLLKI-------GGSGGS\n",
      "  Score=53\n",
      "\n"
     ]
    }
   ],
   "source": [
    "for p in pairs:\n",
    "    print (p)\n",
    "    \n",
    "    \n",
    "    default = dhd3_df[dhd3_df['Binder_Name'] == p[0]].translation.values[0]\n",
    "    \n",
    "    cut_1 = dhd3_df[dhd3_df['Binder_Name'] == p[1]].translation.values[0]\n",
    "    \n",
    "    alignments_0 = pairwise2.align.globalxx(default, cut_1)\n",
    "    print(pairwise2.format_alignment(*alignments_0[0]))\n",
    "    default = dhd3_df[dhd3_df['Binder_Name'] == p[0]].translation_trunc.values[0]\n",
    "    print (default)\n",
    "    cut_1 = dhd3_df[dhd3_df['Binder_Name'] == p[1]].translation_trunc.values[0]\n",
    "    print (cut_1)\n",
    "    alignments = pairwise2.align.globalxx(default, cut_1)\n",
    "    print(pairwise2.format_alignment(*alignments[0]))"
   ]
  },
  {
   "cell_type": "code",
   "execution_count": null,
   "metadata": {},
   "outputs": [],
   "source": []
  }
 ],
 "metadata": {
  "kernelspec": {
   "display_name": "Python 3 (ipykernel)",
   "language": "python",
   "name": "python3"
  },
  "language_info": {
   "codemirror_mode": {
    "name": "ipython",
    "version": 3
   },
   "file_extension": ".py",
   "mimetype": "text/x-python",
   "name": "python",
   "nbconvert_exporter": "python",
   "pygments_lexer": "ipython3",
   "version": "3.10.2"
  }
 },
 "nbformat": 4,
 "nbformat_minor": 4
}
