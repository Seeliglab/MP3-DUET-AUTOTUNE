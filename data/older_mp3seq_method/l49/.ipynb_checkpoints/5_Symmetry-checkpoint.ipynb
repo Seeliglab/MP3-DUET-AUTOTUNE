{
 "cells": [
  {
   "cell_type": "code",
   "execution_count": 1,
   "metadata": {},
   "outputs": [],
   "source": [
    "import os\n",
    "import pandas as pd\n",
    "import numpy as np\n",
    "import scipy.stats as stats\n",
    "import matplotlib.pyplot as plt\n",
    "from matplotlib import gridspec\n",
    "import seaborn as sns\n",
    "import math"
   ]
  },
  {
   "cell_type": "code",
   "execution_count": 2,
   "metadata": {},
   "outputs": [],
   "source": [
    "%matplotlib inline"
   ]
  },
  {
   "cell_type": "markdown",
   "metadata": {},
   "source": [
    "# Load data"
   ]
  },
  {
   "cell_type": "markdown",
   "metadata": {},
   "source": [
    "### TRP"
   ]
  },
  {
   "cell_type": "code",
   "execution_count": 3,
   "metadata": {},
   "outputs": [],
   "source": [
    "trp_df = pd.read_csv('L49_TRP_table.csv', index_col=0)"
   ]
  },
  {
   "cell_type": "code",
   "execution_count": 4,
   "metadata": {},
   "outputs": [
    {
     "data": {
      "text/plain": [
       "(337, 337)"
      ]
     },
     "execution_count": 4,
     "metadata": {},
     "output_type": "execute_result"
    }
   ],
   "source": [
    "trp_df.shape"
   ]
  },
  {
   "cell_type": "code",
   "execution_count": 5,
   "metadata": {},
   "outputs": [
    {
     "data": {
      "text/html": [
       "<div>\n",
       "<style scoped>\n",
       "    .dataframe tbody tr th:only-of-type {\n",
       "        vertical-align: middle;\n",
       "    }\n",
       "\n",
       "    .dataframe tbody tr th {\n",
       "        vertical-align: top;\n",
       "    }\n",
       "\n",
       "    .dataframe thead th {\n",
       "        text-align: right;\n",
       "    }\n",
       "</style>\n",
       "<table border=\"1\" class=\"dataframe\">\n",
       "  <thead>\n",
       "    <tr style=\"text-align: right;\">\n",
       "      <th></th>\n",
       "      <th>A_HT_DHD_100</th>\n",
       "      <th>B_HT_DHD_100</th>\n",
       "      <th>A_HT_DHD_10</th>\n",
       "      <th>B_HT_DHD_10</th>\n",
       "      <th>A_HT_DHD_11</th>\n",
       "      <th>B_HT_DHD_11</th>\n",
       "      <th>A_HT_DHD_12</th>\n",
       "      <th>B_HT_DHD_12</th>\n",
       "      <th>A_HT_DHD_13</th>\n",
       "      <th>B_HT_DHD_13</th>\n",
       "      <th>...</th>\n",
       "      <th>alphaBCL2</th>\n",
       "      <th>2CDP06</th>\n",
       "      <th>XCDP07</th>\n",
       "      <th>alphaMCL1</th>\n",
       "      <th>Bfl-1</th>\n",
       "      <th>Bcl-B</th>\n",
       "      <th>Bcl-2</th>\n",
       "      <th>Bcl-xL</th>\n",
       "      <th>Bcl-w</th>\n",
       "      <th>Mcl1[151-321]</th>\n",
       "    </tr>\n",
       "    <tr>\n",
       "      <th>Name</th>\n",
       "      <th></th>\n",
       "      <th></th>\n",
       "      <th></th>\n",
       "      <th></th>\n",
       "      <th></th>\n",
       "      <th></th>\n",
       "      <th></th>\n",
       "      <th></th>\n",
       "      <th></th>\n",
       "      <th></th>\n",
       "      <th></th>\n",
       "      <th></th>\n",
       "      <th></th>\n",
       "      <th></th>\n",
       "      <th></th>\n",
       "      <th></th>\n",
       "      <th></th>\n",
       "      <th></th>\n",
       "      <th></th>\n",
       "      <th></th>\n",
       "      <th></th>\n",
       "    </tr>\n",
       "  </thead>\n",
       "  <tbody>\n",
       "    <tr>\n",
       "      <td>A_HT_DHD_100</td>\n",
       "      <td>3.0</td>\n",
       "      <td>14.0</td>\n",
       "      <td>7.0</td>\n",
       "      <td>61.0</td>\n",
       "      <td>37.0</td>\n",
       "      <td>48.0</td>\n",
       "      <td>9.0</td>\n",
       "      <td>7.0</td>\n",
       "      <td>12.0</td>\n",
       "      <td>26.0</td>\n",
       "      <td>...</td>\n",
       "      <td>29.0</td>\n",
       "      <td>44.0</td>\n",
       "      <td>13.0</td>\n",
       "      <td>66.0</td>\n",
       "      <td>36.0</td>\n",
       "      <td>157.0</td>\n",
       "      <td>26.0</td>\n",
       "      <td>15.0</td>\n",
       "      <td>16.0</td>\n",
       "      <td>43.0</td>\n",
       "    </tr>\n",
       "    <tr>\n",
       "      <td>B_HT_DHD_100</td>\n",
       "      <td>13.0</td>\n",
       "      <td>58.0</td>\n",
       "      <td>10.0</td>\n",
       "      <td>30.0</td>\n",
       "      <td>39.0</td>\n",
       "      <td>53.0</td>\n",
       "      <td>21.0</td>\n",
       "      <td>29.0</td>\n",
       "      <td>4.0</td>\n",
       "      <td>45.0</td>\n",
       "      <td>...</td>\n",
       "      <td>76.0</td>\n",
       "      <td>63.0</td>\n",
       "      <td>19.0</td>\n",
       "      <td>84.0</td>\n",
       "      <td>77.0</td>\n",
       "      <td>279.0</td>\n",
       "      <td>41.0</td>\n",
       "      <td>13.0</td>\n",
       "      <td>25.0</td>\n",
       "      <td>82.0</td>\n",
       "    </tr>\n",
       "  </tbody>\n",
       "</table>\n",
       "<p>2 rows × 337 columns</p>\n",
       "</div>"
      ],
      "text/plain": [
       "              A_HT_DHD_100  B_HT_DHD_100  A_HT_DHD_10  B_HT_DHD_10  \\\n",
       "Name                                                                 \n",
       "A_HT_DHD_100           3.0          14.0          7.0         61.0   \n",
       "B_HT_DHD_100          13.0          58.0         10.0         30.0   \n",
       "\n",
       "              A_HT_DHD_11  B_HT_DHD_11  A_HT_DHD_12  B_HT_DHD_12  A_HT_DHD_13  \\\n",
       "Name                                                                            \n",
       "A_HT_DHD_100         37.0         48.0          9.0          7.0         12.0   \n",
       "B_HT_DHD_100         39.0         53.0         21.0         29.0          4.0   \n",
       "\n",
       "              B_HT_DHD_13  ...  alphaBCL2  2CDP06  XCDP07  alphaMCL1  Bfl-1  \\\n",
       "Name                       ...                                                \n",
       "A_HT_DHD_100         26.0  ...       29.0    44.0    13.0       66.0   36.0   \n",
       "B_HT_DHD_100         45.0  ...       76.0    63.0    19.0       84.0   77.0   \n",
       "\n",
       "              Bcl-B  Bcl-2  Bcl-xL  Bcl-w  Mcl1[151-321]  \n",
       "Name                                                      \n",
       "A_HT_DHD_100  157.0   26.0    15.0   16.0           43.0  \n",
       "B_HT_DHD_100  279.0   41.0    13.0   25.0           82.0  \n",
       "\n",
       "[2 rows x 337 columns]"
      ]
     },
     "execution_count": 5,
     "metadata": {},
     "output_type": "execute_result"
    }
   ],
   "source": [
    "trp_df.head(2)"
   ]
  },
  {
   "cell_type": "markdown",
   "metadata": {},
   "source": [
    "### Main elute / elute_1"
   ]
  },
  {
   "cell_type": "code",
   "execution_count": 6,
   "metadata": {},
   "outputs": [],
   "source": [
    "elute_1_his_df = pd.read_csv('L49_HIS_main.csv', index_col=0)"
   ]
  },
  {
   "cell_type": "code",
   "execution_count": 7,
   "metadata": {},
   "outputs": [
    {
     "data": {
      "text/plain": [
       "(337, 337)"
      ]
     },
     "execution_count": 7,
     "metadata": {},
     "output_type": "execute_result"
    }
   ],
   "source": [
    "elute_1_his_df.shape"
   ]
  },
  {
   "cell_type": "code",
   "execution_count": 8,
   "metadata": {},
   "outputs": [
    {
     "data": {
      "text/html": [
       "<div>\n",
       "<style scoped>\n",
       "    .dataframe tbody tr th:only-of-type {\n",
       "        vertical-align: middle;\n",
       "    }\n",
       "\n",
       "    .dataframe tbody tr th {\n",
       "        vertical-align: top;\n",
       "    }\n",
       "\n",
       "    .dataframe thead th {\n",
       "        text-align: right;\n",
       "    }\n",
       "</style>\n",
       "<table border=\"1\" class=\"dataframe\">\n",
       "  <thead>\n",
       "    <tr style=\"text-align: right;\">\n",
       "      <th></th>\n",
       "      <th>A_HT_DHD_100</th>\n",
       "      <th>B_HT_DHD_100</th>\n",
       "      <th>A_HT_DHD_10</th>\n",
       "      <th>B_HT_DHD_10</th>\n",
       "      <th>A_HT_DHD_11</th>\n",
       "      <th>B_HT_DHD_11</th>\n",
       "      <th>A_HT_DHD_12</th>\n",
       "      <th>B_HT_DHD_12</th>\n",
       "      <th>A_HT_DHD_13</th>\n",
       "      <th>B_HT_DHD_13</th>\n",
       "      <th>...</th>\n",
       "      <th>alphaBCL2</th>\n",
       "      <th>2CDP06</th>\n",
       "      <th>XCDP07</th>\n",
       "      <th>alphaMCL1</th>\n",
       "      <th>Bfl-1</th>\n",
       "      <th>Bcl-B</th>\n",
       "      <th>Bcl-2</th>\n",
       "      <th>Bcl-xL</th>\n",
       "      <th>Bcl-w</th>\n",
       "      <th>Mcl1[151-321]</th>\n",
       "    </tr>\n",
       "    <tr>\n",
       "      <th>Name</th>\n",
       "      <th></th>\n",
       "      <th></th>\n",
       "      <th></th>\n",
       "      <th></th>\n",
       "      <th></th>\n",
       "      <th></th>\n",
       "      <th></th>\n",
       "      <th></th>\n",
       "      <th></th>\n",
       "      <th></th>\n",
       "      <th></th>\n",
       "      <th></th>\n",
       "      <th></th>\n",
       "      <th></th>\n",
       "      <th></th>\n",
       "      <th></th>\n",
       "      <th></th>\n",
       "      <th></th>\n",
       "      <th></th>\n",
       "      <th></th>\n",
       "      <th></th>\n",
       "    </tr>\n",
       "  </thead>\n",
       "  <tbody>\n",
       "    <tr>\n",
       "      <td>A_HT_DHD_100</td>\n",
       "      <td>NaN</td>\n",
       "      <td>3.0</td>\n",
       "      <td>NaN</td>\n",
       "      <td>5.0</td>\n",
       "      <td>NaN</td>\n",
       "      <td>15.0</td>\n",
       "      <td>5.0</td>\n",
       "      <td>2.0</td>\n",
       "      <td>3.0</td>\n",
       "      <td>67.0</td>\n",
       "      <td>...</td>\n",
       "      <td>NaN</td>\n",
       "      <td>8.0</td>\n",
       "      <td>2.0</td>\n",
       "      <td>1.0</td>\n",
       "      <td>4.0</td>\n",
       "      <td>11.0</td>\n",
       "      <td>1.0</td>\n",
       "      <td>2.0</td>\n",
       "      <td>NaN</td>\n",
       "      <td>1.0</td>\n",
       "    </tr>\n",
       "    <tr>\n",
       "      <td>B_HT_DHD_100</td>\n",
       "      <td>2.0</td>\n",
       "      <td>8.0</td>\n",
       "      <td>1.0</td>\n",
       "      <td>1.0</td>\n",
       "      <td>1.0</td>\n",
       "      <td>4.0</td>\n",
       "      <td>8.0</td>\n",
       "      <td>5.0</td>\n",
       "      <td>11.0</td>\n",
       "      <td>183.0</td>\n",
       "      <td>...</td>\n",
       "      <td>13.0</td>\n",
       "      <td>31.0</td>\n",
       "      <td>7.0</td>\n",
       "      <td>6.0</td>\n",
       "      <td>11.0</td>\n",
       "      <td>54.0</td>\n",
       "      <td>NaN</td>\n",
       "      <td>6.0</td>\n",
       "      <td>2.0</td>\n",
       "      <td>8.0</td>\n",
       "    </tr>\n",
       "    <tr>\n",
       "      <td>A_HT_DHD_10</td>\n",
       "      <td>3.0</td>\n",
       "      <td>2.0</td>\n",
       "      <td>NaN</td>\n",
       "      <td>1.0</td>\n",
       "      <td>NaN</td>\n",
       "      <td>6.0</td>\n",
       "      <td>5.0</td>\n",
       "      <td>NaN</td>\n",
       "      <td>1.0</td>\n",
       "      <td>41.0</td>\n",
       "      <td>...</td>\n",
       "      <td>NaN</td>\n",
       "      <td>5.0</td>\n",
       "      <td>NaN</td>\n",
       "      <td>4.0</td>\n",
       "      <td>1.0</td>\n",
       "      <td>8.0</td>\n",
       "      <td>5.0</td>\n",
       "      <td>1.0</td>\n",
       "      <td>NaN</td>\n",
       "      <td>1.0</td>\n",
       "    </tr>\n",
       "    <tr>\n",
       "      <td>B_HT_DHD_10</td>\n",
       "      <td>NaN</td>\n",
       "      <td>2.0</td>\n",
       "      <td>29.0</td>\n",
       "      <td>NaN</td>\n",
       "      <td>NaN</td>\n",
       "      <td>3.0</td>\n",
       "      <td>NaN</td>\n",
       "      <td>NaN</td>\n",
       "      <td>2.0</td>\n",
       "      <td>28.0</td>\n",
       "      <td>...</td>\n",
       "      <td>NaN</td>\n",
       "      <td>7.0</td>\n",
       "      <td>2.0</td>\n",
       "      <td>3.0</td>\n",
       "      <td>8.0</td>\n",
       "      <td>5.0</td>\n",
       "      <td>2.0</td>\n",
       "      <td>NaN</td>\n",
       "      <td>1.0</td>\n",
       "      <td>2.0</td>\n",
       "    </tr>\n",
       "    <tr>\n",
       "      <td>A_HT_DHD_11</td>\n",
       "      <td>NaN</td>\n",
       "      <td>509.0</td>\n",
       "      <td>1.0</td>\n",
       "      <td>1.0</td>\n",
       "      <td>2.0</td>\n",
       "      <td>3.0</td>\n",
       "      <td>3.0</td>\n",
       "      <td>2.0</td>\n",
       "      <td>8.0</td>\n",
       "      <td>148.0</td>\n",
       "      <td>...</td>\n",
       "      <td>2.0</td>\n",
       "      <td>29.0</td>\n",
       "      <td>NaN</td>\n",
       "      <td>20.0</td>\n",
       "      <td>8.0</td>\n",
       "      <td>36.0</td>\n",
       "      <td>4.0</td>\n",
       "      <td>1.0</td>\n",
       "      <td>1.0</td>\n",
       "      <td>2.0</td>\n",
       "    </tr>\n",
       "  </tbody>\n",
       "</table>\n",
       "<p>5 rows × 337 columns</p>\n",
       "</div>"
      ],
      "text/plain": [
       "              A_HT_DHD_100  B_HT_DHD_100  A_HT_DHD_10  B_HT_DHD_10  \\\n",
       "Name                                                                 \n",
       "A_HT_DHD_100           NaN           3.0          NaN          5.0   \n",
       "B_HT_DHD_100           2.0           8.0          1.0          1.0   \n",
       "A_HT_DHD_10            3.0           2.0          NaN          1.0   \n",
       "B_HT_DHD_10            NaN           2.0         29.0          NaN   \n",
       "A_HT_DHD_11            NaN         509.0          1.0          1.0   \n",
       "\n",
       "              A_HT_DHD_11  B_HT_DHD_11  A_HT_DHD_12  B_HT_DHD_12  A_HT_DHD_13  \\\n",
       "Name                                                                            \n",
       "A_HT_DHD_100          NaN         15.0          5.0          2.0          3.0   \n",
       "B_HT_DHD_100          1.0          4.0          8.0          5.0         11.0   \n",
       "A_HT_DHD_10           NaN          6.0          5.0          NaN          1.0   \n",
       "B_HT_DHD_10           NaN          3.0          NaN          NaN          2.0   \n",
       "A_HT_DHD_11           2.0          3.0          3.0          2.0          8.0   \n",
       "\n",
       "              B_HT_DHD_13  ...  alphaBCL2  2CDP06  XCDP07  alphaMCL1  Bfl-1  \\\n",
       "Name                       ...                                                \n",
       "A_HT_DHD_100         67.0  ...        NaN     8.0     2.0        1.0    4.0   \n",
       "B_HT_DHD_100        183.0  ...       13.0    31.0     7.0        6.0   11.0   \n",
       "A_HT_DHD_10          41.0  ...        NaN     5.0     NaN        4.0    1.0   \n",
       "B_HT_DHD_10          28.0  ...        NaN     7.0     2.0        3.0    8.0   \n",
       "A_HT_DHD_11         148.0  ...        2.0    29.0     NaN       20.0    8.0   \n",
       "\n",
       "              Bcl-B  Bcl-2  Bcl-xL  Bcl-w  Mcl1[151-321]  \n",
       "Name                                                      \n",
       "A_HT_DHD_100   11.0    1.0     2.0    NaN            1.0  \n",
       "B_HT_DHD_100   54.0    NaN     6.0    2.0            8.0  \n",
       "A_HT_DHD_10     8.0    5.0     1.0    NaN            1.0  \n",
       "B_HT_DHD_10     5.0    2.0     NaN    1.0            2.0  \n",
       "A_HT_DHD_11    36.0    4.0     1.0    1.0            2.0  \n",
       "\n",
       "[5 rows x 337 columns]"
      ]
     },
     "execution_count": 8,
     "metadata": {},
     "output_type": "execute_result"
    }
   ],
   "source": [
    "elute_1_his_df.head()"
   ]
  },
  {
   "cell_type": "markdown",
   "metadata": {},
   "source": [
    "### Secondary elute / elute_2"
   ]
  },
  {
   "cell_type": "code",
   "execution_count": 9,
   "metadata": {},
   "outputs": [],
   "source": [
    "elute_2_his_df = pd.read_csv('L49_HIS_secondary.csv', index_col=0)"
   ]
  },
  {
   "cell_type": "code",
   "execution_count": 10,
   "metadata": {},
   "outputs": [
    {
     "data": {
      "text/plain": [
       "(337, 337)"
      ]
     },
     "execution_count": 10,
     "metadata": {},
     "output_type": "execute_result"
    }
   ],
   "source": [
    "elute_2_his_df.shape"
   ]
  },
  {
   "cell_type": "code",
   "execution_count": 11,
   "metadata": {},
   "outputs": [
    {
     "data": {
      "text/html": [
       "<div>\n",
       "<style scoped>\n",
       "    .dataframe tbody tr th:only-of-type {\n",
       "        vertical-align: middle;\n",
       "    }\n",
       "\n",
       "    .dataframe tbody tr th {\n",
       "        vertical-align: top;\n",
       "    }\n",
       "\n",
       "    .dataframe thead th {\n",
       "        text-align: right;\n",
       "    }\n",
       "</style>\n",
       "<table border=\"1\" class=\"dataframe\">\n",
       "  <thead>\n",
       "    <tr style=\"text-align: right;\">\n",
       "      <th></th>\n",
       "      <th>A_HT_DHD_100</th>\n",
       "      <th>B_HT_DHD_100</th>\n",
       "      <th>A_HT_DHD_10</th>\n",
       "      <th>B_HT_DHD_10</th>\n",
       "      <th>A_HT_DHD_11</th>\n",
       "      <th>B_HT_DHD_11</th>\n",
       "      <th>A_HT_DHD_12</th>\n",
       "      <th>B_HT_DHD_12</th>\n",
       "      <th>A_HT_DHD_13</th>\n",
       "      <th>B_HT_DHD_13</th>\n",
       "      <th>...</th>\n",
       "      <th>alphaBCL2</th>\n",
       "      <th>2CDP06</th>\n",
       "      <th>XCDP07</th>\n",
       "      <th>alphaMCL1</th>\n",
       "      <th>Bfl-1</th>\n",
       "      <th>Bcl-B</th>\n",
       "      <th>Bcl-2</th>\n",
       "      <th>Bcl-xL</th>\n",
       "      <th>Bcl-w</th>\n",
       "      <th>Mcl1[151-321]</th>\n",
       "    </tr>\n",
       "    <tr>\n",
       "      <th>Name</th>\n",
       "      <th></th>\n",
       "      <th></th>\n",
       "      <th></th>\n",
       "      <th></th>\n",
       "      <th></th>\n",
       "      <th></th>\n",
       "      <th></th>\n",
       "      <th></th>\n",
       "      <th></th>\n",
       "      <th></th>\n",
       "      <th></th>\n",
       "      <th></th>\n",
       "      <th></th>\n",
       "      <th></th>\n",
       "      <th></th>\n",
       "      <th></th>\n",
       "      <th></th>\n",
       "      <th></th>\n",
       "      <th></th>\n",
       "      <th></th>\n",
       "      <th></th>\n",
       "    </tr>\n",
       "  </thead>\n",
       "  <tbody>\n",
       "    <tr>\n",
       "      <td>A_HT_DHD_100</td>\n",
       "      <td>NaN</td>\n",
       "      <td>3.0</td>\n",
       "      <td>1.0</td>\n",
       "      <td>8.0</td>\n",
       "      <td>1.0</td>\n",
       "      <td>18.0</td>\n",
       "      <td>5.0</td>\n",
       "      <td>2.0</td>\n",
       "      <td>2.0</td>\n",
       "      <td>11.0</td>\n",
       "      <td>...</td>\n",
       "      <td>6.0</td>\n",
       "      <td>2.0</td>\n",
       "      <td>4.0</td>\n",
       "      <td>4.0</td>\n",
       "      <td>10.0</td>\n",
       "      <td>29.0</td>\n",
       "      <td>3.0</td>\n",
       "      <td>4.0</td>\n",
       "      <td>1.0</td>\n",
       "      <td>3.0</td>\n",
       "    </tr>\n",
       "    <tr>\n",
       "      <td>B_HT_DHD_100</td>\n",
       "      <td>2.0</td>\n",
       "      <td>22.0</td>\n",
       "      <td>4.0</td>\n",
       "      <td>5.0</td>\n",
       "      <td>NaN</td>\n",
       "      <td>4.0</td>\n",
       "      <td>7.0</td>\n",
       "      <td>5.0</td>\n",
       "      <td>19.0</td>\n",
       "      <td>32.0</td>\n",
       "      <td>...</td>\n",
       "      <td>12.0</td>\n",
       "      <td>6.0</td>\n",
       "      <td>5.0</td>\n",
       "      <td>12.0</td>\n",
       "      <td>24.0</td>\n",
       "      <td>86.0</td>\n",
       "      <td>10.0</td>\n",
       "      <td>7.0</td>\n",
       "      <td>5.0</td>\n",
       "      <td>7.0</td>\n",
       "    </tr>\n",
       "    <tr>\n",
       "      <td>A_HT_DHD_10</td>\n",
       "      <td>NaN</td>\n",
       "      <td>2.0</td>\n",
       "      <td>NaN</td>\n",
       "      <td>NaN</td>\n",
       "      <td>1.0</td>\n",
       "      <td>9.0</td>\n",
       "      <td>6.0</td>\n",
       "      <td>2.0</td>\n",
       "      <td>6.0</td>\n",
       "      <td>6.0</td>\n",
       "      <td>...</td>\n",
       "      <td>NaN</td>\n",
       "      <td>5.0</td>\n",
       "      <td>3.0</td>\n",
       "      <td>5.0</td>\n",
       "      <td>3.0</td>\n",
       "      <td>19.0</td>\n",
       "      <td>3.0</td>\n",
       "      <td>5.0</td>\n",
       "      <td>NaN</td>\n",
       "      <td>1.0</td>\n",
       "    </tr>\n",
       "    <tr>\n",
       "      <td>B_HT_DHD_10</td>\n",
       "      <td>NaN</td>\n",
       "      <td>3.0</td>\n",
       "      <td>75.0</td>\n",
       "      <td>1.0</td>\n",
       "      <td>8.0</td>\n",
       "      <td>15.0</td>\n",
       "      <td>7.0</td>\n",
       "      <td>NaN</td>\n",
       "      <td>2.0</td>\n",
       "      <td>2.0</td>\n",
       "      <td>...</td>\n",
       "      <td>3.0</td>\n",
       "      <td>1.0</td>\n",
       "      <td>NaN</td>\n",
       "      <td>19.0</td>\n",
       "      <td>16.0</td>\n",
       "      <td>19.0</td>\n",
       "      <td>8.0</td>\n",
       "      <td>NaN</td>\n",
       "      <td>NaN</td>\n",
       "      <td>4.0</td>\n",
       "    </tr>\n",
       "    <tr>\n",
       "      <td>A_HT_DHD_11</td>\n",
       "      <td>1.0</td>\n",
       "      <td>1339.0</td>\n",
       "      <td>NaN</td>\n",
       "      <td>NaN</td>\n",
       "      <td>7.0</td>\n",
       "      <td>1.0</td>\n",
       "      <td>6.0</td>\n",
       "      <td>7.0</td>\n",
       "      <td>26.0</td>\n",
       "      <td>25.0</td>\n",
       "      <td>...</td>\n",
       "      <td>3.0</td>\n",
       "      <td>16.0</td>\n",
       "      <td>6.0</td>\n",
       "      <td>20.0</td>\n",
       "      <td>12.0</td>\n",
       "      <td>52.0</td>\n",
       "      <td>20.0</td>\n",
       "      <td>4.0</td>\n",
       "      <td>4.0</td>\n",
       "      <td>18.0</td>\n",
       "    </tr>\n",
       "  </tbody>\n",
       "</table>\n",
       "<p>5 rows × 337 columns</p>\n",
       "</div>"
      ],
      "text/plain": [
       "              A_HT_DHD_100  B_HT_DHD_100  A_HT_DHD_10  B_HT_DHD_10  \\\n",
       "Name                                                                 \n",
       "A_HT_DHD_100           NaN           3.0          1.0          8.0   \n",
       "B_HT_DHD_100           2.0          22.0          4.0          5.0   \n",
       "A_HT_DHD_10            NaN           2.0          NaN          NaN   \n",
       "B_HT_DHD_10            NaN           3.0         75.0          1.0   \n",
       "A_HT_DHD_11            1.0        1339.0          NaN          NaN   \n",
       "\n",
       "              A_HT_DHD_11  B_HT_DHD_11  A_HT_DHD_12  B_HT_DHD_12  A_HT_DHD_13  \\\n",
       "Name                                                                            \n",
       "A_HT_DHD_100          1.0         18.0          5.0          2.0          2.0   \n",
       "B_HT_DHD_100          NaN          4.0          7.0          5.0         19.0   \n",
       "A_HT_DHD_10           1.0          9.0          6.0          2.0          6.0   \n",
       "B_HT_DHD_10           8.0         15.0          7.0          NaN          2.0   \n",
       "A_HT_DHD_11           7.0          1.0          6.0          7.0         26.0   \n",
       "\n",
       "              B_HT_DHD_13  ...  alphaBCL2  2CDP06  XCDP07  alphaMCL1  Bfl-1  \\\n",
       "Name                       ...                                                \n",
       "A_HT_DHD_100         11.0  ...        6.0     2.0     4.0        4.0   10.0   \n",
       "B_HT_DHD_100         32.0  ...       12.0     6.0     5.0       12.0   24.0   \n",
       "A_HT_DHD_10           6.0  ...        NaN     5.0     3.0        5.0    3.0   \n",
       "B_HT_DHD_10           2.0  ...        3.0     1.0     NaN       19.0   16.0   \n",
       "A_HT_DHD_11          25.0  ...        3.0    16.0     6.0       20.0   12.0   \n",
       "\n",
       "              Bcl-B  Bcl-2  Bcl-xL  Bcl-w  Mcl1[151-321]  \n",
       "Name                                                      \n",
       "A_HT_DHD_100   29.0    3.0     4.0    1.0            3.0  \n",
       "B_HT_DHD_100   86.0   10.0     7.0    5.0            7.0  \n",
       "A_HT_DHD_10    19.0    3.0     5.0    NaN            1.0  \n",
       "B_HT_DHD_10    19.0    8.0     NaN    NaN            4.0  \n",
       "A_HT_DHD_11    52.0   20.0     4.0    4.0           18.0  \n",
       "\n",
       "[5 rows x 337 columns]"
      ]
     },
     "execution_count": 11,
     "metadata": {},
     "output_type": "execute_result"
    }
   ],
   "source": [
    "elute_2_his_df.head()"
   ]
  },
  {
   "cell_type": "markdown",
   "metadata": {},
   "source": [
    "## Load Flask_1 and Flask_2 data"
   ]
  },
  {
   "cell_type": "markdown",
   "metadata": {},
   "source": [
    "### Flask_1"
   ]
  },
  {
   "cell_type": "code",
   "execution_count": 12,
   "metadata": {},
   "outputs": [],
   "source": [
    "flask1_his_df = pd.read_csv('L49_HIS_Flask1.csv', index_col=0)"
   ]
  },
  {
   "cell_type": "code",
   "execution_count": 13,
   "metadata": {},
   "outputs": [
    {
     "data": {
      "text/plain": [
       "(337, 337)"
      ]
     },
     "execution_count": 13,
     "metadata": {},
     "output_type": "execute_result"
    }
   ],
   "source": [
    "flask1_his_df.shape"
   ]
  },
  {
   "cell_type": "code",
   "execution_count": 14,
   "metadata": {},
   "outputs": [
    {
     "data": {
      "text/html": [
       "<div>\n",
       "<style scoped>\n",
       "    .dataframe tbody tr th:only-of-type {\n",
       "        vertical-align: middle;\n",
       "    }\n",
       "\n",
       "    .dataframe tbody tr th {\n",
       "        vertical-align: top;\n",
       "    }\n",
       "\n",
       "    .dataframe thead th {\n",
       "        text-align: right;\n",
       "    }\n",
       "</style>\n",
       "<table border=\"1\" class=\"dataframe\">\n",
       "  <thead>\n",
       "    <tr style=\"text-align: right;\">\n",
       "      <th></th>\n",
       "      <th>A_HT_DHD_100</th>\n",
       "      <th>B_HT_DHD_100</th>\n",
       "      <th>A_HT_DHD_10</th>\n",
       "      <th>B_HT_DHD_10</th>\n",
       "      <th>A_HT_DHD_11</th>\n",
       "      <th>B_HT_DHD_11</th>\n",
       "      <th>A_HT_DHD_12</th>\n",
       "      <th>B_HT_DHD_12</th>\n",
       "      <th>A_HT_DHD_13</th>\n",
       "      <th>B_HT_DHD_13</th>\n",
       "      <th>...</th>\n",
       "      <th>alphaBCL2</th>\n",
       "      <th>2CDP06</th>\n",
       "      <th>XCDP07</th>\n",
       "      <th>alphaMCL1</th>\n",
       "      <th>Bfl-1</th>\n",
       "      <th>Bcl-B</th>\n",
       "      <th>Bcl-2</th>\n",
       "      <th>Bcl-xL</th>\n",
       "      <th>Bcl-w</th>\n",
       "      <th>Mcl1[151-321]</th>\n",
       "    </tr>\n",
       "    <tr>\n",
       "      <th>Name</th>\n",
       "      <th></th>\n",
       "      <th></th>\n",
       "      <th></th>\n",
       "      <th></th>\n",
       "      <th></th>\n",
       "      <th></th>\n",
       "      <th></th>\n",
       "      <th></th>\n",
       "      <th></th>\n",
       "      <th></th>\n",
       "      <th></th>\n",
       "      <th></th>\n",
       "      <th></th>\n",
       "      <th></th>\n",
       "      <th></th>\n",
       "      <th></th>\n",
       "      <th></th>\n",
       "      <th></th>\n",
       "      <th></th>\n",
       "      <th></th>\n",
       "      <th></th>\n",
       "    </tr>\n",
       "  </thead>\n",
       "  <tbody>\n",
       "    <tr>\n",
       "      <td>A_HT_DHD_100</td>\n",
       "      <td>NaN</td>\n",
       "      <td>6.0</td>\n",
       "      <td>2.0</td>\n",
       "      <td>1.0</td>\n",
       "      <td>1.0</td>\n",
       "      <td>9.0</td>\n",
       "      <td>4.0</td>\n",
       "      <td>1.0</td>\n",
       "      <td>5.0</td>\n",
       "      <td>20.0</td>\n",
       "      <td>...</td>\n",
       "      <td>2.0</td>\n",
       "      <td>6.0</td>\n",
       "      <td>NaN</td>\n",
       "      <td>5.0</td>\n",
       "      <td>9.0</td>\n",
       "      <td>24.0</td>\n",
       "      <td>3.0</td>\n",
       "      <td>6.0</td>\n",
       "      <td>1.0</td>\n",
       "      <td>6.0</td>\n",
       "    </tr>\n",
       "    <tr>\n",
       "      <td>B_HT_DHD_100</td>\n",
       "      <td>3.0</td>\n",
       "      <td>32.0</td>\n",
       "      <td>7.0</td>\n",
       "      <td>1.0</td>\n",
       "      <td>1.0</td>\n",
       "      <td>12.0</td>\n",
       "      <td>8.0</td>\n",
       "      <td>7.0</td>\n",
       "      <td>29.0</td>\n",
       "      <td>70.0</td>\n",
       "      <td>...</td>\n",
       "      <td>20.0</td>\n",
       "      <td>8.0</td>\n",
       "      <td>13.0</td>\n",
       "      <td>23.0</td>\n",
       "      <td>26.0</td>\n",
       "      <td>96.0</td>\n",
       "      <td>8.0</td>\n",
       "      <td>6.0</td>\n",
       "      <td>6.0</td>\n",
       "      <td>12.0</td>\n",
       "    </tr>\n",
       "  </tbody>\n",
       "</table>\n",
       "<p>2 rows × 337 columns</p>\n",
       "</div>"
      ],
      "text/plain": [
       "              A_HT_DHD_100  B_HT_DHD_100  A_HT_DHD_10  B_HT_DHD_10  \\\n",
       "Name                                                                 \n",
       "A_HT_DHD_100           NaN           6.0          2.0          1.0   \n",
       "B_HT_DHD_100           3.0          32.0          7.0          1.0   \n",
       "\n",
       "              A_HT_DHD_11  B_HT_DHD_11  A_HT_DHD_12  B_HT_DHD_12  A_HT_DHD_13  \\\n",
       "Name                                                                            \n",
       "A_HT_DHD_100          1.0          9.0          4.0          1.0          5.0   \n",
       "B_HT_DHD_100          1.0         12.0          8.0          7.0         29.0   \n",
       "\n",
       "              B_HT_DHD_13  ...  alphaBCL2  2CDP06  XCDP07  alphaMCL1  Bfl-1  \\\n",
       "Name                       ...                                                \n",
       "A_HT_DHD_100         20.0  ...        2.0     6.0     NaN        5.0    9.0   \n",
       "B_HT_DHD_100         70.0  ...       20.0     8.0    13.0       23.0   26.0   \n",
       "\n",
       "              Bcl-B  Bcl-2  Bcl-xL  Bcl-w  Mcl1[151-321]  \n",
       "Name                                                      \n",
       "A_HT_DHD_100   24.0    3.0     6.0    1.0            6.0  \n",
       "B_HT_DHD_100   96.0    8.0     6.0    6.0           12.0  \n",
       "\n",
       "[2 rows x 337 columns]"
      ]
     },
     "execution_count": 14,
     "metadata": {},
     "output_type": "execute_result"
    }
   ],
   "source": [
    "flask1_his_df.head(2)"
   ]
  },
  {
   "cell_type": "markdown",
   "metadata": {},
   "source": [
    "### Flask_2"
   ]
  },
  {
   "cell_type": "code",
   "execution_count": 15,
   "metadata": {},
   "outputs": [],
   "source": [
    "flask2_his_df = pd.read_csv('L49_HIS_Flask2.csv', index_col=0)"
   ]
  },
  {
   "cell_type": "code",
   "execution_count": 16,
   "metadata": {},
   "outputs": [
    {
     "data": {
      "text/plain": [
       "(337, 337)"
      ]
     },
     "execution_count": 16,
     "metadata": {},
     "output_type": "execute_result"
    }
   ],
   "source": [
    "flask2_his_df.shape"
   ]
  },
  {
   "cell_type": "code",
   "execution_count": 17,
   "metadata": {},
   "outputs": [
    {
     "data": {
      "text/html": [
       "<div>\n",
       "<style scoped>\n",
       "    .dataframe tbody tr th:only-of-type {\n",
       "        vertical-align: middle;\n",
       "    }\n",
       "\n",
       "    .dataframe tbody tr th {\n",
       "        vertical-align: top;\n",
       "    }\n",
       "\n",
       "    .dataframe thead th {\n",
       "        text-align: right;\n",
       "    }\n",
       "</style>\n",
       "<table border=\"1\" class=\"dataframe\">\n",
       "  <thead>\n",
       "    <tr style=\"text-align: right;\">\n",
       "      <th></th>\n",
       "      <th>A_HT_DHD_100</th>\n",
       "      <th>B_HT_DHD_100</th>\n",
       "      <th>A_HT_DHD_10</th>\n",
       "      <th>B_HT_DHD_10</th>\n",
       "      <th>A_HT_DHD_11</th>\n",
       "      <th>B_HT_DHD_11</th>\n",
       "      <th>A_HT_DHD_12</th>\n",
       "      <th>B_HT_DHD_12</th>\n",
       "      <th>A_HT_DHD_13</th>\n",
       "      <th>B_HT_DHD_13</th>\n",
       "      <th>...</th>\n",
       "      <th>alphaBCL2</th>\n",
       "      <th>2CDP06</th>\n",
       "      <th>XCDP07</th>\n",
       "      <th>alphaMCL1</th>\n",
       "      <th>Bfl-1</th>\n",
       "      <th>Bcl-B</th>\n",
       "      <th>Bcl-2</th>\n",
       "      <th>Bcl-xL</th>\n",
       "      <th>Bcl-w</th>\n",
       "      <th>Mcl1[151-321]</th>\n",
       "    </tr>\n",
       "    <tr>\n",
       "      <th>Name</th>\n",
       "      <th></th>\n",
       "      <th></th>\n",
       "      <th></th>\n",
       "      <th></th>\n",
       "      <th></th>\n",
       "      <th></th>\n",
       "      <th></th>\n",
       "      <th></th>\n",
       "      <th></th>\n",
       "      <th></th>\n",
       "      <th></th>\n",
       "      <th></th>\n",
       "      <th></th>\n",
       "      <th></th>\n",
       "      <th></th>\n",
       "      <th></th>\n",
       "      <th></th>\n",
       "      <th></th>\n",
       "      <th></th>\n",
       "      <th></th>\n",
       "      <th></th>\n",
       "    </tr>\n",
       "  </thead>\n",
       "  <tbody>\n",
       "    <tr>\n",
       "      <td>A_HT_DHD_100</td>\n",
       "      <td>1.0</td>\n",
       "      <td>5.0</td>\n",
       "      <td>NaN</td>\n",
       "      <td>3.0</td>\n",
       "      <td>NaN</td>\n",
       "      <td>1.0</td>\n",
       "      <td>3.0</td>\n",
       "      <td>1.0</td>\n",
       "      <td>3.0</td>\n",
       "      <td>4.0</td>\n",
       "      <td>...</td>\n",
       "      <td>1.0</td>\n",
       "      <td>4.0</td>\n",
       "      <td>2.0</td>\n",
       "      <td>6.0</td>\n",
       "      <td>4.0</td>\n",
       "      <td>21.0</td>\n",
       "      <td>1.0</td>\n",
       "      <td>2.0</td>\n",
       "      <td>4.0</td>\n",
       "      <td>1.0</td>\n",
       "    </tr>\n",
       "    <tr>\n",
       "      <td>B_HT_DHD_100</td>\n",
       "      <td>2.0</td>\n",
       "      <td>33.0</td>\n",
       "      <td>NaN</td>\n",
       "      <td>NaN</td>\n",
       "      <td>2.0</td>\n",
       "      <td>6.0</td>\n",
       "      <td>8.0</td>\n",
       "      <td>7.0</td>\n",
       "      <td>12.0</td>\n",
       "      <td>28.0</td>\n",
       "      <td>...</td>\n",
       "      <td>4.0</td>\n",
       "      <td>2.0</td>\n",
       "      <td>10.0</td>\n",
       "      <td>25.0</td>\n",
       "      <td>35.0</td>\n",
       "      <td>100.0</td>\n",
       "      <td>12.0</td>\n",
       "      <td>7.0</td>\n",
       "      <td>3.0</td>\n",
       "      <td>16.0</td>\n",
       "    </tr>\n",
       "  </tbody>\n",
       "</table>\n",
       "<p>2 rows × 337 columns</p>\n",
       "</div>"
      ],
      "text/plain": [
       "              A_HT_DHD_100  B_HT_DHD_100  A_HT_DHD_10  B_HT_DHD_10  \\\n",
       "Name                                                                 \n",
       "A_HT_DHD_100           1.0           5.0          NaN          3.0   \n",
       "B_HT_DHD_100           2.0          33.0          NaN          NaN   \n",
       "\n",
       "              A_HT_DHD_11  B_HT_DHD_11  A_HT_DHD_12  B_HT_DHD_12  A_HT_DHD_13  \\\n",
       "Name                                                                            \n",
       "A_HT_DHD_100          NaN          1.0          3.0          1.0          3.0   \n",
       "B_HT_DHD_100          2.0          6.0          8.0          7.0         12.0   \n",
       "\n",
       "              B_HT_DHD_13  ...  alphaBCL2  2CDP06  XCDP07  alphaMCL1  Bfl-1  \\\n",
       "Name                       ...                                                \n",
       "A_HT_DHD_100          4.0  ...        1.0     4.0     2.0        6.0    4.0   \n",
       "B_HT_DHD_100         28.0  ...        4.0     2.0    10.0       25.0   35.0   \n",
       "\n",
       "              Bcl-B  Bcl-2  Bcl-xL  Bcl-w  Mcl1[151-321]  \n",
       "Name                                                      \n",
       "A_HT_DHD_100   21.0    1.0     2.0    4.0            1.0  \n",
       "B_HT_DHD_100  100.0   12.0     7.0    3.0           16.0  \n",
       "\n",
       "[2 rows x 337 columns]"
      ]
     },
     "execution_count": 17,
     "metadata": {},
     "output_type": "execute_result"
    }
   ],
   "source": [
    "flask2_his_df.head(2)"
   ]
  },
  {
   "cell_type": "markdown",
   "metadata": {},
   "source": [
    "## Symmetry vectors Flask_1"
   ]
  },
  {
   "cell_type": "code",
   "execution_count": 35,
   "metadata": {},
   "outputs": [],
   "source": [
    "\n",
    "\n",
    "flask_1_up, flask_1_up_log, flask_1_low, flask_1_low_log = [], [], [], []\n",
    "\n",
    "threshold = 100\n",
    "\n",
    "\n",
    "for i in range(trp_df.shape[0]):\n",
    "    for j in range(i+1, trp_df.shape[0]):\n",
    "        \n",
    "        trp_count_up  = trp_df.values[i][j]\n",
    "        trp_count_low = trp_df.values[j][i]\n",
    "        \n",
    "        v_up  = flask1_his_df.values[i][j]\n",
    "        v_low = flask1_his_df.values[j][i]\n",
    "\n",
    "        if trp_count_up > threshold and trp_count_low > threshold and ~np.isnan(v_up) and ~np.isnan(v_low):\n",
    "\n",
    "            flask_1_up.append(v_up/trp_count_up)\n",
    "            flask_1_low.append(v_low/trp_count_low)\n",
    "\n",
    "            flask_1_up_log.append(math.log(v_up/trp_count_up))\n",
    "            flask_1_low_log.append(math.log(v_low/trp_count_low))\n",
    "\n",
    "            "
   ]
  },
  {
   "cell_type": "code",
   "execution_count": 36,
   "metadata": {},
   "outputs": [
    {
     "data": {
      "text/plain": [
       "857"
      ]
     },
     "execution_count": 36,
     "metadata": {},
     "output_type": "execute_result"
    }
   ],
   "source": [
    "len(flask_1_up)"
   ]
  },
  {
   "cell_type": "markdown",
   "metadata": {},
   "source": [
    "### Flask_1 up and low correlation"
   ]
  },
  {
   "cell_type": "code",
   "execution_count": 37,
   "metadata": {},
   "outputs": [
    {
     "data": {
      "text/plain": [
       "(0.360516367754556, 1.0617472952641223e-27)"
      ]
     },
     "execution_count": 37,
     "metadata": {},
     "output_type": "execute_result"
    }
   ],
   "source": [
    "stats.pearsonr(flask_1_up, flask_1_low)"
   ]
  },
  {
   "cell_type": "code",
   "execution_count": 38,
   "metadata": {},
   "outputs": [
    {
     "data": {
      "text/plain": [
       "0.12997205141893825"
      ]
     },
     "execution_count": 38,
     "metadata": {},
     "output_type": "execute_result"
    }
   ],
   "source": [
    "stats.pearsonr(flask_1_up, flask_1_low)[0]**2"
   ]
  },
  {
   "cell_type": "code",
   "execution_count": 39,
   "metadata": {},
   "outputs": [
    {
     "data": {
      "text/plain": [
       "(0.3231994361774647, 2.7472066657287724e-22)"
      ]
     },
     "execution_count": 39,
     "metadata": {},
     "output_type": "execute_result"
    }
   ],
   "source": [
    "stats.pearsonr(flask_1_up_log, flask_1_low_log)"
   ]
  },
  {
   "cell_type": "code",
   "execution_count": 40,
   "metadata": {},
   "outputs": [
    {
     "data": {
      "text/plain": [
       "0.1044578755454311"
      ]
     },
     "execution_count": 40,
     "metadata": {},
     "output_type": "execute_result"
    }
   ],
   "source": [
    "stats.pearsonr(flask_1_up_log, flask_1_low_log)[0]**2"
   ]
  },
  {
   "cell_type": "code",
   "execution_count": 41,
   "metadata": {},
   "outputs": [
    {
     "data": {
      "text/plain": [
       "<matplotlib.collections.PathCollection at 0x1a20b86990>"
      ]
     },
     "execution_count": 41,
     "metadata": {},
     "output_type": "execute_result"
    },
    {
     "data": {
      "image/png": "[encoded data removed]",
      "text/plain": [
       "<Figure size 500x500 with 1 Axes>"
      ]
     },
     "metadata": {
      "needs_background": "light"
     },
     "output_type": "display_data"
    }
   ],
   "source": [
    "plt.figure(figsize=(5.0, 5.0), dpi=100)\n",
    "\n",
    "#plt.xlim([50, 5000])\n",
    "#plt.ylim([50, 5000])\n",
    "\n",
    "plt.xlabel(\"Upper triangle\", size=16)\n",
    "plt.ylabel(\"Lower triangle\", size=16)\n",
    "\n",
    "plt.scatter(flask_1_up_log, flask_1_low_log)"
   ]
  },
  {
   "cell_type": "markdown",
   "metadata": {},
   "source": [
    "## Symmetry vectors Flask_2"
   ]
  },
  {
   "cell_type": "code",
   "execution_count": 78,
   "metadata": {},
   "outputs": [],
   "source": [
    "\n",
    "\n",
    "flask_2_up, flask_2_up_log, flask_2_low, flask_2_low_log = [], [], [], []\n",
    "\n",
    "threshold = 50\n",
    "\n",
    "\n",
    "for i in range(trp_df.shape[0]):\n",
    "    for j in range(i+1, trp_df.shape[0]):\n",
    "        \n",
    "        trp_count_up  = trp_df.values[i][j]\n",
    "        trp_count_low = trp_df.values[j][i]\n",
    "        \n",
    "        v_up  = flask2_his_df.values[i][j]\n",
    "        v_low = flask2_his_df.values[j][i]\n",
    "\n",
    "        if trp_count_up > threshold and trp_count_low > threshold and ~np.isnan(v_up) and ~np.isnan(v_low):\n",
    "\n",
    "            flask_2_up.append(v_up/trp_count_up)\n",
    "            flask_2_low.append(v_low/trp_count_low)\n",
    "\n",
    "            flask_2_up_log.append(math.log(v_up/trp_count_up))\n",
    "            flask_2_low_log.append(math.log(v_low/trp_count_low))\n",
    "\n",
    "            "
   ]
  },
  {
   "cell_type": "code",
   "execution_count": 79,
   "metadata": {},
   "outputs": [
    {
     "data": {
      "text/plain": [
       "4175"
      ]
     },
     "execution_count": 79,
     "metadata": {},
     "output_type": "execute_result"
    }
   ],
   "source": [
    "len(flask_2_up)"
   ]
  },
  {
   "cell_type": "markdown",
   "metadata": {},
   "source": [
    "### Flask_2 up and low correlation"
   ]
  },
  {
   "cell_type": "code",
   "execution_count": 80,
   "metadata": {},
   "outputs": [
    {
     "data": {
      "text/plain": [
       "(0.03607147373882108, 0.019764360784643824)"
      ]
     },
     "execution_count": 80,
     "metadata": {},
     "output_type": "execute_result"
    }
   ],
   "source": [
    "stats.pearsonr(flask_2_up, flask_2_low)"
   ]
  },
  {
   "cell_type": "code",
   "execution_count": 81,
   "metadata": {},
   "outputs": [
    {
     "data": {
      "text/plain": [
       "0.001301151217690459"
      ]
     },
     "execution_count": 81,
     "metadata": {},
     "output_type": "execute_result"
    }
   ],
   "source": [
    "stats.pearsonr(flask_2_up, flask_2_low)[0]**2"
   ]
  },
  {
   "cell_type": "code",
   "execution_count": 82,
   "metadata": {},
   "outputs": [
    {
     "data": {
      "text/plain": [
       "(0.2940940790357428, 4.457668440248875e-84)"
      ]
     },
     "execution_count": 82,
     "metadata": {},
     "output_type": "execute_result"
    }
   ],
   "source": [
    "stats.pearsonr(flask_2_up_log, flask_2_low_log)"
   ]
  },
  {
   "cell_type": "code",
   "execution_count": 83,
   "metadata": {},
   "outputs": [
    {
     "data": {
      "text/plain": [
       "0.08649132732388173"
      ]
     },
     "execution_count": 83,
     "metadata": {},
     "output_type": "execute_result"
    }
   ],
   "source": [
    "stats.pearsonr(flask_2_up_log, flask_2_low_log)[0]**2"
   ]
  },
  {
   "cell_type": "code",
   "execution_count": 84,
   "metadata": {},
   "outputs": [
    {
     "data": {
      "text/plain": [
       "<matplotlib.collections.PathCollection at 0x1150c29d0>"
      ]
     },
     "execution_count": 84,
     "metadata": {},
     "output_type": "execute_result"
    },
    {
     "data": {
      "image/png": "[encoded data removed]",
      "text/plain": [
       "<Figure size 500x500 with 1 Axes>"
      ]
     },
     "metadata": {
      "needs_background": "light"
     },
     "output_type": "display_data"
    }
   ],
   "source": [
    "plt.figure(figsize=(5.0, 5.0), dpi=100)\n",
    "\n",
    "#plt.xlim([50, 5000])\n",
    "#plt.ylim([50, 5000])\n",
    "plt.scatter(flask_2_up_log, flask_2_low_log)"
   ]
  },
  {
   "cell_type": "code",
   "execution_count": null,
   "metadata": {},
   "outputs": [],
   "source": []
  },
  {
   "cell_type": "code",
   "execution_count": null,
   "metadata": {},
   "outputs": [],
   "source": []
  }
 ],
 "metadata": {
  "kernelspec": {
   "display_name": "Python 3",
   "language": "python",
   "name": "python3"
  },
  "language_info": {
   "codemirror_mode": {
    "name": "ipython",
    "version": 3
   },
   "file_extension": ".py",
   "mimetype": "text/x-python",
   "name": "python",
   "nbconvert_exporter": "python",
   "pygments_lexer": "ipython3",
   "version": "3.7.4"
  }
 },
 "nbformat": 4,
 "nbformat_minor": 2
}
