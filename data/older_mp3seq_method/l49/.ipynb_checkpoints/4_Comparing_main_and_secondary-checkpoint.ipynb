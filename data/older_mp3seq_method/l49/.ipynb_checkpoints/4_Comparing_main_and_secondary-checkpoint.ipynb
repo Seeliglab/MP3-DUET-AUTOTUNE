{
 "cells": [
  {
   "cell_type": "code",
   "execution_count": 1,
   "metadata": {},
   "outputs": [],
   "source": [
    "import os\n",
    "import pandas as pd\n",
    "import numpy as np\n",
    "import scipy.stats as stats\n",
    "import matplotlib.pyplot as plt\n",
    "from matplotlib import gridspec\n",
    "import seaborn as sns\n",
    "import math"
   ]
  },
  {
   "cell_type": "code",
   "execution_count": 2,
   "metadata": {},
   "outputs": [],
   "source": [
    "%matplotlib inline"
   ]
  },
  {
   "cell_type": "markdown",
   "metadata": {},
   "source": [
    "# Load data"
   ]
  },
  {
   "cell_type": "markdown",
   "metadata": {},
   "source": [
    "## TRP"
   ]
  },
  {
   "cell_type": "code",
   "execution_count": 3,
   "metadata": {},
   "outputs": [],
   "source": [
    "trp_df = pd.read_csv('L49_TRP_table.csv', index_col=0)"
   ]
  },
  {
   "cell_type": "code",
   "execution_count": 4,
   "metadata": {},
   "outputs": [
    {
     "data": {
      "text/plain": [
       "(337, 337)"
      ]
     },
     "execution_count": 4,
     "metadata": {},
     "output_type": "execute_result"
    }
   ],
   "source": [
    "trp_df.shape"
   ]
  },
  {
   "cell_type": "code",
   "execution_count": 5,
   "metadata": {},
   "outputs": [
    {
     "data": {
      "text/html": [
       "<div>\n",
       "<style scoped>\n",
       "    .dataframe tbody tr th:only-of-type {\n",
       "        vertical-align: middle;\n",
       "    }\n",
       "\n",
       "    .dataframe tbody tr th {\n",
       "        vertical-align: top;\n",
       "    }\n",
       "\n",
       "    .dataframe thead th {\n",
       "        text-align: right;\n",
       "    }\n",
       "</style>\n",
       "<table border=\"1\" class=\"dataframe\">\n",
       "  <thead>\n",
       "    <tr style=\"text-align: right;\">\n",
       "      <th></th>\n",
       "      <th>A_HT_DHD_100</th>\n",
       "      <th>B_HT_DHD_100</th>\n",
       "      <th>A_HT_DHD_10</th>\n",
       "      <th>B_HT_DHD_10</th>\n",
       "      <th>A_HT_DHD_11</th>\n",
       "      <th>B_HT_DHD_11</th>\n",
       "      <th>A_HT_DHD_12</th>\n",
       "      <th>B_HT_DHD_12</th>\n",
       "      <th>A_HT_DHD_13</th>\n",
       "      <th>B_HT_DHD_13</th>\n",
       "      <th>...</th>\n",
       "      <th>alphaBCL2</th>\n",
       "      <th>2CDP06</th>\n",
       "      <th>XCDP07</th>\n",
       "      <th>alphaMCL1</th>\n",
       "      <th>Bfl-1</th>\n",
       "      <th>Bcl-B</th>\n",
       "      <th>Bcl-2</th>\n",
       "      <th>Bcl-xL</th>\n",
       "      <th>Bcl-w</th>\n",
       "      <th>Mcl1[151-321]</th>\n",
       "    </tr>\n",
       "    <tr>\n",
       "      <th>Name</th>\n",
       "      <th></th>\n",
       "      <th></th>\n",
       "      <th></th>\n",
       "      <th></th>\n",
       "      <th></th>\n",
       "      <th></th>\n",
       "      <th></th>\n",
       "      <th></th>\n",
       "      <th></th>\n",
       "      <th></th>\n",
       "      <th></th>\n",
       "      <th></th>\n",
       "      <th></th>\n",
       "      <th></th>\n",
       "      <th></th>\n",
       "      <th></th>\n",
       "      <th></th>\n",
       "      <th></th>\n",
       "      <th></th>\n",
       "      <th></th>\n",
       "      <th></th>\n",
       "    </tr>\n",
       "  </thead>\n",
       "  <tbody>\n",
       "    <tr>\n",
       "      <td>A_HT_DHD_100</td>\n",
       "      <td>3.0</td>\n",
       "      <td>14.0</td>\n",
       "      <td>7.0</td>\n",
       "      <td>61.0</td>\n",
       "      <td>37.0</td>\n",
       "      <td>48.0</td>\n",
       "      <td>9.0</td>\n",
       "      <td>7.0</td>\n",
       "      <td>12.0</td>\n",
       "      <td>26.0</td>\n",
       "      <td>...</td>\n",
       "      <td>29.0</td>\n",
       "      <td>44.0</td>\n",
       "      <td>13.0</td>\n",
       "      <td>66.0</td>\n",
       "      <td>36.0</td>\n",
       "      <td>157.0</td>\n",
       "      <td>26.0</td>\n",
       "      <td>15.0</td>\n",
       "      <td>16.0</td>\n",
       "      <td>43.0</td>\n",
       "    </tr>\n",
       "    <tr>\n",
       "      <td>B_HT_DHD_100</td>\n",
       "      <td>13.0</td>\n",
       "      <td>58.0</td>\n",
       "      <td>10.0</td>\n",
       "      <td>30.0</td>\n",
       "      <td>39.0</td>\n",
       "      <td>53.0</td>\n",
       "      <td>21.0</td>\n",
       "      <td>29.0</td>\n",
       "      <td>4.0</td>\n",
       "      <td>45.0</td>\n",
       "      <td>...</td>\n",
       "      <td>76.0</td>\n",
       "      <td>63.0</td>\n",
       "      <td>19.0</td>\n",
       "      <td>84.0</td>\n",
       "      <td>77.0</td>\n",
       "      <td>279.0</td>\n",
       "      <td>41.0</td>\n",
       "      <td>13.0</td>\n",
       "      <td>25.0</td>\n",
       "      <td>82.0</td>\n",
       "    </tr>\n",
       "  </tbody>\n",
       "</table>\n",
       "<p>2 rows × 337 columns</p>\n",
       "</div>"
      ],
      "text/plain": [
       "              A_HT_DHD_100  B_HT_DHD_100  A_HT_DHD_10  B_HT_DHD_10  \\\n",
       "Name                                                                 \n",
       "A_HT_DHD_100           3.0          14.0          7.0         61.0   \n",
       "B_HT_DHD_100          13.0          58.0         10.0         30.0   \n",
       "\n",
       "              A_HT_DHD_11  B_HT_DHD_11  A_HT_DHD_12  B_HT_DHD_12  A_HT_DHD_13  \\\n",
       "Name                                                                            \n",
       "A_HT_DHD_100         37.0         48.0          9.0          7.0         12.0   \n",
       "B_HT_DHD_100         39.0         53.0         21.0         29.0          4.0   \n",
       "\n",
       "              B_HT_DHD_13  ...  alphaBCL2  2CDP06  XCDP07  alphaMCL1  Bfl-1  \\\n",
       "Name                       ...                                                \n",
       "A_HT_DHD_100         26.0  ...       29.0    44.0    13.0       66.0   36.0   \n",
       "B_HT_DHD_100         45.0  ...       76.0    63.0    19.0       84.0   77.0   \n",
       "\n",
       "              Bcl-B  Bcl-2  Bcl-xL  Bcl-w  Mcl1[151-321]  \n",
       "Name                                                      \n",
       "A_HT_DHD_100  157.0   26.0    15.0   16.0           43.0  \n",
       "B_HT_DHD_100  279.0   41.0    13.0   25.0           82.0  \n",
       "\n",
       "[2 rows x 337 columns]"
      ]
     },
     "execution_count": 5,
     "metadata": {},
     "output_type": "execute_result"
    }
   ],
   "source": [
    "trp_df.head(2)"
   ]
  },
  {
   "cell_type": "markdown",
   "metadata": {},
   "source": [
    "### Main elute / elute_1"
   ]
  },
  {
   "cell_type": "code",
   "execution_count": 6,
   "metadata": {},
   "outputs": [],
   "source": [
    "elute_1_his_df = pd.read_csv('L49_HIS_main.csv', index_col=0)"
   ]
  },
  {
   "cell_type": "code",
   "execution_count": 7,
   "metadata": {},
   "outputs": [
    {
     "data": {
      "text/plain": [
       "(337, 337)"
      ]
     },
     "execution_count": 7,
     "metadata": {},
     "output_type": "execute_result"
    }
   ],
   "source": [
    "elute_1_his_df.shape"
   ]
  },
  {
   "cell_type": "code",
   "execution_count": 8,
   "metadata": {},
   "outputs": [
    {
     "data": {
      "text/html": [
       "<div>\n",
       "<style scoped>\n",
       "    .dataframe tbody tr th:only-of-type {\n",
       "        vertical-align: middle;\n",
       "    }\n",
       "\n",
       "    .dataframe tbody tr th {\n",
       "        vertical-align: top;\n",
       "    }\n",
       "\n",
       "    .dataframe thead th {\n",
       "        text-align: right;\n",
       "    }\n",
       "</style>\n",
       "<table border=\"1\" class=\"dataframe\">\n",
       "  <thead>\n",
       "    <tr style=\"text-align: right;\">\n",
       "      <th></th>\n",
       "      <th>A_HT_DHD_100</th>\n",
       "      <th>B_HT_DHD_100</th>\n",
       "      <th>A_HT_DHD_10</th>\n",
       "      <th>B_HT_DHD_10</th>\n",
       "      <th>A_HT_DHD_11</th>\n",
       "      <th>B_HT_DHD_11</th>\n",
       "      <th>A_HT_DHD_12</th>\n",
       "      <th>B_HT_DHD_12</th>\n",
       "      <th>A_HT_DHD_13</th>\n",
       "      <th>B_HT_DHD_13</th>\n",
       "      <th>...</th>\n",
       "      <th>alphaBCL2</th>\n",
       "      <th>2CDP06</th>\n",
       "      <th>XCDP07</th>\n",
       "      <th>alphaMCL1</th>\n",
       "      <th>Bfl-1</th>\n",
       "      <th>Bcl-B</th>\n",
       "      <th>Bcl-2</th>\n",
       "      <th>Bcl-xL</th>\n",
       "      <th>Bcl-w</th>\n",
       "      <th>Mcl1[151-321]</th>\n",
       "    </tr>\n",
       "    <tr>\n",
       "      <th>Name</th>\n",
       "      <th></th>\n",
       "      <th></th>\n",
       "      <th></th>\n",
       "      <th></th>\n",
       "      <th></th>\n",
       "      <th></th>\n",
       "      <th></th>\n",
       "      <th></th>\n",
       "      <th></th>\n",
       "      <th></th>\n",
       "      <th></th>\n",
       "      <th></th>\n",
       "      <th></th>\n",
       "      <th></th>\n",
       "      <th></th>\n",
       "      <th></th>\n",
       "      <th></th>\n",
       "      <th></th>\n",
       "      <th></th>\n",
       "      <th></th>\n",
       "      <th></th>\n",
       "    </tr>\n",
       "  </thead>\n",
       "  <tbody>\n",
       "    <tr>\n",
       "      <td>A_HT_DHD_100</td>\n",
       "      <td>NaN</td>\n",
       "      <td>3.0</td>\n",
       "      <td>NaN</td>\n",
       "      <td>5.0</td>\n",
       "      <td>NaN</td>\n",
       "      <td>15.0</td>\n",
       "      <td>5.0</td>\n",
       "      <td>2.0</td>\n",
       "      <td>3.0</td>\n",
       "      <td>67.0</td>\n",
       "      <td>...</td>\n",
       "      <td>NaN</td>\n",
       "      <td>8.0</td>\n",
       "      <td>2.0</td>\n",
       "      <td>1.0</td>\n",
       "      <td>4.0</td>\n",
       "      <td>11.0</td>\n",
       "      <td>1.0</td>\n",
       "      <td>2.0</td>\n",
       "      <td>NaN</td>\n",
       "      <td>1.0</td>\n",
       "    </tr>\n",
       "    <tr>\n",
       "      <td>B_HT_DHD_100</td>\n",
       "      <td>2.0</td>\n",
       "      <td>8.0</td>\n",
       "      <td>1.0</td>\n",
       "      <td>1.0</td>\n",
       "      <td>1.0</td>\n",
       "      <td>4.0</td>\n",
       "      <td>8.0</td>\n",
       "      <td>5.0</td>\n",
       "      <td>11.0</td>\n",
       "      <td>183.0</td>\n",
       "      <td>...</td>\n",
       "      <td>13.0</td>\n",
       "      <td>31.0</td>\n",
       "      <td>7.0</td>\n",
       "      <td>6.0</td>\n",
       "      <td>11.0</td>\n",
       "      <td>54.0</td>\n",
       "      <td>NaN</td>\n",
       "      <td>6.0</td>\n",
       "      <td>2.0</td>\n",
       "      <td>8.0</td>\n",
       "    </tr>\n",
       "    <tr>\n",
       "      <td>A_HT_DHD_10</td>\n",
       "      <td>3.0</td>\n",
       "      <td>2.0</td>\n",
       "      <td>NaN</td>\n",
       "      <td>1.0</td>\n",
       "      <td>NaN</td>\n",
       "      <td>6.0</td>\n",
       "      <td>5.0</td>\n",
       "      <td>NaN</td>\n",
       "      <td>1.0</td>\n",
       "      <td>41.0</td>\n",
       "      <td>...</td>\n",
       "      <td>NaN</td>\n",
       "      <td>5.0</td>\n",
       "      <td>NaN</td>\n",
       "      <td>4.0</td>\n",
       "      <td>1.0</td>\n",
       "      <td>8.0</td>\n",
       "      <td>5.0</td>\n",
       "      <td>1.0</td>\n",
       "      <td>NaN</td>\n",
       "      <td>1.0</td>\n",
       "    </tr>\n",
       "    <tr>\n",
       "      <td>B_HT_DHD_10</td>\n",
       "      <td>NaN</td>\n",
       "      <td>2.0</td>\n",
       "      <td>29.0</td>\n",
       "      <td>NaN</td>\n",
       "      <td>NaN</td>\n",
       "      <td>3.0</td>\n",
       "      <td>NaN</td>\n",
       "      <td>NaN</td>\n",
       "      <td>2.0</td>\n",
       "      <td>28.0</td>\n",
       "      <td>...</td>\n",
       "      <td>NaN</td>\n",
       "      <td>7.0</td>\n",
       "      <td>2.0</td>\n",
       "      <td>3.0</td>\n",
       "      <td>8.0</td>\n",
       "      <td>5.0</td>\n",
       "      <td>2.0</td>\n",
       "      <td>NaN</td>\n",
       "      <td>1.0</td>\n",
       "      <td>2.0</td>\n",
       "    </tr>\n",
       "    <tr>\n",
       "      <td>A_HT_DHD_11</td>\n",
       "      <td>NaN</td>\n",
       "      <td>509.0</td>\n",
       "      <td>1.0</td>\n",
       "      <td>1.0</td>\n",
       "      <td>2.0</td>\n",
       "      <td>3.0</td>\n",
       "      <td>3.0</td>\n",
       "      <td>2.0</td>\n",
       "      <td>8.0</td>\n",
       "      <td>148.0</td>\n",
       "      <td>...</td>\n",
       "      <td>2.0</td>\n",
       "      <td>29.0</td>\n",
       "      <td>NaN</td>\n",
       "      <td>20.0</td>\n",
       "      <td>8.0</td>\n",
       "      <td>36.0</td>\n",
       "      <td>4.0</td>\n",
       "      <td>1.0</td>\n",
       "      <td>1.0</td>\n",
       "      <td>2.0</td>\n",
       "    </tr>\n",
       "  </tbody>\n",
       "</table>\n",
       "<p>5 rows × 337 columns</p>\n",
       "</div>"
      ],
      "text/plain": [
       "              A_HT_DHD_100  B_HT_DHD_100  A_HT_DHD_10  B_HT_DHD_10  \\\n",
       "Name                                                                 \n",
       "A_HT_DHD_100           NaN           3.0          NaN          5.0   \n",
       "B_HT_DHD_100           2.0           8.0          1.0          1.0   \n",
       "A_HT_DHD_10            3.0           2.0          NaN          1.0   \n",
       "B_HT_DHD_10            NaN           2.0         29.0          NaN   \n",
       "A_HT_DHD_11            NaN         509.0          1.0          1.0   \n",
       "\n",
       "              A_HT_DHD_11  B_HT_DHD_11  A_HT_DHD_12  B_HT_DHD_12  A_HT_DHD_13  \\\n",
       "Name                                                                            \n",
       "A_HT_DHD_100          NaN         15.0          5.0          2.0          3.0   \n",
       "B_HT_DHD_100          1.0          4.0          8.0          5.0         11.0   \n",
       "A_HT_DHD_10           NaN          6.0          5.0          NaN          1.0   \n",
       "B_HT_DHD_10           NaN          3.0          NaN          NaN          2.0   \n",
       "A_HT_DHD_11           2.0          3.0          3.0          2.0          8.0   \n",
       "\n",
       "              B_HT_DHD_13  ...  alphaBCL2  2CDP06  XCDP07  alphaMCL1  Bfl-1  \\\n",
       "Name                       ...                                                \n",
       "A_HT_DHD_100         67.0  ...        NaN     8.0     2.0        1.0    4.0   \n",
       "B_HT_DHD_100        183.0  ...       13.0    31.0     7.0        6.0   11.0   \n",
       "A_HT_DHD_10          41.0  ...        NaN     5.0     NaN        4.0    1.0   \n",
       "B_HT_DHD_10          28.0  ...        NaN     7.0     2.0        3.0    8.0   \n",
       "A_HT_DHD_11         148.0  ...        2.0    29.0     NaN       20.0    8.0   \n",
       "\n",
       "              Bcl-B  Bcl-2  Bcl-xL  Bcl-w  Mcl1[151-321]  \n",
       "Name                                                      \n",
       "A_HT_DHD_100   11.0    1.0     2.0    NaN            1.0  \n",
       "B_HT_DHD_100   54.0    NaN     6.0    2.0            8.0  \n",
       "A_HT_DHD_10     8.0    5.0     1.0    NaN            1.0  \n",
       "B_HT_DHD_10     5.0    2.0     NaN    1.0            2.0  \n",
       "A_HT_DHD_11    36.0    4.0     1.0    1.0            2.0  \n",
       "\n",
       "[5 rows x 337 columns]"
      ]
     },
     "execution_count": 8,
     "metadata": {},
     "output_type": "execute_result"
    }
   ],
   "source": [
    "elute_1_his_df.head()"
   ]
  },
  {
   "cell_type": "markdown",
   "metadata": {},
   "source": [
    "### Secondary elute / elute_2"
   ]
  },
  {
   "cell_type": "code",
   "execution_count": 9,
   "metadata": {},
   "outputs": [],
   "source": [
    "elute_2_his_df = pd.read_csv('L49_HIS_secondary.csv', index_col=0)"
   ]
  },
  {
   "cell_type": "code",
   "execution_count": 10,
   "metadata": {},
   "outputs": [
    {
     "data": {
      "text/plain": [
       "(337, 337)"
      ]
     },
     "execution_count": 10,
     "metadata": {},
     "output_type": "execute_result"
    }
   ],
   "source": [
    "elute_2_his_df.shape"
   ]
  },
  {
   "cell_type": "code",
   "execution_count": 11,
   "metadata": {},
   "outputs": [
    {
     "data": {
      "text/html": [
       "<div>\n",
       "<style scoped>\n",
       "    .dataframe tbody tr th:only-of-type {\n",
       "        vertical-align: middle;\n",
       "    }\n",
       "\n",
       "    .dataframe tbody tr th {\n",
       "        vertical-align: top;\n",
       "    }\n",
       "\n",
       "    .dataframe thead th {\n",
       "        text-align: right;\n",
       "    }\n",
       "</style>\n",
       "<table border=\"1\" class=\"dataframe\">\n",
       "  <thead>\n",
       "    <tr style=\"text-align: right;\">\n",
       "      <th></th>\n",
       "      <th>A_HT_DHD_100</th>\n",
       "      <th>B_HT_DHD_100</th>\n",
       "      <th>A_HT_DHD_10</th>\n",
       "      <th>B_HT_DHD_10</th>\n",
       "      <th>A_HT_DHD_11</th>\n",
       "      <th>B_HT_DHD_11</th>\n",
       "      <th>A_HT_DHD_12</th>\n",
       "      <th>B_HT_DHD_12</th>\n",
       "      <th>A_HT_DHD_13</th>\n",
       "      <th>B_HT_DHD_13</th>\n",
       "      <th>...</th>\n",
       "      <th>alphaBCL2</th>\n",
       "      <th>2CDP06</th>\n",
       "      <th>XCDP07</th>\n",
       "      <th>alphaMCL1</th>\n",
       "      <th>Bfl-1</th>\n",
       "      <th>Bcl-B</th>\n",
       "      <th>Bcl-2</th>\n",
       "      <th>Bcl-xL</th>\n",
       "      <th>Bcl-w</th>\n",
       "      <th>Mcl1[151-321]</th>\n",
       "    </tr>\n",
       "    <tr>\n",
       "      <th>Name</th>\n",
       "      <th></th>\n",
       "      <th></th>\n",
       "      <th></th>\n",
       "      <th></th>\n",
       "      <th></th>\n",
       "      <th></th>\n",
       "      <th></th>\n",
       "      <th></th>\n",
       "      <th></th>\n",
       "      <th></th>\n",
       "      <th></th>\n",
       "      <th></th>\n",
       "      <th></th>\n",
       "      <th></th>\n",
       "      <th></th>\n",
       "      <th></th>\n",
       "      <th></th>\n",
       "      <th></th>\n",
       "      <th></th>\n",
       "      <th></th>\n",
       "      <th></th>\n",
       "    </tr>\n",
       "  </thead>\n",
       "  <tbody>\n",
       "    <tr>\n",
       "      <td>A_HT_DHD_100</td>\n",
       "      <td>NaN</td>\n",
       "      <td>3.0</td>\n",
       "      <td>1.0</td>\n",
       "      <td>8.0</td>\n",
       "      <td>1.0</td>\n",
       "      <td>18.0</td>\n",
       "      <td>5.0</td>\n",
       "      <td>2.0</td>\n",
       "      <td>2.0</td>\n",
       "      <td>11.0</td>\n",
       "      <td>...</td>\n",
       "      <td>6.0</td>\n",
       "      <td>2.0</td>\n",
       "      <td>4.0</td>\n",
       "      <td>4.0</td>\n",
       "      <td>10.0</td>\n",
       "      <td>29.0</td>\n",
       "      <td>3.0</td>\n",
       "      <td>4.0</td>\n",
       "      <td>1.0</td>\n",
       "      <td>3.0</td>\n",
       "    </tr>\n",
       "    <tr>\n",
       "      <td>B_HT_DHD_100</td>\n",
       "      <td>2.0</td>\n",
       "      <td>22.0</td>\n",
       "      <td>4.0</td>\n",
       "      <td>5.0</td>\n",
       "      <td>NaN</td>\n",
       "      <td>4.0</td>\n",
       "      <td>7.0</td>\n",
       "      <td>5.0</td>\n",
       "      <td>19.0</td>\n",
       "      <td>32.0</td>\n",
       "      <td>...</td>\n",
       "      <td>12.0</td>\n",
       "      <td>6.0</td>\n",
       "      <td>5.0</td>\n",
       "      <td>12.0</td>\n",
       "      <td>24.0</td>\n",
       "      <td>86.0</td>\n",
       "      <td>10.0</td>\n",
       "      <td>7.0</td>\n",
       "      <td>5.0</td>\n",
       "      <td>7.0</td>\n",
       "    </tr>\n",
       "    <tr>\n",
       "      <td>A_HT_DHD_10</td>\n",
       "      <td>NaN</td>\n",
       "      <td>2.0</td>\n",
       "      <td>NaN</td>\n",
       "      <td>NaN</td>\n",
       "      <td>1.0</td>\n",
       "      <td>9.0</td>\n",
       "      <td>6.0</td>\n",
       "      <td>2.0</td>\n",
       "      <td>6.0</td>\n",
       "      <td>6.0</td>\n",
       "      <td>...</td>\n",
       "      <td>NaN</td>\n",
       "      <td>5.0</td>\n",
       "      <td>3.0</td>\n",
       "      <td>5.0</td>\n",
       "      <td>3.0</td>\n",
       "      <td>19.0</td>\n",
       "      <td>3.0</td>\n",
       "      <td>5.0</td>\n",
       "      <td>NaN</td>\n",
       "      <td>1.0</td>\n",
       "    </tr>\n",
       "    <tr>\n",
       "      <td>B_HT_DHD_10</td>\n",
       "      <td>NaN</td>\n",
       "      <td>3.0</td>\n",
       "      <td>75.0</td>\n",
       "      <td>1.0</td>\n",
       "      <td>8.0</td>\n",
       "      <td>15.0</td>\n",
       "      <td>7.0</td>\n",
       "      <td>NaN</td>\n",
       "      <td>2.0</td>\n",
       "      <td>2.0</td>\n",
       "      <td>...</td>\n",
       "      <td>3.0</td>\n",
       "      <td>1.0</td>\n",
       "      <td>NaN</td>\n",
       "      <td>19.0</td>\n",
       "      <td>16.0</td>\n",
       "      <td>19.0</td>\n",
       "      <td>8.0</td>\n",
       "      <td>NaN</td>\n",
       "      <td>NaN</td>\n",
       "      <td>4.0</td>\n",
       "    </tr>\n",
       "    <tr>\n",
       "      <td>A_HT_DHD_11</td>\n",
       "      <td>1.0</td>\n",
       "      <td>1339.0</td>\n",
       "      <td>NaN</td>\n",
       "      <td>NaN</td>\n",
       "      <td>7.0</td>\n",
       "      <td>1.0</td>\n",
       "      <td>6.0</td>\n",
       "      <td>7.0</td>\n",
       "      <td>26.0</td>\n",
       "      <td>25.0</td>\n",
       "      <td>...</td>\n",
       "      <td>3.0</td>\n",
       "      <td>16.0</td>\n",
       "      <td>6.0</td>\n",
       "      <td>20.0</td>\n",
       "      <td>12.0</td>\n",
       "      <td>52.0</td>\n",
       "      <td>20.0</td>\n",
       "      <td>4.0</td>\n",
       "      <td>4.0</td>\n",
       "      <td>18.0</td>\n",
       "    </tr>\n",
       "  </tbody>\n",
       "</table>\n",
       "<p>5 rows × 337 columns</p>\n",
       "</div>"
      ],
      "text/plain": [
       "              A_HT_DHD_100  B_HT_DHD_100  A_HT_DHD_10  B_HT_DHD_10  \\\n",
       "Name                                                                 \n",
       "A_HT_DHD_100           NaN           3.0          1.0          8.0   \n",
       "B_HT_DHD_100           2.0          22.0          4.0          5.0   \n",
       "A_HT_DHD_10            NaN           2.0          NaN          NaN   \n",
       "B_HT_DHD_10            NaN           3.0         75.0          1.0   \n",
       "A_HT_DHD_11            1.0        1339.0          NaN          NaN   \n",
       "\n",
       "              A_HT_DHD_11  B_HT_DHD_11  A_HT_DHD_12  B_HT_DHD_12  A_HT_DHD_13  \\\n",
       "Name                                                                            \n",
       "A_HT_DHD_100          1.0         18.0          5.0          2.0          2.0   \n",
       "B_HT_DHD_100          NaN          4.0          7.0          5.0         19.0   \n",
       "A_HT_DHD_10           1.0          9.0          6.0          2.0          6.0   \n",
       "B_HT_DHD_10           8.0         15.0          7.0          NaN          2.0   \n",
       "A_HT_DHD_11           7.0          1.0          6.0          7.0         26.0   \n",
       "\n",
       "              B_HT_DHD_13  ...  alphaBCL2  2CDP06  XCDP07  alphaMCL1  Bfl-1  \\\n",
       "Name                       ...                                                \n",
       "A_HT_DHD_100         11.0  ...        6.0     2.0     4.0        4.0   10.0   \n",
       "B_HT_DHD_100         32.0  ...       12.0     6.0     5.0       12.0   24.0   \n",
       "A_HT_DHD_10           6.0  ...        NaN     5.0     3.0        5.0    3.0   \n",
       "B_HT_DHD_10           2.0  ...        3.0     1.0     NaN       19.0   16.0   \n",
       "A_HT_DHD_11          25.0  ...        3.0    16.0     6.0       20.0   12.0   \n",
       "\n",
       "              Bcl-B  Bcl-2  Bcl-xL  Bcl-w  Mcl1[151-321]  \n",
       "Name                                                      \n",
       "A_HT_DHD_100   29.0    3.0     4.0    1.0            3.0  \n",
       "B_HT_DHD_100   86.0   10.0     7.0    5.0            7.0  \n",
       "A_HT_DHD_10    19.0    3.0     5.0    NaN            1.0  \n",
       "B_HT_DHD_10    19.0    8.0     NaN    NaN            4.0  \n",
       "A_HT_DHD_11    52.0   20.0     4.0    4.0           18.0  \n",
       "\n",
       "[5 rows x 337 columns]"
      ]
     },
     "execution_count": 11,
     "metadata": {},
     "output_type": "execute_result"
    }
   ],
   "source": [
    "elute_2_his_df.head()"
   ]
  },
  {
   "cell_type": "markdown",
   "metadata": {},
   "source": [
    "# Load Flask_1 and Flask_2 data"
   ]
  },
  {
   "cell_type": "markdown",
   "metadata": {},
   "source": [
    "## Flask_1"
   ]
  },
  {
   "cell_type": "code",
   "execution_count": 12,
   "metadata": {},
   "outputs": [],
   "source": [
    "flask1_his_df = pd.read_csv('L49_HIS_Flask1.csv', index_col=0)"
   ]
  },
  {
   "cell_type": "code",
   "execution_count": 13,
   "metadata": {},
   "outputs": [
    {
     "data": {
      "text/plain": [
       "(337, 337)"
      ]
     },
     "execution_count": 13,
     "metadata": {},
     "output_type": "execute_result"
    }
   ],
   "source": [
    "flask1_his_df.shape"
   ]
  },
  {
   "cell_type": "code",
   "execution_count": 14,
   "metadata": {},
   "outputs": [
    {
     "data": {
      "text/html": [
       "<div>\n",
       "<style scoped>\n",
       "    .dataframe tbody tr th:only-of-type {\n",
       "        vertical-align: middle;\n",
       "    }\n",
       "\n",
       "    .dataframe tbody tr th {\n",
       "        vertical-align: top;\n",
       "    }\n",
       "\n",
       "    .dataframe thead th {\n",
       "        text-align: right;\n",
       "    }\n",
       "</style>\n",
       "<table border=\"1\" class=\"dataframe\">\n",
       "  <thead>\n",
       "    <tr style=\"text-align: right;\">\n",
       "      <th></th>\n",
       "      <th>A_HT_DHD_100</th>\n",
       "      <th>B_HT_DHD_100</th>\n",
       "      <th>A_HT_DHD_10</th>\n",
       "      <th>B_HT_DHD_10</th>\n",
       "      <th>A_HT_DHD_11</th>\n",
       "      <th>B_HT_DHD_11</th>\n",
       "      <th>A_HT_DHD_12</th>\n",
       "      <th>B_HT_DHD_12</th>\n",
       "      <th>A_HT_DHD_13</th>\n",
       "      <th>B_HT_DHD_13</th>\n",
       "      <th>...</th>\n",
       "      <th>alphaBCL2</th>\n",
       "      <th>2CDP06</th>\n",
       "      <th>XCDP07</th>\n",
       "      <th>alphaMCL1</th>\n",
       "      <th>Bfl-1</th>\n",
       "      <th>Bcl-B</th>\n",
       "      <th>Bcl-2</th>\n",
       "      <th>Bcl-xL</th>\n",
       "      <th>Bcl-w</th>\n",
       "      <th>Mcl1[151-321]</th>\n",
       "    </tr>\n",
       "    <tr>\n",
       "      <th>Name</th>\n",
       "      <th></th>\n",
       "      <th></th>\n",
       "      <th></th>\n",
       "      <th></th>\n",
       "      <th></th>\n",
       "      <th></th>\n",
       "      <th></th>\n",
       "      <th></th>\n",
       "      <th></th>\n",
       "      <th></th>\n",
       "      <th></th>\n",
       "      <th></th>\n",
       "      <th></th>\n",
       "      <th></th>\n",
       "      <th></th>\n",
       "      <th></th>\n",
       "      <th></th>\n",
       "      <th></th>\n",
       "      <th></th>\n",
       "      <th></th>\n",
       "      <th></th>\n",
       "    </tr>\n",
       "  </thead>\n",
       "  <tbody>\n",
       "    <tr>\n",
       "      <td>A_HT_DHD_100</td>\n",
       "      <td>NaN</td>\n",
       "      <td>6.0</td>\n",
       "      <td>2.0</td>\n",
       "      <td>1.0</td>\n",
       "      <td>1.0</td>\n",
       "      <td>9.0</td>\n",
       "      <td>4.0</td>\n",
       "      <td>1.0</td>\n",
       "      <td>5.0</td>\n",
       "      <td>20.0</td>\n",
       "      <td>...</td>\n",
       "      <td>2.0</td>\n",
       "      <td>6.0</td>\n",
       "      <td>NaN</td>\n",
       "      <td>5.0</td>\n",
       "      <td>9.0</td>\n",
       "      <td>24.0</td>\n",
       "      <td>3.0</td>\n",
       "      <td>6.0</td>\n",
       "      <td>1.0</td>\n",
       "      <td>6.0</td>\n",
       "    </tr>\n",
       "    <tr>\n",
       "      <td>B_HT_DHD_100</td>\n",
       "      <td>3.0</td>\n",
       "      <td>32.0</td>\n",
       "      <td>7.0</td>\n",
       "      <td>1.0</td>\n",
       "      <td>1.0</td>\n",
       "      <td>12.0</td>\n",
       "      <td>8.0</td>\n",
       "      <td>7.0</td>\n",
       "      <td>29.0</td>\n",
       "      <td>70.0</td>\n",
       "      <td>...</td>\n",
       "      <td>20.0</td>\n",
       "      <td>8.0</td>\n",
       "      <td>13.0</td>\n",
       "      <td>23.0</td>\n",
       "      <td>26.0</td>\n",
       "      <td>96.0</td>\n",
       "      <td>8.0</td>\n",
       "      <td>6.0</td>\n",
       "      <td>6.0</td>\n",
       "      <td>12.0</td>\n",
       "    </tr>\n",
       "  </tbody>\n",
       "</table>\n",
       "<p>2 rows × 337 columns</p>\n",
       "</div>"
      ],
      "text/plain": [
       "              A_HT_DHD_100  B_HT_DHD_100  A_HT_DHD_10  B_HT_DHD_10  \\\n",
       "Name                                                                 \n",
       "A_HT_DHD_100           NaN           6.0          2.0          1.0   \n",
       "B_HT_DHD_100           3.0          32.0          7.0          1.0   \n",
       "\n",
       "              A_HT_DHD_11  B_HT_DHD_11  A_HT_DHD_12  B_HT_DHD_12  A_HT_DHD_13  \\\n",
       "Name                                                                            \n",
       "A_HT_DHD_100          1.0          9.0          4.0          1.0          5.0   \n",
       "B_HT_DHD_100          1.0         12.0          8.0          7.0         29.0   \n",
       "\n",
       "              B_HT_DHD_13  ...  alphaBCL2  2CDP06  XCDP07  alphaMCL1  Bfl-1  \\\n",
       "Name                       ...                                                \n",
       "A_HT_DHD_100         20.0  ...        2.0     6.0     NaN        5.0    9.0   \n",
       "B_HT_DHD_100         70.0  ...       20.0     8.0    13.0       23.0   26.0   \n",
       "\n",
       "              Bcl-B  Bcl-2  Bcl-xL  Bcl-w  Mcl1[151-321]  \n",
       "Name                                                      \n",
       "A_HT_DHD_100   24.0    3.0     6.0    1.0            6.0  \n",
       "B_HT_DHD_100   96.0    8.0     6.0    6.0           12.0  \n",
       "\n",
       "[2 rows x 337 columns]"
      ]
     },
     "execution_count": 14,
     "metadata": {},
     "output_type": "execute_result"
    }
   ],
   "source": [
    "flask1_his_df.head(2)"
   ]
  },
  {
   "cell_type": "markdown",
   "metadata": {},
   "source": [
    "## Flask_2"
   ]
  },
  {
   "cell_type": "code",
   "execution_count": 15,
   "metadata": {},
   "outputs": [],
   "source": [
    "flask2_his_df = pd.read_csv('L49_HIS_Flask2.csv', index_col=0)"
   ]
  },
  {
   "cell_type": "code",
   "execution_count": 16,
   "metadata": {},
   "outputs": [
    {
     "data": {
      "text/plain": [
       "(337, 337)"
      ]
     },
     "execution_count": 16,
     "metadata": {},
     "output_type": "execute_result"
    }
   ],
   "source": [
    "flask2_his_df.shape"
   ]
  },
  {
   "cell_type": "code",
   "execution_count": 17,
   "metadata": {},
   "outputs": [
    {
     "data": {
      "text/html": [
       "<div>\n",
       "<style scoped>\n",
       "    .dataframe tbody tr th:only-of-type {\n",
       "        vertical-align: middle;\n",
       "    }\n",
       "\n",
       "    .dataframe tbody tr th {\n",
       "        vertical-align: top;\n",
       "    }\n",
       "\n",
       "    .dataframe thead th {\n",
       "        text-align: right;\n",
       "    }\n",
       "</style>\n",
       "<table border=\"1\" class=\"dataframe\">\n",
       "  <thead>\n",
       "    <tr style=\"text-align: right;\">\n",
       "      <th></th>\n",
       "      <th>A_HT_DHD_100</th>\n",
       "      <th>B_HT_DHD_100</th>\n",
       "      <th>A_HT_DHD_10</th>\n",
       "      <th>B_HT_DHD_10</th>\n",
       "      <th>A_HT_DHD_11</th>\n",
       "      <th>B_HT_DHD_11</th>\n",
       "      <th>A_HT_DHD_12</th>\n",
       "      <th>B_HT_DHD_12</th>\n",
       "      <th>A_HT_DHD_13</th>\n",
       "      <th>B_HT_DHD_13</th>\n",
       "      <th>...</th>\n",
       "      <th>alphaBCL2</th>\n",
       "      <th>2CDP06</th>\n",
       "      <th>XCDP07</th>\n",
       "      <th>alphaMCL1</th>\n",
       "      <th>Bfl-1</th>\n",
       "      <th>Bcl-B</th>\n",
       "      <th>Bcl-2</th>\n",
       "      <th>Bcl-xL</th>\n",
       "      <th>Bcl-w</th>\n",
       "      <th>Mcl1[151-321]</th>\n",
       "    </tr>\n",
       "    <tr>\n",
       "      <th>Name</th>\n",
       "      <th></th>\n",
       "      <th></th>\n",
       "      <th></th>\n",
       "      <th></th>\n",
       "      <th></th>\n",
       "      <th></th>\n",
       "      <th></th>\n",
       "      <th></th>\n",
       "      <th></th>\n",
       "      <th></th>\n",
       "      <th></th>\n",
       "      <th></th>\n",
       "      <th></th>\n",
       "      <th></th>\n",
       "      <th></th>\n",
       "      <th></th>\n",
       "      <th></th>\n",
       "      <th></th>\n",
       "      <th></th>\n",
       "      <th></th>\n",
       "      <th></th>\n",
       "    </tr>\n",
       "  </thead>\n",
       "  <tbody>\n",
       "    <tr>\n",
       "      <td>A_HT_DHD_100</td>\n",
       "      <td>1.0</td>\n",
       "      <td>5.0</td>\n",
       "      <td>NaN</td>\n",
       "      <td>3.0</td>\n",
       "      <td>NaN</td>\n",
       "      <td>1.0</td>\n",
       "      <td>3.0</td>\n",
       "      <td>1.0</td>\n",
       "      <td>3.0</td>\n",
       "      <td>4.0</td>\n",
       "      <td>...</td>\n",
       "      <td>1.0</td>\n",
       "      <td>4.0</td>\n",
       "      <td>2.0</td>\n",
       "      <td>6.0</td>\n",
       "      <td>4.0</td>\n",
       "      <td>21.0</td>\n",
       "      <td>1.0</td>\n",
       "      <td>2.0</td>\n",
       "      <td>4.0</td>\n",
       "      <td>1.0</td>\n",
       "    </tr>\n",
       "    <tr>\n",
       "      <td>B_HT_DHD_100</td>\n",
       "      <td>2.0</td>\n",
       "      <td>33.0</td>\n",
       "      <td>NaN</td>\n",
       "      <td>NaN</td>\n",
       "      <td>2.0</td>\n",
       "      <td>6.0</td>\n",
       "      <td>8.0</td>\n",
       "      <td>7.0</td>\n",
       "      <td>12.0</td>\n",
       "      <td>28.0</td>\n",
       "      <td>...</td>\n",
       "      <td>4.0</td>\n",
       "      <td>2.0</td>\n",
       "      <td>10.0</td>\n",
       "      <td>25.0</td>\n",
       "      <td>35.0</td>\n",
       "      <td>100.0</td>\n",
       "      <td>12.0</td>\n",
       "      <td>7.0</td>\n",
       "      <td>3.0</td>\n",
       "      <td>16.0</td>\n",
       "    </tr>\n",
       "  </tbody>\n",
       "</table>\n",
       "<p>2 rows × 337 columns</p>\n",
       "</div>"
      ],
      "text/plain": [
       "              A_HT_DHD_100  B_HT_DHD_100  A_HT_DHD_10  B_HT_DHD_10  \\\n",
       "Name                                                                 \n",
       "A_HT_DHD_100           1.0           5.0          NaN          3.0   \n",
       "B_HT_DHD_100           2.0          33.0          NaN          NaN   \n",
       "\n",
       "              A_HT_DHD_11  B_HT_DHD_11  A_HT_DHD_12  B_HT_DHD_12  A_HT_DHD_13  \\\n",
       "Name                                                                            \n",
       "A_HT_DHD_100          NaN          1.0          3.0          1.0          3.0   \n",
       "B_HT_DHD_100          2.0          6.0          8.0          7.0         12.0   \n",
       "\n",
       "              B_HT_DHD_13  ...  alphaBCL2  2CDP06  XCDP07  alphaMCL1  Bfl-1  \\\n",
       "Name                       ...                                                \n",
       "A_HT_DHD_100          4.0  ...        1.0     4.0     2.0        6.0    4.0   \n",
       "B_HT_DHD_100         28.0  ...        4.0     2.0    10.0       25.0   35.0   \n",
       "\n",
       "              Bcl-B  Bcl-2  Bcl-xL  Bcl-w  Mcl1[151-321]  \n",
       "Name                                                      \n",
       "A_HT_DHD_100   21.0    1.0     2.0    4.0            1.0  \n",
       "B_HT_DHD_100  100.0   12.0     7.0    3.0           16.0  \n",
       "\n",
       "[2 rows x 337 columns]"
      ]
     },
     "execution_count": 17,
     "metadata": {},
     "output_type": "execute_result"
    }
   ],
   "source": [
    "flask2_his_df.head(2)"
   ]
  },
  {
   "cell_type": "markdown",
   "metadata": {},
   "source": [
    "# Compare Flask_1 and elute_1"
   ]
  },
  {
   "cell_type": "code",
   "execution_count": 95,
   "metadata": {},
   "outputs": [],
   "source": [
    "\n",
    "\n",
    "v_flask_1, v_flask_1_log, v_flask_2, v_flask_2_log = [], [], [], []\n",
    "\n",
    "v_elute_1, v_elute_1_log, v_elute_2, v_elute_2_log = [], [], [], []\n",
    "\n",
    "threshold = 10\n",
    "\n",
    "for binder2 in flask1_his_df.columns:\n",
    "    for binder1 in flask1_his_df.index:\n",
    "\n",
    "        trp_count = trp_df[binder1][binder2]\n",
    "\n",
    "        fv1 = flask1_his_df[binder1][binder2]\n",
    "        fv2 = flask2_his_df[binder1][binder2]\n",
    "\n",
    "        ev1 = elute_1_his_df[binder1][binder2]\n",
    "        ev2 = elute_2_his_df[binder1][binder2]\n",
    "\n",
    "        if trp_count > threshold and ~np.isnan(fv1) and ~np.isnan(fv2) and ~np.isnan(ev1) and ~np.isnan(ev2):\n",
    "\n",
    "            v_flask_1.append(fv1)\n",
    "            v_flask_2.append(fv2)\n",
    "            v_flask_1_log.append(math.log(fv1/trp_count))\n",
    "            v_flask_2_log.append(math.log(fv2/trp_count))\n",
    "\n",
    "            v_elute_1.append(ev1)\n",
    "            v_elute_2.append(ev2)\n",
    "            v_elute_1_log.append(math.log(ev1/trp_count))\n",
    "            v_elute_2_log.append(math.log(ev2/trp_count))\n",
    "            \n",
    "            "
   ]
  },
  {
   "cell_type": "code",
   "execution_count": 96,
   "metadata": {},
   "outputs": [
    {
     "data": {
      "text/plain": [
       "65967"
      ]
     },
     "execution_count": 96,
     "metadata": {},
     "output_type": "execute_result"
    }
   ],
   "source": [
    "len(v_flask_1)"
   ]
  },
  {
   "cell_type": "markdown",
   "metadata": {},
   "source": [
    "### Flask_1 vs Flask_2"
   ]
  },
  {
   "cell_type": "code",
   "execution_count": 97,
   "metadata": {},
   "outputs": [
    {
     "data": {
      "text/plain": [
       "(0.6856145621071915, 0.0)"
      ]
     },
     "execution_count": 97,
     "metadata": {},
     "output_type": "execute_result"
    }
   ],
   "source": [
    "stats.pearsonr(v_flask_1, v_flask_2)"
   ]
  },
  {
   "cell_type": "code",
   "execution_count": 98,
   "metadata": {},
   "outputs": [
    {
     "data": {
      "text/plain": [
       "0.47006732777343596"
      ]
     },
     "execution_count": 98,
     "metadata": {},
     "output_type": "execute_result"
    }
   ],
   "source": [
    "stats.pearsonr(v_flask_1, v_flask_2)[0]**2"
   ]
  },
  {
   "cell_type": "code",
   "execution_count": 99,
   "metadata": {},
   "outputs": [
    {
     "data": {
      "text/plain": [
       "(0.8368911256566971, 0.0)"
      ]
     },
     "execution_count": 99,
     "metadata": {},
     "output_type": "execute_result"
    }
   ],
   "source": [
    "stats.pearsonr(v_flask_1_log, v_flask_2_log)"
   ]
  },
  {
   "cell_type": "code",
   "execution_count": 100,
   "metadata": {},
   "outputs": [
    {
     "data": {
      "text/plain": [
       "0.7003867562029336"
      ]
     },
     "execution_count": 100,
     "metadata": {},
     "output_type": "execute_result"
    }
   ],
   "source": [
    "stats.pearsonr(v_flask_1_log, v_flask_2_log)[0]**2"
   ]
  },
  {
   "cell_type": "code",
   "execution_count": 101,
   "metadata": {},
   "outputs": [
    {
     "data": {
      "text/plain": [
       "<matplotlib.collections.PathCollection at 0x1a208cc4d0>"
      ]
     },
     "execution_count": 101,
     "metadata": {},
     "output_type": "execute_result"
    },
    {
     "data": {
      "image/png": "[encoded data removed]",
      "text/plain": [
       "<Figure size 500x500 with 1 Axes>"
      ]
     },
     "metadata": {
      "needs_background": "light"
     },
     "output_type": "display_data"
    }
   ],
   "source": [
    "plt.figure(figsize=(5.0, 5.0), dpi=100)\n",
    "\n",
    "#plt.xlim([50, 5000])\n",
    "#plt.ylim([50, 5000])\n",
    "plt.xlabel('Flask #1, log values', size=16)\n",
    "plt.ylabel('Flask #2, log values', size=16)\n",
    "\n",
    "plt.scatter(v_flask_1_log, v_flask_2_log)"
   ]
  },
  {
   "cell_type": "markdown",
   "metadata": {},
   "source": [
    "### Flask_1 vs Elute_1"
   ]
  },
  {
   "cell_type": "code",
   "execution_count": 102,
   "metadata": {},
   "outputs": [
    {
     "data": {
      "text/plain": [
       "(0.5467423529306554, 0.0)"
      ]
     },
     "execution_count": 102,
     "metadata": {},
     "output_type": "execute_result"
    }
   ],
   "source": [
    "stats.pearsonr(v_flask_1, v_elute_1)"
   ]
  },
  {
   "cell_type": "code",
   "execution_count": 103,
   "metadata": {},
   "outputs": [
    {
     "data": {
      "text/plain": [
       "0.29892720048814936"
      ]
     },
     "execution_count": 103,
     "metadata": {},
     "output_type": "execute_result"
    }
   ],
   "source": [
    "stats.pearsonr(v_flask_1, v_elute_1)[0]**2"
   ]
  },
  {
   "cell_type": "code",
   "execution_count": 104,
   "metadata": {},
   "outputs": [
    {
     "data": {
      "text/plain": [
       "(0.841118181970887, 0.0)"
      ]
     },
     "execution_count": 104,
     "metadata": {},
     "output_type": "execute_result"
    }
   ],
   "source": [
    "stats.pearsonr(v_flask_1_log, v_elute_1_log)"
   ]
  },
  {
   "cell_type": "code",
   "execution_count": 105,
   "metadata": {},
   "outputs": [
    {
     "data": {
      "text/plain": [
       "0.7074797960420101"
      ]
     },
     "execution_count": 105,
     "metadata": {},
     "output_type": "execute_result"
    }
   ],
   "source": [
    "stats.pearsonr(v_flask_1_log, v_elute_1_log)[0]**2"
   ]
  },
  {
   "cell_type": "code",
   "execution_count": 106,
   "metadata": {},
   "outputs": [
    {
     "data": {
      "text/plain": [
       "<matplotlib.collections.PathCollection at 0x1a24bb1250>"
      ]
     },
     "execution_count": 106,
     "metadata": {},
     "output_type": "execute_result"
    },
    {
     "data": {
      "image/png": "[encoded data removed]",
      "text/plain": [
       "<Figure size 500x500 with 1 Axes>"
      ]
     },
     "metadata": {
      "needs_background": "light"
     },
     "output_type": "display_data"
    }
   ],
   "source": [
    "plt.figure(figsize=(5.0, 5.0), dpi=100)\n",
    "\n",
    "#plt.xlim([50, 5000])\n",
    "#plt.ylim([50, 5000])\n",
    "\n",
    "plt.xlabel('Flask #1, log values', size=16)\n",
    "plt.ylabel('Column Elution #1 (Sample #6)', size=16)\n",
    "\n",
    "plt.scatter(v_flask_1_log, v_elute_1_log)"
   ]
  },
  {
   "cell_type": "markdown",
   "metadata": {},
   "source": [
    "### Flask_1 vs Elute_2"
   ]
  },
  {
   "cell_type": "code",
   "execution_count": 107,
   "metadata": {},
   "outputs": [
    {
     "data": {
      "text/plain": [
       "(0.9853332978641235, 0.0)"
      ]
     },
     "execution_count": 107,
     "metadata": {},
     "output_type": "execute_result"
    }
   ],
   "source": [
    "stats.pearsonr(v_flask_1, v_elute_2)"
   ]
  },
  {
   "cell_type": "code",
   "execution_count": 108,
   "metadata": {},
   "outputs": [
    {
     "data": {
      "text/plain": [
       "0.9708817078797896"
      ]
     },
     "execution_count": 108,
     "metadata": {},
     "output_type": "execute_result"
    }
   ],
   "source": [
    "stats.pearsonr(v_flask_1, v_elute_2)[0]**2"
   ]
  },
  {
   "cell_type": "code",
   "execution_count": 109,
   "metadata": {},
   "outputs": [
    {
     "data": {
      "text/plain": [
       "(0.923715554786074, 0.0)"
      ]
     },
     "execution_count": 109,
     "metadata": {},
     "output_type": "execute_result"
    }
   ],
   "source": [
    "stats.pearsonr(v_flask_1_log, v_elute_2_log)"
   ]
  },
  {
   "cell_type": "code",
   "execution_count": 110,
   "metadata": {},
   "outputs": [
    {
     "data": {
      "text/plain": [
       "0.8532504261537446"
      ]
     },
     "execution_count": 110,
     "metadata": {},
     "output_type": "execute_result"
    }
   ],
   "source": [
    "stats.pearsonr(v_flask_1_log, v_elute_2_log)[0]**2"
   ]
  },
  {
   "cell_type": "code",
   "execution_count": 111,
   "metadata": {},
   "outputs": [
    {
     "data": {
      "text/plain": [
       "<matplotlib.collections.PathCollection at 0x1a24b52bd0>"
      ]
     },
     "execution_count": 111,
     "metadata": {},
     "output_type": "execute_result"
    },
    {
     "data": {
      "image/png": "[encoded data removed]",
      "text/plain": [
       "<Figure size 500x500 with 1 Axes>"
      ]
     },
     "metadata": {
      "needs_background": "light"
     },
     "output_type": "display_data"
    }
   ],
   "source": [
    "plt.figure(figsize=(5.0, 5.0), dpi=100)\n",
    "\n",
    "#plt.xlim([50, 5000])\n",
    "#plt.ylim([50, 5000])\n",
    "\n",
    "plt.xlabel('Flask #1, log values', size=16)\n",
    "plt.ylabel('Column Elution #2 (Sample #7)', size=16)\n",
    "\n",
    "plt.scatter(v_flask_1_log, v_elute_2_log)"
   ]
  },
  {
   "cell_type": "markdown",
   "metadata": {},
   "source": [
    "### Elute_1 vs Elute_2"
   ]
  },
  {
   "cell_type": "code",
   "execution_count": 112,
   "metadata": {},
   "outputs": [
    {
     "data": {
      "text/plain": [
       "(0.5188324822239234, 0.0)"
      ]
     },
     "execution_count": 112,
     "metadata": {},
     "output_type": "execute_result"
    }
   ],
   "source": [
    "stats.pearsonr(v_elute_1, v_elute_2)"
   ]
  },
  {
   "cell_type": "code",
   "execution_count": 113,
   "metadata": {},
   "outputs": [
    {
     "data": {
      "text/plain": [
       "0.2691871446106378"
      ]
     },
     "execution_count": 113,
     "metadata": {},
     "output_type": "execute_result"
    }
   ],
   "source": [
    "stats.pearsonr(v_elute_1, v_elute_2)[0]**2"
   ]
  },
  {
   "cell_type": "code",
   "execution_count": 114,
   "metadata": {},
   "outputs": [
    {
     "data": {
      "text/plain": [
       "(0.8376041968325386, 0.0)"
      ]
     },
     "execution_count": 114,
     "metadata": {},
     "output_type": "execute_result"
    }
   ],
   "source": [
    "stats.pearsonr(v_elute_1_log, v_elute_2_log)"
   ]
  },
  {
   "cell_type": "code",
   "execution_count": 115,
   "metadata": {},
   "outputs": [
    {
     "data": {
      "text/plain": [
       "0.7015807905514821"
      ]
     },
     "execution_count": 115,
     "metadata": {},
     "output_type": "execute_result"
    }
   ],
   "source": [
    "stats.pearsonr(v_elute_1_log, v_elute_2_log)[0]**2"
   ]
  },
  {
   "cell_type": "code",
   "execution_count": 116,
   "metadata": {},
   "outputs": [
    {
     "data": {
      "text/plain": [
       "<matplotlib.collections.PathCollection at 0x1a24b2c410>"
      ]
     },
     "execution_count": 116,
     "metadata": {},
     "output_type": "execute_result"
    },
    {
     "data": {
      "image/png": "[encoded data removed]",
      "text/plain": [
       "<Figure size 500x500 with 1 Axes>"
      ]
     },
     "metadata": {
      "needs_background": "light"
     },
     "output_type": "display_data"
    }
   ],
   "source": [
    "plt.figure(figsize=(5.0, 5.0), dpi=100)\n",
    "\n",
    "#plt.xlim([50, 5000])\n",
    "#plt.ylim([50, 5000])\n",
    "\n",
    "plt.xlabel('Column Elution #2 (Sample #6)', size=16)\n",
    "plt.ylabel('Column Elution #2 (Sample #7)', size=16)\n",
    "\n",
    "plt.scatter(v_elute_1_log, v_elute_2_log)"
   ]
  },
  {
   "cell_type": "code",
   "execution_count": null,
   "metadata": {},
   "outputs": [],
   "source": []
  }
 ],
 "metadata": {
  "kernelspec": {
   "display_name": "Python 3",
   "language": "python",
   "name": "python3"
  },
  "language_info": {
   "codemirror_mode": {
    "name": "ipython",
    "version": 3
   },
   "file_extension": ".py",
   "mimetype": "text/x-python",
   "name": "python",
   "nbconvert_exporter": "python",
   "pygments_lexer": "ipython3",
   "version": "3.7.4"
  }
 },
 "nbformat": 4,
 "nbformat_minor": 2
}
